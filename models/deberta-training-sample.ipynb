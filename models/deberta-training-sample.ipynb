{
 "cells": [
  {
   "cell_type": "code",
   "execution_count": 1,
   "id": "6a2e8e8e",
   "metadata": {
    "execution": {
     "iopub.execute_input": "2021-11-10T02:31:03.458406Z",
     "iopub.status.busy": "2021-11-10T02:31:03.456730Z",
     "iopub.status.idle": "2021-11-10T02:31:10.562179Z",
     "shell.execute_reply": "2021-11-10T02:31:10.561548Z",
     "shell.execute_reply.started": "2021-11-10T02:13:16.621189Z"
    },
    "papermill": {
     "duration": 7.128216,
     "end_time": "2021-11-10T02:31:10.562335",
     "exception": false,
     "start_time": "2021-11-10T02:31:03.434119",
     "status": "completed"
    },
    "tags": []
   },
   "outputs": [
    {
     "name": "stdout",
     "output_type": "stream",
     "text": [
      "esdata\n",
      "ACCUMULATION_STEPS : 2\n",
      "microsoft/deberta-base\n",
      "123\n",
      "1.5e-05\n",
      "SPEICAL_TOKEN ['[NSEP]']\n"
     ]
    }
   ],
   "source": [
    "from importlib import reload  # Not needed in Python 2\n",
    "import warnings\n",
    "from datetime import datetime\n",
    "from torch.optim.swa_utils import AveragedModel, SWALR\n",
    "from torch.optim.lr_scheduler import CosineAnnealingLR\n",
    "import sys\n",
    "import os\n",
    "import time\n",
    "import pandas as pd\n",
    "import numpy as np\n",
    "import seaborn as sns\n",
    "from tqdm import tqdm, trange\n",
    "from wordcloud import WordCloud, STOPWORDS\n",
    "import matplotlib.pyplot as plt\n",
    "import gc\n",
    "import glob\n",
    "import torch\n",
    "from torch.utils.data import Dataset, DataLoader,RandomSampler, SequentialSampler\n",
    "from sklearn.utils.class_weight import compute_class_weight\n",
    "import warnings\n",
    "from transformers import get_linear_schedule_with_warmup\n",
    "\n",
    "from sklearn.metrics import classification_report, confusion_matrix, multilabel_confusion_matrix,f1_score, accuracy_score,precision_score, recall_score\n",
    "                             \n",
    "from sklearn.model_selection import StratifiedKFold, StratifiedShuffleSplit,GroupKFold\n",
    "from transformers import PreTrainedModel,RobertaConfig,RobertaModel\n",
    "from transformers import AutoModelForSequenceClassification, AutoTokenizer, AutoModel,AutoConfig\n",
    "from transformers import DataCollatorWithPadding,get_linear_schedule_with_warmup\n",
    "\n",
    "\n",
    "def seed_all(seed_value):\n",
    "    np.random.seed(seed_value) \n",
    "    torch.manual_seed(seed_value) \n",
    "    if torch.cuda.is_available(): \n",
    "        torch.cuda.manual_seed(seed_value)\n",
    "        torch.cuda.manual_seed_all(seed_value)\n",
    "        torch.backends.cudnn.deterministic = True  \n",
    "        torch.backends.cudnn.benchmark = False  \n",
    "        \n",
    "RANDOM_SEED=567\n",
    "seed_all(RANDOM_SEED)\n",
    "device = 'cuda' if torch.cuda.is_available() else 'cpu'\n",
    "NUM_LABEL=4\n",
    "L = False\n",
    "DEBUG = False\n",
    "MAX_LEN = 400\n",
    "EPOCHS=5\n",
    "EVALAFTER=1000\n",
    "PSEUDO=True\n",
    "\n",
    "PLAIN=False\n",
    "\n",
    "BATCH_SIZE=16\n",
    "\n",
    "\n",
    "if DEBUG:\n",
    "    DEBUG_DATA_SIZE=25\n",
    "    EPOCHS=2\n",
    "    \n",
    "if(L):\n",
    "    IN_BASEPATH=\"../../input/\"\n",
    "    TRAIN_BATCH_SIZE = 1\n",
    "    VALID_BATCH_SIZE = 1\n",
    "    print(\"l\")\n",
    "else:\n",
    "    IN_BASEPATH=\"../input/inputeg/\"\n",
    "    TRAIN_BATCH_SIZE = 8\n",
    "    VALID_BATCH_SIZE = 8\n",
    "    print(\"esdata\")\n",
    "USE_SCHEDULER=True\n",
    "USE_AML=False\n",
    "\n",
    "\n",
    "\n",
    "if L:\n",
    "    IN_BASEPATH=\"../../input/\"\n",
    "else:\n",
    "    IN_BASEPATH=\"../input/inputeg/\"\n",
    "\n",
    "traindata_path=IN_BASEPATH+\"1trainingTP.tsv\"\n",
    "testdata_path=IN_BASEPATH+\"1testTP.tsv\"\n",
    "\n",
    "trainCompress_path=IN_BASEPATH+\"3TrainCompressManualClean.tsv\"\n",
    "trainConcat_path=IN_BASEPATH+\"3TrainConcatManualClean.tsv\"\n",
    "\n",
    "testConcat_path=IN_BASEPATH+\"4TestConcat.tsv\"\n",
    "\n",
    "if PSEUDO:\n",
    "    valConcat_path=IN_BASEPATH+\"4ValConcat.tsv\"\n",
    "else:\n",
    "    valConcat_path=IN_BASEPATH+\"4ValConcatManualClean.tsv\"\n",
    "\n",
    "MODEL_NAME='microsoft/deberta-base'\n",
    "# MODEL_NAME='roberta-base'\n",
    "# MODEL_NAME='xlnet-base-cased'\n",
    "# MODEL_NAME='albert-base-v2'#\n",
    "OUT_BASEPATH=f\"output/{MODEL_NAME.split('/')[-1]}model\"\n",
    "\n",
    "\n",
    "\n",
    "CV_DICT1 = {\n",
    "            1: ['Form10k_65','Form10k_44','Form10k_74','Form10k_01'],\n",
    "            2:['Form10k_61','Form10k_22','Form10k_14','Form10k_23'],\n",
    "            3:['Form10k_63','Form10k_25','Form10k_34','Form10k_37']\n",
    "            }\n",
    "\n",
    "CV_DICT2 = {\n",
    "            1: ['Form10k_55','Form10k_64','Form10k_60','Form10k_59'],\n",
    "            2:['Form10k_57','Form10k_47','Form10k_12','Form10k_73'],\n",
    "}\n",
    "\n",
    "CV_DICT = CV_DICT1\n",
    "# if not PLAIN:\n",
    "#     CV_DICT = CV_DICT2\n",
    "    \n",
    "    \n",
    "\n",
    "try:\n",
    "     os.makedirs(OUT_BASEPATH)\n",
    "except:\n",
    "     pass\n",
    "    \n",
    "    \n",
    "SEPCIAL_TOKEN=['[NSEP]']\n",
    "# SEPCIAL_TOKEN=None\n",
    "\n",
    "    \n",
    "WARMUP=50\n",
    "\n",
    "\n",
    "       \n",
    "        \n",
    "# xlnet-base-cased\n",
    "# microsoft/deberta-base'\n",
    "# 'albert-base-v2'\n",
    "\n",
    "# 123 deberta_pseudo\n",
    "# 45 albert_pseudo\n",
    "# 678 xlnet_pseudo\n",
    "# 901 albert\n",
    "# 2021 deberta\n",
    "\n",
    "if \"deberta\" in MODEL_NAME:\n",
    "# https://deepai.org/publication/deberta-decoding-enhanced-bert-with-disentangled-attention\n",
    "    RANDOM_SEED=123\n",
    "    WARMUP=50\n",
    "    LEARNING_RATE = 1.5e-5\n",
    "elif \"albert\" in MODEL_NAME:\n",
    "# https://arxiv.org/pdf/1909.11942.pdf\n",
    "    RANDOM_SEED=45\n",
    "    WARMUP=320\n",
    "    LEARNING_RATE = 1e-05\n",
    "elif \"xlnet-base-cased\":\n",
    "# https://arxiv.org/pdf/1906.08237.pdf\n",
    "    RANDOM_SEED=678\n",
    "    LEARNING_RATE = 2e-5\n",
    "    \n",
    "ACCUMULATION_STEPS=int(BATCH_SIZE/TRAIN_BATCH_SIZE)\n",
    "print(\"ACCUMULATION_STEPS :\",ACCUMULATION_STEPS)\n",
    "\n",
    "# LEARNING_RATE=1e-05\n",
    "LEARNING_RATE=1.5e-5\n",
    "\n",
    "class CustomDataset(Dataset):\n",
    "\n",
    "    def __init__(self, dataframe, tokenizer, max_len,labelexist=True):\n",
    "        self.tokenizer = tokenizer\n",
    "        self.data = dataframe\n",
    "        self.sentence = dataframe.sentence\n",
    "        self.labelexist= labelexist\n",
    "        if self.labelexist:\n",
    "            self.targets = self.data.label\n",
    "        self.max_len = max_len\n",
    "\n",
    "    def __len__(self):\n",
    "        return len(self.sentence)\n",
    "\n",
    "    def __getitem__(self, index):\n",
    "\n",
    "        if DEBUG:\n",
    "            inputs = self.tokenizer(\n",
    "            self.sentence[index], # /lower()\n",
    "            add_special_tokens=True,\n",
    "            max_length=self.max_len,\n",
    "            truncation=True,\n",
    "            return_attention_mask=True,\n",
    "            return_token_type_ids=True,\n",
    "            pad_to_max_length=True)\n",
    "        else:\n",
    "            inputs = self.tokenizer(\n",
    "            self.sentence[index], # /lower()\n",
    "            add_special_tokens=True,\n",
    "            max_length=self.max_len,\n",
    "            truncation=True,\n",
    "            return_attention_mask=True,\n",
    "            return_token_type_ids=True\n",
    "        ) \n",
    "                \n",
    "        ids = inputs['input_ids']\n",
    "        mask = inputs['attention_mask']\n",
    "        token_type_ids = inputs[\"token_type_ids\"]\n",
    "\n",
    "        if self.labelexist:\n",
    "            return {\n",
    "                'input_ids': torch.tensor(ids, dtype=torch.long),\n",
    "                'attention_mask': torch.tensor(mask, dtype=torch.long),\n",
    "                'token_type_ids': torch.tensor(token_type_ids, dtype=torch.long),\n",
    "                'labels': torch.tensor(self.targets[index], dtype=torch.long)\n",
    "            }\n",
    "        else:\n",
    "            return {\n",
    "                'input_ids': torch.tensor(ids, dtype=torch.long),\n",
    "                'attention_mask': torch.tensor(mask, dtype=torch.long),\n",
    "                'token_type_ids': torch.tensor(token_type_ids, dtype=torch.long),\n",
    "\n",
    "            }\n",
    "        \n",
    "def doconfusion_matrix(traintarget,trainpreds,testtarget,testpreds):\n",
    "    df_cm_train = pd.DataFrame(confusion_matrix(traintarget,trainpreds))\n",
    "    df_cm_test = pd.DataFrame(confusion_matrix(testtarget,testpreds))\n",
    "    df_cm_train.index.name='Actual'\n",
    "    df_cm_train.columns.name='Predicted'\n",
    "    sns.set(font_scale=1.4)\n",
    "    fig, (ax1, ax2) = plt.subplots(1,2,figsize=(15,5))\n",
    "    sns.heatmap(df_cm_train,annot=True,annot_kws={\"size\":15}, ax=ax1)\n",
    "    sns.heatmap(df_cm_test,annot=True,annot_kws={\"size\":15}, ax=ax2)\n",
    "    plt.show()\n",
    "    \n",
    "    \n",
    "def doconfusion_matrix_one(traintarget,trainpreds):\n",
    "    plt.figure(figsize=(8, 6), dpi=80)\n",
    "    df_cm_train = pd.DataFrame(confusion_matrix(traintarget,trainpreds))\n",
    "    df_cm_train.index.name='Actual'\n",
    "    df_cm_train.columns.name='Predicted'\n",
    "    sns.set(font_scale=1.4)\n",
    "    sns.heatmap(df_cm_train,annot=True,annot_kws={\"size\":15})\n",
    "    plt.show()\n",
    "print(MODEL_NAME)\n",
    "print(RANDOM_SEED)\n",
    "print(LEARNING_RATE)\n",
    "print(\"SPEICAL_TOKEN\",SEPCIAL_TOKEN)"
   ]
  },
  {
   "cell_type": "code",
   "execution_count": 2,
   "id": "8b34b413",
   "metadata": {
    "execution": {
     "iopub.execute_input": "2021-11-10T02:31:10.600531Z",
     "iopub.status.busy": "2021-11-10T02:31:10.598473Z",
     "iopub.status.idle": "2021-11-10T02:31:10.602875Z",
     "shell.execute_reply": "2021-11-10T02:31:10.602419Z",
     "shell.execute_reply.started": "2021-11-10T02:13:16.662123Z"
    },
    "papermill": {
     "duration": 0.029257,
     "end_time": "2021-11-10T02:31:10.602983",
     "exception": false,
     "start_time": "2021-11-10T02:31:10.573726",
     "status": "completed"
    },
    "tags": []
   },
   "outputs": [],
   "source": [
    "def validate(model):\n",
    "    model.eval()\n",
    "    batchtargets=[]\n",
    "    batchoutputs=[]\n",
    "    total_loss=0\n",
    "    with torch.no_grad():\n",
    "        for i,batch in enumerate((val_dataloader)):\n",
    "            batch = {k: v.to(device) for k, v in batch.items()}\n",
    "        \n",
    "            outputs = model(**batch)\n",
    "            loss,logits=outputs[:2]\n",
    "            if USE_AML:\n",
    "                total_loss=total_loss +(loss.item()/ACCUMULATION_STEPS)\n",
    "            else:\n",
    "                total_loss=total_loss +(loss.item())\n",
    "            outputs=logits.cpu().detach().numpy()    \n",
    "            outputs=np.argmax(outputs, axis=1)\n",
    "            batchoutputs.extend(outputs)\n",
    "\n",
    "            targets=batch['labels'].cpu().detach().numpy()\n",
    "            batchtargets.extend(targets)\n",
    "            del outputs,loss,logits,batch,targets\n",
    "            _ = gc.collect()\n",
    "            torch.cuda.empty_cache()\n",
    "    return batchtargets,batchoutputs,(total_loss/len(batchtargets))\n",
    "\n",
    "\n",
    "\n",
    "def loadmodel(modelname,modelpath=None,specialtoken=None):\n",
    "    tokenizer = AutoTokenizer.from_pretrained(modelname)\n",
    "    model = AutoModelForSequenceClassification.from_pretrained(modelname, num_labels=NUM_LABEL)\n",
    "\n",
    "#     special_tokens_dict = {'additional_special_tokens': ['[NSEP]']}\n",
    "    \n",
    "    if specialtoken is not None:\n",
    "        print(\"added new token: \",specialtoken)\n",
    "        special_tokens_dict = {'additional_special_tokens': specialtoken}\n",
    "        num_added_toks = tokenizer.add_special_tokens(special_tokens_dict)\n",
    "        model.resize_token_embeddings(len(tokenizer))\n",
    "\n",
    "    optimizer = torch.optim.Adam(params =  model.parameters(), lr=LEARNING_RATE)\n",
    "    model.to(device)\n",
    "    \n",
    "    if modelpath is not None:\n",
    "        print(\"loading model checkpoint...\")\n",
    "        checkpoint = torch.load(modelpath)\n",
    "        model.load_state_dict(checkpoint['state_dict'])\n",
    "        optimizer.load_state_dict(checkpoint['optimizer_dict'])\n",
    "    \n",
    "    #tmp%%\n",
    "    print(SEPCIAL_TOKEN,NUM_LABEL,LEARNING_RATE)\n",
    "    return tokenizer,model,optimizer\n",
    "\n",
    "\n",
    "def addlabelToken(df):\n",
    "    customtoken=\"\"\n",
    "    if df.label==0:\n",
    "        customtoken=\"[Other]\"\n",
    "    elif df.label==1:\n",
    "        customtoken=\"[Green]\"\n",
    "    elif df.label==2:\n",
    "        customtoken=\"[Environmental]\"\n",
    "    elif df.label==3:\n",
    "        customtoken=\"[Social]\"\n",
    "    return customtoken+df.sentence\n",
    "\n",
    "def addTitle(df):\n",
    "    newsentence= \" \".join(str(df.title).split()[:25])+\" [NSEP] \"+df.sentence\n",
    "    return newsentence\n",
    "\n",
    "def replaceSpacetoDuplicatetitle(df):\n",
    "    global duplicatetitles\n",
    "    return df.title.apply(lambda x:\"\" if \"\".join([w[0] for w in x if w[0].isalnum()]).lower() in duplicatetitles else x)\n"
   ]
  },
  {
   "cell_type": "code",
   "execution_count": null,
   "id": "98209eae",
   "metadata": {
    "papermill": {
     "duration": 0.010817,
     "end_time": "2021-11-10T02:31:10.624565",
     "exception": false,
     "start_time": "2021-11-10T02:31:10.613748",
     "status": "completed"
    },
    "tags": []
   },
   "outputs": [],
   "source": []
  },
  {
   "cell_type": "code",
   "execution_count": 3,
   "id": "a4225d94",
   "metadata": {
    "execution": {
     "iopub.execute_input": "2021-11-10T02:31:10.658195Z",
     "iopub.status.busy": "2021-11-10T02:31:10.657618Z",
     "iopub.status.idle": "2021-11-10T02:31:20.374082Z",
     "shell.execute_reply": "2021-11-10T02:31:20.373278Z",
     "shell.execute_reply.started": "2021-11-10T02:13:16.869595Z"
    },
    "papermill": {
     "duration": 9.739004,
     "end_time": "2021-11-10T02:31:20.374215",
     "exception": false,
     "start_time": "2021-11-10T02:31:10.635211",
     "status": "completed"
    },
    "tags": []
   },
   "outputs": [
    {
     "name": "stdout",
     "output_type": "stream",
     "text": [
      "st\n",
      "train123.label.value_counts :\n",
      "3    4760\n",
      "2    1015\n",
      "1     390\n",
      "Name: label, dtype: int64\n"
     ]
    }
   ],
   "source": [
    "# get duplicate title\n",
    "df=pd.read_csv(traindata_path, sep='\\t')\n",
    "df['ttl']=df.title.apply(lambda x:\"\".join([w[0] for w in x if w[0].isalnum()]).lower())\n",
    "df0title=df[df.label==0].ttl.value_counts().index.tolist()\n",
    "df123title=df[df.label!=0].ttl.value_counts().index.tolist()\n",
    "duplicatetitles=set(df0title) & set(df123title)\n",
    "\n",
    "del df\n",
    "\n",
    "column=['sid', 'sentence', 'html_id', 'label','title']\n",
    "\n",
    "#make VALDF\n",
    "VALDF=pd.read_csv(valConcat_path, sep='\\t')\n",
    "VALDF.astype({\"label\": int})\n",
    "\n",
    "# read train data\n",
    "cptrain=pd.read_csv(trainCompress_path, sep='\\t')\n",
    "cctrain=pd.read_csv(trainConcat_path, sep='\\t')\n",
    "testdata=pd.read_csv(testdata_path, sep='\\t')\n",
    "\n",
    "if SEPCIAL_TOKEN is not None:\n",
    "    print(\"st\")\n",
    "    # preprocess title and sentence\n",
    "    cptrain['title']=replaceSpacetoDuplicatetitle(cptrain)\n",
    "    cctrain['title']=replaceSpacetoDuplicatetitle(cctrain)\n",
    "    cptrain['sentence']=cptrain.apply(addTitle,axis=1)\n",
    "    cctrain['sentence']=cctrain.apply(addTitle,axis=1)\n",
    "    testdata['title']=replaceSpacetoDuplicatetitle(testdata)\n",
    "    testdata['sentence']=testdata.apply(addTitle,axis=1)\n",
    "    VALDF['title']=replaceSpacetoDuplicatetitle(VALDF)\n",
    "    VALDF['sentence']=VALDF.apply(addTitle,axis=1)\n",
    "\n",
    "\n",
    "#make train0 for TRAINDF\n",
    "cptrain0=cptrain[cptrain.label==0].sample(frac=1,random_state = RANDOM_SEED)[:1000]\n",
    "cctrain0=cctrain[cctrain.label==0].sample(frac=1,random_state = RANDOM_SEED)[:8000]\n",
    "train0=pd.concat([cptrain0[column],cctrain0[column]])\n",
    "train0.astype({\"label\": int})\n",
    "\n",
    "#make train123 for TRAINDF\n",
    "cptrain123=cptrain[cptrain.label!=0]\n",
    "cctrain123=cctrain[cctrain.label!=0]\n",
    "train123=pd.concat([cptrain123[column],cctrain123[column]])\n",
    "train123.astype({\"label\": int})\n",
    "\n",
    "\n",
    "print(\"train123.label.value_counts :\")\n",
    "print(train123.label.value_counts())\n"
   ]
  },
  {
   "cell_type": "code",
   "execution_count": 4,
   "id": "cad06aa6",
   "metadata": {
    "execution": {
     "iopub.execute_input": "2021-11-10T02:31:20.413710Z",
     "iopub.status.busy": "2021-11-10T02:31:20.412730Z",
     "iopub.status.idle": "2021-11-10T02:31:21.240854Z",
     "shell.execute_reply": "2021-11-10T02:31:21.241284Z",
     "shell.execute_reply.started": "2021-11-10T02:13:26.161559Z"
    },
    "papermill": {
     "duration": 0.855691,
     "end_time": "2021-11-10T02:31:21.241432",
     "exception": false,
     "start_time": "2021-11-10T02:31:20.385741",
     "status": "completed"
    },
    "tags": []
   },
   "outputs": [
    {
     "name": "stdout",
     "output_type": "stream",
     "text": [
      "0:\n",
      "0    3648\n",
      "3    2998\n",
      "2     829\n",
      "1     333\n",
      "Name: label, dtype: int64\n",
      "------------\n",
      "1:\n",
      "0    3670\n",
      "3    3000\n",
      "2     829\n",
      "1     333\n",
      "Name: label, dtype: int64\n",
      "------------\n",
      "2:\n",
      "0    3643\n",
      "3    2999\n",
      "2     829\n",
      "1     333\n",
      "Name: label, dtype: int64\n",
      "------------\n",
      "3:\n",
      "0    3646\n",
      "3    3000\n",
      "2     829\n",
      "1     333\n",
      "Name: label, dtype: int64\n",
      "------------\n",
      "4:\n",
      "0    3657\n",
      "3    2999\n",
      "2     829\n",
      "1     333\n",
      "Name: label, dtype: int64\n",
      "------------\n"
     ]
    },
    {
     "name": "stderr",
     "output_type": "stream",
     "text": [
      "/opt/conda/lib/python3.7/site-packages/pandas/util/_decorators.py:311: SettingWithCopyWarning: \n",
      "A value is trying to be set on a copy of a slice from a DataFrame\n",
      "\n",
      "See the caveats in the documentation: https://pandas.pydata.org/pandas-docs/stable/user_guide/indexing.html#returning-a-view-versus-a-copy\n",
      "  return func(*args, **kwargs)\n"
     ]
    },
    {
     "data": {
      "text/plain": [
       "'len(traindatagp) :'"
      ]
     },
     "metadata": {},
     "output_type": "display_data"
    },
    {
     "data": {
      "text/plain": [
       "5"
      ]
     },
     "metadata": {},
     "output_type": "display_data"
    },
    {
     "name": "stdout",
     "output_type": "stream",
     "text": [
      "VALDATASET\n",
      "0    874\n",
      "3    437\n",
      "2     16\n",
      "1      3\n",
      "Name: label, dtype: int64\n"
     ]
    },
    {
     "name": "stdout",
     "output_type": "stream",
     "text": [
      "(7808, 5)\n",
      "(7832, 5)\n",
      "(7804, 5)\n",
      "(7808, 5)\n",
      "(7818, 5)\n",
      "39070\n"
     ]
    }
   ],
   "source": [
    "\n",
    "def loadData(fold):\n",
    "    train0L = train0[~train0['html_id'].isin(CV_DICT[fold])]\n",
    "    train123L = train123[~train123['html_id'].isin(CV_DICT[fold])]\n",
    "    traindatagp=[]\n",
    "    train0SampleSize=len(train123L[train123L.label==3])\n",
    "    for i in range(EPOCHS):\n",
    "        t0=train0L.sample(train0SampleSize,random_state = RANDOM_SEED+i)\n",
    "        trainAll=pd.concat([train123L,t0]).sample(frac=1)\n",
    "        trainAll.drop_duplicates(subset=['sentence'],inplace=True)\n",
    "        trainAll.dropna(inplace=True)\n",
    "        trainAll.reset_index(drop=True,inplace=True)\n",
    "        print(f\"{i}:\")\n",
    "        print(trainAll.label.value_counts())\n",
    "        traindatagp.append(trainAll.reset_index(drop=True))\n",
    "        print(\"------------\")\n",
    "    \n",
    "    valdata=VALDF[VALDF['html_id'].isin(CV_DICT[fold])]\n",
    "    if PSEUDO:\n",
    "        valdata.drop_duplicates(subset=['sentence'],inplace=True)\n",
    "    valdata0=valdata[valdata.label==0].sample(frac=1,random_state = RANDOM_SEED)[:len((valdata[valdata.label==3].index))*2]\n",
    "    valdata123=valdata[valdata.label!=0]\n",
    "    valdata=pd.concat([valdata0,valdata123])\n",
    "    valdata=valdata.sort_values(['html_id', 'sid'], ascending=[True, True])\n",
    "    valdata.reset_index(drop=True,inplace=True)\n",
    "\n",
    "    display(\"len(traindatagp) :\",len(traindatagp) )\n",
    "    \n",
    "    print(\"VALDATASET\")\n",
    "    print(valdata.label.value_counts())\n",
    "    display(valdata.head(3))\n",
    "    return traindatagp,valdata\n",
    "\n",
    "traindatagp,valdata=loadData(2)\n",
    "i=0\n",
    "traindatalen=0\n",
    "for td in traindatagp:\n",
    "    traindatalen=traindatalen+len(td)\n",
    "    print(td.shape)\n",
    "    td.to_csv(f\"{OUT_BASEPATH}/{i}train_tmp.tsv\",sep='\\t')\n",
    "    i=i+1\n",
    "valdata.to_csv(f\"{OUT_BASEPATH}/val_tmp.tsv\",sep='\\t')\n",
    "print(traindatalen)"
   ]
  },
  {
   "cell_type": "code",
   "execution_count": null,
   "id": "22ff26c9",
   "metadata": {
    "papermill": {
     "duration": 0.014968,
     "end_time": "2021-11-10T02:31:21.271422",
     "exception": false,
     "start_time": "2021-11-10T02:31:21.256454",
     "status": "completed"
    },
    "tags": []
   },
   "outputs": [],
   "source": []
  },
  {
   "cell_type": "code",
   "execution_count": 5,
   "id": "3b94487e",
   "metadata": {
    "execution": {
     "iopub.execute_input": "2021-11-10T02:31:21.343746Z",
     "iopub.status.busy": "2021-11-10T02:31:21.330591Z",
     "iopub.status.idle": "2021-11-10T03:43:13.393348Z",
     "shell.execute_reply": "2021-11-10T03:43:13.392747Z",
     "shell.execute_reply.started": "2021-11-10T02:13:27.218958Z"
    },
    "papermill": {
     "duration": 4312.106857,
     "end_time": "2021-11-10T03:43:13.393490",
     "exception": false,
     "start_time": "2021-11-10T02:31:21.286633",
     "status": "completed"
    },
    "tags": []
   },
   "outputs": [
    {
     "name": "stdout",
     "output_type": "stream",
     "text": [
      "Epoches Count : 5\n",
      "USE_AML  False\n",
      "microsoft/deberta-base\n",
      "validation data -> 1: ['Form10k_65', 'Form10k_44', 'Form10k_74', 'Form10k_01'] \n"
     ]
    },
    {
     "data": {
      "application/vnd.jupyter.widget-view+json": {
       "model_id": "a0b1200d0a8d4b4b959ac14398a1a508",
       "version_major": 2,
       "version_minor": 0
      },
      "text/plain": [
       "Downloading:   0%|          | 0.00/474 [00:00<?, ?B/s]"
      ]
     },
     "metadata": {},
     "output_type": "display_data"
    },
    {
     "data": {
      "application/vnd.jupyter.widget-view+json": {
       "model_id": "e67b5970f0734a398d85d395b75cb621",
       "version_major": 2,
       "version_minor": 0
      },
      "text/plain": [
       "Downloading:   0%|          | 0.00/899k [00:00<?, ?B/s]"
      ]
     },
     "metadata": {},
     "output_type": "display_data"
    },
    {
     "data": {
      "application/vnd.jupyter.widget-view+json": {
       "model_id": "a28da7fc98ad46b6a7c2a98dfc061ba8",
       "version_major": 2,
       "version_minor": 0
      },
      "text/plain": [
       "Downloading:   0%|          | 0.00/456k [00:00<?, ?B/s]"
      ]
     },
     "metadata": {},
     "output_type": "display_data"
    },
    {
     "data": {
      "application/vnd.jupyter.widget-view+json": {
       "model_id": "779ca7b394b544dfbb5b6acbd7865e98",
       "version_major": 2,
       "version_minor": 0
      },
      "text/plain": [
       "Downloading:   0%|          | 0.00/52.0 [00:00<?, ?B/s]"
      ]
     },
     "metadata": {},
     "output_type": "display_data"
    },
    {
     "data": {
      "application/vnd.jupyter.widget-view+json": {
       "model_id": "3819026776474c7baa49822b8f958608",
       "version_major": 2,
       "version_minor": 0
      },
      "text/plain": [
       "Downloading:   0%|          | 0.00/559M [00:00<?, ?B/s]"
      ]
     },
     "metadata": {},
     "output_type": "display_data"
    },
    {
     "name": "stderr",
     "output_type": "stream",
     "text": [
      "Some weights of the model checkpoint at microsoft/deberta-base were not used when initializing DebertaForSequenceClassification: ['lm_predictions.lm_head.bias', 'lm_predictions.lm_head.dense.weight', 'lm_predictions.lm_head.dense.bias', 'lm_predictions.lm_head.LayerNorm.weight', 'lm_predictions.lm_head.LayerNorm.bias', 'config']\n",
      "- This IS expected if you are initializing DebertaForSequenceClassification from the checkpoint of a model trained on another task or with another architecture (e.g. initializing a BertForSequenceClassification model from a BertForPreTraining model).\n",
      "- This IS NOT expected if you are initializing DebertaForSequenceClassification from the checkpoint of a model that you expect to be exactly identical (initializing a BertForSequenceClassification model from a BertForSequenceClassification model).\n",
      "Some weights of DebertaForSequenceClassification were not initialized from the model checkpoint at microsoft/deberta-base and are newly initialized: ['pooler.dense.weight', 'pooler.dense.bias', 'classifier.weight', 'classifier.bias']\n",
      "You should probably TRAIN this model on a down-stream task to be able to use it for predictions and inference.\n"
     ]
    },
    {
     "name": "stdout",
     "output_type": "stream",
     "text": [
      "added new token:  ['[NSEP]']\n",
      "['[NSEP]'] 4 1.5e-05\n",
      "0:\n",
      "0    3728\n",
      "3    3056\n",
      "2     817\n",
      "1     333\n",
      "Name: label, dtype: int64\n",
      "------------\n",
      "1:\n",
      "0    3713\n",
      "3    3055\n",
      "2     817\n",
      "1     333\n",
      "Name: label, dtype: int64\n",
      "------------\n",
      "2:\n",
      "0    3727\n",
      "3    3056\n",
      "2     817\n",
      "1     333\n",
      "Name: label, dtype: int64\n",
      "------------\n",
      "3:\n",
      "0    3728\n",
      "3    3055\n",
      "2     817\n",
      "1     333\n",
      "Name: label, dtype: int64\n",
      "------------\n",
      "4:\n",
      "0    3711\n",
      "3    3056\n",
      "2     817\n",
      "1     333\n",
      "Name: label, dtype: int64\n",
      "------------\n"
     ]
    },
    {
     "name": "stderr",
     "output_type": "stream",
     "text": [
      "/opt/conda/lib/python3.7/site-packages/pandas/util/_decorators.py:311: SettingWithCopyWarning: \n",
      "A value is trying to be set on a copy of a slice from a DataFrame\n",
      "\n",
      "See the caveats in the documentation: https://pandas.pydata.org/pandas-docs/stable/user_guide/indexing.html#returning-a-view-versus-a-copy\n",
      "  return func(*args, **kwargs)\n"
     ]
    },
    {
     "data": {
      "text/plain": [
       "'len(traindatagp) :'"
      ]
     },
     "metadata": {},
     "output_type": "display_data"
    },
    {
     "data": {
      "text/plain": [
       "5"
      ]
     },
     "metadata": {},
     "output_type": "display_data"
    },
    {
     "name": "stdout",
     "output_type": "stream",
     "text": [
      "VALDATASET\n",
      "0    770\n",
      "3    385\n",
      "2     22\n",
      "1      5\n",
      "Name: label, dtype: int64\n"
     ]
    },
    {
     "name": "stdout",
     "output_type": "stream",
     "text": [
      "Max len :400\n",
      "Size of the whole VAL dataset :1182\n",
      "VAL Loader : batchsize 8  :148\n",
      "Size of the whole TRAIN dataset :7934\n",
      "TRAIN Loader :batchsize 8  :992\n",
      "Validate after evey : 330 iterations\n",
      "<<<<<<  Epoch: 1/5 OF CV: 1  >>>>>>\n"
     ]
    },
    {
     "name": "stderr",
     "output_type": "stream",
     "text": [
      " 10%|█         | 100/992 [01:01<09:32,  1.56it/s]"
     ]
    },
    {
     "name": "stdout",
     "output_type": "stream",
     "text": [
      "lr:0.00001500000000000000\n"
     ]
    },
    {
     "name": "stderr",
     "output_type": "stream",
     "text": [
      " 20%|██        | 200/992 [02:03<08:27,  1.56it/s]"
     ]
    },
    {
     "name": "stdout",
     "output_type": "stream",
     "text": [
      "lr:0.00001425000000000000\n"
     ]
    },
    {
     "name": "stderr",
     "output_type": "stream",
     "text": [
      " 30%|███       | 300/992 [03:05<09:08,  1.26it/s]"
     ]
    },
    {
     "name": "stdout",
     "output_type": "stream",
     "text": [
      "lr:0.00001353750000000000\n"
     ]
    },
    {
     "name": "stderr",
     "output_type": "stream",
     "text": [
      " 33%|███▎      | 330/992 [03:55<1:48:57,  9.88s/it]"
     ]
    },
    {
     "name": "stdout",
     "output_type": "stream",
     "text": [
      "f1 score: 0.8793309663661013\n",
      "best_trainloss: 0.06396444527940316\n",
      "best_valoss: 0.044732383199433234\n"
     ]
    },
    {
     "name": "stderr",
     "output_type": "stream",
     "text": [
      " 40%|████      | 400/992 [04:38<06:12,  1.59it/s]"
     ]
    },
    {
     "name": "stdout",
     "output_type": "stream",
     "text": [
      "lr:0.00001286062500000000\n"
     ]
    },
    {
     "name": "stderr",
     "output_type": "stream",
     "text": [
      " 50%|█████     | 500/992 [05:40<05:06,  1.61it/s]"
     ]
    },
    {
     "name": "stdout",
     "output_type": "stream",
     "text": [
      "lr:0.00001221759375000000\n"
     ]
    },
    {
     "name": "stderr",
     "output_type": "stream",
     "text": [
      " 60%|██████    | 600/992 [06:43<03:43,  1.76it/s]"
     ]
    },
    {
     "name": "stdout",
     "output_type": "stream",
     "text": [
      "lr:0.00001160671406250000\n"
     ]
    },
    {
     "name": "stderr",
     "output_type": "stream",
     "text": [
      " 71%|███████   | 700/992 [08:13<03:12,  1.52it/s]"
     ]
    },
    {
     "name": "stdout",
     "output_type": "stream",
     "text": [
      "lr:0.00001102637835937500\n"
     ]
    },
    {
     "name": "stderr",
     "output_type": "stream",
     "text": [
      " 81%|████████  | 800/992 [09:16<02:05,  1.52it/s]"
     ]
    },
    {
     "name": "stdout",
     "output_type": "stream",
     "text": [
      "lr:0.00001047505944140625\n"
     ]
    },
    {
     "name": "stderr",
     "output_type": "stream",
     "text": [
      " 91%|█████████ | 900/992 [10:17<00:56,  1.63it/s]"
     ]
    },
    {
     "name": "stdout",
     "output_type": "stream",
     "text": [
      "lr:0.00000995130646933593\n"
     ]
    },
    {
     "name": "stderr",
     "output_type": "stream",
     "text": [
      "100%|██████████| 992/992 [11:43<00:00,  1.41it/s]\n"
     ]
    },
    {
     "name": "stdout",
     "output_type": "stream",
     "text": [
      "Size of the whole TRAIN dataset :7918\n",
      "TRAIN Loader :batchsize 8  :990\n",
      "Validate after evey : 330 iterations\n",
      "<<<<<<  Epoch: 2/5 OF CV: 1  >>>>>>\n"
     ]
    },
    {
     "name": "stderr",
     "output_type": "stream",
     "text": [
      " 10%|█         | 100/990 [01:00<10:10,  1.46it/s]"
     ]
    },
    {
     "name": "stdout",
     "output_type": "stream",
     "text": [
      "lr:0.00000945374114586914\n"
     ]
    },
    {
     "name": "stderr",
     "output_type": "stream",
     "text": [
      " 20%|██        | 200/990 [02:01<07:09,  1.84it/s]"
     ]
    },
    {
     "name": "stdout",
     "output_type": "stream",
     "text": [
      "lr:0.00000898105408857568\n"
     ]
    },
    {
     "name": "stderr",
     "output_type": "stream",
     "text": [
      " 30%|███       | 300/990 [03:03<06:42,  1.71it/s]"
     ]
    },
    {
     "name": "stdout",
     "output_type": "stream",
     "text": [
      "lr:0.00000853200138414689\n"
     ]
    },
    {
     "name": "stderr",
     "output_type": "stream",
     "text": [
      " 40%|████      | 400/990 [04:34<05:14,  1.88it/s]"
     ]
    },
    {
     "name": "stdout",
     "output_type": "stream",
     "text": [
      "lr:0.00000810540131493955\n"
     ]
    },
    {
     "name": "stderr",
     "output_type": "stream",
     "text": [
      " 51%|█████     | 500/990 [05:35<04:38,  1.76it/s]"
     ]
    },
    {
     "name": "stdout",
     "output_type": "stream",
     "text": [
      "lr:0.00000770013124919257\n"
     ]
    },
    {
     "name": "stderr",
     "output_type": "stream",
     "text": [
      " 61%|██████    | 600/990 [06:36<03:44,  1.74it/s]"
     ]
    },
    {
     "name": "stdout",
     "output_type": "stream",
     "text": [
      "lr:0.00000731512468673294\n"
     ]
    },
    {
     "name": "stderr",
     "output_type": "stream",
     "text": [
      " 71%|███████   | 700/990 [08:06<02:54,  1.66it/s]"
     ]
    },
    {
     "name": "stdout",
     "output_type": "stream",
     "text": [
      "lr:0.00000694936845239629\n"
     ]
    },
    {
     "name": "stderr",
     "output_type": "stream",
     "text": [
      " 81%|████████  | 800/990 [09:08<01:47,  1.77it/s]"
     ]
    },
    {
     "name": "stdout",
     "output_type": "stream",
     "text": [
      "lr:0.00000660190002977648\n"
     ]
    },
    {
     "name": "stderr",
     "output_type": "stream",
     "text": [
      " 91%|█████████ | 900/990 [10:08<00:52,  1.70it/s]"
     ]
    },
    {
     "name": "stdout",
     "output_type": "stream",
     "text": [
      "lr:0.00000627180502828765\n"
     ]
    },
    {
     "name": "stderr",
     "output_type": "stream",
     "text": [
      "100%|██████████| 990/990 [11:32<00:00,  1.43it/s]\n"
     ]
    },
    {
     "name": "stdout",
     "output_type": "stream",
     "text": [
      "saving\n"
     ]
    },
    {
     "data": {
      "text/html": [
       "<div>\n",
       "<style scoped>\n",
       "    .dataframe tbody tr th:only-of-type {\n",
       "        vertical-align: middle;\n",
       "    }\n",
       "\n",
       "    .dataframe tbody tr th {\n",
       "        vertical-align: top;\n",
       "    }\n",
       "\n",
       "    .dataframe thead th {\n",
       "        text-align: right;\n",
       "    }\n",
       "</style>\n",
       "<table border=\"1\" class=\"dataframe\">\n",
       "  <thead>\n",
       "    <tr style=\"text-align: right;\">\n",
       "      <th></th>\n",
       "      <th>fold</th>\n",
       "      <th>f1_weighted</th>\n",
       "      <th>vallosses</th>\n",
       "      <th>trainlosses</th>\n",
       "    </tr>\n",
       "  </thead>\n",
       "  <tbody>\n",
       "    <tr>\n",
       "      <th>0</th>\n",
       "      <td>1.0</td>\n",
       "      <td>0.879331</td>\n",
       "      <td>0.044732</td>\n",
       "      <td>0.063964</td>\n",
       "    </tr>\n",
       "  </tbody>\n",
       "</table>\n",
       "</div>"
      ],
      "text/plain": [
       "   fold  f1_weighted  vallosses  trainlosses\n",
       "0   1.0     0.879331   0.044732     0.063964"
      ]
     },
     "metadata": {},
     "output_type": "display_data"
    },
    {
     "data": {
      "image/png": "[encoded data removed]",
      "text/plain": [
       "<Figure size 1080x360 with 2 Axes>"
      ]
     },
     "metadata": {
      "needs_background": "light"
     },
     "output_type": "display_data"
    },
    {
     "data": {
      "image/png": "[encoded data removed]",
      "text/plain": [
       "<Figure size 432x288 with 1 Axes>"
      ]
     },
     "metadata": {
      "needs_background": "light"
     },
     "output_type": "display_data"
    },
    {
     "data": {
      "image/png": "[encoded data removed]",
      "text/plain": [
       "<Figure size 1080x360 with 4 Axes>"
      ]
     },
     "metadata": {},
     "output_type": "display_data"
    },
    {
     "name": "stdout",
     "output_type": "stream",
     "text": [
      "microsoft/deberta-base\n",
      "validation data -> 2: ['Form10k_61', 'Form10k_22', 'Form10k_14', 'Form10k_23'] \n"
     ]
    },
    {
     "name": "stderr",
     "output_type": "stream",
     "text": [
      "Some weights of the model checkpoint at microsoft/deberta-base were not used when initializing DebertaForSequenceClassification: ['lm_predictions.lm_head.bias', 'lm_predictions.lm_head.dense.weight', 'lm_predictions.lm_head.dense.bias', 'lm_predictions.lm_head.LayerNorm.weight', 'lm_predictions.lm_head.LayerNorm.bias', 'config']\n",
      "- This IS expected if you are initializing DebertaForSequenceClassification from the checkpoint of a model trained on another task or with another architecture (e.g. initializing a BertForSequenceClassification model from a BertForPreTraining model).\n",
      "- This IS NOT expected if you are initializing DebertaForSequenceClassification from the checkpoint of a model that you expect to be exactly identical (initializing a BertForSequenceClassification model from a BertForSequenceClassification model).\n",
      "Some weights of DebertaForSequenceClassification were not initialized from the model checkpoint at microsoft/deberta-base and are newly initialized: ['pooler.dense.weight', 'pooler.dense.bias', 'classifier.weight', 'classifier.bias']\n",
      "You should probably TRAIN this model on a down-stream task to be able to use it for predictions and inference.\n"
     ]
    },
    {
     "name": "stdout",
     "output_type": "stream",
     "text": [
      "added new token:  ['[NSEP]']\n",
      "['[NSEP]'] 4 1.5e-05\n",
      "0:\n",
      "0    3646\n",
      "3    3000\n",
      "2     829\n",
      "1     333\n",
      "Name: label, dtype: int64\n",
      "------------\n",
      "1:\n",
      "0    3672\n",
      "3    2998\n",
      "2     829\n",
      "1     333\n",
      "Name: label, dtype: int64\n",
      "------------\n",
      "2:\n",
      "0    3645\n",
      "3    2997\n",
      "2     829\n",
      "1     333\n",
      "Name: label, dtype: int64\n",
      "------------\n",
      "3:\n",
      "0    3646\n",
      "3    3000\n",
      "2     829\n",
      "1     333\n",
      "Name: label, dtype: int64\n",
      "------------\n",
      "4:\n",
      "0    3658\n",
      "3    2998\n",
      "2     829\n",
      "1     333\n",
      "Name: label, dtype: int64\n",
      "------------\n"
     ]
    },
    {
     "name": "stderr",
     "output_type": "stream",
     "text": [
      "/opt/conda/lib/python3.7/site-packages/pandas/util/_decorators.py:311: SettingWithCopyWarning: \n",
      "A value is trying to be set on a copy of a slice from a DataFrame\n",
      "\n",
      "See the caveats in the documentation: https://pandas.pydata.org/pandas-docs/stable/user_guide/indexing.html#returning-a-view-versus-a-copy\n",
      "  return func(*args, **kwargs)\n"
     ]
    },
    {
     "data": {
      "text/plain": [
       "'len(traindatagp) :'"
      ]
     },
     "metadata": {},
     "output_type": "display_data"
    },
    {
     "data": {
      "text/plain": [
       "5"
      ]
     },
     "metadata": {},
     "output_type": "display_data"
    },
    {
     "name": "stdout",
     "output_type": "stream",
     "text": [
      "VALDATASET\n",
      "0    874\n",
      "3    437\n",
      "2     16\n",
      "1      3\n",
      "Name: label, dtype: int64\n"
     ]
    },
    {
     "name": "stdout",
     "output_type": "stream",
     "text": [
      "Max len :400\n",
      "Size of the whole VAL dataset :1330\n",
      "VAL Loader : batchsize 8  :167\n",
      "Size of the whole TRAIN dataset :7808\n",
      "TRAIN Loader :batchsize 8  :976\n",
      "Validate after evey : 325 iterations\n",
      "<<<<<<  Epoch: 1/5 OF CV: 2  >>>>>>\n"
     ]
    },
    {
     "name": "stderr",
     "output_type": "stream",
     "text": [
      " 10%|█         | 100/976 [01:03<08:54,  1.64it/s]"
     ]
    },
    {
     "name": "stdout",
     "output_type": "stream",
     "text": [
      "lr:0.00001500000000000000\n"
     ]
    },
    {
     "name": "stderr",
     "output_type": "stream",
     "text": [
      " 20%|██        | 200/976 [02:01<07:58,  1.62it/s]"
     ]
    },
    {
     "name": "stdout",
     "output_type": "stream",
     "text": [
      "lr:0.00001425000000000000\n"
     ]
    },
    {
     "name": "stderr",
     "output_type": "stream",
     "text": [
      " 31%|███       | 300/976 [03:01<07:33,  1.49it/s]"
     ]
    },
    {
     "name": "stdout",
     "output_type": "stream",
     "text": [
      "lr:0.00001353750000000000\n"
     ]
    },
    {
     "name": "stderr",
     "output_type": "stream",
     "text": [
      " 33%|███▎      | 325/976 [03:52<1:58:58, 10.97s/it]"
     ]
    },
    {
     "name": "stdout",
     "output_type": "stream",
     "text": [
      "f1 score: 0.8836114521325784\n",
      "best_trainloss: 0.06712392647249195\n",
      "best_valoss: 0.04880752711577859\n"
     ]
    },
    {
     "name": "stderr",
     "output_type": "stream",
     "text": [
      " 41%|████      | 400/976 [04:36<05:05,  1.89it/s]"
     ]
    },
    {
     "name": "stdout",
     "output_type": "stream",
     "text": [
      "lr:0.00001286062500000000\n"
     ]
    },
    {
     "name": "stderr",
     "output_type": "stream",
     "text": [
      " 51%|█████     | 500/976 [05:36<04:29,  1.77it/s]"
     ]
    },
    {
     "name": "stdout",
     "output_type": "stream",
     "text": [
      "lr:0.00001221759375000000\n"
     ]
    },
    {
     "name": "stderr",
     "output_type": "stream",
     "text": [
      " 61%|██████▏   | 600/976 [06:39<04:12,  1.49it/s]"
     ]
    },
    {
     "name": "stdout",
     "output_type": "stream",
     "text": [
      "lr:0.00001160671406250000\n"
     ]
    },
    {
     "name": "stderr",
     "output_type": "stream",
     "text": [
      " 67%|██████▋   | 650/976 [07:43<59:30, 10.95s/it]"
     ]
    },
    {
     "name": "stdout",
     "output_type": "stream",
     "text": [
      "f1 score: 0.8885946857204822\n",
      "best_trainloss: 0.031697280402653495\n",
      "best_valoss: 0.041119004122534754\n"
     ]
    },
    {
     "name": "stderr",
     "output_type": "stream",
     "text": [
      " 72%|███████▏  | 700/976 [08:14<02:39,  1.73it/s]"
     ]
    },
    {
     "name": "stdout",
     "output_type": "stream",
     "text": [
      "lr:0.00001102637835937500\n"
     ]
    },
    {
     "name": "stderr",
     "output_type": "stream",
     "text": [
      " 82%|████████▏ | 800/976 [09:18<01:51,  1.58it/s]"
     ]
    },
    {
     "name": "stdout",
     "output_type": "stream",
     "text": [
      "lr:0.00001047505944140625\n"
     ]
    },
    {
     "name": "stderr",
     "output_type": "stream",
     "text": [
      " 92%|█████████▏| 900/976 [10:23<00:50,  1.51it/s]"
     ]
    },
    {
     "name": "stdout",
     "output_type": "stream",
     "text": [
      "lr:0.00000995130646933593\n"
     ]
    },
    {
     "name": "stderr",
     "output_type": "stream",
     "text": [
      "100%|██████████| 976/976 [11:45<00:00,  1.38it/s]\n"
     ]
    },
    {
     "name": "stdout",
     "output_type": "stream",
     "text": [
      "Size of the whole TRAIN dataset :7832\n",
      "TRAIN Loader :batchsize 8  :979\n",
      "Validate after evey : 326 iterations\n",
      "<<<<<<  Epoch: 2/5 OF CV: 2  >>>>>>\n"
     ]
    },
    {
     "name": "stderr",
     "output_type": "stream",
     "text": [
      " 10%|█         | 100/979 [01:00<08:56,  1.64it/s]"
     ]
    },
    {
     "name": "stdout",
     "output_type": "stream",
     "text": [
      "lr:0.00000945374114586914\n"
     ]
    },
    {
     "name": "stderr",
     "output_type": "stream",
     "text": [
      " 20%|██        | 200/979 [02:00<06:55,  1.87it/s]"
     ]
    },
    {
     "name": "stdout",
     "output_type": "stream",
     "text": [
      "lr:0.00000898105408857568\n"
     ]
    },
    {
     "name": "stderr",
     "output_type": "stream",
     "text": [
      " 31%|███       | 300/979 [03:04<07:10,  1.58it/s]"
     ]
    },
    {
     "name": "stdout",
     "output_type": "stream",
     "text": [
      "lr:0.00000853200138414689\n"
     ]
    },
    {
     "name": "stderr",
     "output_type": "stream",
     "text": [
      " 41%|████      | 400/979 [04:40<06:07,  1.57it/s]"
     ]
    },
    {
     "name": "stdout",
     "output_type": "stream",
     "text": [
      "lr:0.00000810540131493955\n"
     ]
    },
    {
     "name": "stderr",
     "output_type": "stream",
     "text": [
      " 51%|█████     | 500/979 [05:44<05:01,  1.59it/s]"
     ]
    },
    {
     "name": "stdout",
     "output_type": "stream",
     "text": [
      "lr:0.00000770013124919257\n"
     ]
    },
    {
     "name": "stderr",
     "output_type": "stream",
     "text": [
      " 61%|██████▏   | 600/979 [06:45<03:19,  1.90it/s]"
     ]
    },
    {
     "name": "stdout",
     "output_type": "stream",
     "text": [
      "lr:0.00000731512468673294\n"
     ]
    },
    {
     "name": "stderr",
     "output_type": "stream",
     "text": [
      " 72%|███████▏  | 700/979 [08:23<02:50,  1.64it/s]"
     ]
    },
    {
     "name": "stdout",
     "output_type": "stream",
     "text": [
      "lr:0.00000694936845239629\n"
     ]
    },
    {
     "name": "stderr",
     "output_type": "stream",
     "text": [
      " 82%|████████▏ | 800/979 [09:24<01:57,  1.52it/s]"
     ]
    },
    {
     "name": "stdout",
     "output_type": "stream",
     "text": [
      "lr:0.00000660190002977648\n"
     ]
    },
    {
     "name": "stderr",
     "output_type": "stream",
     "text": [
      " 92%|█████████▏| 900/979 [10:27<00:51,  1.53it/s]"
     ]
    },
    {
     "name": "stdout",
     "output_type": "stream",
     "text": [
      "lr:0.00000627180502828765\n"
     ]
    },
    {
     "name": "stderr",
     "output_type": "stream",
     "text": [
      "100%|██████████| 979/979 [11:50<00:00,  1.38it/s]\n"
     ]
    },
    {
     "name": "stdout",
     "output_type": "stream",
     "text": [
      "saving\n"
     ]
    },
    {
     "data": {
      "text/html": [
       "<div>\n",
       "<style scoped>\n",
       "    .dataframe tbody tr th:only-of-type {\n",
       "        vertical-align: middle;\n",
       "    }\n",
       "\n",
       "    .dataframe tbody tr th {\n",
       "        vertical-align: top;\n",
       "    }\n",
       "\n",
       "    .dataframe thead th {\n",
       "        text-align: right;\n",
       "    }\n",
       "</style>\n",
       "<table border=\"1\" class=\"dataframe\">\n",
       "  <thead>\n",
       "    <tr style=\"text-align: right;\">\n",
       "      <th></th>\n",
       "      <th>fold</th>\n",
       "      <th>f1_weighted</th>\n",
       "      <th>vallosses</th>\n",
       "      <th>trainlosses</th>\n",
       "    </tr>\n",
       "  </thead>\n",
       "  <tbody>\n",
       "    <tr>\n",
       "      <th>0</th>\n",
       "      <td>1.0</td>\n",
       "      <td>0.879331</td>\n",
       "      <td>0.044732</td>\n",
       "      <td>0.063964</td>\n",
       "    </tr>\n",
       "    <tr>\n",
       "      <th>1</th>\n",
       "      <td>2.0</td>\n",
       "      <td>0.888595</td>\n",
       "      <td>0.041119</td>\n",
       "      <td>0.031697</td>\n",
       "    </tr>\n",
       "  </tbody>\n",
       "</table>\n",
       "</div>"
      ],
      "text/plain": [
       "   fold  f1_weighted  vallosses  trainlosses\n",
       "0   1.0     0.879331   0.044732     0.063964\n",
       "1   2.0     0.888595   0.041119     0.031697"
      ]
     },
     "metadata": {},
     "output_type": "display_data"
    },
    {
     "data": {
      "image/png": "[encoded data removed]",
      "text/plain": [
       "<Figure size 1080x360 with 2 Axes>"
      ]
     },
     "metadata": {},
     "output_type": "display_data"
    },
    {
     "data": {
      "image/png": "[encoded data removed]",
      "text/plain": [
       "<Figure size 432x288 with 1 Axes>"
      ]
     },
     "metadata": {},
     "output_type": "display_data"
    },
    {
     "data": {
      "image/png": "[encoded data removed]",
      "text/plain": [
       "<Figure size 1080x360 with 4 Axes>"
      ]
     },
     "metadata": {},
     "output_type": "display_data"
    },
    {
     "name": "stdout",
     "output_type": "stream",
     "text": [
      "microsoft/deberta-base\n",
      "validation data -> 3: ['Form10k_63', 'Form10k_25', 'Form10k_34', 'Form10k_37'] \n"
     ]
    },
    {
     "name": "stderr",
     "output_type": "stream",
     "text": [
      "Some weights of the model checkpoint at microsoft/deberta-base were not used when initializing DebertaForSequenceClassification: ['lm_predictions.lm_head.bias', 'lm_predictions.lm_head.dense.weight', 'lm_predictions.lm_head.dense.bias', 'lm_predictions.lm_head.LayerNorm.weight', 'lm_predictions.lm_head.LayerNorm.bias', 'config']\n",
      "- This IS expected if you are initializing DebertaForSequenceClassification from the checkpoint of a model trained on another task or with another architecture (e.g. initializing a BertForSequenceClassification model from a BertForPreTraining model).\n",
      "- This IS NOT expected if you are initializing DebertaForSequenceClassification from the checkpoint of a model that you expect to be exactly identical (initializing a BertForSequenceClassification model from a BertForSequenceClassification model).\n",
      "Some weights of DebertaForSequenceClassification were not initialized from the model checkpoint at microsoft/deberta-base and are newly initialized: ['pooler.dense.weight', 'pooler.dense.bias', 'classifier.weight', 'classifier.bias']\n",
      "You should probably TRAIN this model on a down-stream task to be able to use it for predictions and inference.\n"
     ]
    },
    {
     "name": "stdout",
     "output_type": "stream",
     "text": [
      "added new token:  ['[NSEP]']\n",
      "['[NSEP]'] 4 1.5e-05\n",
      "0:\n",
      "0    3744\n",
      "3    3101\n",
      "2     732\n",
      "1     311\n",
      "Name: label, dtype: int64\n",
      "------------\n",
      "1:\n",
      "0    3747\n",
      "3    3101\n",
      "2     732\n",
      "1     311\n",
      "Name: label, dtype: int64\n",
      "------------\n",
      "2:\n",
      "0    3756\n",
      "3    3101\n",
      "2     732\n",
      "1     311\n",
      "Name: label, dtype: int64\n",
      "------------\n",
      "3:\n",
      "0    3742\n",
      "3    3102\n",
      "2     732\n",
      "1     311\n",
      "Name: label, dtype: int64\n",
      "------------\n",
      "4:\n",
      "0    3749\n",
      "3    3101\n",
      "2     732\n",
      "1     311\n",
      "Name: label, dtype: int64\n",
      "------------\n"
     ]
    },
    {
     "name": "stderr",
     "output_type": "stream",
     "text": [
      "/opt/conda/lib/python3.7/site-packages/pandas/util/_decorators.py:311: SettingWithCopyWarning: \n",
      "A value is trying to be set on a copy of a slice from a DataFrame\n",
      "\n",
      "See the caveats in the documentation: https://pandas.pydata.org/pandas-docs/stable/user_guide/indexing.html#returning-a-view-versus-a-copy\n",
      "  return func(*args, **kwargs)\n"
     ]
    },
    {
     "data": {
      "text/plain": [
       "'len(traindatagp) :'"
      ]
     },
     "metadata": {},
     "output_type": "display_data"
    },
    {
     "data": {
      "text/plain": [
       "5"
      ]
     },
     "metadata": {},
     "output_type": "display_data"
    },
    {
     "name": "stdout",
     "output_type": "stream",
     "text": [
      "VALDATASET\n",
      "0    806\n",
      "3    403\n",
      "2     65\n",
      "1     20\n",
      "Name: label, dtype: int64\n"
     ]
    },
    {
     "name": "stdout",
     "output_type": "stream",
     "text": [
      "Max len :400\n",
      "Size of the whole VAL dataset :1294\n",
      "VAL Loader : batchsize 8  :162\n",
      "Size of the whole TRAIN dataset :7888\n",
      "TRAIN Loader :batchsize 8  :986\n",
      "Validate after evey : 328 iterations\n",
      "<<<<<<  Epoch: 1/5 OF CV: 3  >>>>>>\n"
     ]
    },
    {
     "name": "stderr",
     "output_type": "stream",
     "text": [
      " 10%|█         | 100/986 [01:05<08:33,  1.73it/s]"
     ]
    },
    {
     "name": "stdout",
     "output_type": "stream",
     "text": [
      "lr:0.00001500000000000000\n"
     ]
    },
    {
     "name": "stderr",
     "output_type": "stream",
     "text": [
      " 20%|██        | 200/986 [02:06<07:51,  1.67it/s]"
     ]
    },
    {
     "name": "stdout",
     "output_type": "stream",
     "text": [
      "lr:0.00001425000000000000\n"
     ]
    },
    {
     "name": "stderr",
     "output_type": "stream",
     "text": [
      " 30%|███       | 300/986 [03:08<07:17,  1.57it/s]"
     ]
    },
    {
     "name": "stdout",
     "output_type": "stream",
     "text": [
      "lr:0.00001353750000000000\n"
     ]
    },
    {
     "name": "stderr",
     "output_type": "stream",
     "text": [
      " 33%|███▎      | 328/986 [03:58<1:52:57, 10.30s/it]"
     ]
    },
    {
     "name": "stdout",
     "output_type": "stream",
     "text": [
      "f1 score: 0.8095364042200688\n",
      "best_trainloss: 0.07453469376693048\n",
      "best_valoss: 0.06665173319630452\n"
     ]
    },
    {
     "name": "stderr",
     "output_type": "stream",
     "text": [
      " 41%|████      | 400/986 [04:44<05:50,  1.67it/s]"
     ]
    },
    {
     "name": "stdout",
     "output_type": "stream",
     "text": [
      "lr:0.00001286062500000000\n"
     ]
    },
    {
     "name": "stderr",
     "output_type": "stream",
     "text": [
      " 51%|█████     | 500/986 [05:45<05:00,  1.62it/s]"
     ]
    },
    {
     "name": "stdout",
     "output_type": "stream",
     "text": [
      "lr:0.00001221759375000000\n"
     ]
    },
    {
     "name": "stderr",
     "output_type": "stream",
     "text": [
      " 61%|██████    | 600/986 [06:48<03:58,  1.62it/s]"
     ]
    },
    {
     "name": "stdout",
     "output_type": "stream",
     "text": [
      "lr:0.00001160671406250000\n"
     ]
    },
    {
     "name": "stderr",
     "output_type": "stream",
     "text": [
      " 67%|██████▋   | 656/986 [07:56<56:40, 10.30s/it]"
     ]
    },
    {
     "name": "stdout",
     "output_type": "stream",
     "text": [
      "f1 score: 0.8482014191602829\n",
      "best_trainloss: 0.03543420693455207\n",
      "best_valoss: 0.057696827241094345\n"
     ]
    },
    {
     "name": "stderr",
     "output_type": "stream",
     "text": [
      " 71%|███████   | 700/986 [08:22<03:08,  1.52it/s]"
     ]
    },
    {
     "name": "stdout",
     "output_type": "stream",
     "text": [
      "lr:0.00001102637835937500\n"
     ]
    },
    {
     "name": "stderr",
     "output_type": "stream",
     "text": [
      " 81%|████████  | 800/986 [09:23<01:54,  1.62it/s]"
     ]
    },
    {
     "name": "stdout",
     "output_type": "stream",
     "text": [
      "lr:0.00001047505944140625\n"
     ]
    },
    {
     "name": "stderr",
     "output_type": "stream",
     "text": [
      " 91%|█████████▏| 900/986 [10:25<00:54,  1.58it/s]"
     ]
    },
    {
     "name": "stdout",
     "output_type": "stream",
     "text": [
      "lr:0.00000995130646933593\n"
     ]
    },
    {
     "name": "stderr",
     "output_type": "stream",
     "text": [
      "100%|██████████| 986/986 [11:50<00:00,  1.39it/s]\n"
     ]
    },
    {
     "name": "stdout",
     "output_type": "stream",
     "text": [
      "Size of the whole TRAIN dataset :7891\n",
      "TRAIN Loader :batchsize 8  :987\n",
      "Validate after evey : 329 iterations\n",
      "<<<<<<  Epoch: 2/5 OF CV: 3  >>>>>>\n"
     ]
    },
    {
     "name": "stderr",
     "output_type": "stream",
     "text": [
      " 10%|█         | 100/987 [01:02<10:49,  1.37it/s]"
     ]
    },
    {
     "name": "stdout",
     "output_type": "stream",
     "text": [
      "lr:0.00000945374114586914\n"
     ]
    },
    {
     "name": "stderr",
     "output_type": "stream",
     "text": [
      " 20%|██        | 200/987 [02:04<09:15,  1.42it/s]"
     ]
    },
    {
     "name": "stdout",
     "output_type": "stream",
     "text": [
      "lr:0.00000898105408857568\n"
     ]
    },
    {
     "name": "stderr",
     "output_type": "stream",
     "text": [
      " 30%|███       | 300/987 [03:08<07:09,  1.60it/s]"
     ]
    },
    {
     "name": "stdout",
     "output_type": "stream",
     "text": [
      "lr:0.00000853200138414689\n"
     ]
    },
    {
     "name": "stderr",
     "output_type": "stream",
     "text": [
      " 41%|████      | 400/987 [04:41<06:22,  1.53it/s]"
     ]
    },
    {
     "name": "stdout",
     "output_type": "stream",
     "text": [
      "lr:0.00000810540131493955\n"
     ]
    },
    {
     "name": "stderr",
     "output_type": "stream",
     "text": [
      " 51%|█████     | 500/987 [05:43<04:46,  1.70it/s]"
     ]
    },
    {
     "name": "stdout",
     "output_type": "stream",
     "text": [
      "lr:0.00000770013124919257\n"
     ]
    },
    {
     "name": "stderr",
     "output_type": "stream",
     "text": [
      " 61%|██████    | 600/987 [06:43<03:43,  1.74it/s]"
     ]
    },
    {
     "name": "stdout",
     "output_type": "stream",
     "text": [
      "lr:0.00000731512468673294\n"
     ]
    },
    {
     "name": "stderr",
     "output_type": "stream",
     "text": [
      " 71%|███████   | 700/987 [08:17<02:47,  1.72it/s]"
     ]
    },
    {
     "name": "stdout",
     "output_type": "stream",
     "text": [
      "lr:0.00000694936845239629\n"
     ]
    },
    {
     "name": "stderr",
     "output_type": "stream",
     "text": [
      " 81%|████████  | 800/987 [09:21<01:49,  1.71it/s]"
     ]
    },
    {
     "name": "stdout",
     "output_type": "stream",
     "text": [
      "lr:0.00000660190002977648\n"
     ]
    },
    {
     "name": "stderr",
     "output_type": "stream",
     "text": [
      " 91%|█████████ | 900/987 [10:23<00:55,  1.57it/s]"
     ]
    },
    {
     "name": "stdout",
     "output_type": "stream",
     "text": [
      "lr:0.00000627180502828765\n"
     ]
    },
    {
     "name": "stderr",
     "output_type": "stream",
     "text": [
      "100%|██████████| 987/987 [11:51<00:00,  1.39it/s]\n"
     ]
    },
    {
     "name": "stdout",
     "output_type": "stream",
     "text": [
      "saving\n"
     ]
    },
    {
     "data": {
      "text/html": [
       "<div>\n",
       "<style scoped>\n",
       "    .dataframe tbody tr th:only-of-type {\n",
       "        vertical-align: middle;\n",
       "    }\n",
       "\n",
       "    .dataframe tbody tr th {\n",
       "        vertical-align: top;\n",
       "    }\n",
       "\n",
       "    .dataframe thead th {\n",
       "        text-align: right;\n",
       "    }\n",
       "</style>\n",
       "<table border=\"1\" class=\"dataframe\">\n",
       "  <thead>\n",
       "    <tr style=\"text-align: right;\">\n",
       "      <th></th>\n",
       "      <th>fold</th>\n",
       "      <th>f1_weighted</th>\n",
       "      <th>vallosses</th>\n",
       "      <th>trainlosses</th>\n",
       "    </tr>\n",
       "  </thead>\n",
       "  <tbody>\n",
       "    <tr>\n",
       "      <th>0</th>\n",
       "      <td>1.0</td>\n",
       "      <td>0.879331</td>\n",
       "      <td>0.044732</td>\n",
       "      <td>0.063964</td>\n",
       "    </tr>\n",
       "    <tr>\n",
       "      <th>1</th>\n",
       "      <td>2.0</td>\n",
       "      <td>0.888595</td>\n",
       "      <td>0.041119</td>\n",
       "      <td>0.031697</td>\n",
       "    </tr>\n",
       "    <tr>\n",
       "      <th>2</th>\n",
       "      <td>3.0</td>\n",
       "      <td>0.848201</td>\n",
       "      <td>0.057697</td>\n",
       "      <td>0.035434</td>\n",
       "    </tr>\n",
       "  </tbody>\n",
       "</table>\n",
       "</div>"
      ],
      "text/plain": [
       "   fold  f1_weighted  vallosses  trainlosses\n",
       "0   1.0     0.879331   0.044732     0.063964\n",
       "1   2.0     0.888595   0.041119     0.031697\n",
       "2   3.0     0.848201   0.057697     0.035434"
      ]
     },
     "metadata": {},
     "output_type": "display_data"
    },
    {
     "data": {
      "image/png": "[encoded data removed]",
      "text/plain": [
       "<Figure size 1080x360 with 2 Axes>"
      ]
     },
     "metadata": {},
     "output_type": "display_data"
    },
    {
     "data": {
      "image/png": "[encoded data removed]",
      "text/plain": [
       "<Figure size 432x288 with 1 Axes>"
      ]
     },
     "metadata": {},
     "output_type": "display_data"
    },
    {
     "data": {
      "image/png": "[encoded data removed]",
      "text/plain": [
       "<Figure size 1080x360 with 4 Axes>"
      ]
     },
     "metadata": {},
     "output_type": "display_data"
    },
    {
     "name": "stdout",
     "output_type": "stream",
     "text": [
      "All CV loop finished.\n",
      "output/deberta-basemodel_2021_11_10-03:43:13_AM\n",
      "Training finished.\n",
      "MODELPATH_R : output/deberta-basemodel_2021_11_10-03:43:13_AM\n"
     ]
    },
    {
     "data": {
      "text/html": [
       "<div>\n",
       "<style scoped>\n",
       "    .dataframe tbody tr th:only-of-type {\n",
       "        vertical-align: middle;\n",
       "    }\n",
       "\n",
       "    .dataframe tbody tr th {\n",
       "        vertical-align: top;\n",
       "    }\n",
       "\n",
       "    .dataframe thead th {\n",
       "        text-align: right;\n",
       "    }\n",
       "</style>\n",
       "<table border=\"1\" class=\"dataframe\">\n",
       "  <thead>\n",
       "    <tr style=\"text-align: right;\">\n",
       "      <th></th>\n",
       "      <th>fold</th>\n",
       "      <th>f1_weighted</th>\n",
       "      <th>vallosses</th>\n",
       "      <th>trainlosses</th>\n",
       "    </tr>\n",
       "  </thead>\n",
       "  <tbody>\n",
       "    <tr>\n",
       "      <th>0</th>\n",
       "      <td>1.0</td>\n",
       "      <td>0.879331</td>\n",
       "      <td>0.044732</td>\n",
       "      <td>0.063964</td>\n",
       "    </tr>\n",
       "    <tr>\n",
       "      <th>1</th>\n",
       "      <td>2.0</td>\n",
       "      <td>0.888595</td>\n",
       "      <td>0.041119</td>\n",
       "      <td>0.031697</td>\n",
       "    </tr>\n",
       "    <tr>\n",
       "      <th>2</th>\n",
       "      <td>3.0</td>\n",
       "      <td>0.848201</td>\n",
       "      <td>0.057697</td>\n",
       "      <td>0.035434</td>\n",
       "    </tr>\n",
       "  </tbody>\n",
       "</table>\n",
       "</div>"
      ],
      "text/plain": [
       "   fold  f1_weighted  vallosses  trainlosses\n",
       "0   1.0     0.879331   0.044732     0.063964\n",
       "1   2.0     0.888595   0.041119     0.031697\n",
       "2   3.0     0.848201   0.057697     0.035434"
      ]
     },
     "metadata": {},
     "output_type": "display_data"
    },
    {
     "name": "stdout",
     "output_type": "stream",
     "text": [
      "Model mean cv valloss score 0.047849404854354106\n",
      "Model mean cv f1 score 0.8720423570822887\n"
     ]
    }
   ],
   "source": [
    "print(f\"Epoches Count : {EPOCHS}\")\n",
    "print(\"USE_AML \",USE_AML)\n",
    "bestrecords=pd.DataFrame(columns=[\"fold\",\"f1_weighted\",\"vallosses\",\"trainlosses\"])\n",
    "for fold in CV_DICT.keys():\n",
    "    print(MODEL_NAME)\n",
    "    print(f'validation data -> {fold}: {CV_DICT[fold]} ')\n",
    "    tokenizer,model,optimizer= loadmodel(MODEL_NAME,specialtoken=SEPCIAL_TOKEN)\n",
    "    \n",
    "    traindatagps,valdata =loadData(fold)\n",
    "    \n",
    "    if DEBUG:\n",
    "        MAX_LEN =400\n",
    "        train_params = {'batch_size': TRAIN_BATCH_SIZE,\n",
    "                       'pin_memory': True,\n",
    "                        'num_workers': 0,\n",
    "                        'shuffle':True\n",
    "                        }\n",
    "    \n",
    "        val_params = {'batch_size': VALID_BATCH_SIZE,\n",
    "                        'pin_memory': True,\n",
    "                        'num_workers': 0\n",
    "                     }\n",
    "        valdata=valdata[:DEBUG_DATA_SIZE]\n",
    "    else:\n",
    "        data_collator = DataCollatorWithPadding(tokenizer=tokenizer)\n",
    "        train_params = {'batch_size': TRAIN_BATCH_SIZE,\n",
    "                        'pin_memory': True,\n",
    "                        'num_workers': 0,\n",
    "                        'collate_fn':data_collator,\n",
    "                        'shuffle':True\n",
    "                        }\n",
    "    \n",
    "        val_params = {'batch_size': VALID_BATCH_SIZE,\n",
    "                        'pin_memory': True,\n",
    "                        'num_workers': 0,\n",
    "                      'collate_fn':data_collator\n",
    "                        }\n",
    "        \n",
    "    valset = CustomDataset(valdata, tokenizer, MAX_LEN)\n",
    "    val_dataloader = DataLoader(valset, **val_params)\n",
    "    num_warmup_steps=traindatalen*0.1\n",
    "    if USE_SCHEDULER:\n",
    "#         scheduler=torch.optim.lr_scheduler.StepLR(optimizer, step_size=2, gamma=0.1)\n",
    "        scheduler=torch.optim.lr_scheduler.ExponentialLR(optimizer, gamma=0.95)\n",
    "    \n",
    "    bestscore= None\n",
    "    le=[]\n",
    "    vallosses_fold=[]\n",
    "    trainlosses_fold=[]\n",
    "    f1_weighted_fold=[]\n",
    "    \n",
    "    print(f\"Max len :{MAX_LEN}\")\n",
    "    print(f\"Size of the whole VAL dataset :{len(val_dataloader.dataset)}\")\n",
    "    print(f\"VAL Loader : batchsize {VALID_BATCH_SIZE}  :{len(val_dataloader)}\")\n",
    "    bestCM_train={'target':[],'pred':[]}\n",
    "    bestCM_val={'target':[],'pred':[]}\n",
    "    state={}\n",
    "    scaler=torch.cuda.amp.GradScaler()\n",
    "\n",
    "    for epoch in range(EPOCHS):\n",
    "        bestlostfound=False\n",
    "        traindata=traindatagps[epoch]\n",
    "        if DEBUG:\n",
    "            traindata=traindata[:DEBUG_DATA_SIZE+10]\n",
    "        trainset = CustomDataset(traindata, tokenizer, MAX_LEN)\n",
    "        \n",
    "        train_dataloader = DataLoader(trainset, **train_params)\n",
    "        print(f\"Size of the whole TRAIN dataset :{len(train_dataloader.dataset)}\")\n",
    "        print(f\"TRAIN Loader :batchsize {TRAIN_BATCH_SIZE}  :{len(train_dataloader)}\")\n",
    "        print(f\"Validate after evey : {int(len(train_dataloader)/3)} iterations\")\n",
    "        print(f\"<<<<<<  Epoch: {epoch+1}/{EPOCHS} OF CV: {fold}  >>>>>>\")        \n",
    "        traintargets=[] # record only best \n",
    "        trainpreds=[]  # record only best \n",
    "#         trainlosses=[]  # alltrain loss\n",
    "        total_loss = 0\n",
    "        model.train()\n",
    "        optimizer.zero_grad()\n",
    "        for step,batch in enumerate(tqdm(train_dataloader)):\n",
    "            \n",
    "            batch = {k: v.to(device) for k, v in batch.items()}\n",
    "            \n",
    "            with torch.cuda.amp.autocast():\n",
    "                outputs = model(**batch)\n",
    "                loss,logits=outputs[:2]\n",
    "                \n",
    "            targets=batch['labels'].cpu().detach().numpy()\n",
    "            traintargets.extend(targets)\n",
    "            \n",
    "            del batch,outputs,targets\n",
    "            _ = gc.collect()\n",
    "            torch.cuda.empty_cache()\n",
    "            \n",
    "            if USE_AML:\n",
    "                loss=loss/ACCUMULATION_STEPS\n",
    "\n",
    "            \n",
    "            if L== True:\n",
    "                scaler.scale(loss).backward()\n",
    "            else:\n",
    "                loss.backward()\n",
    "\n",
    "            if USE_AML:\n",
    "                if (step+1)%ACCUMULATION_STEPS == 0:\n",
    "                    if L== True:\n",
    "                        scaler.step(optimizer)\n",
    "                        scaler.update()\n",
    "                    else:\n",
    "                        optimizer.step()\n",
    "                    optimizer.zero_grad()\n",
    "            else:\n",
    "                optimizer.step()\n",
    "                optimizer.zero_grad()\n",
    "                \n",
    "           \n",
    "            total_loss = total_loss + loss.item()\n",
    "            outputs=logits.cpu().detach().numpy()    \n",
    "            outputs=np.argmax(outputs, axis=1)\n",
    "            trainpreds.extend(outputs)\n",
    "            \n",
    "            del logits,loss,outputs\n",
    "            _ = gc.collect()\n",
    "            torch.cuda.empty_cache()\n",
    "            \n",
    "            if USE_SCHEDULER:\n",
    "                if ((step+1) % 100 == 0 ):\n",
    "                    print(f\"lr:{scheduler.get_last_lr()[0]:.20f}\")\n",
    "                    le.append(scheduler.get_last_lr()[0])\n",
    "                    scheduler.step()\n",
    "                \n",
    "\n",
    "            if ((step+1) % int(len(train_dataloader)/3) == 0 ):\n",
    "                valtargets,valpreds,valloss=validate(model)\n",
    "                model.train()\n",
    "               \n",
    "                trainlosses_fold.append(total_loss/len(traintargets))\n",
    "                total_loss=0\n",
    "                vallosses_fold.append(valloss)\n",
    "                f1_weighted_fold.append(f1_score(valtargets, valpreds, average='weighted'))\n",
    "                if bestscore is None or round(bestscore,5) >= round(valloss,5):\n",
    "                    bestlostfound=True\n",
    "                    bestscore=valloss\n",
    "                    state = {\n",
    "                        'state_dict': model.state_dict(),\n",
    "                        'optimizer_dict': optimizer.state_dict(),\n",
    "                        'epoch':epoch,\n",
    "                        'step':step,\n",
    "                        'f1_weighted':f1_weighted_fold[-1],\n",
    "                        'trainlosses':trainlosses_fold[-1],\n",
    "                        'vallosses':vallosses_fold[-1]\n",
    "                                }\n",
    "\n",
    "                    best_valpredictions=valpreds\n",
    "                    bestCM_train['target'] =traintargets\n",
    "                    bestCM_train['pred'] =trainpreds\n",
    "                    bestCM_val['target'] =valtargets\n",
    "                    bestCM_val['pred'] =valpreds   \n",
    "                    print('f1 score:',f1_weighted_fold[-1])\n",
    "                    print('best_trainloss:',trainlosses_fold[-1])\n",
    "                    print('best_valoss:',vallosses_fold[-1])\n",
    "                    traintargets=[] # record only best \n",
    "                    trainpreds=[]  # record only best \n",
    "        \n",
    "                del valtargets,valpreds,valloss\n",
    "                _ = gc.collect()\n",
    "                torch.cuda.empty_cache()\n",
    "\n",
    "        del trainset,train_dataloader,traintargets,trainpreds\n",
    "        _ = gc.collect()\n",
    "        torch.cuda.empty_cache()\n",
    "        if bestlostfound == False:\n",
    "            break\n",
    "    print(\"saving\")\n",
    "    \n",
    "    fullpathOutput=\"{}/{}_e{}_v{:.3f}_fold{}\"\n",
    "    fullpathChkpt=fullpathOutput.format(OUT_BASEPATH,MODEL_NAME.split('/')[-1],epoch,state[\"vallosses\"],int(fold))\n",
    "    \n",
    "    torch.save(state, fullpathChkpt+\".pth\")\n",
    "    bestrecords=bestrecords.append({'fold': int(fold),\n",
    "                                'f1_weighted': state[\"f1_weighted\"],\n",
    "                                'vallosses': state[\"vallosses\"],\n",
    "                                'trainlosses':state[\"trainlosses\"],\n",
    "                               },\n",
    "                               ignore_index=True)   \n",
    "    display(bestrecords)\n",
    "    \n",
    "\n",
    "    fig, (ax1, ax2) = plt.subplots(1,2,figsize=(15,5))\n",
    "    \n",
    "    ax1.plot(trainlosses_fold,'r',label=\"trainlosses_fold\")\n",
    "    ax1.plot(vallosses_fold,'b',label=\"vallosses_fold\")\n",
    "    ax1.title.set_text(\"train vs val loss\")\n",
    "    ax1.legend(loc='center left', bbox_to_anchor=(2.5, 0.1))\n",
    "    ax2.title.set_text(f\"F1 score of {fold}\")\n",
    "    ax2.plot(f1_weighted_fold,'b',label=\"f1_weighted_fold\")\n",
    "    plt.show()\n",
    "    if USE_SCHEDULER:\n",
    "        plt.title(\"Learning rate\")\n",
    "        x = np.arange(len(le))\n",
    "        plt.plot(x,le)\n",
    "        plt.show()\n",
    "    doconfusion_matrix(bestCM_train['target'],bestCM_train['pred'],bestCM_val['target'],bestCM_val['pred']) \n",
    "   \n",
    "    valdata[\"predictions\"]=best_valpredictions\n",
    "    valdata.to_csv(fullpathChkpt+\".tsv\", sep=\"\\t\")\n",
    "    \n",
    "    del model,optimizer,tokenizer,state,vallosses_fold,valdata,trainlosses_fold,f1_weighted_fold\n",
    "    scaler\n",
    "    _ = gc.collect()\n",
    "    torch.cuda.empty_cache()\n",
    "    \n",
    "print(\"All CV loop finished.\")\n",
    "\n",
    "\n",
    "\n",
    "date = datetime.now().strftime(\"_%Y_%m_%d-%I:%M:%S_%p\")\n",
    "MODELPATH_R=OUT_BASEPATH+date\n",
    "print(MODELPATH_R)\n",
    "\n",
    "print(\"Training finished.\")\n",
    "os.rename(OUT_BASEPATH,MODELPATH_R)\n",
    "print(\"MODELPATH_R :\",MODELPATH_R)\n",
    "\n",
    "display(bestrecords)\n",
    "print(f\"Model mean cv valloss score {bestrecords['vallosses'].mean()}\")\n",
    "print(f\"Model mean cv f1 score {bestrecords['f1_weighted'].mean()}\")\n",
    "del bestrecords\n",
    "_ = gc.collect()\n",
    "torch.cuda.empty_cache()"
   ]
  },
  {
   "cell_type": "code",
   "execution_count": 6,
   "id": "bedef406",
   "metadata": {
    "execution": {
     "iopub.execute_input": "2021-11-10T03:43:18.488243Z",
     "iopub.status.busy": "2021-11-10T03:43:18.487358Z",
     "iopub.status.idle": "2021-11-10T03:43:18.490425Z",
     "shell.execute_reply": "2021-11-10T03:43:18.490918Z",
     "shell.execute_reply.started": "2021-11-10T02:30:08.674053Z"
    },
    "papermill": {
     "duration": 3.346792,
     "end_time": "2021-11-10T03:43:18.491067",
     "exception": false,
     "start_time": "2021-11-10T03:43:15.144275",
     "status": "completed"
    },
    "tags": []
   },
   "outputs": [
    {
     "data": {
      "text/plain": [
       "[1.5e-05,\n",
       " 1.4249999999999999e-05,\n",
       " 1.3537499999999999e-05,\n",
       " 1.2860624999999999e-05,\n",
       " 1.2217593749999998e-05,\n",
       " 1.1606714062499997e-05,\n",
       " 1.1026378359374997e-05,\n",
       " 1.0475059441406247e-05,\n",
       " 9.951306469335934e-06,\n",
       " 9.453741145869136e-06,\n",
       " 8.981054088575679e-06,\n",
       " 8.532001384146894e-06,\n",
       " 8.105401314939548e-06,\n",
       " 7.70013124919257e-06,\n",
       " 7.3151246867329415e-06,\n",
       " 6.949368452396294e-06,\n",
       " 6.601900029776479e-06,\n",
       " 6.271805028287655e-06]"
      ]
     },
     "execution_count": 6,
     "metadata": {},
     "output_type": "execute_result"
    }
   ],
   "source": [
    "le"
   ]
  },
  {
   "cell_type": "markdown",
   "id": "afe18704",
   "metadata": {
    "papermill": {
     "duration": 1.644343,
     "end_time": "2021-11-10T03:43:22.171354",
     "exception": false,
     "start_time": "2021-11-10T03:43:20.527011",
     "status": "completed"
    },
    "tags": []
   },
   "source": [
    "#### CHECK CREATED MODEL"
   ]
  },
  {
   "cell_type": "code",
   "execution_count": 7,
   "id": "5662ca25",
   "metadata": {
    "execution": {
     "iopub.execute_input": "2021-11-10T03:43:25.406870Z",
     "iopub.status.busy": "2021-11-10T03:43:25.405953Z",
     "iopub.status.idle": "2021-11-10T03:50:57.447153Z",
     "shell.execute_reply": "2021-11-10T03:50:57.446588Z",
     "shell.execute_reply.started": "2021-11-10T02:30:08.676354Z"
    },
    "papermill": {
     "duration": 453.648746,
     "end_time": "2021-11-10T03:50:57.447312",
     "exception": false,
     "start_time": "2021-11-10T03:43:23.798566",
     "status": "completed"
    },
    "tags": []
   },
   "outputs": [
    {
     "name": "stdout",
     "output_type": "stream",
     "text": [
      "1\n",
      "microsoft/deberta-base\n"
     ]
    },
    {
     "name": "stderr",
     "output_type": "stream",
     "text": [
      "Some weights of the model checkpoint at microsoft/deberta-base were not used when initializing DebertaForSequenceClassification: ['lm_predictions.lm_head.bias', 'lm_predictions.lm_head.dense.weight', 'lm_predictions.lm_head.dense.bias', 'lm_predictions.lm_head.LayerNorm.weight', 'lm_predictions.lm_head.LayerNorm.bias', 'config']\n",
      "- This IS expected if you are initializing DebertaForSequenceClassification from the checkpoint of a model trained on another task or with another architecture (e.g. initializing a BertForSequenceClassification model from a BertForPreTraining model).\n",
      "- This IS NOT expected if you are initializing DebertaForSequenceClassification from the checkpoint of a model that you expect to be exactly identical (initializing a BertForSequenceClassification model from a BertForSequenceClassification model).\n",
      "Some weights of DebertaForSequenceClassification were not initialized from the model checkpoint at microsoft/deberta-base and are newly initialized: ['pooler.dense.weight', 'pooler.dense.bias', 'classifier.weight', 'classifier.bias']\n",
      "You should probably TRAIN this model on a down-stream task to be able to use it for predictions and inference.\n"
     ]
    },
    {
     "name": "stdout",
     "output_type": "stream",
     "text": [
      "added new token:  ['[NSEP]']\n",
      "['[NSEP]'] 4 1.5e-05\n",
      "output/deberta-basemodel_2021_11_10-03:43:13_AM/deberta-base_e1_v0.045_fold1.pth\n"
     ]
    },
    {
     "name": "stderr",
     "output_type": "stream",
     "text": [
      "100%|██████████| 3555/3555 [02:14<00:00, 26.52it/s]\n"
     ]
    },
    {
     "name": "stdout",
     "output_type": "stream",
     "text": [
      "2\n",
      "microsoft/deberta-base\n"
     ]
    },
    {
     "name": "stderr",
     "output_type": "stream",
     "text": [
      "Some weights of the model checkpoint at microsoft/deberta-base were not used when initializing DebertaForSequenceClassification: ['lm_predictions.lm_head.bias', 'lm_predictions.lm_head.dense.weight', 'lm_predictions.lm_head.dense.bias', 'lm_predictions.lm_head.LayerNorm.weight', 'lm_predictions.lm_head.LayerNorm.bias', 'config']\n",
      "- This IS expected if you are initializing DebertaForSequenceClassification from the checkpoint of a model trained on another task or with another architecture (e.g. initializing a BertForSequenceClassification model from a BertForPreTraining model).\n",
      "- This IS NOT expected if you are initializing DebertaForSequenceClassification from the checkpoint of a model that you expect to be exactly identical (initializing a BertForSequenceClassification model from a BertForSequenceClassification model).\n",
      "Some weights of DebertaForSequenceClassification were not initialized from the model checkpoint at microsoft/deberta-base and are newly initialized: ['pooler.dense.weight', 'pooler.dense.bias', 'classifier.weight', 'classifier.bias']\n",
      "You should probably TRAIN this model on a down-stream task to be able to use it for predictions and inference.\n"
     ]
    },
    {
     "name": "stdout",
     "output_type": "stream",
     "text": [
      "added new token:  ['[NSEP]']\n",
      "['[NSEP]'] 4 1.5e-05\n",
      "output/deberta-basemodel_2021_11_10-03:43:13_AM/deberta-base_e1_v0.041_fold2.pth\n"
     ]
    },
    {
     "name": "stderr",
     "output_type": "stream",
     "text": [
      "100%|██████████| 3555/3555 [02:14<00:00, 26.38it/s]\n"
     ]
    },
    {
     "name": "stdout",
     "output_type": "stream",
     "text": [
      "3\n",
      "microsoft/deberta-base\n"
     ]
    },
    {
     "name": "stderr",
     "output_type": "stream",
     "text": [
      "Some weights of the model checkpoint at microsoft/deberta-base were not used when initializing DebertaForSequenceClassification: ['lm_predictions.lm_head.bias', 'lm_predictions.lm_head.dense.weight', 'lm_predictions.lm_head.dense.bias', 'lm_predictions.lm_head.LayerNorm.weight', 'lm_predictions.lm_head.LayerNorm.bias', 'config']\n",
      "- This IS expected if you are initializing DebertaForSequenceClassification from the checkpoint of a model trained on another task or with another architecture (e.g. initializing a BertForSequenceClassification model from a BertForPreTraining model).\n",
      "- This IS NOT expected if you are initializing DebertaForSequenceClassification from the checkpoint of a model that you expect to be exactly identical (initializing a BertForSequenceClassification model from a BertForSequenceClassification model).\n",
      "Some weights of DebertaForSequenceClassification were not initialized from the model checkpoint at microsoft/deberta-base and are newly initialized: ['pooler.dense.weight', 'pooler.dense.bias', 'classifier.weight', 'classifier.bias']\n",
      "You should probably TRAIN this model on a down-stream task to be able to use it for predictions and inference.\n"
     ]
    },
    {
     "name": "stdout",
     "output_type": "stream",
     "text": [
      "added new token:  ['[NSEP]']\n",
      "['[NSEP]'] 4 1.5e-05\n",
      "output/deberta-basemodel_2021_11_10-03:43:13_AM/deberta-base_e1_v0.058_fold3.pth\n"
     ]
    },
    {
     "name": "stderr",
     "output_type": "stream",
     "text": [
      "100%|██████████| 3555/3555 [02:13<00:00, 26.62it/s]\n"
     ]
    }
   ],
   "source": [
    "#TEST\n",
    "test=testdata.copy()\n",
    "bestrecords=pd.DataFrame(columns=[\"fold\",\"f1_weighted\",\"vallosses\"])\n",
    "\n",
    "for fold in CV_DICT.keys():\n",
    "    print(fold)\n",
    "    print(MODEL_NAME)\n",
    "    \n",
    "    tokenizer,model,optimizer= loadmodel(MODEL_NAME,specialtoken=SEPCIAL_TOKEN)\n",
    "    \n",
    "    if DEBUG:\n",
    "        MAX_LEN =400\n",
    "        test_params = {'batch_size': VALID_BATCH_SIZE,\n",
    "                        'pin_memory': True,\n",
    "                        'num_workers': 0\n",
    "                     }\n",
    "        test=test[:DEBUG_DATA_SIZE]\n",
    "    else:\n",
    "        data_collator = DataCollatorWithPadding(tokenizer=tokenizer)\n",
    "        test_params = {'batch_size': VALID_BATCH_SIZE,\n",
    "                        'pin_memory': True,\n",
    "                        'num_workers': 0,\n",
    "                      'collate_fn':data_collator\n",
    "                        }\n",
    "    testset = CustomDataset(test, tokenizer, MAX_LEN,labelexist=False)\n",
    "    \n",
    "    test_dataloader=DataLoader(testset,**test_params)\n",
    "    \n",
    "\n",
    "    modelpath =list(glob.glob(MODELPATH_R+\"/\"+\"*fold{}.pth\".format(fold)))[0]\n",
    "    print(modelpath)\n",
    "    checkpoint = torch.load(modelpath)\n",
    "\n",
    "    model.load_state_dict(checkpoint['state_dict'])\n",
    "\n",
    "    model.eval()\n",
    "\n",
    "    del modelpath,checkpoint\n",
    "    torch.cuda.empty_cache()\n",
    "    \n",
    "    logitsoutput=[]\n",
    "    with torch.no_grad():\n",
    "        for i,batch in enumerate(tqdm(test_dataloader)):\n",
    "            batch = {k: v.to(device) for k, v in batch.items()}\n",
    "            outputs = model(**batch)\n",
    "            logitsoutput.extend(outputs.logits.cpu().detach().numpy())\n",
    "            \n",
    "    test[f'logits{fold}']=logitsoutput\n",
    "    test[f'predictions{fold}']=test[f'logits{fold}'].apply(lambda x:x.argmax())\n",
    "    test[f'confidence{fold}']=test[f'logits{fold}'].apply(lambda x:np.array([torch.sigmoid(torch.tensor(i)).numpy()*100 for i in x ]))\n",
    "    del model\n",
    "    torch.cuda.empty_cache()\n",
    "    \n",
    "# fullpathOutput=\"{}/{}_e{}_v{:.3f}_fold{}\"\n",
    "# fullpathChkpt=fullpathOutput.format(OUT_BASEPATH,MODEL_NAME.split('/')[-1],epoch,state[\"vallosses\"],int(fold))\n",
    "\n",
    "# fullpathPreds=f\"{outputpath}/{modelname.split('/')[-1]}_testpreds.pkl\"\n",
    "# test.to_pickle(fullpathPreds)\n",
    "\n",
    "torch.save(test,f\"{MODEL_NAME.split('/')[-1]}_Testpreds.pkl\")\n",
    "test.to_csv(f\"{MODEL_NAME.split('/')[-1]}_Testpreds.tsv\", sep=\"\\t\",index=False)\n",
    "\n",
    "\n",
    "# # preds=pd.read_pickle(fullpathPreds)\n",
    "# logits_col = [col for col in test if col.startswith('logit')]\n",
    "# test['FNlogit']=sum(test[column].to_numpy() for column in test[logits_col])/len(logits_col)\n",
    "# test['FNprediction']=test['FNlogit'].apply(lambda x:x.argmax())\n",
    "# test['FNtop2class']=test['FNlogit'].apply(lambda x:x.argsort()[-2:][::-1])\n",
    "# test['FNftop2class']=test['FNlogit'].apply(lambda x:x.argsort()[-2:][::-1])\n",
    "# test['FNconfidences']=test['FNlogit'].apply(lambda x:np.array([torch.sigmoid(torch.tensor(i)).numpy()*100 for i in x ]))\n",
    "# test['FNtopconf2']=test['FNconfidences'].apply(lambda x:x[x.argsort()[-2:][::-1]])\n",
    "# test['FNpredconf']=test['FNtopconf2'].apply(lambda x:x[x.argmax()])\n",
    "\n",
    "# # preds.to_csv(\"final.tsv\", sep=\"\\t\",index=False)\n",
    "# test['FNcondiff']=test['FNtopconf2'].apply(lambda x:x[0]-x[1])\n",
    "# test.to_csv(f\"{MODEL_NAME.split('/')[-1]}_testpredictions.tsv\", sep=\"\\t\",index=False)\n",
    "\n",
    "# pred123=test[(test.FNprediction!=0) & (test.FNcondiff>15)& (test.FNpredconf>95)]\n",
    "# print(pred123.FNprediction.value_counts())\n",
    "# pred123.to_csv(f\"{MODEL_NAME.split('/')[-1]}_pseudolabels.tsv\", sep=\"\\t\",index=False)"
   ]
  },
  {
   "cell_type": "code",
   "execution_count": 8,
   "id": "cfc23b33",
   "metadata": {
    "execution": {
     "iopub.execute_input": "2021-11-10T03:51:02.422586Z",
     "iopub.status.busy": "2021-11-10T03:51:02.421744Z",
     "iopub.status.idle": "2021-11-10T03:51:02.460239Z",
     "shell.execute_reply": "2021-11-10T03:51:02.460722Z",
     "shell.execute_reply.started": "2021-11-10T02:30:08.678325Z"
    },
    "papermill": {
     "duration": 2.608379,
     "end_time": "2021-11-10T03:51:02.460890",
     "exception": false,
     "start_time": "2021-11-10T03:50:59.852511",
     "status": "completed"
    },
    "tags": []
   },
   "outputs": [],
   "source": [
    "test"
   ]
  },
  {
   "cell_type": "code",
   "execution_count": 9,
   "id": "10ffc10d",
   "metadata": {
    "execution": {
     "iopub.execute_input": "2021-11-10T03:51:07.107545Z",
     "iopub.status.busy": "2021-11-10T03:51:07.106501Z",
     "iopub.status.idle": "2021-11-10T03:51:52.840939Z",
     "shell.execute_reply": "2021-11-10T03:51:52.840252Z",
     "shell.execute_reply.started": "2021-11-10T02:30:08.680387Z"
    },
    "papermill": {
     "duration": 48.056524,
     "end_time": "2021-11-10T03:51:52.841085",
     "exception": false,
     "start_time": "2021-11-10T03:51:04.784561",
     "status": "completed"
    },
    "tags": []
   },
   "outputs": [
    {
     "name": "stdout",
     "output_type": "stream",
     "text": [
      "0:\n",
      "0    3743\n",
      "3    3102\n",
      "2     732\n",
      "1     311\n",
      "Name: label, dtype: int64\n",
      "------------\n",
      "1:\n",
      "0    3746\n",
      "3    3102\n",
      "2     732\n",
      "1     311\n",
      "Name: label, dtype: int64\n",
      "------------\n",
      "2:\n",
      "0    3757\n",
      "3    3100\n",
      "2     732\n",
      "1     311\n",
      "Name: label, dtype: int64\n",
      "------------\n",
      "3:\n",
      "0    3743\n",
      "3    3101\n",
      "2     732\n",
      "1     311\n",
      "Name: label, dtype: int64\n",
      "------------\n",
      "4:\n",
      "0    3748\n",
      "3    3102\n",
      "2     732\n",
      "1     311\n",
      "Name: label, dtype: int64\n",
      "------------\n"
     ]
    },
    {
     "name": "stderr",
     "output_type": "stream",
     "text": [
      "/opt/conda/lib/python3.7/site-packages/pandas/util/_decorators.py:311: SettingWithCopyWarning: \n",
      "A value is trying to be set on a copy of a slice from a DataFrame\n",
      "\n",
      "See the caveats in the documentation: https://pandas.pydata.org/pandas-docs/stable/user_guide/indexing.html#returning-a-view-versus-a-copy\n",
      "  return func(*args, **kwargs)\n"
     ]
    },
    {
     "data": {
      "text/plain": [
       "'len(traindatagp) :'"
      ]
     },
     "metadata": {},
     "output_type": "display_data"
    },
    {
     "data": {
      "text/plain": [
       "5"
      ]
     },
     "metadata": {},
     "output_type": "display_data"
    },
    {
     "name": "stdout",
     "output_type": "stream",
     "text": [
      "VALDATASET\n",
      "0    806\n",
      "3    403\n",
      "2     65\n",
      "1     20\n",
      "Name: label, dtype: int64\n"
     ]
    },
    {
     "name": "stdout",
     "output_type": "stream",
     "text": [
      "1\n",
      "microsoft/deberta-base\n",
      "validation data -> 1: ['Form10k_65', 'Form10k_44', 'Form10k_74', 'Form10k_01'] \n"
     ]
    },
    {
     "name": "stderr",
     "output_type": "stream",
     "text": [
      "Some weights of the model checkpoint at microsoft/deberta-base were not used when initializing DebertaForSequenceClassification: ['lm_predictions.lm_head.bias', 'lm_predictions.lm_head.dense.weight', 'lm_predictions.lm_head.dense.bias', 'lm_predictions.lm_head.LayerNorm.weight', 'lm_predictions.lm_head.LayerNorm.bias', 'config']\n",
      "- This IS expected if you are initializing DebertaForSequenceClassification from the checkpoint of a model trained on another task or with another architecture (e.g. initializing a BertForSequenceClassification model from a BertForPreTraining model).\n",
      "- This IS NOT expected if you are initializing DebertaForSequenceClassification from the checkpoint of a model that you expect to be exactly identical (initializing a BertForSequenceClassification model from a BertForSequenceClassification model).\n",
      "Some weights of DebertaForSequenceClassification were not initialized from the model checkpoint at microsoft/deberta-base and are newly initialized: ['pooler.dense.weight', 'pooler.dense.bias', 'classifier.weight', 'classifier.bias']\n",
      "You should probably TRAIN this model on a down-stream task to be able to use it for predictions and inference.\n"
     ]
    },
    {
     "name": "stdout",
     "output_type": "stream",
     "text": [
      "added new token:  ['[NSEP]']\n",
      "['[NSEP]'] 4 1.5e-05\n",
      "output/deberta-basemodel_2021_11_10-03:43:13_AM/deberta-base_e1_v0.045_fold1.pth\n"
     ]
    },
    {
     "name": "stderr",
     "output_type": "stream",
     "text": [
      "100%|██████████| 162/162 [00:06<00:00, 26.62it/s]\n"
     ]
    },
    {
     "data": {
      "text/html": [
       "<div>\n",
       "<style scoped>\n",
       "    .dataframe tbody tr th:only-of-type {\n",
       "        vertical-align: middle;\n",
       "    }\n",
       "\n",
       "    .dataframe tbody tr th {\n",
       "        vertical-align: top;\n",
       "    }\n",
       "\n",
       "    .dataframe thead th {\n",
       "        text-align: right;\n",
       "    }\n",
       "</style>\n",
       "<table border=\"1\" class=\"dataframe\">\n",
       "  <thead>\n",
       "    <tr style=\"text-align: right;\">\n",
       "      <th></th>\n",
       "      <th>fold</th>\n",
       "      <th>f1_weighted</th>\n",
       "      <th>vallosses</th>\n",
       "    </tr>\n",
       "  </thead>\n",
       "  <tbody>\n",
       "    <tr>\n",
       "      <th>0</th>\n",
       "      <td>1.0</td>\n",
       "      <td>0.941</td>\n",
       "      <td>0.184</td>\n",
       "    </tr>\n",
       "  </tbody>\n",
       "</table>\n",
       "</div>"
      ],
      "text/plain": [
       "   fold  f1_weighted  vallosses\n",
       "0   1.0        0.941      0.184"
      ]
     },
     "metadata": {},
     "output_type": "display_data"
    },
    {
     "data": {
      "image/png": "[encoded data removed]",
      "text/plain": [
       "<Figure size 640x480 with 2 Axes>"
      ]
     },
     "metadata": {},
     "output_type": "display_data"
    },
    {
     "name": "stdout",
     "output_type": "stream",
     "text": [
      "2\n",
      "microsoft/deberta-base\n",
      "validation data -> 2: ['Form10k_61', 'Form10k_22', 'Form10k_14', 'Form10k_23'] \n"
     ]
    },
    {
     "name": "stderr",
     "output_type": "stream",
     "text": [
      "Some weights of the model checkpoint at microsoft/deberta-base were not used when initializing DebertaForSequenceClassification: ['lm_predictions.lm_head.bias', 'lm_predictions.lm_head.dense.weight', 'lm_predictions.lm_head.dense.bias', 'lm_predictions.lm_head.LayerNorm.weight', 'lm_predictions.lm_head.LayerNorm.bias', 'config']\n",
      "- This IS expected if you are initializing DebertaForSequenceClassification from the checkpoint of a model trained on another task or with another architecture (e.g. initializing a BertForSequenceClassification model from a BertForPreTraining model).\n",
      "- This IS NOT expected if you are initializing DebertaForSequenceClassification from the checkpoint of a model that you expect to be exactly identical (initializing a BertForSequenceClassification model from a BertForSequenceClassification model).\n",
      "Some weights of DebertaForSequenceClassification were not initialized from the model checkpoint at microsoft/deberta-base and are newly initialized: ['pooler.dense.weight', 'pooler.dense.bias', 'classifier.weight', 'classifier.bias']\n",
      "You should probably TRAIN this model on a down-stream task to be able to use it for predictions and inference.\n"
     ]
    },
    {
     "name": "stdout",
     "output_type": "stream",
     "text": [
      "added new token:  ['[NSEP]']\n",
      "['[NSEP]'] 4 1.5e-05\n",
      "output/deberta-basemodel_2021_11_10-03:43:13_AM/deberta-base_e1_v0.041_fold2.pth\n"
     ]
    },
    {
     "name": "stderr",
     "output_type": "stream",
     "text": [
      "100%|██████████| 162/162 [00:06<00:00, 26.62it/s]\n"
     ]
    },
    {
     "data": {
      "text/html": [
       "<div>\n",
       "<style scoped>\n",
       "    .dataframe tbody tr th:only-of-type {\n",
       "        vertical-align: middle;\n",
       "    }\n",
       "\n",
       "    .dataframe tbody tr th {\n",
       "        vertical-align: top;\n",
       "    }\n",
       "\n",
       "    .dataframe thead th {\n",
       "        text-align: right;\n",
       "    }\n",
       "</style>\n",
       "<table border=\"1\" class=\"dataframe\">\n",
       "  <thead>\n",
       "    <tr style=\"text-align: right;\">\n",
       "      <th></th>\n",
       "      <th>fold</th>\n",
       "      <th>f1_weighted</th>\n",
       "      <th>vallosses</th>\n",
       "    </tr>\n",
       "  </thead>\n",
       "  <tbody>\n",
       "    <tr>\n",
       "      <th>0</th>\n",
       "      <td>1.0</td>\n",
       "      <td>0.941</td>\n",
       "      <td>0.184</td>\n",
       "    </tr>\n",
       "    <tr>\n",
       "      <th>1</th>\n",
       "      <td>2.0</td>\n",
       "      <td>0.941</td>\n",
       "      <td>0.199</td>\n",
       "    </tr>\n",
       "  </tbody>\n",
       "</table>\n",
       "</div>"
      ],
      "text/plain": [
       "   fold  f1_weighted  vallosses\n",
       "0   1.0        0.941      0.184\n",
       "1   2.0        0.941      0.199"
      ]
     },
     "metadata": {},
     "output_type": "display_data"
    },
    {
     "data": {
      "image/png": "[encoded data removed]",
      "text/plain": [
       "<Figure size 640x480 with 2 Axes>"
      ]
     },
     "metadata": {},
     "output_type": "display_data"
    },
    {
     "name": "stdout",
     "output_type": "stream",
     "text": [
      "3\n",
      "microsoft/deberta-base\n",
      "validation data -> 3: ['Form10k_63', 'Form10k_25', 'Form10k_34', 'Form10k_37'] \n"
     ]
    },
    {
     "name": "stderr",
     "output_type": "stream",
     "text": [
      "Some weights of the model checkpoint at microsoft/deberta-base were not used when initializing DebertaForSequenceClassification: ['lm_predictions.lm_head.bias', 'lm_predictions.lm_head.dense.weight', 'lm_predictions.lm_head.dense.bias', 'lm_predictions.lm_head.LayerNorm.weight', 'lm_predictions.lm_head.LayerNorm.bias', 'config']\n",
      "- This IS expected if you are initializing DebertaForSequenceClassification from the checkpoint of a model trained on another task or with another architecture (e.g. initializing a BertForSequenceClassification model from a BertForPreTraining model).\n",
      "- This IS NOT expected if you are initializing DebertaForSequenceClassification from the checkpoint of a model that you expect to be exactly identical (initializing a BertForSequenceClassification model from a BertForSequenceClassification model).\n",
      "Some weights of DebertaForSequenceClassification were not initialized from the model checkpoint at microsoft/deberta-base and are newly initialized: ['pooler.dense.weight', 'pooler.dense.bias', 'classifier.weight', 'classifier.bias']\n",
      "You should probably TRAIN this model on a down-stream task to be able to use it for predictions and inference.\n"
     ]
    },
    {
     "name": "stdout",
     "output_type": "stream",
     "text": [
      "added new token:  ['[NSEP]']\n",
      "['[NSEP]'] 4 1.5e-05\n",
      "output/deberta-basemodel_2021_11_10-03:43:13_AM/deberta-base_e1_v0.058_fold3.pth\n"
     ]
    },
    {
     "name": "stderr",
     "output_type": "stream",
     "text": [
      "100%|██████████| 162/162 [00:06<00:00, 23.42it/s]\n"
     ]
    },
    {
     "data": {
      "text/html": [
       "<div>\n",
       "<style scoped>\n",
       "    .dataframe tbody tr th:only-of-type {\n",
       "        vertical-align: middle;\n",
       "    }\n",
       "\n",
       "    .dataframe tbody tr th {\n",
       "        vertical-align: top;\n",
       "    }\n",
       "\n",
       "    .dataframe thead th {\n",
       "        text-align: right;\n",
       "    }\n",
       "</style>\n",
       "<table border=\"1\" class=\"dataframe\">\n",
       "  <thead>\n",
       "    <tr style=\"text-align: right;\">\n",
       "      <th></th>\n",
       "      <th>fold</th>\n",
       "      <th>f1_weighted</th>\n",
       "      <th>vallosses</th>\n",
       "    </tr>\n",
       "  </thead>\n",
       "  <tbody>\n",
       "    <tr>\n",
       "      <th>0</th>\n",
       "      <td>1.0</td>\n",
       "      <td>0.941</td>\n",
       "      <td>0.184</td>\n",
       "    </tr>\n",
       "    <tr>\n",
       "      <th>1</th>\n",
       "      <td>2.0</td>\n",
       "      <td>0.941</td>\n",
       "      <td>0.199</td>\n",
       "    </tr>\n",
       "    <tr>\n",
       "      <th>2</th>\n",
       "      <td>3.0</td>\n",
       "      <td>0.835</td>\n",
       "      <td>0.510</td>\n",
       "    </tr>\n",
       "  </tbody>\n",
       "</table>\n",
       "</div>"
      ],
      "text/plain": [
       "   fold  f1_weighted  vallosses\n",
       "0   1.0        0.941      0.184\n",
       "1   2.0        0.941      0.199\n",
       "2   3.0        0.835      0.510"
      ]
     },
     "metadata": {},
     "output_type": "display_data"
    },
    {
     "data": {
      "image/png": "[encoded data removed]",
      "text/plain": [
       "<Figure size 640x480 with 2 Axes>"
      ]
     },
     "metadata": {},
     "output_type": "display_data"
    }
   ],
   "source": [
    "# VAL\n",
    "bestrecords=pd.DataFrame(columns=[\"fold\",\"f1_weighted\",\"vallosses\"])\n",
    "_,valdata =loadData(fold)\n",
    "for fold in CV_DICT.keys():\n",
    "    print(fold)\n",
    "    print(MODEL_NAME)\n",
    "    print(f'validation data -> {fold}: {CV_DICT[fold]} ')\n",
    "    \n",
    "    tokenizer,model,optimizer= loadmodel(MODEL_NAME,specialtoken=SEPCIAL_TOKEN)\n",
    "    modelpath =list(glob.glob(MODELPATH_R+\"/\"+\"*fold{}.pth\".format(fold)))[0]\n",
    "    print(modelpath)\n",
    "    checkpoint = torch.load(modelpath)\n",
    "\n",
    "    model.load_state_dict(checkpoint['state_dict'])\n",
    "    optimizer.load_state_dict(checkpoint['optimizer_dict'])\n",
    "    model.eval()\n",
    "    \n",
    "\n",
    "    \n",
    "    if DEBUG:\n",
    "        MAX_LEN =400\n",
    "        val_params = {'batch_size': VALID_BATCH_SIZE,\n",
    "                        'num_workers': 0\n",
    "                     }\n",
    "        valdata=valdata[:DEBUG_DATA_SIZE]\n",
    "    else:\n",
    "        data_collator = DataCollatorWithPadding(tokenizer=tokenizer)\n",
    "        val_params = {'batch_size': VALID_BATCH_SIZE,\n",
    "                        'num_workers': 0,\n",
    "                      'collate_fn':data_collator\n",
    "                        }\n",
    "    trainset = CustomDataset(valdata, tokenizer, MAX_LEN)\n",
    "    \n",
    "    test_dataloader=DataLoader(trainset,**val_params)\n",
    "    del modelpath,checkpoint\n",
    "    torch.cuda.empty_cache()\n",
    "    \n",
    "    logitsoutput=[]\n",
    "    batchtargets=[]\n",
    "    batchoutputs=[]\n",
    "    batchloss=[]\n",
    "    \n",
    "    with torch.no_grad():\n",
    "        for i,batch in enumerate(tqdm(test_dataloader)):\n",
    "            batch = {k: v.to(device) for k, v in batch.items()}\n",
    "            outputs = model(**batch)\n",
    "            loss,logits=outputs[:2]\n",
    "            logitsoutput.extend(logits.cpu().detach().numpy())\n",
    "            \n",
    "            targets=batch['labels'].cpu().detach().numpy()\n",
    "            batchtargets.extend(targets)\n",
    "            \n",
    "            if USE_AML:\n",
    "                batchloss.append(loss.item()/ACCUMULATION_STEPS)\n",
    "            else:\n",
    "                batchloss.append(loss.item())\n",
    "\n",
    "            outputs=logits.cpu().detach().numpy()    \n",
    "            outputs=np.argmax(outputs, axis=1)\n",
    "            batchoutputs.extend(outputs)\n",
    "            \n",
    "    f1_socre= round(f1_score(batchtargets, batchoutputs, average='weighted'),3)        \n",
    "    loss=round(np.mean(batchloss),3)       \n",
    "    valdata[f'logits{fold}_f{f1_socre}_v{loss}']=logitsoutput\n",
    "    valdata[f'targets{fold}']=batchtargets\n",
    "    valdata[f'predictions{fold}']=test[f'logits{fold}'].apply(lambda x:x.argmax())\n",
    "    valdata[f'confidence{fold}']=test[f'logits{fold}'].apply(lambda x:np.array([torch.sigmoid(torch.tensor(i)).numpy()*100 for i in x ]))\n",
    "    \n",
    "    bestrecords=bestrecords.append({'fold': int(fold),\n",
    "                                'f1_weighted': f1_socre,\n",
    "                                'vallosses':loss,\n",
    "                               },\n",
    "                               ignore_index=True)   \n",
    "    display(bestrecords)\n",
    "    doconfusion_matrix_one(batchtargets,batchoutputs)         \n",
    "    \n",
    "\n",
    "    del model,optimizer\n",
    "    _= gc.collect()\n",
    "    torch.cuda.empty_cache()\n",
    "torch.save(valdata,f\"{MODEL_NAME.split('/')[-1]}_Valpreds.pkl\")\n",
    "valdata.to_csv(f\"{MODEL_NAME.split('/')[-1]}_Testpreds.tsv\", sep=\"\\t\",index=False)\n"
   ]
  },
  {
   "cell_type": "code",
   "execution_count": 10,
   "id": "87997128",
   "metadata": {
    "execution": {
     "iopub.execute_input": "2021-11-10T03:51:57.944507Z",
     "iopub.status.busy": "2021-11-10T03:51:57.925873Z",
     "iopub.status.idle": "2021-11-10T03:51:57.965911Z",
     "shell.execute_reply": "2021-11-10T03:51:57.966333Z",
     "shell.execute_reply.started": "2021-11-10T02:30:08.682451Z"
    },
    "papermill": {
     "duration": 2.715844,
     "end_time": "2021-11-10T03:51:57.966493",
     "exception": false,
     "start_time": "2021-11-10T03:51:55.250649",
     "status": "completed"
    },
    "tags": []
   },
   "outputs": [],
   "source": [
    "valdata"
   ]
  },
  {
   "cell_type": "markdown",
   "id": "33e13f18",
   "metadata": {
    "papermill": {
     "duration": 2.350475,
     "end_time": "2021-11-10T03:52:02.679902",
     "exception": false,
     "start_time": "2021-11-10T03:52:00.329427",
     "status": "completed"
    },
    "tags": []
   },
   "source": [
    "### Testdata"
   ]
  }
 ],
 "metadata": {
  "kernelspec": {
   "display_name": "Python 3",
   "language": "python",
   "name": "python3"
  },
  "language_info": {
   "codemirror_mode": {
    "name": "ipython",
    "version": 3
   },
   "file_extension": ".py",
   "mimetype": "text/x-python",
   "name": "python",
   "nbconvert_exporter": "python",
   "pygments_lexer": "ipython3",
   "version": "3.7.10"
  },
  "papermill": {
   "default_parameters": {},
   "duration": 4871.984644,
   "end_time": "2021-11-10T03:52:07.822919",
   "environment_variables": {},
   "exception": null,
   "input_path": "__notebook__.ipynb",
   "output_path": "__notebook__.ipynb",
   "parameters": {},
   "start_time": "2021-11-10T02:30:55.838275",
   "version": "2.3.3"
  },
  "widgets": {
   "application/vnd.jupyter.widget-state+json": {
    "state": {
     "00465308859e40ad94d55626d9cfe5d4": {
      "model_module": "@jupyter-widgets/base",
      "model_module_version": "1.2.0",
      "model_name": "LayoutModel",
      "state": {
       "_model_module": "@jupyter-widgets/base",
       "_model_module_version": "1.2.0",
       "_model_name": "LayoutModel",
       "_view_count": null,
       "_view_module": "@jupyter-widgets/base",
       "_view_module_version": "1.2.0",
       "_view_name": "LayoutView",
       "align_content": null,
       "align_items": null,
       "align_self": null,
       "border": null,
       "bottom": null,
       "display": null,
       "flex": null,
       "flex_flow": null,
       "grid_area": null,
       "grid_auto_columns": null,
       "grid_auto_flow": null,
       "grid_auto_rows": null,
       "grid_column": null,
       "grid_gap": null,
       "grid_row": null,
       "grid_template_areas": null,
       "grid_template_columns": null,
       "grid_template_rows": null,
       "height": null,
       "justify_content": null,
       "justify_items": null,
       "left": null,
       "margin": null,
       "max_height": null,
       "max_width": null,
       "min_height": null,
       "min_width": null,
       "object_fit": null,
       "object_position": null,
       "order": null,
       "overflow": null,
       "overflow_x": null,
       "overflow_y": null,
       "padding": null,
       "right": null,
       "top": null,
       "visibility": null,
       "width": null
      }
     },
     "0d2f63e0f69042ccb62f5f3ed78c083d": {
      "model_module": "@jupyter-widgets/controls",
      "model_module_version": "1.5.0",
      "model_name": "HTMLModel",
      "state": {
       "_dom_classes": [],
       "_model_module": "@jupyter-widgets/controls",
       "_model_module_version": "1.5.0",
       "_model_name": "HTMLModel",
       "_view_count": null,
       "_view_module": "@jupyter-widgets/controls",
       "_view_module_version": "1.5.0",
       "_view_name": "HTMLView",
       "description": "",
       "description_tooltip": null,
       "layout": "IPY_MODEL_fb9159989c5d4803abd9fcb2c29b61c7",
       "placeholder": "​",
       "style": "IPY_MODEL_33695f179545475f9c4b59efa3cfb207",
       "value": "Downloading: 100%"
      }
     },
     "1c9debd836144d2d94b706e98231f53b": {
      "model_module": "@jupyter-widgets/controls",
      "model_module_version": "1.5.0",
      "model_name": "DescriptionStyleModel",
      "state": {
       "_model_module": "@jupyter-widgets/controls",
       "_model_module_version": "1.5.0",
       "_model_name": "DescriptionStyleModel",
       "_view_count": null,
       "_view_module": "@jupyter-widgets/base",
       "_view_module_version": "1.2.0",
       "_view_name": "StyleView",
       "description_width": ""
      }
     },
     "1d3b09a5a4c844f9bcd62a2ad8575e0a": {
      "model_module": "@jupyter-widgets/base",
      "model_module_version": "1.2.0",
      "model_name": "LayoutModel",
      "state": {
       "_model_module": "@jupyter-widgets/base",
       "_model_module_version": "1.2.0",
       "_model_name": "LayoutModel",
       "_view_count": null,
       "_view_module": "@jupyter-widgets/base",
       "_view_module_version": "1.2.0",
       "_view_name": "LayoutView",
       "align_content": null,
       "align_items": null,
       "align_self": null,
       "border": null,
       "bottom": null,
       "display": null,
       "flex": null,
       "flex_flow": null,
       "grid_area": null,
       "grid_auto_columns": null,
       "grid_auto_flow": null,
       "grid_auto_rows": null,
       "grid_column": null,
       "grid_gap": null,
       "grid_row": null,
       "grid_template_areas": null,
       "grid_template_columns": null,
       "grid_template_rows": null,
       "height": null,
       "justify_content": null,
       "justify_items": null,
       "left": null,
       "margin": null,
       "max_height": null,
       "max_width": null,
       "min_height": null,
       "min_width": null,
       "object_fit": null,
       "object_position": null,
       "order": null,
       "overflow": null,
       "overflow_x": null,
       "overflow_y": null,
       "padding": null,
       "right": null,
       "top": null,
       "visibility": null,
       "width": null
      }
     },
     "1f4823b6dc9d409a9106ef6846ed8b51": {
      "model_module": "@jupyter-widgets/base",
      "model_module_version": "1.2.0",
      "model_name": "LayoutModel",
      "state": {
       "_model_module": "@jupyter-widgets/base",
       "_model_module_version": "1.2.0",
       "_model_name": "LayoutModel",
       "_view_count": null,
       "_view_module": "@jupyter-widgets/base",
       "_view_module_version": "1.2.0",
       "_view_name": "LayoutView",
       "align_content": null,
       "align_items": null,
       "align_self": null,
       "border": null,
       "bottom": null,
       "display": null,
       "flex": null,
       "flex_flow": null,
       "grid_area": null,
       "grid_auto_columns": null,
       "grid_auto_flow": null,
       "grid_auto_rows": null,
       "grid_column": null,
       "grid_gap": null,
       "grid_row": null,
       "grid_template_areas": null,
       "grid_template_columns": null,
       "grid_template_rows": null,
       "height": null,
       "justify_content": null,
       "justify_items": null,
       "left": null,
       "margin": null,
       "max_height": null,
       "max_width": null,
       "min_height": null,
       "min_width": null,
       "object_fit": null,
       "object_position": null,
       "order": null,
       "overflow": null,
       "overflow_x": null,
       "overflow_y": null,
       "padding": null,
       "right": null,
       "top": null,
       "visibility": null,
       "width": null
      }
     },
     "21edca33afc8438e8fe41b3ca3e61387": {
      "model_module": "@jupyter-widgets/controls",
      "model_module_version": "1.5.0",
      "model_name": "ProgressStyleModel",
      "state": {
       "_model_module": "@jupyter-widgets/controls",
       "_model_module_version": "1.5.0",
       "_model_name": "ProgressStyleModel",
       "_view_count": null,
       "_view_module": "@jupyter-widgets/base",
       "_view_module_version": "1.2.0",
       "_view_name": "StyleView",
       "bar_color": null,
       "description_width": ""
      }
     },
     "241dc3269d304323b4407cfb6e6b9dd6": {
      "model_module": "@jupyter-widgets/controls",
      "model_module_version": "1.5.0",
      "model_name": "DescriptionStyleModel",
      "state": {
       "_model_module": "@jupyter-widgets/controls",
       "_model_module_version": "1.5.0",
       "_model_name": "DescriptionStyleModel",
       "_view_count": null,
       "_view_module": "@jupyter-widgets/base",
       "_view_module_version": "1.2.0",
       "_view_name": "StyleView",
       "description_width": ""
      }
     },
     "298fe4efcbaf4d1a8dd41b6c4e6c4e86": {
      "model_module": "@jupyter-widgets/base",
      "model_module_version": "1.2.0",
      "model_name": "LayoutModel",
      "state": {
       "_model_module": "@jupyter-widgets/base",
       "_model_module_version": "1.2.0",
       "_model_name": "LayoutModel",
       "_view_count": null,
       "_view_module": "@jupyter-widgets/base",
       "_view_module_version": "1.2.0",
       "_view_name": "LayoutView",
       "align_content": null,
       "align_items": null,
       "align_self": null,
       "border": null,
       "bottom": null,
       "display": null,
       "flex": null,
       "flex_flow": null,
       "grid_area": null,
       "grid_auto_columns": null,
       "grid_auto_flow": null,
       "grid_auto_rows": null,
       "grid_column": null,
       "grid_gap": null,
       "grid_row": null,
       "grid_template_areas": null,
       "grid_template_columns": null,
       "grid_template_rows": null,
       "height": null,
       "justify_content": null,
       "justify_items": null,
       "left": null,
       "margin": null,
       "max_height": null,
       "max_width": null,
       "min_height": null,
       "min_width": null,
       "object_fit": null,
       "object_position": null,
       "order": null,
       "overflow": null,
       "overflow_x": null,
       "overflow_y": null,
       "padding": null,
       "right": null,
       "top": null,
       "visibility": null,
       "width": null
      }
     },
     "29e495f436224cddaa0cbfda86ba2841": {
      "model_module": "@jupyter-widgets/controls",
      "model_module_version": "1.5.0",
      "model_name": "HTMLModel",
      "state": {
       "_dom_classes": [],
       "_model_module": "@jupyter-widgets/controls",
       "_model_module_version": "1.5.0",
       "_model_name": "HTMLModel",
       "_view_count": null,
       "_view_module": "@jupyter-widgets/controls",
       "_view_module_version": "1.5.0",
       "_view_name": "HTMLView",
       "description": "",
       "description_tooltip": null,
       "layout": "IPY_MODEL_fbbcfe52ad1a44f28353e611ac10e4c6",
       "placeholder": "​",
       "style": "IPY_MODEL_c5efd1c4e90147a492eeb4611c063f8c",
       "value": "Downloading: 100%"
      }
     },
     "2ed5448e7c1746ddb97e3492efe1fb0f": {
      "model_module": "@jupyter-widgets/base",
      "model_module_version": "1.2.0",
      "model_name": "LayoutModel",
      "state": {
       "_model_module": "@jupyter-widgets/base",
       "_model_module_version": "1.2.0",
       "_model_name": "LayoutModel",
       "_view_count": null,
       "_view_module": "@jupyter-widgets/base",
       "_view_module_version": "1.2.0",
       "_view_name": "LayoutView",
       "align_content": null,
       "align_items": null,
       "align_self": null,
       "border": null,
       "bottom": null,
       "display": null,
       "flex": null,
       "flex_flow": null,
       "grid_area": null,
       "grid_auto_columns": null,
       "grid_auto_flow": null,
       "grid_auto_rows": null,
       "grid_column": null,
       "grid_gap": null,
       "grid_row": null,
       "grid_template_areas": null,
       "grid_template_columns": null,
       "grid_template_rows": null,
       "height": null,
       "justify_content": null,
       "justify_items": null,
       "left": null,
       "margin": null,
       "max_height": null,
       "max_width": null,
       "min_height": null,
       "min_width": null,
       "object_fit": null,
       "object_position": null,
       "order": null,
       "overflow": null,
       "overflow_x": null,
       "overflow_y": null,
       "padding": null,
       "right": null,
       "top": null,
       "visibility": null,
       "width": null
      }
     },
     "33695f179545475f9c4b59efa3cfb207": {
      "model_module": "@jupyter-widgets/controls",
      "model_module_version": "1.5.0",
      "model_name": "DescriptionStyleModel",
      "state": {
       "_model_module": "@jupyter-widgets/controls",
       "_model_module_version": "1.5.0",
       "_model_name": "DescriptionStyleModel",
       "_view_count": null,
       "_view_module": "@jupyter-widgets/base",
       "_view_module_version": "1.2.0",
       "_view_name": "StyleView",
       "description_width": ""
      }
     },
     "3819026776474c7baa49822b8f958608": {
      "model_module": "@jupyter-widgets/controls",
      "model_module_version": "1.5.0",
      "model_name": "HBoxModel",
      "state": {
       "_dom_classes": [],
       "_model_module": "@jupyter-widgets/controls",
       "_model_module_version": "1.5.0",
       "_model_name": "HBoxModel",
       "_view_count": null,
       "_view_module": "@jupyter-widgets/controls",
       "_view_module_version": "1.5.0",
       "_view_name": "HBoxView",
       "box_style": "",
       "children": [
        "IPY_MODEL_3a3e71bf383b4e879f08db9e5abd2dc3",
        "IPY_MODEL_9a3947b7d2314232a72de76533fd18f1",
        "IPY_MODEL_cbc7c308209b4be082266f88faac3e4c"
       ],
       "layout": "IPY_MODEL_1f4823b6dc9d409a9106ef6846ed8b51"
      }
     },
     "382471929b3d4bdea22b5b2e1a14bbfa": {
      "model_module": "@jupyter-widgets/controls",
      "model_module_version": "1.5.0",
      "model_name": "DescriptionStyleModel",
      "state": {
       "_model_module": "@jupyter-widgets/controls",
       "_model_module_version": "1.5.0",
       "_model_name": "DescriptionStyleModel",
       "_view_count": null,
       "_view_module": "@jupyter-widgets/base",
       "_view_module_version": "1.2.0",
       "_view_name": "StyleView",
       "description_width": ""
      }
     },
     "391364d2a1314694a94473b866a97851": {
      "model_module": "@jupyter-widgets/base",
      "model_module_version": "1.2.0",
      "model_name": "LayoutModel",
      "state": {
       "_model_module": "@jupyter-widgets/base",
       "_model_module_version": "1.2.0",
       "_model_name": "LayoutModel",
       "_view_count": null,
       "_view_module": "@jupyter-widgets/base",
       "_view_module_version": "1.2.0",
       "_view_name": "LayoutView",
       "align_content": null,
       "align_items": null,
       "align_self": null,
       "border": null,
       "bottom": null,
       "display": null,
       "flex": null,
       "flex_flow": null,
       "grid_area": null,
       "grid_auto_columns": null,
       "grid_auto_flow": null,
       "grid_auto_rows": null,
       "grid_column": null,
       "grid_gap": null,
       "grid_row": null,
       "grid_template_areas": null,
       "grid_template_columns": null,
       "grid_template_rows": null,
       "height": null,
       "justify_content": null,
       "justify_items": null,
       "left": null,
       "margin": null,
       "max_height": null,
       "max_width": null,
       "min_height": null,
       "min_width": null,
       "object_fit": null,
       "object_position": null,
       "order": null,
       "overflow": null,
       "overflow_x": null,
       "overflow_y": null,
       "padding": null,
       "right": null,
       "top": null,
       "visibility": null,
       "width": null
      }
     },
     "3a3e71bf383b4e879f08db9e5abd2dc3": {
      "model_module": "@jupyter-widgets/controls",
      "model_module_version": "1.5.0",
      "model_name": "HTMLModel",
      "state": {
       "_dom_classes": [],
       "_model_module": "@jupyter-widgets/controls",
       "_model_module_version": "1.5.0",
       "_model_name": "HTMLModel",
       "_view_count": null,
       "_view_module": "@jupyter-widgets/controls",
       "_view_module_version": "1.5.0",
       "_view_name": "HTMLView",
       "description": "",
       "description_tooltip": null,
       "layout": "IPY_MODEL_6001eb47ecb945ab88a7c825706b8b69",
       "placeholder": "​",
       "style": "IPY_MODEL_77ecd34b30474c828b46d864df1bc2de",
       "value": "Downloading: 100%"
      }
     },
     "3cb9724fbdfa4300b9b567b4fc74bce0": {
      "model_module": "@jupyter-widgets/base",
      "model_module_version": "1.2.0",
      "model_name": "LayoutModel",
      "state": {
       "_model_module": "@jupyter-widgets/base",
       "_model_module_version": "1.2.0",
       "_model_name": "LayoutModel",
       "_view_count": null,
       "_view_module": "@jupyter-widgets/base",
       "_view_module_version": "1.2.0",
       "_view_name": "LayoutView",
       "align_content": null,
       "align_items": null,
       "align_self": null,
       "border": null,
       "bottom": null,
       "display": null,
       "flex": null,
       "flex_flow": null,
       "grid_area": null,
       "grid_auto_columns": null,
       "grid_auto_flow": null,
       "grid_auto_rows": null,
       "grid_column": null,
       "grid_gap": null,
       "grid_row": null,
       "grid_template_areas": null,
       "grid_template_columns": null,
       "grid_template_rows": null,
       "height": null,
       "justify_content": null,
       "justify_items": null,
       "left": null,
       "margin": null,
       "max_height": null,
       "max_width": null,
       "min_height": null,
       "min_width": null,
       "object_fit": null,
       "object_position": null,
       "order": null,
       "overflow": null,
       "overflow_x": null,
       "overflow_y": null,
       "padding": null,
       "right": null,
       "top": null,
       "visibility": null,
       "width": null
      }
     },
     "4128883632814198b6f6b2b9c1532323": {
      "model_module": "@jupyter-widgets/controls",
      "model_module_version": "1.5.0",
      "model_name": "ProgressStyleModel",
      "state": {
       "_model_module": "@jupyter-widgets/controls",
       "_model_module_version": "1.5.0",
       "_model_name": "ProgressStyleModel",
       "_view_count": null,
       "_view_module": "@jupyter-widgets/base",
       "_view_module_version": "1.2.0",
       "_view_name": "StyleView",
       "bar_color": null,
       "description_width": ""
      }
     },
     "501bee3e4416459caeeac6ce0566067b": {
      "model_module": "@jupyter-widgets/controls",
      "model_module_version": "1.5.0",
      "model_name": "DescriptionStyleModel",
      "state": {
       "_model_module": "@jupyter-widgets/controls",
       "_model_module_version": "1.5.0",
       "_model_name": "DescriptionStyleModel",
       "_view_count": null,
       "_view_module": "@jupyter-widgets/base",
       "_view_module_version": "1.2.0",
       "_view_name": "StyleView",
       "description_width": ""
      }
     },
     "508cadfc59f84f7ab0132b4133b85d5b": {
      "model_module": "@jupyter-widgets/base",
      "model_module_version": "1.2.0",
      "model_name": "LayoutModel",
      "state": {
       "_model_module": "@jupyter-widgets/base",
       "_model_module_version": "1.2.0",
       "_model_name": "LayoutModel",
       "_view_count": null,
       "_view_module": "@jupyter-widgets/base",
       "_view_module_version": "1.2.0",
       "_view_name": "LayoutView",
       "align_content": null,
       "align_items": null,
       "align_self": null,
       "border": null,
       "bottom": null,
       "display": null,
       "flex": null,
       "flex_flow": null,
       "grid_area": null,
       "grid_auto_columns": null,
       "grid_auto_flow": null,
       "grid_auto_rows": null,
       "grid_column": null,
       "grid_gap": null,
       "grid_row": null,
       "grid_template_areas": null,
       "grid_template_columns": null,
       "grid_template_rows": null,
       "height": null,
       "justify_content": null,
       "justify_items": null,
       "left": null,
       "margin": null,
       "max_height": null,
       "max_width": null,
       "min_height": null,
       "min_width": null,
       "object_fit": null,
       "object_position": null,
       "order": null,
       "overflow": null,
       "overflow_x": null,
       "overflow_y": null,
       "padding": null,
       "right": null,
       "top": null,
       "visibility": null,
       "width": null
      }
     },
     "51de1fdf63644b809793ae7f4c334c80": {
      "model_module": "@jupyter-widgets/controls",
      "model_module_version": "1.5.0",
      "model_name": "FloatProgressModel",
      "state": {
       "_dom_classes": [],
       "_model_module": "@jupyter-widgets/controls",
       "_model_module_version": "1.5.0",
       "_model_name": "FloatProgressModel",
       "_view_count": null,
       "_view_module": "@jupyter-widgets/controls",
       "_view_module_version": "1.5.0",
       "_view_name": "ProgressView",
       "bar_style": "success",
       "description": "",
       "description_tooltip": null,
       "layout": "IPY_MODEL_1d3b09a5a4c844f9bcd62a2ad8575e0a",
       "max": 456318,
       "min": 0,
       "orientation": "horizontal",
       "style": "IPY_MODEL_4128883632814198b6f6b2b9c1532323",
       "value": 456318
      }
     },
     "5b97d29760344d87bae024638f2a8c71": {
      "model_module": "@jupyter-widgets/base",
      "model_module_version": "1.2.0",
      "model_name": "LayoutModel",
      "state": {
       "_model_module": "@jupyter-widgets/base",
       "_model_module_version": "1.2.0",
       "_model_name": "LayoutModel",
       "_view_count": null,
       "_view_module": "@jupyter-widgets/base",
       "_view_module_version": "1.2.0",
       "_view_name": "LayoutView",
       "align_content": null,
       "align_items": null,
       "align_self": null,
       "border": null,
       "bottom": null,
       "display": null,
       "flex": null,
       "flex_flow": null,
       "grid_area": null,
       "grid_auto_columns": null,
       "grid_auto_flow": null,
       "grid_auto_rows": null,
       "grid_column": null,
       "grid_gap": null,
       "grid_row": null,
       "grid_template_areas": null,
       "grid_template_columns": null,
       "grid_template_rows": null,
       "height": null,
       "justify_content": null,
       "justify_items": null,
       "left": null,
       "margin": null,
       "max_height": null,
       "max_width": null,
       "min_height": null,
       "min_width": null,
       "object_fit": null,
       "object_position": null,
       "order": null,
       "overflow": null,
       "overflow_x": null,
       "overflow_y": null,
       "padding": null,
       "right": null,
       "top": null,
       "visibility": null,
       "width": null
      }
     },
     "6001eb47ecb945ab88a7c825706b8b69": {
      "model_module": "@jupyter-widgets/base",
      "model_module_version": "1.2.0",
      "model_name": "LayoutModel",
      "state": {
       "_model_module": "@jupyter-widgets/base",
       "_model_module_version": "1.2.0",
       "_model_name": "LayoutModel",
       "_view_count": null,
       "_view_module": "@jupyter-widgets/base",
       "_view_module_version": "1.2.0",
       "_view_name": "LayoutView",
       "align_content": null,
       "align_items": null,
       "align_self": null,
       "border": null,
       "bottom": null,
       "display": null,
       "flex": null,
       "flex_flow": null,
       "grid_area": null,
       "grid_auto_columns": null,
       "grid_auto_flow": null,
       "grid_auto_rows": null,
       "grid_column": null,
       "grid_gap": null,
       "grid_row": null,
       "grid_template_areas": null,
       "grid_template_columns": null,
       "grid_template_rows": null,
       "height": null,
       "justify_content": null,
       "justify_items": null,
       "left": null,
       "margin": null,
       "max_height": null,
       "max_width": null,
       "min_height": null,
       "min_width": null,
       "object_fit": null,
       "object_position": null,
       "order": null,
       "overflow": null,
       "overflow_x": null,
       "overflow_y": null,
       "padding": null,
       "right": null,
       "top": null,
       "visibility": null,
       "width": null
      }
     },
     "60a689e5b70f4469af32182ce916798a": {
      "model_module": "@jupyter-widgets/controls",
      "model_module_version": "1.5.0",
      "model_name": "HTMLModel",
      "state": {
       "_dom_classes": [],
       "_model_module": "@jupyter-widgets/controls",
       "_model_module_version": "1.5.0",
       "_model_name": "HTMLModel",
       "_view_count": null,
       "_view_module": "@jupyter-widgets/controls",
       "_view_module_version": "1.5.0",
       "_view_name": "HTMLView",
       "description": "",
       "description_tooltip": null,
       "layout": "IPY_MODEL_298fe4efcbaf4d1a8dd41b6c4e6c4e86",
       "placeholder": "​",
       "style": "IPY_MODEL_b399e669c5ce477dbb23707f5350d973",
       "value": " 899k/899k [00:00&lt;00:00, 3.85MB/s]"
      }
     },
     "674918330a6646828701db26130a7a5b": {
      "model_module": "@jupyter-widgets/controls",
      "model_module_version": "1.5.0",
      "model_name": "HTMLModel",
      "state": {
       "_dom_classes": [],
       "_model_module": "@jupyter-widgets/controls",
       "_model_module_version": "1.5.0",
       "_model_name": "HTMLModel",
       "_view_count": null,
       "_view_module": "@jupyter-widgets/controls",
       "_view_module_version": "1.5.0",
       "_view_name": "HTMLView",
       "description": "",
       "description_tooltip": null,
       "layout": "IPY_MODEL_de566352d4c94d1199034ad72d3f0c74",
       "placeholder": "​",
       "style": "IPY_MODEL_501bee3e4416459caeeac6ce0566067b",
       "value": " 52.0/52.0 [00:00&lt;00:00, 1.72kB/s]"
      }
     },
     "6a7ce1a36462451ab12e3623c60137ed": {
      "model_module": "@jupyter-widgets/base",
      "model_module_version": "1.2.0",
      "model_name": "LayoutModel",
      "state": {
       "_model_module": "@jupyter-widgets/base",
       "_model_module_version": "1.2.0",
       "_model_name": "LayoutModel",
       "_view_count": null,
       "_view_module": "@jupyter-widgets/base",
       "_view_module_version": "1.2.0",
       "_view_name": "LayoutView",
       "align_content": null,
       "align_items": null,
       "align_self": null,
       "border": null,
       "bottom": null,
       "display": null,
       "flex": null,
       "flex_flow": null,
       "grid_area": null,
       "grid_auto_columns": null,
       "grid_auto_flow": null,
       "grid_auto_rows": null,
       "grid_column": null,
       "grid_gap": null,
       "grid_row": null,
       "grid_template_areas": null,
       "grid_template_columns": null,
       "grid_template_rows": null,
       "height": null,
       "justify_content": null,
       "justify_items": null,
       "left": null,
       "margin": null,
       "max_height": null,
       "max_width": null,
       "min_height": null,
       "min_width": null,
       "object_fit": null,
       "object_position": null,
       "order": null,
       "overflow": null,
       "overflow_x": null,
       "overflow_y": null,
       "padding": null,
       "right": null,
       "top": null,
       "visibility": null,
       "width": null
      }
     },
     "6ce655bd0ed94c98a4b5e3f4b5e6dd76": {
      "model_module": "@jupyter-widgets/controls",
      "model_module_version": "1.5.0",
      "model_name": "DescriptionStyleModel",
      "state": {
       "_model_module": "@jupyter-widgets/controls",
       "_model_module_version": "1.5.0",
       "_model_name": "DescriptionStyleModel",
       "_view_count": null,
       "_view_module": "@jupyter-widgets/base",
       "_view_module_version": "1.2.0",
       "_view_name": "StyleView",
       "description_width": ""
      }
     },
     "779ca7b394b544dfbb5b6acbd7865e98": {
      "model_module": "@jupyter-widgets/controls",
      "model_module_version": "1.5.0",
      "model_name": "HBoxModel",
      "state": {
       "_dom_classes": [],
       "_model_module": "@jupyter-widgets/controls",
       "_model_module_version": "1.5.0",
       "_model_name": "HBoxModel",
       "_view_count": null,
       "_view_module": "@jupyter-widgets/controls",
       "_view_module_version": "1.5.0",
       "_view_name": "HBoxView",
       "box_style": "",
       "children": [
        "IPY_MODEL_0d2f63e0f69042ccb62f5f3ed78c083d",
        "IPY_MODEL_c4e68fcd8dcb4694ad7d92abfc6cfe1e",
        "IPY_MODEL_674918330a6646828701db26130a7a5b"
       ],
       "layout": "IPY_MODEL_d003078a84b049afbc0db90baae58b61"
      }
     },
     "77ecd34b30474c828b46d864df1bc2de": {
      "model_module": "@jupyter-widgets/controls",
      "model_module_version": "1.5.0",
      "model_name": "DescriptionStyleModel",
      "state": {
       "_model_module": "@jupyter-widgets/controls",
       "_model_module_version": "1.5.0",
       "_model_name": "DescriptionStyleModel",
       "_view_count": null,
       "_view_module": "@jupyter-widgets/base",
       "_view_module_version": "1.2.0",
       "_view_name": "StyleView",
       "description_width": ""
      }
     },
     "7aade2413dee4d97b12ed3d6ba252fc0": {
      "model_module": "@jupyter-widgets/base",
      "model_module_version": "1.2.0",
      "model_name": "LayoutModel",
      "state": {
       "_model_module": "@jupyter-widgets/base",
       "_model_module_version": "1.2.0",
       "_model_name": "LayoutModel",
       "_view_count": null,
       "_view_module": "@jupyter-widgets/base",
       "_view_module_version": "1.2.0",
       "_view_name": "LayoutView",
       "align_content": null,
       "align_items": null,
       "align_self": null,
       "border": null,
       "bottom": null,
       "display": null,
       "flex": null,
       "flex_flow": null,
       "grid_area": null,
       "grid_auto_columns": null,
       "grid_auto_flow": null,
       "grid_auto_rows": null,
       "grid_column": null,
       "grid_gap": null,
       "grid_row": null,
       "grid_template_areas": null,
       "grid_template_columns": null,
       "grid_template_rows": null,
       "height": null,
       "justify_content": null,
       "justify_items": null,
       "left": null,
       "margin": null,
       "max_height": null,
       "max_width": null,
       "min_height": null,
       "min_width": null,
       "object_fit": null,
       "object_position": null,
       "order": null,
       "overflow": null,
       "overflow_x": null,
       "overflow_y": null,
       "padding": null,
       "right": null,
       "top": null,
       "visibility": null,
       "width": null
      }
     },
     "7b4d8aff6a4149a19744078deea30207": {
      "model_module": "@jupyter-widgets/controls",
      "model_module_version": "1.5.0",
      "model_name": "HTMLModel",
      "state": {
       "_dom_classes": [],
       "_model_module": "@jupyter-widgets/controls",
       "_model_module_version": "1.5.0",
       "_model_name": "HTMLModel",
       "_view_count": null,
       "_view_module": "@jupyter-widgets/controls",
       "_view_module_version": "1.5.0",
       "_view_name": "HTMLView",
       "description": "",
       "description_tooltip": null,
       "layout": "IPY_MODEL_879e6784c1d1414fa788c4ffffff9da4",
       "placeholder": "​",
       "style": "IPY_MODEL_dc7dd38791fd4af68e483b2f46794ddc",
       "value": " 456k/456k [00:00&lt;00:00, 4.07MB/s]"
      }
     },
     "879e6784c1d1414fa788c4ffffff9da4": {
      "model_module": "@jupyter-widgets/base",
      "model_module_version": "1.2.0",
      "model_name": "LayoutModel",
      "state": {
       "_model_module": "@jupyter-widgets/base",
       "_model_module_version": "1.2.0",
       "_model_name": "LayoutModel",
       "_view_count": null,
       "_view_module": "@jupyter-widgets/base",
       "_view_module_version": "1.2.0",
       "_view_name": "LayoutView",
       "align_content": null,
       "align_items": null,
       "align_self": null,
       "border": null,
       "bottom": null,
       "display": null,
       "flex": null,
       "flex_flow": null,
       "grid_area": null,
       "grid_auto_columns": null,
       "grid_auto_flow": null,
       "grid_auto_rows": null,
       "grid_column": null,
       "grid_gap": null,
       "grid_row": null,
       "grid_template_areas": null,
       "grid_template_columns": null,
       "grid_template_rows": null,
       "height": null,
       "justify_content": null,
       "justify_items": null,
       "left": null,
       "margin": null,
       "max_height": null,
       "max_width": null,
       "min_height": null,
       "min_width": null,
       "object_fit": null,
       "object_position": null,
       "order": null,
       "overflow": null,
       "overflow_x": null,
       "overflow_y": null,
       "padding": null,
       "right": null,
       "top": null,
       "visibility": null,
       "width": null
      }
     },
     "8f7a0c7698c54652a3449cefe497f0c4": {
      "model_module": "@jupyter-widgets/controls",
      "model_module_version": "1.5.0",
      "model_name": "HTMLModel",
      "state": {
       "_dom_classes": [],
       "_model_module": "@jupyter-widgets/controls",
       "_model_module_version": "1.5.0",
       "_model_name": "HTMLModel",
       "_view_count": null,
       "_view_module": "@jupyter-widgets/controls",
       "_view_module_version": "1.5.0",
       "_view_name": "HTMLView",
       "description": "",
       "description_tooltip": null,
       "layout": "IPY_MODEL_f12191ad86bd403c890348ef56bf36e8",
       "placeholder": "​",
       "style": "IPY_MODEL_241dc3269d304323b4407cfb6e6b9dd6",
       "value": " 474/474 [00:00&lt;00:00, 19.0kB/s]"
      }
     },
     "9a3947b7d2314232a72de76533fd18f1": {
      "model_module": "@jupyter-widgets/controls",
      "model_module_version": "1.5.0",
      "model_name": "FloatProgressModel",
      "state": {
       "_dom_classes": [],
       "_model_module": "@jupyter-widgets/controls",
       "_model_module_version": "1.5.0",
       "_model_name": "FloatProgressModel",
       "_view_count": null,
       "_view_module": "@jupyter-widgets/controls",
       "_view_module_version": "1.5.0",
       "_view_name": "ProgressView",
       "bar_style": "success",
       "description": "",
       "description_tooltip": null,
       "layout": "IPY_MODEL_6a7ce1a36462451ab12e3623c60137ed",
       "max": 558582766,
       "min": 0,
       "orientation": "horizontal",
       "style": "IPY_MODEL_c171f6e88da34f33ab6da64361453ab2",
       "value": 558582766
      }
     },
     "a0b1200d0a8d4b4b959ac14398a1a508": {
      "model_module": "@jupyter-widgets/controls",
      "model_module_version": "1.5.0",
      "model_name": "HBoxModel",
      "state": {
       "_dom_classes": [],
       "_model_module": "@jupyter-widgets/controls",
       "_model_module_version": "1.5.0",
       "_model_name": "HBoxModel",
       "_view_count": null,
       "_view_module": "@jupyter-widgets/controls",
       "_view_module_version": "1.5.0",
       "_view_name": "HBoxView",
       "box_style": "",
       "children": [
        "IPY_MODEL_e23033ea61534ab0b2969139706c2ec5",
        "IPY_MODEL_cf68906c50d3400b8c0ae07fecd6b14d",
        "IPY_MODEL_8f7a0c7698c54652a3449cefe497f0c4"
       ],
       "layout": "IPY_MODEL_e4b72cfefd7d41cf8d44328464986a68"
      }
     },
     "a28da7fc98ad46b6a7c2a98dfc061ba8": {
      "model_module": "@jupyter-widgets/controls",
      "model_module_version": "1.5.0",
      "model_name": "HBoxModel",
      "state": {
       "_dom_classes": [],
       "_model_module": "@jupyter-widgets/controls",
       "_model_module_version": "1.5.0",
       "_model_name": "HBoxModel",
       "_view_count": null,
       "_view_module": "@jupyter-widgets/controls",
       "_view_module_version": "1.5.0",
       "_view_name": "HBoxView",
       "box_style": "",
       "children": [
        "IPY_MODEL_29e495f436224cddaa0cbfda86ba2841",
        "IPY_MODEL_51de1fdf63644b809793ae7f4c334c80",
        "IPY_MODEL_7b4d8aff6a4149a19744078deea30207"
       ],
       "layout": "IPY_MODEL_5b97d29760344d87bae024638f2a8c71"
      }
     },
     "b01ad33e5d8c4bc7bb0f8683fd43985c": {
      "model_module": "@jupyter-widgets/base",
      "model_module_version": "1.2.0",
      "model_name": "LayoutModel",
      "state": {
       "_model_module": "@jupyter-widgets/base",
       "_model_module_version": "1.2.0",
       "_model_name": "LayoutModel",
       "_view_count": null,
       "_view_module": "@jupyter-widgets/base",
       "_view_module_version": "1.2.0",
       "_view_name": "LayoutView",
       "align_content": null,
       "align_items": null,
       "align_self": null,
       "border": null,
       "bottom": null,
       "display": null,
       "flex": null,
       "flex_flow": null,
       "grid_area": null,
       "grid_auto_columns": null,
       "grid_auto_flow": null,
       "grid_auto_rows": null,
       "grid_column": null,
       "grid_gap": null,
       "grid_row": null,
       "grid_template_areas": null,
       "grid_template_columns": null,
       "grid_template_rows": null,
       "height": null,
       "justify_content": null,
       "justify_items": null,
       "left": null,
       "margin": null,
       "max_height": null,
       "max_width": null,
       "min_height": null,
       "min_width": null,
       "object_fit": null,
       "object_position": null,
       "order": null,
       "overflow": null,
       "overflow_x": null,
       "overflow_y": null,
       "padding": null,
       "right": null,
       "top": null,
       "visibility": null,
       "width": null
      }
     },
     "b399e669c5ce477dbb23707f5350d973": {
      "model_module": "@jupyter-widgets/controls",
      "model_module_version": "1.5.0",
      "model_name": "DescriptionStyleModel",
      "state": {
       "_model_module": "@jupyter-widgets/controls",
       "_model_module_version": "1.5.0",
       "_model_name": "DescriptionStyleModel",
       "_view_count": null,
       "_view_module": "@jupyter-widgets/base",
       "_view_module_version": "1.2.0",
       "_view_name": "StyleView",
       "description_width": ""
      }
     },
     "bf4519cc1ec2486fa6ab81ea318044a3": {
      "model_module": "@jupyter-widgets/controls",
      "model_module_version": "1.5.0",
      "model_name": "HTMLModel",
      "state": {
       "_dom_classes": [],
       "_model_module": "@jupyter-widgets/controls",
       "_model_module_version": "1.5.0",
       "_model_name": "HTMLModel",
       "_view_count": null,
       "_view_module": "@jupyter-widgets/controls",
       "_view_module_version": "1.5.0",
       "_view_name": "HTMLView",
       "description": "",
       "description_tooltip": null,
       "layout": "IPY_MODEL_3cb9724fbdfa4300b9b567b4fc74bce0",
       "placeholder": "​",
       "style": "IPY_MODEL_1c9debd836144d2d94b706e98231f53b",
       "value": "Downloading: 100%"
      }
     },
     "c171f6e88da34f33ab6da64361453ab2": {
      "model_module": "@jupyter-widgets/controls",
      "model_module_version": "1.5.0",
      "model_name": "ProgressStyleModel",
      "state": {
       "_model_module": "@jupyter-widgets/controls",
       "_model_module_version": "1.5.0",
       "_model_name": "ProgressStyleModel",
       "_view_count": null,
       "_view_module": "@jupyter-widgets/base",
       "_view_module_version": "1.2.0",
       "_view_name": "StyleView",
       "bar_color": null,
       "description_width": ""
      }
     },
     "c4e68fcd8dcb4694ad7d92abfc6cfe1e": {
      "model_module": "@jupyter-widgets/controls",
      "model_module_version": "1.5.0",
      "model_name": "FloatProgressModel",
      "state": {
       "_dom_classes": [],
       "_model_module": "@jupyter-widgets/controls",
       "_model_module_version": "1.5.0",
       "_model_name": "FloatProgressModel",
       "_view_count": null,
       "_view_module": "@jupyter-widgets/controls",
       "_view_module_version": "1.5.0",
       "_view_name": "ProgressView",
       "bar_style": "success",
       "description": "",
       "description_tooltip": null,
       "layout": "IPY_MODEL_2ed5448e7c1746ddb97e3492efe1fb0f",
       "max": 52,
       "min": 0,
       "orientation": "horizontal",
       "style": "IPY_MODEL_c4fde8d695d74917b5f78591d0a72959",
       "value": 52
      }
     },
     "c4fde8d695d74917b5f78591d0a72959": {
      "model_module": "@jupyter-widgets/controls",
      "model_module_version": "1.5.0",
      "model_name": "ProgressStyleModel",
      "state": {
       "_model_module": "@jupyter-widgets/controls",
       "_model_module_version": "1.5.0",
       "_model_name": "ProgressStyleModel",
       "_view_count": null,
       "_view_module": "@jupyter-widgets/base",
       "_view_module_version": "1.2.0",
       "_view_name": "StyleView",
       "bar_color": null,
       "description_width": ""
      }
     },
     "c5efd1c4e90147a492eeb4611c063f8c": {
      "model_module": "@jupyter-widgets/controls",
      "model_module_version": "1.5.0",
      "model_name": "DescriptionStyleModel",
      "state": {
       "_model_module": "@jupyter-widgets/controls",
       "_model_module_version": "1.5.0",
       "_model_name": "DescriptionStyleModel",
       "_view_count": null,
       "_view_module": "@jupyter-widgets/base",
       "_view_module_version": "1.2.0",
       "_view_name": "StyleView",
       "description_width": ""
      }
     },
     "cbc7c308209b4be082266f88faac3e4c": {
      "model_module": "@jupyter-widgets/controls",
      "model_module_version": "1.5.0",
      "model_name": "HTMLModel",
      "state": {
       "_dom_classes": [],
       "_model_module": "@jupyter-widgets/controls",
       "_model_module_version": "1.5.0",
       "_model_name": "HTMLModel",
       "_view_count": null,
       "_view_module": "@jupyter-widgets/controls",
       "_view_module_version": "1.5.0",
       "_view_name": "HTMLView",
       "description": "",
       "description_tooltip": null,
       "layout": "IPY_MODEL_391364d2a1314694a94473b866a97851",
       "placeholder": "​",
       "style": "IPY_MODEL_6ce655bd0ed94c98a4b5e3f4b5e6dd76",
       "value": " 559M/559M [00:34&lt;00:00, 16.5MB/s]"
      }
     },
     "cf68906c50d3400b8c0ae07fecd6b14d": {
      "model_module": "@jupyter-widgets/controls",
      "model_module_version": "1.5.0",
      "model_name": "FloatProgressModel",
      "state": {
       "_dom_classes": [],
       "_model_module": "@jupyter-widgets/controls",
       "_model_module_version": "1.5.0",
       "_model_name": "FloatProgressModel",
       "_view_count": null,
       "_view_module": "@jupyter-widgets/controls",
       "_view_module_version": "1.5.0",
       "_view_name": "ProgressView",
       "bar_style": "success",
       "description": "",
       "description_tooltip": null,
       "layout": "IPY_MODEL_00465308859e40ad94d55626d9cfe5d4",
       "max": 474,
       "min": 0,
       "orientation": "horizontal",
       "style": "IPY_MODEL_f6f77e466a4f44f49993b9996da47ca7",
       "value": 474
      }
     },
     "d003078a84b049afbc0db90baae58b61": {
      "model_module": "@jupyter-widgets/base",
      "model_module_version": "1.2.0",
      "model_name": "LayoutModel",
      "state": {
       "_model_module": "@jupyter-widgets/base",
       "_model_module_version": "1.2.0",
       "_model_name": "LayoutModel",
       "_view_count": null,
       "_view_module": "@jupyter-widgets/base",
       "_view_module_version": "1.2.0",
       "_view_name": "LayoutView",
       "align_content": null,
       "align_items": null,
       "align_self": null,
       "border": null,
       "bottom": null,
       "display": null,
       "flex": null,
       "flex_flow": null,
       "grid_area": null,
       "grid_auto_columns": null,
       "grid_auto_flow": null,
       "grid_auto_rows": null,
       "grid_column": null,
       "grid_gap": null,
       "grid_row": null,
       "grid_template_areas": null,
       "grid_template_columns": null,
       "grid_template_rows": null,
       "height": null,
       "justify_content": null,
       "justify_items": null,
       "left": null,
       "margin": null,
       "max_height": null,
       "max_width": null,
       "min_height": null,
       "min_width": null,
       "object_fit": null,
       "object_position": null,
       "order": null,
       "overflow": null,
       "overflow_x": null,
       "overflow_y": null,
       "padding": null,
       "right": null,
       "top": null,
       "visibility": null,
       "width": null
      }
     },
     "dc7dd38791fd4af68e483b2f46794ddc": {
      "model_module": "@jupyter-widgets/controls",
      "model_module_version": "1.5.0",
      "model_name": "DescriptionStyleModel",
      "state": {
       "_model_module": "@jupyter-widgets/controls",
       "_model_module_version": "1.5.0",
       "_model_name": "DescriptionStyleModel",
       "_view_count": null,
       "_view_module": "@jupyter-widgets/base",
       "_view_module_version": "1.2.0",
       "_view_name": "StyleView",
       "description_width": ""
      }
     },
     "de566352d4c94d1199034ad72d3f0c74": {
      "model_module": "@jupyter-widgets/base",
      "model_module_version": "1.2.0",
      "model_name": "LayoutModel",
      "state": {
       "_model_module": "@jupyter-widgets/base",
       "_model_module_version": "1.2.0",
       "_model_name": "LayoutModel",
       "_view_count": null,
       "_view_module": "@jupyter-widgets/base",
       "_view_module_version": "1.2.0",
       "_view_name": "LayoutView",
       "align_content": null,
       "align_items": null,
       "align_self": null,
       "border": null,
       "bottom": null,
       "display": null,
       "flex": null,
       "flex_flow": null,
       "grid_area": null,
       "grid_auto_columns": null,
       "grid_auto_flow": null,
       "grid_auto_rows": null,
       "grid_column": null,
       "grid_gap": null,
       "grid_row": null,
       "grid_template_areas": null,
       "grid_template_columns": null,
       "grid_template_rows": null,
       "height": null,
       "justify_content": null,
       "justify_items": null,
       "left": null,
       "margin": null,
       "max_height": null,
       "max_width": null,
       "min_height": null,
       "min_width": null,
       "object_fit": null,
       "object_position": null,
       "order": null,
       "overflow": null,
       "overflow_x": null,
       "overflow_y": null,
       "padding": null,
       "right": null,
       "top": null,
       "visibility": null,
       "width": null
      }
     },
     "e23033ea61534ab0b2969139706c2ec5": {
      "model_module": "@jupyter-widgets/controls",
      "model_module_version": "1.5.0",
      "model_name": "HTMLModel",
      "state": {
       "_dom_classes": [],
       "_model_module": "@jupyter-widgets/controls",
       "_model_module_version": "1.5.0",
       "_model_name": "HTMLModel",
       "_view_count": null,
       "_view_module": "@jupyter-widgets/controls",
       "_view_module_version": "1.5.0",
       "_view_name": "HTMLView",
       "description": "",
       "description_tooltip": null,
       "layout": "IPY_MODEL_b01ad33e5d8c4bc7bb0f8683fd43985c",
       "placeholder": "​",
       "style": "IPY_MODEL_382471929b3d4bdea22b5b2e1a14bbfa",
       "value": "Downloading: 100%"
      }
     },
     "e4b72cfefd7d41cf8d44328464986a68": {
      "model_module": "@jupyter-widgets/base",
      "model_module_version": "1.2.0",
      "model_name": "LayoutModel",
      "state": {
       "_model_module": "@jupyter-widgets/base",
       "_model_module_version": "1.2.0",
       "_model_name": "LayoutModel",
       "_view_count": null,
       "_view_module": "@jupyter-widgets/base",
       "_view_module_version": "1.2.0",
       "_view_name": "LayoutView",
       "align_content": null,
       "align_items": null,
       "align_self": null,
       "border": null,
       "bottom": null,
       "display": null,
       "flex": null,
       "flex_flow": null,
       "grid_area": null,
       "grid_auto_columns": null,
       "grid_auto_flow": null,
       "grid_auto_rows": null,
       "grid_column": null,
       "grid_gap": null,
       "grid_row": null,
       "grid_template_areas": null,
       "grid_template_columns": null,
       "grid_template_rows": null,
       "height": null,
       "justify_content": null,
       "justify_items": null,
       "left": null,
       "margin": null,
       "max_height": null,
       "max_width": null,
       "min_height": null,
       "min_width": null,
       "object_fit": null,
       "object_position": null,
       "order": null,
       "overflow": null,
       "overflow_x": null,
       "overflow_y": null,
       "padding": null,
       "right": null,
       "top": null,
       "visibility": null,
       "width": null
      }
     },
     "e67b5970f0734a398d85d395b75cb621": {
      "model_module": "@jupyter-widgets/controls",
      "model_module_version": "1.5.0",
      "model_name": "HBoxModel",
      "state": {
       "_dom_classes": [],
       "_model_module": "@jupyter-widgets/controls",
       "_model_module_version": "1.5.0",
       "_model_name": "HBoxModel",
       "_view_count": null,
       "_view_module": "@jupyter-widgets/controls",
       "_view_module_version": "1.5.0",
       "_view_name": "HBoxView",
       "box_style": "",
       "children": [
        "IPY_MODEL_bf4519cc1ec2486fa6ab81ea318044a3",
        "IPY_MODEL_fe572df66bfc44428b5a754de557c248",
        "IPY_MODEL_60a689e5b70f4469af32182ce916798a"
       ],
       "layout": "IPY_MODEL_7aade2413dee4d97b12ed3d6ba252fc0"
      }
     },
     "f12191ad86bd403c890348ef56bf36e8": {
      "model_module": "@jupyter-widgets/base",
      "model_module_version": "1.2.0",
      "model_name": "LayoutModel",
      "state": {
       "_model_module": "@jupyter-widgets/base",
       "_model_module_version": "1.2.0",
       "_model_name": "LayoutModel",
       "_view_count": null,
       "_view_module": "@jupyter-widgets/base",
       "_view_module_version": "1.2.0",
       "_view_name": "LayoutView",
       "align_content": null,
       "align_items": null,
       "align_self": null,
       "border": null,
       "bottom": null,
       "display": null,
       "flex": null,
       "flex_flow": null,
       "grid_area": null,
       "grid_auto_columns": null,
       "grid_auto_flow": null,
       "grid_auto_rows": null,
       "grid_column": null,
       "grid_gap": null,
       "grid_row": null,
       "grid_template_areas": null,
       "grid_template_columns": null,
       "grid_template_rows": null,
       "height": null,
       "justify_content": null,
       "justify_items": null,
       "left": null,
       "margin": null,
       "max_height": null,
       "max_width": null,
       "min_height": null,
       "min_width": null,
       "object_fit": null,
       "object_position": null,
       "order": null,
       "overflow": null,
       "overflow_x": null,
       "overflow_y": null,
       "padding": null,
       "right": null,
       "top": null,
       "visibility": null,
       "width": null
      }
     },
     "f6f77e466a4f44f49993b9996da47ca7": {
      "model_module": "@jupyter-widgets/controls",
      "model_module_version": "1.5.0",
      "model_name": "ProgressStyleModel",
      "state": {
       "_model_module": "@jupyter-widgets/controls",
       "_model_module_version": "1.5.0",
       "_model_name": "ProgressStyleModel",
       "_view_count": null,
       "_view_module": "@jupyter-widgets/base",
       "_view_module_version": "1.2.0",
       "_view_name": "StyleView",
       "bar_color": null,
       "description_width": ""
      }
     },
     "fb9159989c5d4803abd9fcb2c29b61c7": {
      "model_module": "@jupyter-widgets/base",
      "model_module_version": "1.2.0",
      "model_name": "LayoutModel",
      "state": {
       "_model_module": "@jupyter-widgets/base",
       "_model_module_version": "1.2.0",
       "_model_name": "LayoutModel",
       "_view_count": null,
       "_view_module": "@jupyter-widgets/base",
       "_view_module_version": "1.2.0",
       "_view_name": "LayoutView",
       "align_content": null,
       "align_items": null,
       "align_self": null,
       "border": null,
       "bottom": null,
       "display": null,
       "flex": null,
       "flex_flow": null,
       "grid_area": null,
       "grid_auto_columns": null,
       "grid_auto_flow": null,
       "grid_auto_rows": null,
       "grid_column": null,
       "grid_gap": null,
       "grid_row": null,
       "grid_template_areas": null,
       "grid_template_columns": null,
       "grid_template_rows": null,
       "height": null,
       "justify_content": null,
       "justify_items": null,
       "left": null,
       "margin": null,
       "max_height": null,
       "max_width": null,
       "min_height": null,
       "min_width": null,
       "object_fit": null,
       "object_position": null,
       "order": null,
       "overflow": null,
       "overflow_x": null,
       "overflow_y": null,
       "padding": null,
       "right": null,
       "top": null,
       "visibility": null,
       "width": null
      }
     },
     "fbbcfe52ad1a44f28353e611ac10e4c6": {
      "model_module": "@jupyter-widgets/base",
      "model_module_version": "1.2.0",
      "model_name": "LayoutModel",
      "state": {
       "_model_module": "@jupyter-widgets/base",
       "_model_module_version": "1.2.0",
       "_model_name": "LayoutModel",
       "_view_count": null,
       "_view_module": "@jupyter-widgets/base",
       "_view_module_version": "1.2.0",
       "_view_name": "LayoutView",
       "align_content": null,
       "align_items": null,
       "align_self": null,
       "border": null,
       "bottom": null,
       "display": null,
       "flex": null,
       "flex_flow": null,
       "grid_area": null,
       "grid_auto_columns": null,
       "grid_auto_flow": null,
       "grid_auto_rows": null,
       "grid_column": null,
       "grid_gap": null,
       "grid_row": null,
       "grid_template_areas": null,
       "grid_template_columns": null,
       "grid_template_rows": null,
       "height": null,
       "justify_content": null,
       "justify_items": null,
       "left": null,
       "margin": null,
       "max_height": null,
       "max_width": null,
       "min_height": null,
       "min_width": null,
       "object_fit": null,
       "object_position": null,
       "order": null,
       "overflow": null,
       "overflow_x": null,
       "overflow_y": null,
       "padding": null,
       "right": null,
       "top": null,
       "visibility": null,
       "width": null
      }
     },
     "fe572df66bfc44428b5a754de557c248": {
      "model_module": "@jupyter-widgets/controls",
      "model_module_version": "1.5.0",
      "model_name": "FloatProgressModel",
      "state": {
       "_dom_classes": [],
       "_model_module": "@jupyter-widgets/controls",
       "_model_module_version": "1.5.0",
       "_model_name": "FloatProgressModel",
       "_view_count": null,
       "_view_module": "@jupyter-widgets/controls",
       "_view_module_version": "1.5.0",
       "_view_name": "ProgressView",
       "bar_style": "success",
       "description": "",
       "description_tooltip": null,
       "layout": "IPY_MODEL_508cadfc59f84f7ab0132b4133b85d5b",
       "max": 898825,
       "min": 0,
       "orientation": "horizontal",
       "style": "IPY_MODEL_21edca33afc8438e8fe41b3ca3e61387",
       "value": 898825
      }
     }
    },
    "version_major": 2,
    "version_minor": 0
   }
  }
 },
 "nbformat": 4,
 "nbformat_minor": 5
}
