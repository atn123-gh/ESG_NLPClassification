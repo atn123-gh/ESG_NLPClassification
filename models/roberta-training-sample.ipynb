{
 "cells": [
  {
   "cell_type": "code",
   "execution_count": 1,
   "id": "bb243b84",
   "metadata": {
    "execution": {
     "iopub.execute_input": "2021-11-15T20:25:01.106522Z",
     "iopub.status.busy": "2021-11-15T20:25:01.099981Z",
     "iopub.status.idle": "2021-11-15T20:25:08.018944Z",
     "shell.execute_reply": "2021-11-15T20:25:08.019425Z",
     "shell.execute_reply.started": "2021-11-15T19:37:45.7225Z"
    },
    "papermill": {
     "duration": 6.966489,
     "end_time": "2021-11-15T20:25:08.019677",
     "exception": false,
     "start_time": "2021-11-15T20:25:01.053188",
     "status": "completed"
    },
    "tags": []
   },
   "outputs": [
    {
     "name": "stdout",
     "output_type": "stream",
     "text": [
      "esdata\n",
      "ACCUMULATION_STEPS : 2\n",
      "roberta-base\n",
      "468\n",
      "2e-05\n",
      "SPEICAL_TOKEN ['[NSEP]']\n"
     ]
    }
   ],
   "source": [
    "from importlib import reload  # Not needed in Python 2\n",
    "import warnings\n",
    "from datetime import datetime\n",
    "from torch.optim.swa_utils import AveragedModel, SWALR\n",
    "from torch.optim.lr_scheduler import CosineAnnealingLR\n",
    "import sys\n",
    "import os\n",
    "import time\n",
    "import pandas as pd\n",
    "import numpy as np\n",
    "import seaborn as sns\n",
    "from tqdm import tqdm, trange\n",
    "from wordcloud import WordCloud, STOPWORDS\n",
    "import matplotlib.pyplot as plt\n",
    "import gc\n",
    "import glob\n",
    "import torch\n",
    "from torch.utils.data import Dataset, DataLoader,RandomSampler, SequentialSampler\n",
    "from sklearn.utils.class_weight import compute_class_weight\n",
    "import warnings\n",
    "from transformers import get_linear_schedule_with_warmup\n",
    "from copy import deepcopy\n",
    "import transformers\n",
    "from sklearn.metrics import classification_report, confusion_matrix, multilabel_confusion_matrix,f1_score, accuracy_score,precision_score, recall_score\n",
    "from transformers import RobertaTokenizer, RobertaForMaskedLM\n",
    "import torch\n",
    "\n",
    "from sklearn.model_selection import StratifiedKFold, StratifiedShuffleSplit,GroupKFold\n",
    "from transformers import PreTrainedModel,RobertaConfig,RobertaModel\n",
    "from transformers import AutoModelForSequenceClassification, AutoTokenizer, AutoModel,AutoConfig\n",
    "from transformers import DataCollatorWithPadding,get_linear_schedule_with_warmup\n",
    "\n",
    "\n",
    "def seed_all(seed_value):\n",
    "    np.random.seed(seed_value) \n",
    "    torch.manual_seed(seed_value) \n",
    "    if torch.cuda.is_available(): \n",
    "        torch.cuda.manual_seed(seed_value)\n",
    "        torch.cuda.manual_seed_all(seed_value)\n",
    "        torch.backends.cudnn.deterministic = True  \n",
    "        torch.backends.cudnn.benchmark = False  \n",
    "        \n",
    "RANDOM_SEED=106\n",
    "seed_all(RANDOM_SEED)\n",
    "device = 'cuda' if torch.cuda.is_available() else 'cpu'\n",
    "NUM_LABEL=4\n",
    "L = False\n",
    "DEBUG = False\n",
    "EPOCHS=2\n",
    "EVALAFTER=1000\n",
    "PSEUDO=True\n",
    "reinit_n_layers=3\n",
    "PLAIN=False\n",
    "\n",
    "MAX_LEN=400\n",
    "\n",
    "BATCH_SIZE=32\n",
    "\n",
    "\n",
    "if DEBUG:\n",
    "    DEBUG_DATA_SIZE=30\n",
    "    EPOCHS=2\n",
    "    \n",
    "if(L):\n",
    "    IN_BASEPATH=\"../../input/\"\n",
    "    TRAIN_BATCH_SIZE = 1\n",
    "    VALID_BATCH_SIZE = 1\n",
    "    print(\"l\")\n",
    "else:\n",
    "    IN_BASEPATH=\"../input/inputeg2/\"\n",
    "    TRAIN_BATCH_SIZE = 16\n",
    "    VALID_BATCH_SIZE = 16\n",
    "    print(\"esdata\")\n",
    "USE_SCHEDULER=True\n",
    "USE_AML=True\n",
    "\n",
    "IN_BASEPATH=\"../input/inputegf/\"\n",
    "uname='rbase'    \n",
    "\n",
    "\n",
    "trainCompress_tsv =IN_BASEPATH +'3TrainCompressManualClean.tsv' #trainingBCA \n",
    "trainConcat_tsv   =IN_BASEPATH +'3TrainConcatManualClean.tsv'   #trainingBCA\n",
    "FNtestConcat_tsv  =IN_BASEPATH +'4FNTestConcat.tsv' #testTOKEN  same\n",
    "testConcat_tsv    =IN_BASEPATH +'4TestConcat.tsv'  #testTOKEN same\n",
    "valConcat_tsv  =IN_BASEPATH +'4ValConcat.tsv'   # to validate submission TOKEN same\n",
    "valConcatClean_tsv     =IN_BASEPATH +'4ValConcatManualClean.tsv'  #to validate model TOKEN\n",
    "FNtestPConcat_pkl =IN_BASEPATH +'5FtestParaConcat.pkl' # for FN test Para TOKEN (include 5TestParaConcat.pkl) 32337 # ***#\n",
    "trainPConcat_tsv    =IN_BASEPATH +'5TrainParaConcat.tsv' # =5ValParaConcat #Same\n",
    "trainConcatBCA_tsv  =IN_BASEPATH +'6BCACatTrain.tsv' #same\n",
    "FNtestConcatBCA_tsv =IN_BASEPATH +'6BCACatFNTest.tsv' #same\n",
    "# testConcatBCA_tsv =IN_BASEPATH +'6BCACatTest.tsv'#same\n",
    "valConcatBCA_tsv =IN_BASEPATH +'6BCACatVal.tsv'\n",
    "pl1ConcatBCA_tsv  =IN_BASEPATH +'6BCACatFNTest_pseudolabel.csv'  #no same for training\n",
    "FNtestdata_pkl =IN_BASEPATH +'zfinal_testdf.pkl' #unuse ori\n",
    "testdata_pkl   =IN_BASEPATH +'ztestdf.pkl'#unuse ori\n",
    "traindata_pkl  =IN_BASEPATH +'ztraindf.pkl' #unuse ori\n",
    "#                          #=IN_BASEPATH+'../input/inputegf/compressTrain_title.tsv' # unuse\n",
    "\n",
    "\n",
    "\n",
    "# MODEL_NAME='microsoft/deberta-base'\n",
    "# MODEL_NAME='roberta-base'\n",
    "MODEL_NAME='roberta-base'\n",
    "\n",
    "# MODEL_NAME='xlnet-base-cased'\n",
    "# MODEL_NAME='albert-base-v2'#\n",
    "smodelname=MODEL_NAME.split('/')[-1]\n",
    "OUT_BASEPATH=f\"output/{smodelname}\"\n",
    "\n",
    "\n",
    "\n",
    "CV_DICT = {\n",
    "            1: ['Form10k_65','Form10k_44','Form10k_74','Form10k_01'],\n",
    "            2:['Form10k_61','Form10k_22','Form10k_14','Form10k_23'],\n",
    "            3:['Form10k_63','Form10k_25','Form10k_34','Form10k_37'],\n",
    "            4: ['Form10k_55','Form10k_64','Form10k_60','Form10k_59'],\n",
    "            5:['Form10k_57','Form10k_47','Form10k_12','Form10k_73'],\n",
    "}\n",
    "\n",
    "\n",
    "\n",
    "try:\n",
    "    os.makedirs(OUT_BASEPATH)\n",
    "    os.makedirs(OUT_BASEPATH+\"/model\")\n",
    "\n",
    "except:\n",
    "    print(\"error creating directory\")\n",
    "    pass\n",
    "    \n",
    "    \n",
    "    \n",
    "    \n",
    "SEPCIAL_TOKEN=['[NSEP]']\n",
    "# SEPCIAL_TOKEN=None\n",
    "\n",
    "    \n",
    "WARMUP=50\n",
    "\n",
    "\n",
    "       \n",
    "        \n",
    "# xlnet-base-cased\n",
    "# microsoft/deberta-base'\n",
    "# 'albert-base-v2'\n",
    "\n",
    "# 123 deberta_pseudo\n",
    "# 45 albert_pseudo\n",
    "# 678 xlnet_pseudo\n",
    "# 901 albert\n",
    "# 2021 deberta\n",
    "\n",
    "if \"deberta\" in MODEL_NAME:\n",
    "# https://deepai.org/publication/deberta-decoding-enhanced-bert-with-disentangled-attention\n",
    "    RANDOM_SEED=2021\n",
    "elif \"albert\" in MODEL_NAME:\n",
    "# https://arxiv.org/pdf/1909.11942.pdf\n",
    "    RANDOM_SEED=45\n",
    "    WARMUP=320\n",
    "elif \"roberta\":\n",
    "# https://arxiv.org/pdf/1906.08237.pdf\n",
    "    RANDOM_SEED=468\n",
    "\n",
    "seed_all(RANDOM_SEED)\n",
    "\n",
    "ACCUMULATION_STEPS=int(BATCH_SIZE/TRAIN_BATCH_SIZE)\n",
    "print(\"ACCUMULATION_STEPS :\",ACCUMULATION_STEPS)\n",
    "\n",
    "LEARNING_RATE=2e-05\n",
    "\n",
    "class CustomDataset(Dataset):\n",
    "\n",
    "    def __init__(self, dataframe, tokenizer, max_len,labelexist=True):\n",
    "        self.tokenizer = tokenizer\n",
    "        self.data = dataframe\n",
    "        self.sentence = dataframe.sentence\n",
    "        self.labelexist= labelexist\n",
    "        if self.labelexist:\n",
    "            self.targets = self.data.label\n",
    "        self.max_len = max_len\n",
    "\n",
    "    def __len__(self):\n",
    "        return len(self.sentence)\n",
    "\n",
    "    def __getitem__(self, index):\n",
    "\n",
    "        if DEBUG:\n",
    "            inputs = self.tokenizer(\n",
    "            self.sentence[index], # /lower()\n",
    "            add_special_tokens=True,\n",
    "            max_length=self.max_len,\n",
    "            truncation=True,\n",
    "            return_attention_mask=True,\n",
    "            return_token_type_ids=True,\n",
    "            pad_to_max_length=True)\n",
    "        else:\n",
    "            inputs = self.tokenizer(\n",
    "            self.sentence[index], # /lower()\n",
    "            add_special_tokens=True,\n",
    "            max_length=self.max_len,\n",
    "            truncation=True,\n",
    "            return_attention_mask=True,\n",
    "            return_token_type_ids=True\n",
    "        ) \n",
    "                \n",
    "        ids = inputs['input_ids']\n",
    "        mask = inputs['attention_mask']\n",
    "        token_type_ids = inputs[\"token_type_ids\"]\n",
    "\n",
    "        if self.labelexist:\n",
    "            return {\n",
    "                'input_ids': torch.tensor(ids, dtype=torch.long),\n",
    "                'attention_mask': torch.tensor(mask, dtype=torch.long),\n",
    "                'token_type_ids': torch.tensor(token_type_ids, dtype=torch.long),\n",
    "                'labels': torch.tensor(self.targets[index], dtype=torch.long)\n",
    "            }\n",
    "        else:\n",
    "            return {\n",
    "                'input_ids': torch.tensor(ids, dtype=torch.long),\n",
    "                'attention_mask': torch.tensor(mask, dtype=torch.long),\n",
    "                'token_type_ids': torch.tensor(token_type_ids, dtype=torch.long),\n",
    "\n",
    "            }\n",
    "        \n",
    "def doconfusion_matrix(traintarget,trainpreds,testtarget,testpreds):\n",
    "    df_cm_train = pd.DataFrame(confusion_matrix(traintarget,trainpreds))\n",
    "    df_cm_test = pd.DataFrame(confusion_matrix(testtarget,testpreds))\n",
    "    df_cm_train.index.name='Actual'\n",
    "    df_cm_train.columns.name='Predicted'\n",
    "    sns.set(font_scale=1.4)\n",
    "    fig, (ax1, ax2) = plt.subplots(1,2,figsize=(15,5))\n",
    "    sns.heatmap(df_cm_train,annot=True,annot_kws={\"size\":15}, ax=ax1)\n",
    "    sns.heatmap(df_cm_test,annot=True,annot_kws={\"size\":15}, ax=ax2)\n",
    "    plt.show()\n",
    "    \n",
    "    \n",
    "def doconfusion_matrix_one(traintarget,trainpreds):\n",
    "    plt.figure(figsize=(8, 6), dpi=80)\n",
    "    df_cm_train = pd.DataFrame(confusion_matrix(traintarget,trainpreds))\n",
    "    df_cm_train.index.name='Actual'\n",
    "    df_cm_train.columns.name='Predicted'\n",
    "    sns.set(font_scale=1.4)\n",
    "    sns.heatmap(df_cm_train,annot=True,annot_kws={\"size\":15})\n",
    "    plt.show()\n",
    "print(MODEL_NAME)\n",
    "print(RANDOM_SEED)\n",
    "print(LEARNING_RATE)\n",
    "print(\"SPEICAL_TOKEN\",SEPCIAL_TOKEN)"
   ]
  },
  {
   "cell_type": "code",
   "execution_count": 2,
   "id": "763d1c00",
   "metadata": {
    "execution": {
     "iopub.execute_input": "2021-11-15T20:25:08.062969Z",
     "iopub.status.busy": "2021-11-15T20:25:08.062171Z",
     "iopub.status.idle": "2021-11-15T20:25:08.064664Z",
     "shell.execute_reply": "2021-11-15T20:25:08.064198Z",
     "shell.execute_reply.started": "2021-11-15T19:37:54.00009Z"
    },
    "papermill": {
     "duration": 0.025854,
     "end_time": "2021-11-15T20:25:08.064774",
     "exception": false,
     "start_time": "2021-11-15T20:25:08.038920",
     "status": "completed"
    },
    "tags": []
   },
   "outputs": [],
   "source": [
    "# class MyModel(nn.Module):\n",
    "            \n",
    "#     def __init__(self, reinit_n_layers=0):        \n",
    "#         super().__init__() \n",
    "#         self.roberta_model = RobertaModel.from_pretrained('roberta-base')       \n",
    "#         self.regressor = nn.Linear(768, 1)  \n",
    "#         self.reinit_n_layers = reinit_n_layers\n",
    "#         if reinit_n_layers > 0: self._do_reinit()            \n",
    "            \n",
    "#     def _debug_reinit(self, text):\n",
    "#         print(f\"\\n{text}\\nPooler:\\n\", self.roberta_model.pooler.dense.weight.data)        \n",
    "#         for i, layer in enumerate(self.roberta_model.encoder.layer[-self.reinit_n_layers:]):\n",
    "#             for module in layer.modules():\n",
    "#                 if isinstance(module, nn.Linear):\n",
    "#                     print(f\"\\n{i} nn.Linear:\\n\", module.weight.data) \n",
    "#                 elif isinstance(module, nn.LayerNorm):\n",
    "#                     print(f\"\\n{i} nn.LayerNorm:\\n\", module.weight.data) \n",
    "        \n",
    "#     def _do_reinit(self):\n",
    "#         # Re-init pooler.\n",
    "#         self.roberta_model.pooler.dense.weight.data.normal_(mean=0.0, std=self.roberta_model.config.initializer_range)\n",
    "#         self.roberta_model.pooler.dense.bias.data.zero_()\n",
    "#         for param in self.roberta_model.pooler.parameters():\n",
    "#             param.requires_grad = True\n",
    "        \n",
    "#         # Re-init last n layers.\n",
    "#         for n in range(self.reinit_n_layers):\n",
    "#             self.roberta_model.encoder.layer[-(n+1)].apply(self._init_weight_and_bias)\n",
    "            \n",
    "#     def _init_weight_and_bias(self, module):                        \n",
    "#         if isinstance(module, nn.Linear):\n",
    "#             module.weight.data.normal_(mean=0.0, std=self.roberta_model.config.initializer_range)\n",
    "#             if module.bias is not None:\n",
    "#                 module.bias.data.zero_()\n",
    "#         elif isinstance(module, nn.LayerNorm):\n",
    "#             module.bias.data.zero_()\n",
    "#             module.weight.data.fill_(1.0)\n",
    "# #         elif isinstance(module, nn.Embedding):\n",
    "# #             module.weight.data.normal_(mean=0.0, std=self.roberta_model.config.initializer_range)\n",
    "# #             if module.padding_idx is not None:\n",
    "# #                 module.weight.data[module.padding_idx].zero_()\n",
    " \n",
    "#     def forward(self, input_ids, attention_mask):        \n",
    "#         raw_output = self.roberta_model(input_ids, attention_mask, return_dict=True)        \n",
    "#         pooler = raw_output[\"pooler_output\"]    # Shape is [batch_size, 768]\n",
    "#         output = self.regressor(pooler)         # Shape is [batch_size, 1]\n",
    "#         return output"
   ]
  },
  {
   "cell_type": "code",
   "execution_count": 3,
   "id": "83f98306",
   "metadata": {
    "execution": {
     "iopub.execute_input": "2021-11-15T20:25:08.104374Z",
     "iopub.status.busy": "2021-11-15T20:25:08.103522Z",
     "iopub.status.idle": "2021-11-15T20:25:08.117423Z",
     "shell.execute_reply": "2021-11-15T20:25:08.116965Z",
     "shell.execute_reply.started": "2021-11-15T19:37:54.010271Z"
    },
    "papermill": {
     "duration": 0.034503,
     "end_time": "2021-11-15T20:25:08.117527",
     "exception": false,
     "start_time": "2021-11-15T20:25:08.083024",
     "status": "completed"
    },
    "tags": []
   },
   "outputs": [],
   "source": [
    "from torch import nn\n",
    "from torch.nn import CrossEntropyLoss\n",
    "class RbtForSequenceClassificationPooler(nn.Module):\n",
    "    def __init__(self, reinit_n_layers=0):\n",
    "        super().__init__() \n",
    "        self.num_labels= 4\n",
    "        self.roberta =  RobertaModel.from_pretrained(MODEL_NAME)       \n",
    "        self.classfier = nn.Linear(768,self.num_labels)\n",
    "        self.dropout = nn.Dropout(0.1)\n",
    "        self.reinit_n_layers = reinit_n_layers\n",
    "        if reinit_n_layers > 0: self._do_reinit()   \n",
    "        \n",
    "       \n",
    "    def _do_reinit(self):\n",
    "        # Re-init pooler.\n",
    "        self.roberta.pooler.dense.weight.data.normal_(mean=0.0, std=self.roberta.config.initializer_range)\n",
    "        self.roberta.pooler.dense.bias.data.zero_()\n",
    "        for param in self.roberta.pooler.parameters():\n",
    "            param.requires_grad = True\n",
    "        \n",
    "        # Re-init last n layers.\n",
    "        for n in range(self.reinit_n_layers):\n",
    "            self.roberta.encoder.layer[-(n+1)].apply(self._init_weight_and_bias)\n",
    "            \n",
    "    def _init_weight_and_bias(self, module):                        \n",
    "        if isinstance(module, nn.Linear):\n",
    "            module.weight.data.normal_(mean=0.0, std=self.roberta.config.initializer_range)\n",
    "            if module.bias is not None:\n",
    "                module.bias.data.zero_()\n",
    "        elif isinstance(module, nn.LayerNorm):\n",
    "            module.bias.data.zero_()\n",
    "            module.weight.data.fill_(1.0)\n",
    "#         elif isinstance(module, nn.Embedding):\n",
    "#             module.weight.data.normal_(mean=0.0, std=self.roberta_model.config.initializer_range)\n",
    "#             if module.padding_idx is not None:\n",
    "#                 module.weight.data[module.padding_idx].zero_()\n",
    " \n",
    "    \n",
    "\n",
    "    def forward(\n",
    "        self,\n",
    "        input_ids=None,\n",
    "        token_type_ids=None,\n",
    "        attention_mask=None,\n",
    "        labels=None,\n",
    "        position_ids=None,\n",
    "        head_mask=None,\n",
    "        inputs_embeds=None,\n",
    "        output_attentions=None,\n",
    "        output_hidden_states=None,\n",
    "        return_dict=None,\n",
    "    ):        \n",
    "     \n",
    "        raw_output = self.roberta(input_ids, attention_mask, \n",
    "                                        return_dict=True, output_hidden_states=True)        \n",
    "#         hidden_states = raw_output[\"hidden_states\"] \n",
    "#         hidden_states = torch.stack(hidden_states) # Shape is [13, batch_size, seq_len, 768]\n",
    "#         concat = torch.cat([hidden_states[i] for i in [-1,-2,-3,-4]], dim=-1) \n",
    "#                                              # Shape is [batch_size, seq_len, 768*4]\n",
    "#         first_token = concat[:, 0, :]        # Take only 1st token, result in shape [batch_size, 768*4]\n",
    "        \n",
    "        pooler = raw_output[\"pooler_output\"]\n",
    "        outputs=self.dropout(pooler)\n",
    "        \n",
    "        \n",
    "        \n",
    "        outputs = self.classfier(outputs) # Shape is [batch_size, 1]    \n",
    "        if labels is not None:\n",
    "            cross_entropy= CrossEntropyLoss()\n",
    "            loss = cross_entropy(outputs.view(-1, self.num_labels), labels.view(-1))\n",
    "        else:\n",
    "            loss=None\n",
    "#         output = (logits,) + outputs[2:]\n",
    "        return (loss,outputs)\n",
    "    \n",
    "\n",
    "  "
   ]
  },
  {
   "cell_type": "code",
   "execution_count": 4,
   "id": "844cdc57",
   "metadata": {
    "execution": {
     "iopub.execute_input": "2021-11-15T20:25:08.161870Z",
     "iopub.status.busy": "2021-11-15T20:25:08.159060Z",
     "iopub.status.idle": "2021-11-15T20:25:08.163818Z",
     "shell.execute_reply": "2021-11-15T20:25:08.164325Z",
     "shell.execute_reply.started": "2021-11-15T19:37:54.033705Z"
    },
    "papermill": {
     "duration": 0.027988,
     "end_time": "2021-11-15T20:25:08.164453",
     "exception": false,
     "start_time": "2021-11-15T20:25:08.136465",
     "status": "completed"
    },
    "tags": []
   },
   "outputs": [],
   "source": [
    "# from torch import nn\n",
    "# from torch.nn import CrossEntropyLoss\n",
    "# class RbtForSequenceClassification4L(nn.Module):\n",
    "#     def __init__(self, reinit_n_layers=0):\n",
    "#         super().__init__() \n",
    "#         self.num_labels= 4\n",
    "#         self.roberta =  RobertaModel.from_pretrained(MODEL_NAME)       \n",
    "#         self.classfier = nn.Linear(768*4,self.num_labels)\n",
    "#         self.dropout = nn.Dropout(0.1)\n",
    "#         self.reinit_n_layers = reinit_n_layers\n",
    "#         if reinit_n_layers > 0: self._do_reinit()   \n",
    "        \n",
    "       \n",
    "#     def _do_reinit(self):\n",
    "#         # Re-init pooler.\n",
    "#         self.roberta.pooler.dense.weight.data.normal_(mean=0.0, std=self.roberta.config.initializer_range)\n",
    "#         self.roberta.pooler.dense.bias.data.zero_()\n",
    "#         for param in self.roberta.pooler.parameters():\n",
    "#             param.requires_grad = True\n",
    "        \n",
    "#         # Re-init last n layers.\n",
    "#         for n in range(self.reinit_n_layers):\n",
    "#             self.roberta.encoder.layer[-(n+1)].apply(self._init_weight_and_bias)\n",
    "            \n",
    "#     def _init_weight_and_bias(self, module):                        \n",
    "#         if isinstance(module, nn.Linear):\n",
    "#             module.weight.data.normal_(mean=0.0, std=self.roberta.config.initializer_range)\n",
    "#             if module.bias is not None:\n",
    "#                 module.bias.data.zero_()\n",
    "#         elif isinstance(module, nn.LayerNorm):\n",
    "#             module.bias.data.zero_()\n",
    "#             module.weight.data.fill_(1.0)\n",
    "# #         elif isinstance(module, nn.Embedding):\n",
    "# #             module.weight.data.normal_(mean=0.0, std=self.roberta_model.config.initializer_range)\n",
    "# #             if module.padding_idx is not None:\n",
    "# #                 module.weight.data[module.padding_idx].zero_()\n",
    " \n",
    "    \n",
    "\n",
    "#     def forward(\n",
    "#         self,\n",
    "#         input_ids=None,\n",
    "#         token_type_ids=None,\n",
    "#         attention_mask=None,\n",
    "#         labels=None,\n",
    "#         position_ids=None,\n",
    "#         head_mask=None,\n",
    "#         inputs_embeds=None,\n",
    "#         output_attentions=None,\n",
    "#         output_hidden_states=None,\n",
    "#         return_dict=None,\n",
    "#     ):        \n",
    "     \n",
    "#         raw_output = self.roberta(input_ids, attention_mask, \n",
    "#                                         return_dict=True, output_hidden_states=True)        \n",
    "#         hidden_states = raw_output[\"hidden_states\"] \n",
    "#         hidden_states = torch.stack(hidden_states) # Shape is [13, batch_size, seq_len, 768]\n",
    "#         concat = torch.cat([hidden_states[i] for i in [-1,-2,-3,-4]], dim=-1) \n",
    "#                                              # Shape is [batch_size, seq_len, 768*4]\n",
    "#         first_token = concat[:, 0, :]        # Take only 1st token, result in shape [batch_size, 768*4]\n",
    "#         first_token=self.dropout(first_token)\n",
    "        \n",
    "        \n",
    "        \n",
    "#         outputs = self.classfier(first_token) # Shape is [batch_size, 1]    \n",
    "#         if labels is not None:\n",
    "#             cross_entropy= CrossEntropyLoss()\n",
    "#             loss = cross_entropy(outputs.view(-1, self.num_labels), labels.view(-1))\n",
    "#         else:\n",
    "#             loss=None\n",
    "# #         output = (logits,) + outputs[2:]\n",
    "#         return (loss,outputs)\n",
    "    \n",
    "# class RbtClassificationHead(nn.Module):\n",
    "#     def __init__(self,config):\n",
    "#         super().__init__()\n",
    "#         self.dense=nn.Linear(config.hidden_size,config.hidden_size)\n",
    "#         self.dropout = nn.Dropout(0.1)\n",
    "#         self.output=nn.Linear(768*4,4)\n",
    "        \n",
    "#     def forward(self,features,**kwargs):\n",
    "#         x=features[:,0,:]\n",
    "#         x= self.dropout(x)\n",
    "#         x= self.dense(x)\n",
    "#         x= torch.tanh(x)\n",
    "#         x= self.dropout(x)\n",
    "#         x= self.output(x)\n",
    "#         return x\n",
    "        \n",
    "    \n",
    "# # model = RbtForSequenceClassification4L(1)\n",
    "# # model.to(device)\n",
    "        \n",
    "# # for step,batch in enumerate(tqdm(train_dataloader)):\n",
    "# #     batch = {k: v.to(device) for k, v in batch.items()}\n",
    "# #     outputs = model(**batch)\n",
    "# #     loss,logits=outputs[:2]    \n",
    "# #     print(loss)\n",
    "# #     print(\"--\")\n",
    "# #     print(logits)\n",
    "# #     break"
   ]
  },
  {
   "cell_type": "code",
   "execution_count": 5,
   "id": "b25a9540",
   "metadata": {
    "execution": {
     "iopub.execute_input": "2021-11-15T20:25:08.211329Z",
     "iopub.status.busy": "2021-11-15T20:25:08.210599Z",
     "iopub.status.idle": "2021-11-15T20:25:08.212769Z",
     "shell.execute_reply": "2021-11-15T20:25:08.213139Z",
     "shell.execute_reply.started": "2021-11-15T19:37:54.052477Z"
    },
    "papermill": {
     "duration": 0.030431,
     "end_time": "2021-11-15T20:25:08.213282",
     "exception": false,
     "start_time": "2021-11-15T20:25:08.182851",
     "status": "completed"
    },
    "tags": []
   },
   "outputs": [],
   "source": [
    "def roberta_base_AdamW_grouped_LLRD(model, debug=False):\n",
    "        \n",
    "    opt_parameters = [] # To be passed to the optimizer (only parameters of the layers you want to update).\n",
    "    debug_param_groups = []\n",
    "    named_parameters = list(model.named_parameters()) \n",
    "    \n",
    "    # According to AAAMLP book by A. Thakur, we generally do not use any decay \n",
    "    # for bias and LayerNorm.weight layers.\n",
    "    no_decay = [\"bias\", \"LayerNorm.bias\", \"LayerNorm.weight\"]\n",
    "    set_2 = [\"layer.4\", \"layer.5\", \"layer.6\", \"layer.7\"]\n",
    "    set_3 = [\"layer.8\", \"layer.9\", \"layer.10\", \"layer.11\"]\n",
    "    init_lr = 1e-5\n",
    "    \n",
    "    for i, (name, params) in enumerate(named_parameters):  \n",
    "        \n",
    "        weight_decay = 0.0 if any(p in name for p in no_decay) else 0.01\n",
    " \n",
    "        if name.startswith(\"roberta.embeddings\") or name.startswith(\"roberta.encoder\"):            \n",
    "            # For first set, set lr to 1e-6 (i.e. 0.000001)\n",
    "            lr = init_lr       \n",
    "            \n",
    "            # For set_2, increase lr to 0.00000175\n",
    "            lr = init_lr * 1.99 if any(p in name for p in set_2) else lr\n",
    "            \n",
    "            # For set_3, increase lr to 0.0000035 \n",
    "            lr = init_lr * 5.5 if any(p in name for p in set_3) else lr\n",
    "            \n",
    "            opt_parameters.append({\"params\": params,\n",
    "                                   \"weight_decay\": weight_decay,\n",
    "                                   \"lr\": lr})  \n",
    "            \n",
    "        # For regressor and pooler, set lr to 0.0000036 (slightly higher than the top layer).                \n",
    "        if name.startswith(\"classfier\") or name.startswith(\"roberta.pooler\"):               \n",
    "            lr = init_lr * 5.9\n",
    "            \n",
    "            opt_parameters.append({\"params\": params,\n",
    "                                   \"weight_decay\": weight_decay,\n",
    "                                   \"lr\": lr})    \n",
    "            \n",
    "        debug_param_groups.append(f\"{i} {name}\")\n",
    "\n",
    "    if debug: \n",
    "        for g in range(len(debug_param_groups)): print(debug_param_groups[g]) \n",
    "\n",
    "    return transformers.AdamW(opt_parameters, lr=init_lr), debug_param_groups\n",
    "\n",
    "# model = AutoModelForSequenceClassification.from_pretrained(MODEL_NAME, num_labels=NUM_LABEL)\n",
    "\n",
    "# named_parameters = list(model.named_parameters()) \n",
    "# for i, (name, params) in enumerate(named_parameters):  \n",
    "#     print(name)\n",
    "    \n",
    "# model = AutoModelForSequenceClassification.from_pretrained(MODEL_NAME, num_labels=NUM_LABEL)\n",
    "\n",
    "# optimizer, _ = roberta_base_AdamW_grouped_LLRD(model)"
   ]
  },
  {
   "cell_type": "code",
   "execution_count": 6,
   "id": "d0c03f18",
   "metadata": {
    "execution": {
     "iopub.execute_input": "2021-11-15T20:25:08.269248Z",
     "iopub.status.busy": "2021-11-15T20:25:08.268472Z",
     "iopub.status.idle": "2021-11-15T20:25:08.270502Z",
     "shell.execute_reply": "2021-11-15T20:25:08.270990Z",
     "shell.execute_reply.started": "2021-11-15T19:37:54.071312Z"
    },
    "papermill": {
     "duration": 0.039337,
     "end_time": "2021-11-15T20:25:08.271102",
     "exception": false,
     "start_time": "2021-11-15T20:25:08.231765",
     "status": "completed"
    },
    "tags": []
   },
   "outputs": [],
   "source": [
    "def validate(model,val_dataloader):\n",
    "    model.eval()\n",
    "    batchtargets=[]\n",
    "    batchoutputs=[]\n",
    "    batchlogits=[]\n",
    "    total_loss=0\n",
    "    with torch.no_grad():\n",
    "        for i,batch in enumerate((val_dataloader)):\n",
    "            batch = {k: v.to(device) for k, v in batch.items()}\n",
    "        \n",
    "            outputs = model(**batch)\n",
    "            loss,logits=outputs[:2]\n",
    "            if USE_AML:\n",
    "                total_loss=total_loss +(loss.item()/ACCUMULATION_STEPS)\n",
    "            else:\n",
    "                total_loss=total_loss +(loss.item())\n",
    "            outputs=logits.cpu().detach().numpy()   \n",
    "            batchlogits.extend(outputs)\n",
    "            outputs=np.argmax(outputs, axis=1)\n",
    "            batchoutputs.extend(outputs)\n",
    "            \n",
    "            targets=batch['labels'].cpu().detach().numpy()\n",
    "            batchtargets.extend(targets)\n",
    "            del outputs,loss,logits,batch,targets,\n",
    "            _ = gc.collect()\n",
    "            torch.cuda.empty_cache()\n",
    "    return batchtargets,batchoutputs,batchlogits,(total_loss/len(batchtargets))\n",
    "\n",
    "\n",
    "def loadmodel(modelpath=None,specialtoken=None):\n",
    "    tokenizer = AutoTokenizer.from_pretrained(MODEL_NAME)\n",
    "#     mlmmodel = RobertaForMaskedLM.from_pretrained(MODEL_NAME)\n",
    "#     mlmmodel.load_state_dict(torch.load(\"../input/egpretrained/pretrain620/pytorch_model.bin\"))\n",
    "#     model = AutoModelForSequenceClassification.from_pretrained(MODEL_NAME, num_labels=NUM_LABEL)\n",
    "    \n",
    "#     model = RbtForSequenceClassification4L(reinit_n_layers)\n",
    "    model = RbtForSequenceClassificationPooler(reinit_n_layers)\n",
    "\n",
    "    \n",
    "#     model.roberta=mlmmodel.roberta\n",
    "\n",
    "    optimizer, _ = roberta_base_AdamW_grouped_LLRD(model)\n",
    "\n",
    "#     optimizer = torch.optim.Adam(params =  model.parameters(), lr=LEARNING_RATE)\n",
    "    model.to(device)\n",
    "    \n",
    "    if modelpath is not None:\n",
    "        print(\"loading model checkpoint...\")\n",
    "        checkpoint = torch.load(modelpath)\n",
    "        model.roberta.load_state_dict(checkpoint)\n",
    "#         optimizer.load_state_dict(checkpoint['optimizer_dict'])\n",
    "    \n",
    "    #tmp%%\n",
    "    print(SEPCIAL_TOKEN,NUM_LABEL,LEARNING_RATE)\n",
    "    return tokenizer,model,optimizer\n",
    "\n",
    "\n",
    "def addlabelToken(df):\n",
    "    customtoken=\"\"\n",
    "    if df.label==0:\n",
    "        customtoken=\"[Other]\"\n",
    "    elif df.label==1:\n",
    "        customtoken=\"[Green]\"\n",
    "    elif df.label==2:\n",
    "        customtoken=\"[Environmental]\"\n",
    "    elif df.label==3:\n",
    "        customtoken=\"[Social]\"\n",
    "    return customtoken+df.sentence\n",
    "\n",
    "def addTitle(df):\n",
    "    newsentence= \" [\"+\" \".join(str(df.title).split()[:25])+\" ] \"+df.sentence\n",
    "    return newsentence\n",
    "\n",
    "# def addTitle2(df):\n",
    "#     newsentence= \" \".join(str(df.title).split()[:25])+\" [NSEP] \"+df.sentence\n",
    "#     return newsentence\n",
    "\n",
    "# def replaceSpacetoDuplicatetitle(df):\n",
    "#     global duplicatetitles\n",
    "#     return df.title.apply(lambda x:\"\" if \"\".join([w[0] for w in x if w[0].isalnum()]).lower() in duplicatetitles else x)\n",
    "\n",
    "def convertlableDtype(df,dfname):\n",
    "    columns= [col for col in df if 'label' in col]\n",
    "    if df[columns].isnull().values.any():\n",
    "        print(\"change dtype of \" ,dfname)\n",
    "        df[columns]=df[columns].fillna(0)\n",
    "        for col in columns:\n",
    "            df[col] = df[col].astype('int')\n",
    "    df[[col for col in df if 'sentence' in col]]=df[[col for col in df if 'sentence' in col]].fillna(\"\")\n",
    "    df[[col for col in df if 'title' in col]]=df[[col for col in df if 'title' in col]].fillna(\"\")\n",
    "    df[[col for col in df if 'isTitle' in col]]=df[[col for col in df if 'isTitle' in col]].fillna(0)\n",
    "    return df\n",
    "\n",
    "def addTitleToDF(df):\n",
    "    global duplicatetitles\n",
    "    df['title']=df.title.apply(lambda x:\"\" if \"\".join([w[0] for w in x if w[0].isalnum()]).lower() in duplicatetitles else x)\n",
    "    df['sentence']=df.apply(addTitle,axis=1)"
   ]
  },
  {
   "cell_type": "code",
   "execution_count": 7,
   "id": "2616a105",
   "metadata": {
    "execution": {
     "iopub.execute_input": "2021-11-15T20:25:08.322894Z",
     "iopub.status.busy": "2021-11-15T20:25:08.320170Z",
     "iopub.status.idle": "2021-11-15T20:25:30.415880Z",
     "shell.execute_reply": "2021-11-15T20:25:30.415434Z",
     "shell.execute_reply.started": "2021-11-15T19:37:54.101245Z"
    },
    "papermill": {
     "duration": 22.126644,
     "end_time": "2021-11-15T20:25:30.416002",
     "exception": false,
     "start_time": "2021-11-15T20:25:08.289358",
     "status": "completed"
    },
    "tags": []
   },
   "outputs": [
    {
     "name": "stderr",
     "output_type": "stream",
     "text": [
      "/opt/conda/lib/python3.7/site-packages/IPython/core/interactiveshell.py:3441: DtypeWarning: Columns (11,15) have mixed types.Specify dtype option on import or set low_memory=False.\n",
      "  exec(code_obj, self.user_global_ns, self.user_ns)\n"
     ]
    },
    {
     "name": "stdout",
     "output_type": "stream",
     "text": [
      "change dtype of  abtrain\n",
      "SEPCIAL_TOKEN\n",
      "train123.label.value_counts :\n",
      "3    7012\n",
      "2    1498\n",
      "1     579\n",
      "Name: label, dtype: int64\n"
     ]
    }
   ],
   "source": [
    "column=['sid', 'sentence', 'html_id', 'label','title']\n",
    "\n",
    "PL1=pd.read_csv(pl1ConcatBCA_tsv)\n",
    "PL1=PL1[(PL1.label!=0) & (PL1.Hconf==True)]\n",
    "PL1=PL1[column]\n",
    "PL1=PL1.reset_index(drop=True)\n",
    "\n",
    "#Validation\n",
    "valdf=pd.read_csv(valConcatClean_tsv, sep='\\t') #not use\n",
    "# valdf.astype({\"label\": int})\n",
    "valab_df=pd.read_csv(valConcatBCA_tsv, sep='\\t')\n",
    "\n",
    "#Training\n",
    "cptrain=pd.read_csv(trainCompress_tsv, sep='\\t')\n",
    "cctrain=pd.read_csv(trainConcat_tsv, sep='\\t')\n",
    "abtrain=pd.read_csv(trainConcatBCA_tsv, sep='\\t')\n",
    "\n",
    "#Testing\n",
    "FNtestConcat_tsv=\"../input/inputegf/6BCACatFNTest.tsv\"\n",
    "FNcctest_df=pd.read_csv(FNtestConcat_tsv, sep='\\t')\n",
    "FNcctest_df=convertlableDtype(FNcctest_df,\"FNcctest\") # same process as valab_df\n",
    "\n",
    "\n",
    "# testdata=pd.read_csv(testdata_pkl, sep='\\t')\n",
    "# abtestdata=pd.read_csv(testConcatAB_path, sep='\\t')\n",
    "\n",
    "valdf=convertlableDtype(valdf,\"valdf\")\n",
    "valab_df=convertlableDtype(valab_df,\"valab_df\")\n",
    "cptrain=convertlableDtype(cptrain,\"cptrain\")\n",
    "cctrain=convertlableDtype(cctrain,\"cctrain\")\n",
    "abtrain=convertlableDtype(abtrain,\"abtrain\")\n",
    "# testdata=convertlableDtype(testdata,\"testdata\")\n",
    "# abtestdata=convertlableDtype(abtestdata,\"abtestdata\")\n",
    "\n",
    "valab_df=valab_df.rename({'sentence': 'ori_sentence'}, axis=1).rename({'Lsentence': 'sentence'}, axis=1) \n",
    "# abtestdata=abtestdata.rename({'sentence': 'ori_sentence'}, axis=1).rename({'Lsentence': 'sentence'}, axis=1) \n",
    "abtrain=abtrain.rename({'sentence': 'ori_sentence'}, axis=1).rename({'Lsentence': 'sentence'}, axis=1) \n",
    "\n",
    "\n",
    "\n",
    "if SEPCIAL_TOKEN is not None:\n",
    "    # get duplicate title between 0 and 123\n",
    "    df=pd.read_pickle(\"../input/inputegf/ztraindf.pkl\")\n",
    "    df['ttl']=df.title.apply(lambda x:\"\".join([w[0] for w in x if w[0].isalnum()]).lower())\n",
    "    df0title=df[df.label==0].ttl.value_counts().index.tolist()\n",
    "    df123title=df[df.label!=0].ttl.value_counts().index.tolist()\n",
    "    duplicatetitles=set(df0title) & set(df123title)\n",
    "    del df    \n",
    "\n",
    "    print(\"SEPCIAL_TOKEN\")\n",
    "    # preprocess title and sentence\n",
    "    addTitleToDF(PL1)\n",
    "    addTitleToDF(cptrain)\n",
    "    addTitleToDF(cctrain)\n",
    "#     addTitleToDF(testdata)\n",
    "    addTitleToDF(abtrain)\n",
    "    addTitleToDF(valdf)\n",
    "    addTitleToDF(valab_df)\n",
    "    addTitleToDF(FNcctest_df)\n",
    "\n",
    "#make train0 for TRAINDF\n",
    "cptrain0=cptrain[cptrain.label==0].sample(frac=1,random_state = RANDOM_SEED+1)[:1000]\n",
    "cctrain0=cctrain[cctrain.label==0].sample(frac=1,random_state = RANDOM_SEED+2)[:5000]\n",
    "abtrain0=abtrain[abtrain.label==0].sample(frac=1,random_state = RANDOM_SEED+3)[:3000]\n",
    "train0=pd.concat([cptrain0[column],cctrain0[column],abtrain0[column]])\n",
    "\n",
    "#make train123 for TRAINDF\n",
    "cptrain123=cptrain[cptrain.label!=0]\n",
    "cctrain123=cctrain[cctrain.label!=0]\n",
    "abtrain123=abtrain[abtrain.label!=0]\n",
    "train123=pd.concat([cptrain123[column],cctrain123[column],abtrain123[column]])\n",
    "\n",
    "\n",
    "print(\"train123.label.value_counts :\")\n",
    "print(train123.label.value_counts())\n"
   ]
  },
  {
   "cell_type": "code",
   "execution_count": 8,
   "id": "b8cd4c4c",
   "metadata": {
    "execution": {
     "iopub.execute_input": "2021-11-15T20:25:30.474766Z",
     "iopub.status.busy": "2021-11-15T20:25:30.473812Z",
     "iopub.status.idle": "2021-11-15T20:25:31.007549Z",
     "shell.execute_reply": "2021-11-15T20:25:31.007936Z",
     "shell.execute_reply.started": "2021-11-15T19:38:21.84175Z"
    },
    "papermill": {
     "duration": 0.570418,
     "end_time": "2021-11-15T20:25:31.008084",
     "exception": false,
     "start_time": "2021-11-15T20:25:30.437666",
     "status": "completed"
    },
    "tags": []
   },
   "outputs": [
    {
     "name": "stdout",
     "output_type": "stream",
     "text": [
      "0:\n",
      "2    502\n",
      "0    497\n",
      "3    434\n",
      "1    188\n",
      "Name: label, dtype: int64\n",
      "------------\n",
      "1:\n",
      "0    5565\n",
      "3    4925\n",
      "2    1149\n",
      "1     478\n",
      "Name: label, dtype: int64\n",
      "------------\n",
      "Val0\n",
      "0    794\n",
      "3    397\n",
      "2     65\n",
      "1     20\n",
      "Name: label, dtype: int64\n"
     ]
    },
    {
     "name": "stderr",
     "output_type": "stream",
     "text": [
      "/opt/conda/lib/python3.7/site-packages/pandas/util/_decorators.py:311: SettingWithCopyWarning: \n",
      "A value is trying to be set on a copy of a slice from a DataFrame\n",
      "\n",
      "See the caveats in the documentation: https://pandas.pydata.org/pandas-docs/stable/user_guide/indexing.html#returning-a-view-versus-a-copy\n",
      "  return func(*args, **kwargs)\n"
     ]
    },
    {
     "name": "stdout",
     "output_type": "stream",
     "text": [
      "Val1\n",
      "0    816\n",
      "3    408\n",
      "2     66\n",
      "1     23\n",
      "Name: label, dtype: int64\n"
     ]
    },
    {
     "name": "stderr",
     "output_type": "stream",
     "text": [
      "/opt/conda/lib/python3.7/site-packages/pandas/util/_decorators.py:311: SettingWithCopyWarning: \n",
      "A value is trying to be set on a copy of a slice from a DataFrame\n",
      "\n",
      "See the caveats in the documentation: https://pandas.pydata.org/pandas-docs/stable/user_guide/indexing.html#returning-a-view-versus-a-copy\n",
      "  return func(*args, **kwargs)\n"
     ]
    },
    {
     "data": {
      "text/plain": [
       "'len(traindatagp) :'"
      ]
     },
     "metadata": {},
     "output_type": "display_data"
    },
    {
     "data": {
      "text/plain": [
       "2"
      ]
     },
     "metadata": {},
     "output_type": "display_data"
    },
    {
     "data": {
      "text/plain": [
       "'len(valdatagp) :'"
      ]
     },
     "metadata": {},
     "output_type": "display_data"
    },
    {
     "data": {
      "text/plain": [
       "2"
      ]
     },
     "metadata": {},
     "output_type": "display_data"
    },
    {
     "name": "stdout",
     "output_type": "stream",
     "text": [
      "train\n",
      "(1621, 5)\n",
      "(12117, 5)\n",
      "val\n",
      "\n",
      "(1276, 6)\n",
      "(1313, 15)\n"
     ]
    }
   ],
   "source": [
    "def loadData(fold):\n",
    "    train0L = train0[~train0['html_id'].isin(CV_DICT[fold])]\n",
    "    train123L = train123[~train123['html_id'].isin(CV_DICT[fold])]\n",
    "    traindatagp=[]\n",
    "    train0SampleSize=len(train123L[train123L.label==3])\n",
    "    for i in range(EPOCHS):\n",
    "        if i==0:\n",
    "            t0=train0L.sample(500,random_state = RANDOM_SEED+i)\n",
    "            trainAll=pd.concat([t0,PL1]).sample(frac=1)\n",
    "        else:\n",
    "            t0=train0L.sample(train0SampleSize,random_state = RANDOM_SEED+i)\n",
    "            trainAll=pd.concat([train123L,t0]).sample(frac=1)\n",
    "        trainAll.drop_duplicates(subset=['sentence'],inplace=True)\n",
    "        trainAll.dropna(inplace=True)\n",
    "        trainAll.reset_index(drop=True,inplace=True)\n",
    "        print(f\"{i}:\")\n",
    "#         print(len(trainAll.index))\n",
    "        print(trainAll.label.value_counts())\n",
    "        traindatagp.append(trainAll.reset_index(drop=True))\n",
    "        print(\"------------\")\n",
    "    \n",
    "\n",
    "    valdatagp=[]\n",
    "    for i,valdata in enumerate([valdf,valab_df]):\n",
    "        print(f\"Val{i}\")\n",
    "        valdata=valdata[valdata['html_id'].isin(CV_DICT[fold])]\n",
    "        if PSEUDO:\n",
    "            valdata.drop_duplicates(subset=['sentence'],inplace=True)\n",
    "        valdata0=valdata[valdata.label==0].sample(frac=1,random_state = 987)[:len((valdata[valdata.label==3].index))*2]\n",
    "        valdata123=valdata[valdata.label!=0]\n",
    "        valdata=pd.concat([valdata0,valdata123])\n",
    "        valdata=valdata.sort_values(['html_id', 'sid'], ascending=[True, True])\n",
    "        valdata.reset_index(drop=True,inplace=True)\n",
    "        print(valdata.label.value_counts())\n",
    "        display(valdata.head(3))\n",
    "        valdatagp.append(valdata)\n",
    "    \n",
    "    display(\"len(traindatagp) :\",len(traindatagp) )\n",
    "    display(\"len(valdatagp) :\",len(valdatagp) )\n",
    "    return traindatagp,valdatagp\n",
    "\n",
    "traindatagptmp,valdatagptmp=loadData(3)\n",
    "\n",
    "print(\"train\")\n",
    "for i,dt in enumerate(traindatagptmp):\n",
    "    print(dt.shape)\n",
    "    dt.to_csv(f\"{OUT_BASEPATH}/{i}train_tmp.tsv\",sep='\\t')\n",
    "    \n",
    "print(\"val\")\n",
    "print()\n",
    "for i,dt in enumerate(valdatagptmp):\n",
    "    print(dt.shape)\n",
    "    dt.to_csv(f\"{OUT_BASEPATH}/{i}val_tmp.tsv\",sep='\\t')\n",
    "    \n",
    "num_training_steps_wepoch=np.sum([len(df.index) for df in traindatagptmp])\n",
    "warmup_step=int(len(traindatagptmp[0])/EPOCHS)"
   ]
  },
  {
   "cell_type": "code",
   "execution_count": 9,
   "id": "9a2e0f5d",
   "metadata": {
    "execution": {
     "iopub.execute_input": "2021-11-15T20:25:31.061915Z",
     "iopub.status.busy": "2021-11-15T20:25:31.061129Z",
     "iopub.status.idle": "2021-11-15T20:25:31.063639Z",
     "shell.execute_reply": "2021-11-15T20:25:31.063171Z",
     "shell.execute_reply.started": "2021-11-15T19:38:22.422823Z"
    },
    "papermill": {
     "duration": 0.030856,
     "end_time": "2021-11-15T20:25:31.063739",
     "exception": false,
     "start_time": "2021-11-15T20:25:31.032883",
     "status": "completed"
    },
    "tags": []
   },
   "outputs": [],
   "source": [
    "# def loadData(fold):\n",
    "#     train0L = train0[~train0['html_id'].isin(CV_DICT[fold])]\n",
    "#     train123L = train123[~train123['html_id'].isin(CV_DICT[fold])]\n",
    "#     traindatagp=[]\n",
    "#     train0SampleSize=len(train123L[train123L.label==3])\n",
    "#     for i in range(EPOCHS):\n",
    "#         t0=train0L.sample(500,random_state = RANDOM_SEED+i)\n",
    "#         trainAll=pd.concat([train123L,t0]).sample(frac=1)\n",
    "#         if EPOCHS<2:\n",
    "#             trainAll=pd.concat([trainAll,PL1]).sample(frac=1)\n",
    "#         trainAll.drop_duplicates(subset=['sentence'],inplace=True)\n",
    "#         trainAll.dropna(inplace=True)\n",
    "#         trainAll.reset_index(drop=True,inplace=True)\n",
    "#         print(f\"{i}:\")\n",
    "# #         print(len(trainAll.index))\n",
    "#         print(trainAll.label.value_counts())\n",
    "#         traindatagp.append(trainAll.reset_index(drop=True))\n",
    "#         print(\"------------\")\n",
    "    \n",
    "\n",
    "#     valdatagp=[]\n",
    "#     for i,valdata in enumerate([valdf,valab_df]):\n",
    "#         print(f\"Val{i}\")\n",
    "#         valdata=valdata[valdata['html_id'].isin(CV_DICT[fold])]\n",
    "#         if PSEUDO:\n",
    "#             valdata.drop_duplicates(subset=['sentence'],inplace=True)\n",
    "#         valdata0=valdata[valdata.label==0].sample(frac=1,random_state = 987)[:len((valdata[valdata.label==3].index))*2]\n",
    "#         valdata123=valdata[valdata.label!=0]\n",
    "#         valdata=pd.concat([valdata0,valdata123])\n",
    "#         valdata=valdata.sort_values(['html_id', 'sid'], ascending=[True, True])\n",
    "#         valdata.reset_index(drop=True,inplace=True)\n",
    "#         print(valdata.label.value_counts())\n",
    "#         display(valdata.head(3))\n",
    "#         valdatagp.append(valdata)\n",
    "    \n",
    "#     display(\"len(traindatagp) :\",len(traindatagp) )\n",
    "#     display(\"len(valdatagp) :\",len(valdatagp) )\n",
    "#     return traindatagp,valdatagp\n",
    "\n",
    "# traindatagp,valdatagp=loadData(3)\n",
    "\n",
    "# print(\"train\")\n",
    "# for i,dt in enumerate(traindatagp):\n",
    "#     print(dt.shape)\n",
    "# #     dt.to_csv(f\"{OUT_BASEPATH}/{i}train_tmp.tsv\",sep='\\t')\n",
    "    \n",
    "# print(\"val\")\n",
    "# print()\n",
    "# for i,dt in enumerate(valdatagp):\n",
    "#     print(dt.shape)\n",
    "# #     dt.to_csv(f\"{OUT_BASEPATH}/{i}val_tmp.tsv\",sep='\\t')\n",
    "    \n",
    "# num_training_steps_wepoch=np.sum([len(df.index) for df in traindatagp])"
   ]
  },
  {
   "cell_type": "code",
   "execution_count": 10,
   "id": "c055c63f",
   "metadata": {
    "execution": {
     "iopub.execute_input": "2021-11-15T20:25:31.117050Z",
     "iopub.status.busy": "2021-11-15T20:25:31.116283Z",
     "iopub.status.idle": "2021-11-15T20:25:31.118872Z",
     "shell.execute_reply": "2021-11-15T20:25:31.118425Z",
     "shell.execute_reply.started": "2021-11-15T19:38:22.432462Z"
    },
    "papermill": {
     "duration": 0.031493,
     "end_time": "2021-11-15T20:25:31.118975",
     "exception": false,
     "start_time": "2021-11-15T20:25:31.087482",
     "status": "completed"
    },
    "tags": []
   },
   "outputs": [],
   "source": [
    "# # for debugging scheduelr\n",
    "# for fold in CV_DICT.keys():\n",
    "#     print(f'validation data -> {fold}: {CV_DICT[3]} ')\n",
    "# #     tokenizer,model,optimizer= loadmodel(MODEL_NAME,specialtoken=SEPCIAL_TOKEN)\n",
    "    \n",
    "#     scheduler = transformers.get_linear_schedule_with_warmup(                \n",
    "#                     optimizer = optimizer,\n",
    "#                     num_warmup_steps = 50,\n",
    "#                     num_training_steps = num_training_steps_wepoch/TRAIN_BATCH_SIZE\n",
    "#     )\n",
    "#     traindatagps,valdatagp =loadData(fold)\n",
    "#     data_collator = DataCollatorWithPadding(tokenizer=tokenizer)\n",
    "#     train_params = {'batch_size': TRAIN_BATCH_SIZE,\n",
    "#                     'pin_memory': True,\n",
    "#                     'num_workers': 0,\n",
    "#                     'collate_fn':data_collator,\n",
    "#                     'shuffle':True\n",
    "#                     }\n",
    "#     for epoch in range(EPOCHS):\n",
    "#         trainset = CustomDataset(traindata, tokenizer, MAX_LEN)\n",
    "#         train_dataloader = DataLoader(trainset, **train_params)\n",
    "#         for step,batch in enumerate(tqdm(train_dataloader)):\n",
    "#             pass\n",
    "#     break\n",
    "# ### another cell\n",
    "# scheduler = transformers.get_linear_schedule_with_warmup(                \n",
    "#                  optimizer = optimizer,\n",
    "#                  num_warmup_steps = 50,\n",
    "#                  num_training_steps = num_training_steps_wepoch/TRAIN_BATCH_SIZE\n",
    "#  )\n",
    "# lr_list = []\n",
    "\n",
    "# for epoch in range(EPOCHS):\n",
    "#     for step,batch in enumerate(tqdm(train_dataloader)):\n",
    "#         lr_list.append(optimizer.param_groups[0][\"lr\"])\n",
    "#         scheduler.step()  \n",
    "        \n",
    "# def plot_lr_schedule(learning_rates):\n",
    "#     x = np.arange(len(learning_rates))\n",
    "#     plt.plot(x, learning_rates)\n",
    "#     plt.title(f'Linear schedule')\n",
    "#     plt.ylabel(\"Learning Rate\")\n",
    "#     plt.xlabel(\"Training Steps\")\n",
    "#     plt.show()\n",
    "# plot_lr_schedule(lr_list)\n",
    "        "
   ]
  },
  {
   "cell_type": "code",
   "execution_count": 11,
   "id": "cbb95c08",
   "metadata": {
    "execution": {
     "iopub.execute_input": "2021-11-15T20:25:31.171534Z",
     "iopub.status.busy": "2021-11-15T20:25:31.170807Z",
     "iopub.status.idle": "2021-11-15T20:25:31.172725Z",
     "shell.execute_reply": "2021-11-15T20:25:31.173126Z",
     "shell.execute_reply.started": "2021-11-15T19:38:22.452055Z"
    },
    "papermill": {
     "duration": 0.029903,
     "end_time": "2021-11-15T20:25:31.173258",
     "exception": false,
     "start_time": "2021-11-15T20:25:31.143355",
     "status": "completed"
    },
    "tags": []
   },
   "outputs": [],
   "source": [
    "# trainset = CustomDataset(FNcctest_df, tokenizer, MAX_LEN,labelexist)\n",
    "# test_dataloader=DataLoader(trainset,**val_params)\n",
    "\n",
    "\n",
    "# def PredictTest(model,test_dataloader,testdata):\n",
    "#     model.eval()\n",
    "#     logitsoutput=[]\n",
    "#     with torch.no_grad():\n",
    "#         for i,batch in enumerate(tqdm(test_dataloader)):\n",
    "#             batch = {k: v.to(device) for k, v in batch.items()}\n",
    "#             outputs = model(**batch)\n",
    "#             loss,logits=outputs[:2]\n",
    "#             logitsoutput.extend(logits.cpu().detach().numpy())\n",
    "#         testdata[f'logits{fold}']=logitsoutput\n",
    "#         testdata[f'predictions{fold}']=testdata[f'logits{fold}'].apply(lambda x:x.argmax())\n",
    "#         testdata[f'confidence{fold}']=testdata[f'logits{fold}'].apply(lambda x:np.array([torch.sigmoid(torch.tensor(i)).numpy()*100 for i in x ]))\n",
    "# return testdata\n"
   ]
  },
  {
   "cell_type": "code",
   "execution_count": 12,
   "id": "cf770c68",
   "metadata": {
    "execution": {
     "iopub.execute_input": "2021-11-15T20:25:31.271244Z",
     "iopub.status.busy": "2021-11-15T20:25:31.226081Z",
     "iopub.status.idle": "2021-11-15T21:37:45.409457Z",
     "shell.execute_reply": "2021-11-15T21:37:45.409901Z",
     "shell.execute_reply.started": "2021-11-15T19:38:22.466876Z"
    },
    "papermill": {
     "duration": 4334.211676,
     "end_time": "2021-11-15T21:37:45.410055",
     "exception": false,
     "start_time": "2021-11-15T20:25:31.198379",
     "status": "completed"
    },
    "tags": []
   },
   "outputs": [
    {
     "name": "stdout",
     "output_type": "stream",
     "text": [
      "Epoches Count : 2\n",
      "USE_AML  True\n",
      "roberta-base\n",
      "validation data -> 1: ['Form10k_65', 'Form10k_44', 'Form10k_74', 'Form10k_01'] \n"
     ]
    },
    {
     "data": {
      "application/vnd.jupyter.widget-view+json": {
       "model_id": "659af50b3b6140fdadef73277143fcd1",
       "version_major": 2,
       "version_minor": 0
      },
      "text/plain": [
       "Downloading:   0%|          | 0.00/481 [00:00<?, ?B/s]"
      ]
     },
     "metadata": {},
     "output_type": "display_data"
    },
    {
     "data": {
      "application/vnd.jupyter.widget-view+json": {
       "model_id": "77891926c2054547a164912e4b355450",
       "version_major": 2,
       "version_minor": 0
      },
      "text/plain": [
       "Downloading:   0%|          | 0.00/899k [00:00<?, ?B/s]"
      ]
     },
     "metadata": {},
     "output_type": "display_data"
    },
    {
     "data": {
      "application/vnd.jupyter.widget-view+json": {
       "model_id": "04f368e86fbd44aa9d8d03ffec9237da",
       "version_major": 2,
       "version_minor": 0
      },
      "text/plain": [
       "Downloading:   0%|          | 0.00/456k [00:00<?, ?B/s]"
      ]
     },
     "metadata": {},
     "output_type": "display_data"
    },
    {
     "data": {
      "application/vnd.jupyter.widget-view+json": {
       "model_id": "8e46b0d0113740318811c056ae386b21",
       "version_major": 2,
       "version_minor": 0
      },
      "text/plain": [
       "Downloading:   0%|          | 0.00/1.36M [00:00<?, ?B/s]"
      ]
     },
     "metadata": {},
     "output_type": "display_data"
    },
    {
     "data": {
      "application/vnd.jupyter.widget-view+json": {
       "model_id": "74f77aac7884425690464a61cf229fa4",
       "version_major": 2,
       "version_minor": 0
      },
      "text/plain": [
       "Downloading:   0%|          | 0.00/501M [00:00<?, ?B/s]"
      ]
     },
     "metadata": {},
     "output_type": "display_data"
    },
    {
     "name": "stdout",
     "output_type": "stream",
     "text": [
      "['[NSEP]'] 4 2e-05\n",
      "0:\n",
      "2    502\n",
      "0    498\n",
      "3    434\n",
      "1    188\n",
      "Name: label, dtype: int64\n",
      "------------\n",
      "1:\n",
      "0    5526\n",
      "3    4865\n",
      "2    1278\n",
      "1     517\n",
      "Name: label, dtype: int64\n",
      "------------\n",
      "Val0\n",
      "0    760\n",
      "3    380\n",
      "2     22\n",
      "1      5\n",
      "Name: label, dtype: int64\n"
     ]
    },
    {
     "name": "stderr",
     "output_type": "stream",
     "text": [
      "/opt/conda/lib/python3.7/site-packages/pandas/util/_decorators.py:311: SettingWithCopyWarning: \n",
      "A value is trying to be set on a copy of a slice from a DataFrame\n",
      "\n",
      "See the caveats in the documentation: https://pandas.pydata.org/pandas-docs/stable/user_guide/indexing.html#returning-a-view-versus-a-copy\n",
      "  return func(*args, **kwargs)\n"
     ]
    },
    {
     "name": "stdout",
     "output_type": "stream",
     "text": [
      "Val1\n",
      "0    844\n",
      "3    422\n",
      "2     22\n",
      "1      5\n",
      "Name: label, dtype: int64\n"
     ]
    },
    {
     "name": "stderr",
     "output_type": "stream",
     "text": [
      "/opt/conda/lib/python3.7/site-packages/pandas/util/_decorators.py:311: SettingWithCopyWarning: \n",
      "A value is trying to be set on a copy of a slice from a DataFrame\n",
      "\n",
      "See the caveats in the documentation: https://pandas.pydata.org/pandas-docs/stable/user_guide/indexing.html#returning-a-view-versus-a-copy\n",
      "  return func(*args, **kwargs)\n"
     ]
    },
    {
     "data": {
      "text/plain": [
       "'len(traindatagp) :'"
      ]
     },
     "metadata": {},
     "output_type": "display_data"
    },
    {
     "data": {
      "text/plain": [
       "2"
      ]
     },
     "metadata": {},
     "output_type": "display_data"
    },
    {
     "data": {
      "text/plain": [
       "'len(valdatagp) :'"
      ]
     },
     "metadata": {},
     "output_type": "display_data"
    },
    {
     "data": {
      "text/plain": [
       "2"
      ]
     },
     "metadata": {},
     "output_type": "display_data"
    },
    {
     "name": "stdout",
     "output_type": "stream",
     "text": [
      "Max len :400\n",
      "Size of the whole VAL dataset :1293\n",
      "VAL Loader : batchsize 16  :81\n",
      "Size of the whole TRAIN dataset :1622\n",
      "TRAIN Loader :batchsize 16  :102\n",
      "Validate after evey : 100 iterations\n",
      "<<<<<<  Epoch: 1/2 OF CV: 1  >>>>>>\n"
     ]
    },
    {
     "name": "stderr",
     "output_type": "stream",
     "text": [
      "  0%|          | 0/102 [00:00<?, ?it/s]/opt/conda/lib/python3.7/site-packages/torch/optim/lr_scheduler.py:134: UserWarning: Detected call of `lr_scheduler.step()` before `optimizer.step()`. In PyTorch 1.1.0 and later, you should call them in the opposite order: `optimizer.step()` before `lr_scheduler.step()`.  Failure to do this will result in PyTorch skipping the first value of the learning rate schedule. See more details at https://pytorch.org/docs/stable/optim.html#how-to-adjust-learning-rate\n",
      "  \"https://pytorch.org/docs/stable/optim.html#how-to-adjust-learning-rate\", UserWarning)\n",
      " 98%|█████████▊| 100/102 [01:39<00:15,  7.62s/it]"
     ]
    },
    {
     "name": "stdout",
     "output_type": "stream",
     "text": [
      "f1 score: 0.42805722626652737\n",
      "best_trainloss: 0.04249752044677734\n",
      "best_valoss: 0.03771237011390975\n"
     ]
    },
    {
     "name": "stderr",
     "output_type": "stream",
     "text": [
      "100%|██████████| 102/102 [01:40<00:00,  1.01it/s]\n"
     ]
    },
    {
     "name": "stdout",
     "output_type": "stream",
     "text": [
      "Size of the whole TRAIN dataset :12186\n",
      "TRAIN Loader :batchsize 16  :762\n",
      "Validate after evey : 100 iterations\n",
      "<<<<<<  Epoch: 2/2 OF CV: 1  >>>>>>\n"
     ]
    },
    {
     "name": "stderr",
     "output_type": "stream",
     "text": [
      " 13%|█▎        | 100/762 [01:44<1:26:04,  7.80s/it]"
     ]
    },
    {
     "name": "stdout",
     "output_type": "stream",
     "text": [
      "f1 score: 0.7814799645133578\n",
      "best_trainloss: 0.03390979290008545\n",
      "best_valoss: 0.02114343716945191\n"
     ]
    },
    {
     "name": "stderr",
     "output_type": "stream",
     "text": [
      " 26%|██▌       | 200/762 [03:23<1:09:41,  7.44s/it]"
     ]
    },
    {
     "name": "stdout",
     "output_type": "stream",
     "text": [
      "f1 score: 0.826313802764689\n",
      "best_trainloss: 0.01967880070209503\n",
      "best_valoss: 0.013260473063963265\n"
     ]
    },
    {
     "name": "stderr",
     "output_type": "stream",
     "text": [
      " 39%|███▉      | 300/762 [05:05<59:45,  7.76s/it]"
     ]
    },
    {
     "name": "stdout",
     "output_type": "stream",
     "text": [
      "f1 score: 0.8179470811359337\n",
      "best_trainloss: 0.0106745096296072\n",
      "best_valoss: 0.012833969721935073\n"
     ]
    },
    {
     "name": "stderr",
     "output_type": "stream",
     "text": [
      " 52%|█████▏    | 400/762 [06:42<44:23,  7.36s/it]"
     ]
    },
    {
     "name": "stdout",
     "output_type": "stream",
     "text": [
      "f1 score: 0.8533689726346428\n",
      "best_trainloss: 0.010680735781788827\n",
      "best_valoss: 0.0103011388948932\n"
     ]
    },
    {
     "name": "stderr",
     "output_type": "stream",
     "text": [
      "100%|██████████| 762/762 [12:32<00:00,  1.01it/s]\n"
     ]
    },
    {
     "name": "stdout",
     "output_type": "stream",
     "text": [
      "saving\n"
     ]
    },
    {
     "data": {
      "text/html": [
       "<div>\n",
       "<style scoped>\n",
       "    .dataframe tbody tr th:only-of-type {\n",
       "        vertical-align: middle;\n",
       "    }\n",
       "\n",
       "    .dataframe tbody tr th {\n",
       "        vertical-align: top;\n",
       "    }\n",
       "\n",
       "    .dataframe thead th {\n",
       "        text-align: right;\n",
       "    }\n",
       "</style>\n",
       "<table border=\"1\" class=\"dataframe\">\n",
       "  <thead>\n",
       "    <tr style=\"text-align: right;\">\n",
       "      <th></th>\n",
       "      <th>fold</th>\n",
       "      <th>f1_weighted</th>\n",
       "      <th>vallosses</th>\n",
       "      <th>trainlosses</th>\n",
       "    </tr>\n",
       "  </thead>\n",
       "  <tbody>\n",
       "    <tr>\n",
       "      <th>0</th>\n",
       "      <td>1.0</td>\n",
       "      <td>0.853369</td>\n",
       "      <td>0.010301</td>\n",
       "      <td>0.010681</td>\n",
       "    </tr>\n",
       "  </tbody>\n",
       "</table>\n",
       "</div>"
      ],
      "text/plain": [
       "   fold  f1_weighted  vallosses  trainlosses\n",
       "0   1.0     0.853369   0.010301     0.010681"
      ]
     },
     "metadata": {},
     "output_type": "display_data"
    },
    {
     "data": {
      "image/png": "[encoded data removed]",
      "text/plain": [
       "<Figure size 1080x360 with 2 Axes>"
      ]
     },
     "metadata": {
      "needs_background": "light"
     },
     "output_type": "display_data"
    },
    {
     "data": {
      "image/png": "[encoded data removed]",
      "text/plain": [
       "<Figure size 432x288 with 1 Axes>"
      ]
     },
     "metadata": {
      "needs_background": "light"
     },
     "output_type": "display_data"
    },
    {
     "data": {
      "image/png": "[encoded data removed]",
      "text/plain": [
       "<Figure size 1080x360 with 4 Axes>"
      ]
     },
     "metadata": {},
     "output_type": "display_data"
    },
    {
     "name": "stdout",
     "output_type": "stream",
     "text": [
      "roberta-base\n",
      "validation data -> 2: ['Form10k_61', 'Form10k_22', 'Form10k_14', 'Form10k_23'] \n",
      "['[NSEP]'] 4 2e-05\n",
      "0:\n",
      "2    502\n",
      "0    499\n",
      "3    434\n",
      "1    188\n",
      "Name: label, dtype: int64\n",
      "------------\n",
      "1:\n",
      "0    5417\n",
      "3    4769\n",
      "2    1296\n",
      "1     519\n",
      "Name: label, dtype: int64\n",
      "------------\n",
      "Val0\n",
      "0    874\n",
      "3    437\n",
      "2     16\n",
      "1      3\n",
      "Name: label, dtype: int64\n"
     ]
    },
    {
     "name": "stderr",
     "output_type": "stream",
     "text": [
      "/opt/conda/lib/python3.7/site-packages/pandas/util/_decorators.py:311: SettingWithCopyWarning: \n",
      "A value is trying to be set on a copy of a slice from a DataFrame\n",
      "\n",
      "See the caveats in the documentation: https://pandas.pydata.org/pandas-docs/stable/user_guide/indexing.html#returning-a-view-versus-a-copy\n",
      "  return func(*args, **kwargs)\n"
     ]
    },
    {
     "name": "stdout",
     "output_type": "stream",
     "text": [
      "Val1\n",
      "0    928\n",
      "3    464\n",
      "2     16\n",
      "1      3\n",
      "Name: label, dtype: int64\n"
     ]
    },
    {
     "name": "stderr",
     "output_type": "stream",
     "text": [
      "/opt/conda/lib/python3.7/site-packages/pandas/util/_decorators.py:311: SettingWithCopyWarning: \n",
      "A value is trying to be set on a copy of a slice from a DataFrame\n",
      "\n",
      "See the caveats in the documentation: https://pandas.pydata.org/pandas-docs/stable/user_guide/indexing.html#returning-a-view-versus-a-copy\n",
      "  return func(*args, **kwargs)\n"
     ]
    },
    {
     "data": {
      "text/plain": [
       "'len(traindatagp) :'"
      ]
     },
     "metadata": {},
     "output_type": "display_data"
    },
    {
     "data": {
      "text/plain": [
       "2"
      ]
     },
     "metadata": {},
     "output_type": "display_data"
    },
    {
     "data": {
      "text/plain": [
       "'len(valdatagp) :'"
      ]
     },
     "metadata": {},
     "output_type": "display_data"
    },
    {
     "data": {
      "text/plain": [
       "2"
      ]
     },
     "metadata": {},
     "output_type": "display_data"
    },
    {
     "name": "stdout",
     "output_type": "stream",
     "text": [
      "Max len :400\n",
      "Size of the whole VAL dataset :1411\n",
      "VAL Loader : batchsize 16  :89\n",
      "Size of the whole TRAIN dataset :1623\n",
      "TRAIN Loader :batchsize 16  :102\n",
      "Validate after evey : 100 iterations\n",
      "<<<<<<  Epoch: 1/2 OF CV: 2  >>>>>>\n"
     ]
    },
    {
     "name": "stderr",
     "output_type": "stream",
     "text": [
      "  0%|          | 0/102 [00:00<?, ?it/s]/opt/conda/lib/python3.7/site-packages/torch/optim/lr_scheduler.py:134: UserWarning: Detected call of `lr_scheduler.step()` before `optimizer.step()`. In PyTorch 1.1.0 and later, you should call them in the opposite order: `optimizer.step()` before `lr_scheduler.step()`.  Failure to do this will result in PyTorch skipping the first value of the learning rate schedule. See more details at https://pytorch.org/docs/stable/optim.html#how-to-adjust-learning-rate\n",
      "  \"https://pytorch.org/docs/stable/optim.html#how-to-adjust-learning-rate\", UserWarning)\n",
      " 98%|█████████▊| 100/102 [01:43<00:17,  8.59s/it]"
     ]
    },
    {
     "name": "stdout",
     "output_type": "stream",
     "text": [
      "f1 score: 0.3161346835442975\n",
      "best_trainloss: 0.041796083450317385\n",
      "best_valoss: 0.03840127549299866\n"
     ]
    },
    {
     "name": "stderr",
     "output_type": "stream",
     "text": [
      "100%|██████████| 102/102 [01:45<00:00,  1.03s/it]\n"
     ]
    },
    {
     "name": "stdout",
     "output_type": "stream",
     "text": [
      "Size of the whole TRAIN dataset :12001\n",
      "TRAIN Loader :batchsize 16  :751\n",
      "Validate after evey : 100 iterations\n",
      "<<<<<<  Epoch: 2/2 OF CV: 2  >>>>>>\n"
     ]
    },
    {
     "name": "stderr",
     "output_type": "stream",
     "text": [
      " 13%|█▎        | 99/751 [01:17<08:15,  1.32it/s]"
     ]
    },
    {
     "name": "stdout",
     "output_type": "stream",
     "text": [
      "f1 score: 0.7373983400357665\n",
      "best_trainloss: 0.03357926368713379\n",
      "best_valoss: 0.02332796699226874\n"
     ]
    },
    {
     "name": "stderr",
     "output_type": "stream",
     "text": [
      " 27%|██▋       | 200/751 [03:32<1:17:44,  8.47s/it]"
     ]
    },
    {
     "name": "stdout",
     "output_type": "stream",
     "text": [
      "f1 score: 0.8717768047754355\n",
      "best_trainloss: 0.02098655104637146\n",
      "best_valoss: 0.01126811211805957\n"
     ]
    },
    {
     "name": "stderr",
     "output_type": "stream",
     "text": [
      " 67%|██████▋   | 500/751 [08:44<35:34,  8.50s/it]"
     ]
    },
    {
     "name": "stdout",
     "output_type": "stream",
     "text": [
      "f1 score: 0.8863342229332499\n",
      "best_trainloss: 0.0031739078958829244\n",
      "best_valoss: 0.009826803445607466\n"
     ]
    },
    {
     "name": "stderr",
     "output_type": "stream",
     "text": [
      " 80%|███████▉  | 600/751 [10:30<21:29,  8.54s/it]"
     ]
    },
    {
     "name": "stdout",
     "output_type": "stream",
     "text": [
      "f1 score: 0.8779568903908133\n",
      "best_trainloss: 0.008438384123146535\n",
      "best_valoss: 0.009082839793237197\n"
     ]
    },
    {
     "name": "stderr",
     "output_type": "stream",
     "text": [
      "100%|██████████| 751/751 [12:52<00:00,  1.03s/it]\n"
     ]
    },
    {
     "name": "stdout",
     "output_type": "stream",
     "text": [
      "saving\n"
     ]
    },
    {
     "data": {
      "text/html": [
       "<div>\n",
       "<style scoped>\n",
       "    .dataframe tbody tr th:only-of-type {\n",
       "        vertical-align: middle;\n",
       "    }\n",
       "\n",
       "    .dataframe tbody tr th {\n",
       "        vertical-align: top;\n",
       "    }\n",
       "\n",
       "    .dataframe thead th {\n",
       "        text-align: right;\n",
       "    }\n",
       "</style>\n",
       "<table border=\"1\" class=\"dataframe\">\n",
       "  <thead>\n",
       "    <tr style=\"text-align: right;\">\n",
       "      <th></th>\n",
       "      <th>fold</th>\n",
       "      <th>f1_weighted</th>\n",
       "      <th>vallosses</th>\n",
       "      <th>trainlosses</th>\n",
       "    </tr>\n",
       "  </thead>\n",
       "  <tbody>\n",
       "    <tr>\n",
       "      <th>0</th>\n",
       "      <td>1.0</td>\n",
       "      <td>0.853369</td>\n",
       "      <td>0.010301</td>\n",
       "      <td>0.010681</td>\n",
       "    </tr>\n",
       "    <tr>\n",
       "      <th>1</th>\n",
       "      <td>2.0</td>\n",
       "      <td>0.877957</td>\n",
       "      <td>0.009083</td>\n",
       "      <td>0.008438</td>\n",
       "    </tr>\n",
       "  </tbody>\n",
       "</table>\n",
       "</div>"
      ],
      "text/plain": [
       "   fold  f1_weighted  vallosses  trainlosses\n",
       "0   1.0     0.853369   0.010301     0.010681\n",
       "1   2.0     0.877957   0.009083     0.008438"
      ]
     },
     "metadata": {},
     "output_type": "display_data"
    },
    {
     "data": {
      "image/png": "[encoded data removed]",
      "text/plain": [
       "<Figure size 1080x360 with 2 Axes>"
      ]
     },
     "metadata": {},
     "output_type": "display_data"
    },
    {
     "data": {
      "image/png": "[encoded data removed]",
      "text/plain": [
       "<Figure size 432x288 with 1 Axes>"
      ]
     },
     "metadata": {},
     "output_type": "display_data"
    },
    {
     "data": {
      "image/png": "[encoded data removed]",
      "text/plain": [
       "<Figure size 1080x360 with 4 Axes>"
      ]
     },
     "metadata": {},
     "output_type": "display_data"
    },
    {
     "name": "stdout",
     "output_type": "stream",
     "text": [
      "roberta-base\n",
      "validation data -> 3: ['Form10k_63', 'Form10k_25', 'Form10k_34', 'Form10k_37'] \n",
      "['[NSEP]'] 4 2e-05\n",
      "0:\n",
      "2    502\n",
      "0    497\n",
      "3    434\n",
      "1    188\n",
      "Name: label, dtype: int64\n",
      "------------\n",
      "1:\n",
      "0    5567\n",
      "3    4923\n",
      "2    1149\n",
      "1     478\n",
      "Name: label, dtype: int64\n",
      "------------\n",
      "Val0\n",
      "0    794\n",
      "3    397\n",
      "2     65\n",
      "1     20\n",
      "Name: label, dtype: int64\n"
     ]
    },
    {
     "name": "stderr",
     "output_type": "stream",
     "text": [
      "/opt/conda/lib/python3.7/site-packages/pandas/util/_decorators.py:311: SettingWithCopyWarning: \n",
      "A value is trying to be set on a copy of a slice from a DataFrame\n",
      "\n",
      "See the caveats in the documentation: https://pandas.pydata.org/pandas-docs/stable/user_guide/indexing.html#returning-a-view-versus-a-copy\n",
      "  return func(*args, **kwargs)\n"
     ]
    },
    {
     "name": "stdout",
     "output_type": "stream",
     "text": [
      "Val1\n",
      "0    816\n",
      "3    408\n",
      "2     66\n",
      "1     23\n",
      "Name: label, dtype: int64\n"
     ]
    },
    {
     "name": "stderr",
     "output_type": "stream",
     "text": [
      "/opt/conda/lib/python3.7/site-packages/pandas/util/_decorators.py:311: SettingWithCopyWarning: \n",
      "A value is trying to be set on a copy of a slice from a DataFrame\n",
      "\n",
      "See the caveats in the documentation: https://pandas.pydata.org/pandas-docs/stable/user_guide/indexing.html#returning-a-view-versus-a-copy\n",
      "  return func(*args, **kwargs)\n"
     ]
    },
    {
     "data": {
      "text/plain": [
       "'len(traindatagp) :'"
      ]
     },
     "metadata": {},
     "output_type": "display_data"
    },
    {
     "data": {
      "text/plain": [
       "2"
      ]
     },
     "metadata": {},
     "output_type": "display_data"
    },
    {
     "data": {
      "text/plain": [
       "'len(valdatagp) :'"
      ]
     },
     "metadata": {},
     "output_type": "display_data"
    },
    {
     "data": {
      "text/plain": [
       "2"
      ]
     },
     "metadata": {},
     "output_type": "display_data"
    },
    {
     "name": "stdout",
     "output_type": "stream",
     "text": [
      "Max len :400\n",
      "Size of the whole VAL dataset :1313\n",
      "VAL Loader : batchsize 16  :83\n",
      "Size of the whole TRAIN dataset :1621\n",
      "TRAIN Loader :batchsize 16  :102\n",
      "Validate after evey : 100 iterations\n",
      "<<<<<<  Epoch: 1/2 OF CV: 3  >>>>>>\n"
     ]
    },
    {
     "name": "stderr",
     "output_type": "stream",
     "text": [
      "  0%|          | 0/102 [00:00<?, ?it/s]/opt/conda/lib/python3.7/site-packages/torch/optim/lr_scheduler.py:134: UserWarning: Detected call of `lr_scheduler.step()` before `optimizer.step()`. In PyTorch 1.1.0 and later, you should call them in the opposite order: `optimizer.step()` before `lr_scheduler.step()`.  Failure to do this will result in PyTorch skipping the first value of the learning rate schedule. See more details at https://pytorch.org/docs/stable/optim.html#how-to-adjust-learning-rate\n",
      "  \"https://pytorch.org/docs/stable/optim.html#how-to-adjust-learning-rate\", UserWarning)\n",
      " 98%|█████████▊| 100/102 [01:37<00:15,  7.60s/it]"
     ]
    },
    {
     "name": "stdout",
     "output_type": "stream",
     "text": [
      "f1 score: 0.4565153488290383\n",
      "best_trainloss: 0.041275634765625\n",
      "best_valoss: 0.03661962417546612\n"
     ]
    },
    {
     "name": "stderr",
     "output_type": "stream",
     "text": [
      "100%|██████████| 102/102 [01:39<00:00,  1.03it/s]\n"
     ]
    },
    {
     "name": "stdout",
     "output_type": "stream",
     "text": [
      "Size of the whole TRAIN dataset :12117\n",
      "TRAIN Loader :batchsize 16  :758\n",
      "Validate after evey : 100 iterations\n",
      "<<<<<<  Epoch: 2/2 OF CV: 3  >>>>>>\n"
     ]
    },
    {
     "name": "stderr",
     "output_type": "stream",
     "text": [
      " 13%|█▎        | 100/758 [01:41<1:24:29,  7.70s/it]"
     ]
    },
    {
     "name": "stdout",
     "output_type": "stream",
     "text": [
      "f1 score: 0.6019148686422414\n",
      "best_trainloss: 0.031368597745895385\n",
      "best_valoss: 0.02646439835168166\n"
     ]
    },
    {
     "name": "stderr",
     "output_type": "stream",
     "text": [
      " 26%|██▋       | 200/758 [03:22<1:10:32,  7.59s/it]"
     ]
    },
    {
     "name": "stdout",
     "output_type": "stream",
     "text": [
      "f1 score: 0.8152922439616763\n",
      "best_trainloss: 0.01921207517385483\n",
      "best_valoss: 0.015104233648313063\n"
     ]
    },
    {
     "name": "stderr",
     "output_type": "stream",
     "text": [
      " 53%|█████▎    | 400/758 [06:52<46:10,  7.74s/it]"
     ]
    },
    {
     "name": "stdout",
     "output_type": "stream",
     "text": [
      "f1 score: 0.8542837828256036\n",
      "best_trainloss: 0.004657188989222049\n",
      "best_valoss: 0.012078413528426403\n"
     ]
    },
    {
     "name": "stderr",
     "output_type": "stream",
     "text": [
      " 92%|█████████▏| 700/758 [11:51<07:18,  7.56s/it]"
     ]
    },
    {
     "name": "stdout",
     "output_type": "stream",
     "text": [
      "f1 score: 0.860131944962576\n",
      "best_trainloss: 0.002271794341504574\n",
      "best_valoss: 0.011957364169609791\n"
     ]
    },
    {
     "name": "stderr",
     "output_type": "stream",
     "text": [
      "100%|██████████| 758/758 [12:39<00:00,  1.00s/it]\n"
     ]
    },
    {
     "name": "stdout",
     "output_type": "stream",
     "text": [
      "saving\n"
     ]
    },
    {
     "data": {
      "text/html": [
       "<div>\n",
       "<style scoped>\n",
       "    .dataframe tbody tr th:only-of-type {\n",
       "        vertical-align: middle;\n",
       "    }\n",
       "\n",
       "    .dataframe tbody tr th {\n",
       "        vertical-align: top;\n",
       "    }\n",
       "\n",
       "    .dataframe thead th {\n",
       "        text-align: right;\n",
       "    }\n",
       "</style>\n",
       "<table border=\"1\" class=\"dataframe\">\n",
       "  <thead>\n",
       "    <tr style=\"text-align: right;\">\n",
       "      <th></th>\n",
       "      <th>fold</th>\n",
       "      <th>f1_weighted</th>\n",
       "      <th>vallosses</th>\n",
       "      <th>trainlosses</th>\n",
       "    </tr>\n",
       "  </thead>\n",
       "  <tbody>\n",
       "    <tr>\n",
       "      <th>0</th>\n",
       "      <td>1.0</td>\n",
       "      <td>0.853369</td>\n",
       "      <td>0.010301</td>\n",
       "      <td>0.010681</td>\n",
       "    </tr>\n",
       "    <tr>\n",
       "      <th>1</th>\n",
       "      <td>2.0</td>\n",
       "      <td>0.877957</td>\n",
       "      <td>0.009083</td>\n",
       "      <td>0.008438</td>\n",
       "    </tr>\n",
       "    <tr>\n",
       "      <th>2</th>\n",
       "      <td>3.0</td>\n",
       "      <td>0.860132</td>\n",
       "      <td>0.011957</td>\n",
       "      <td>0.002272</td>\n",
       "    </tr>\n",
       "  </tbody>\n",
       "</table>\n",
       "</div>"
      ],
      "text/plain": [
       "   fold  f1_weighted  vallosses  trainlosses\n",
       "0   1.0     0.853369   0.010301     0.010681\n",
       "1   2.0     0.877957   0.009083     0.008438\n",
       "2   3.0     0.860132   0.011957     0.002272"
      ]
     },
     "metadata": {},
     "output_type": "display_data"
    },
    {
     "data": {
      "image/png": "[encoded data removed]",
      "text/plain": [
       "<Figure size 1080x360 with 2 Axes>"
      ]
     },
     "metadata": {},
     "output_type": "display_data"
    },
    {
     "data": {
      "image/png": "[encoded data removed]",
      "text/plain": [
       "<Figure size 432x288 with 1 Axes>"
      ]
     },
     "metadata": {},
     "output_type": "display_data"
    },
    {
     "data": {
      "image/png": "[encoded data removed]",
      "text/plain": [
       "<Figure size 1080x360 with 4 Axes>"
      ]
     },
     "metadata": {},
     "output_type": "display_data"
    },
    {
     "name": "stdout",
     "output_type": "stream",
     "text": [
      "roberta-base\n",
      "validation data -> 4: ['Form10k_55', 'Form10k_64', 'Form10k_60', 'Form10k_59'] \n",
      "['[NSEP]'] 4 2e-05\n",
      "0:\n",
      "2    502\n",
      "0    500\n",
      "3    434\n",
      "1    188\n",
      "Name: label, dtype: int64\n",
      "------------\n",
      "1:\n",
      "0    6533\n",
      "3    5735\n",
      "2    1128\n",
      "1     499\n",
      "Name: label, dtype: int64\n",
      "------------\n",
      "Val0\n",
      "0    188\n",
      "3     94\n",
      "2     73\n",
      "1     10\n",
      "Name: label, dtype: int64\n"
     ]
    },
    {
     "name": "stderr",
     "output_type": "stream",
     "text": [
      "/opt/conda/lib/python3.7/site-packages/pandas/util/_decorators.py:311: SettingWithCopyWarning: \n",
      "A value is trying to be set on a copy of a slice from a DataFrame\n",
      "\n",
      "See the caveats in the documentation: https://pandas.pydata.org/pandas-docs/stable/user_guide/indexing.html#returning-a-view-versus-a-copy\n",
      "  return func(*args, **kwargs)\n"
     ]
    },
    {
     "name": "stdout",
     "output_type": "stream",
     "text": [
      "Val1\n",
      "0    190\n",
      "3     95\n",
      "2     77\n",
      "1     10\n",
      "Name: label, dtype: int64\n"
     ]
    },
    {
     "name": "stderr",
     "output_type": "stream",
     "text": [
      "/opt/conda/lib/python3.7/site-packages/pandas/util/_decorators.py:311: SettingWithCopyWarning: \n",
      "A value is trying to be set on a copy of a slice from a DataFrame\n",
      "\n",
      "See the caveats in the documentation: https://pandas.pydata.org/pandas-docs/stable/user_guide/indexing.html#returning-a-view-versus-a-copy\n",
      "  return func(*args, **kwargs)\n"
     ]
    },
    {
     "data": {
      "text/html": [
       "<div>\n",
       "<style scoped>\n",
       "    .dataframe tbody tr th:only-of-type {\n",
       "        vertical-align: middle;\n",
       "    }\n",
       "\n",
       "    .dataframe tbody tr th {\n",
       "        vertical-align: top;\n",
       "    }\n",
       "\n",
       "    .dataframe thead th {\n",
       "        text-align: right;\n",
       "    }\n",
       "</style>\n",
       "<table border=\"1\" class=\"dataframe\">\n",
       "  <thead>\n",
       "    <tr style=\"text-align: right;\">\n",
       "      <th></th>\n",
       "      <th>suid</th>\n",
       "      <th>sid</th>\n",
       "      <th>html_id</th>\n",
       "      <th>ori_sentence</th>\n",
       "      <th>label</th>\n",
       "      <th>title</th>\n",
       "      <th>tid</th>\n",
       "      <th>random</th>\n",
       "      <th>asentence</th>\n",
       "      <th>atid</th>\n",
       "      <th>arandom</th>\n",
       "      <th>bsentence</th>\n",
       "      <th>btid</th>\n",
       "      <th>brandom</th>\n",
       "      <th>sentence</th>\n",
       "    </tr>\n",
       "  </thead>\n",
       "  <tbody>\n",
       "    <tr>\n",
       "      <th>0</th>\n",
       "      <td>Form10k_55tr-55-0035</td>\n",
       "      <td>tr-55-0035</td>\n",
       "      <td>Form10k_55</td>\n",
       "      <td>The Sky Terrace.</td>\n",
       "      <td>0</td>\n",
       "      <td>The Sky Terrace.</td>\n",
       "      <td>Form10k_55The Sky Terrace.</td>\n",
       "      <td>False</td>\n",
       "      <td></td>\n",
       "      <td>Form10k_55The Sky Terrace is a unique structur...</td>\n",
       "      <td>False</td>\n",
       "      <td></td>\n",
       "      <td>Form10k_55The Atlantis has eight restaurants, ...</td>\n",
       "      <td>False</td>\n",
       "      <td>[The Sky Terrace. ]  The Sky Terrace.</td>\n",
       "    </tr>\n",
       "    <tr>\n",
       "      <th>1</th>\n",
       "      <td>Form10k_55tr-55-0052</td>\n",
       "      <td>tr-55-0052</td>\n",
       "      <td>Form10k_55</td>\n",
       "      <td>In 2020, the average occupancy rate at the Mon...</td>\n",
       "      <td>0</td>\n",
       "      <td>The tower also includes a private concierge lo...</td>\n",
       "      <td>Form10k_55The tower also includes a private co...</td>\n",
       "      <td>False</td>\n",
       "      <td></td>\n",
       "      <td>Form10k_55Quality.</td>\n",
       "      <td>False</td>\n",
       "      <td>The tower also includes a private concierge lo...</td>\n",
       "      <td>Form10k_55The tower also includes a private co...</td>\n",
       "      <td>False</td>\n",
       "      <td>[The tower also includes a private concierge ...</td>\n",
       "    </tr>\n",
       "    <tr>\n",
       "      <th>2</th>\n",
       "      <td>Form10k_55tr-55-0053</td>\n",
       "      <td>tr-55-0053</td>\n",
       "      <td>Form10k_55</td>\n",
       "      <td>Quality.</td>\n",
       "      <td>0</td>\n",
       "      <td>Quality.</td>\n",
       "      <td>Form10k_55Quality.</td>\n",
       "      <td>False</td>\n",
       "      <td></td>\n",
       "      <td>Form10k_55Established as high quality gaming r...</td>\n",
       "      <td>False</td>\n",
       "      <td></td>\n",
       "      <td>Form10k_55The tower also includes a private co...</td>\n",
       "      <td>False</td>\n",
       "      <td>[Quality. ]  Quality.</td>\n",
       "    </tr>\n",
       "  </tbody>\n",
       "</table>\n",
       "</div>"
      ],
      "text/plain": [
       "                   suid         sid     html_id  \\\n",
       "0  Form10k_55tr-55-0035  tr-55-0035  Form10k_55   \n",
       "1  Form10k_55tr-55-0052  tr-55-0052  Form10k_55   \n",
       "2  Form10k_55tr-55-0053  tr-55-0053  Form10k_55   \n",
       "\n",
       "                                        ori_sentence  label  \\\n",
       "0                                   The Sky Terrace.      0   \n",
       "1  In 2020, the average occupancy rate at the Mon...      0   \n",
       "2                                           Quality.      0   \n",
       "\n",
       "                                               title  \\\n",
       "0                                   The Sky Terrace.   \n",
       "1  The tower also includes a private concierge lo...   \n",
       "2                                           Quality.   \n",
       "\n",
       "                                                 tid  random asentence  \\\n",
       "0                         Form10k_55The Sky Terrace.   False             \n",
       "1  Form10k_55The tower also includes a private co...   False             \n",
       "2                                 Form10k_55Quality.   False             \n",
       "\n",
       "                                                atid arandom  \\\n",
       "0  Form10k_55The Sky Terrace is a unique structur...   False   \n",
       "1                                 Form10k_55Quality.   False   \n",
       "2  Form10k_55Established as high quality gaming r...   False   \n",
       "\n",
       "                                           bsentence  \\\n",
       "0                                                      \n",
       "1  The tower also includes a private concierge lo...   \n",
       "2                                                      \n",
       "\n",
       "                                                btid brandom  \\\n",
       "0  Form10k_55The Atlantis has eight restaurants, ...   False   \n",
       "1  Form10k_55The tower also includes a private co...   False   \n",
       "2  Form10k_55The tower also includes a private co...   False   \n",
       "\n",
       "                                            sentence  \n",
       "0             [The Sky Terrace. ]  The Sky Terrace.   \n",
       "1   [The tower also includes a private concierge ...  \n",
       "2                             [Quality. ]  Quality.   "
      ]
     },
     "metadata": {},
     "output_type": "display_data"
    },
    {
     "data": {
      "text/plain": [
       "'len(traindatagp) :'"
      ]
     },
     "metadata": {},
     "output_type": "display_data"
    },
    {
     "data": {
      "text/plain": [
       "2"
      ]
     },
     "metadata": {},
     "output_type": "display_data"
    },
    {
     "data": {
      "text/plain": [
       "'len(valdatagp) :'"
      ]
     },
     "metadata": {},
     "output_type": "display_data"
    },
    {
     "data": {
      "text/plain": [
       "2"
      ]
     },
     "metadata": {},
     "output_type": "display_data"
    },
    {
     "name": "stdout",
     "output_type": "stream",
     "text": [
      "Max len :400\n",
      "Size of the whole VAL dataset :372\n",
      "VAL Loader : batchsize 16  :24\n",
      "Size of the whole TRAIN dataset :1624\n",
      "TRAIN Loader :batchsize 16  :102\n",
      "Validate after evey : 100 iterations\n",
      "<<<<<<  Epoch: 1/2 OF CV: 4  >>>>>>\n"
     ]
    },
    {
     "name": "stderr",
     "output_type": "stream",
     "text": [
      "  0%|          | 0/102 [00:00<?, ?it/s]/opt/conda/lib/python3.7/site-packages/torch/optim/lr_scheduler.py:134: UserWarning: Detected call of `lr_scheduler.step()` before `optimizer.step()`. In PyTorch 1.1.0 and later, you should call them in the opposite order: `optimizer.step()` before `lr_scheduler.step()`.  Failure to do this will result in PyTorch skipping the first value of the learning rate schedule. See more details at https://pytorch.org/docs/stable/optim.html#how-to-adjust-learning-rate\n",
      "  \"https://pytorch.org/docs/stable/optim.html#how-to-adjust-learning-rate\", UserWarning)\n",
      " 98%|█████████▊| 100/102 [01:24<00:05,  2.83s/it]"
     ]
    },
    {
     "name": "stdout",
     "output_type": "stream",
     "text": [
      "f1 score: 0.4543601578334001\n",
      "best_trainloss: 0.04289710998535156\n",
      "best_valoss: 0.037642734265455634\n"
     ]
    },
    {
     "name": "stderr",
     "output_type": "stream",
     "text": [
      "100%|██████████| 102/102 [01:25<00:00,  1.19it/s]\n"
     ]
    },
    {
     "name": "stdout",
     "output_type": "stream",
     "text": [
      "Size of the whole TRAIN dataset :13895\n",
      "TRAIN Loader :batchsize 16  :869\n",
      "Validate after evey : 100 iterations\n",
      "<<<<<<  Epoch: 2/2 OF CV: 4  >>>>>>\n"
     ]
    },
    {
     "name": "stderr",
     "output_type": "stream",
     "text": [
      " 12%|█▏        | 100/869 [01:26<38:09,  2.98s/it]"
     ]
    },
    {
     "name": "stdout",
     "output_type": "stream",
     "text": [
      "f1 score: 0.5312973098870385\n",
      "best_trainloss: 0.03183765411376953\n",
      "best_valoss: 0.03280089891725971\n"
     ]
    },
    {
     "name": "stderr",
     "output_type": "stream",
     "text": [
      " 23%|██▎       | 200/869 [02:51<31:25,  2.82s/it]"
     ]
    },
    {
     "name": "stdout",
     "output_type": "stream",
     "text": [
      "f1 score: 0.7722106344125981\n",
      "best_trainloss: 0.020305557548999785\n",
      "best_valoss: 0.017065919264750457\n"
     ]
    },
    {
     "name": "stderr",
     "output_type": "stream",
     "text": [
      " 35%|███▍      | 300/869 [04:20<28:37,  3.02s/it]"
     ]
    },
    {
     "name": "stdout",
     "output_type": "stream",
     "text": [
      "f1 score: 0.8011141962157778\n",
      "best_trainloss: 0.013073338195681572\n",
      "best_valoss: 0.013387504374227857\n"
     ]
    },
    {
     "name": "stderr",
     "output_type": "stream",
     "text": [
      " 58%|█████▊    | 500/869 [07:12<17:26,  2.83s/it]"
     ]
    },
    {
     "name": "stdout",
     "output_type": "stream",
     "text": [
      "f1 score: 0.836373115535345\n",
      "best_trainloss: 0.0043009547144174575\n",
      "best_valoss: 0.011935948605789372\n"
     ]
    },
    {
     "name": "stderr",
     "output_type": "stream",
     "text": [
      " 81%|████████  | 700/869 [10:05<08:22,  2.98s/it]"
     ]
    },
    {
     "name": "stdout",
     "output_type": "stream",
     "text": [
      "f1 score: 0.900635195048308\n",
      "best_trainloss: 0.003985875509679318\n",
      "best_valoss: 0.01006178870066119\n"
     ]
    },
    {
     "name": "stderr",
     "output_type": "stream",
     "text": [
      "100%|██████████| 869/869 [12:28<00:00,  1.16it/s]\n"
     ]
    },
    {
     "name": "stdout",
     "output_type": "stream",
     "text": [
      "saving\n"
     ]
    },
    {
     "data": {
      "text/html": [
       "<div>\n",
       "<style scoped>\n",
       "    .dataframe tbody tr th:only-of-type {\n",
       "        vertical-align: middle;\n",
       "    }\n",
       "\n",
       "    .dataframe tbody tr th {\n",
       "        vertical-align: top;\n",
       "    }\n",
       "\n",
       "    .dataframe thead th {\n",
       "        text-align: right;\n",
       "    }\n",
       "</style>\n",
       "<table border=\"1\" class=\"dataframe\">\n",
       "  <thead>\n",
       "    <tr style=\"text-align: right;\">\n",
       "      <th></th>\n",
       "      <th>fold</th>\n",
       "      <th>f1_weighted</th>\n",
       "      <th>vallosses</th>\n",
       "      <th>trainlosses</th>\n",
       "    </tr>\n",
       "  </thead>\n",
       "  <tbody>\n",
       "    <tr>\n",
       "      <th>0</th>\n",
       "      <td>1.0</td>\n",
       "      <td>0.853369</td>\n",
       "      <td>0.010301</td>\n",
       "      <td>0.010681</td>\n",
       "    </tr>\n",
       "    <tr>\n",
       "      <th>1</th>\n",
       "      <td>2.0</td>\n",
       "      <td>0.877957</td>\n",
       "      <td>0.009083</td>\n",
       "      <td>0.008438</td>\n",
       "    </tr>\n",
       "    <tr>\n",
       "      <th>2</th>\n",
       "      <td>3.0</td>\n",
       "      <td>0.860132</td>\n",
       "      <td>0.011957</td>\n",
       "      <td>0.002272</td>\n",
       "    </tr>\n",
       "    <tr>\n",
       "      <th>3</th>\n",
       "      <td>4.0</td>\n",
       "      <td>0.900635</td>\n",
       "      <td>0.010062</td>\n",
       "      <td>0.003986</td>\n",
       "    </tr>\n",
       "  </tbody>\n",
       "</table>\n",
       "</div>"
      ],
      "text/plain": [
       "   fold  f1_weighted  vallosses  trainlosses\n",
       "0   1.0     0.853369   0.010301     0.010681\n",
       "1   2.0     0.877957   0.009083     0.008438\n",
       "2   3.0     0.860132   0.011957     0.002272\n",
       "3   4.0     0.900635   0.010062     0.003986"
      ]
     },
     "metadata": {},
     "output_type": "display_data"
    },
    {
     "data": {
      "image/png": "[encoded data removed]",
      "text/plain": [
       "<Figure size 1080x360 with 2 Axes>"
      ]
     },
     "metadata": {},
     "output_type": "display_data"
    },
    {
     "data": {
      "image/png": "[encoded data removed]",
      "text/plain": [
       "<Figure size 432x288 with 1 Axes>"
      ]
     },
     "metadata": {},
     "output_type": "display_data"
    },
    {
     "data": {
      "image/png": "[encoded data removed]",
      "text/plain": [
       "<Figure size 1080x360 with 4 Axes>"
      ]
     },
     "metadata": {},
     "output_type": "display_data"
    },
    {
     "name": "stdout",
     "output_type": "stream",
     "text": [
      "roberta-base\n",
      "validation data -> 5: ['Form10k_57', 'Form10k_47', 'Form10k_12', 'Form10k_73'] \n",
      "['[NSEP]'] 4 2e-05\n",
      "0:\n",
      "2    502\n",
      "0    496\n",
      "3    434\n",
      "1    188\n",
      "Name: label, dtype: int64\n",
      "------------\n",
      "1:\n",
      "0    6483\n",
      "3    5735\n",
      "2    1067\n",
      "1     482\n",
      "Name: label, dtype: int64\n",
      "------------\n",
      "Val0\n",
      "0    204\n",
      "3    102\n",
      "2     97\n",
      "1     15\n",
      "Name: label, dtype: int64\n"
     ]
    },
    {
     "name": "stderr",
     "output_type": "stream",
     "text": [
      "/opt/conda/lib/python3.7/site-packages/pandas/util/_decorators.py:311: SettingWithCopyWarning: \n",
      "A value is trying to be set on a copy of a slice from a DataFrame\n",
      "\n",
      "See the caveats in the documentation: https://pandas.pydata.org/pandas-docs/stable/user_guide/indexing.html#returning-a-view-versus-a-copy\n",
      "  return func(*args, **kwargs)\n"
     ]
    },
    {
     "data": {
      "text/html": [
       "<div>\n",
       "<style scoped>\n",
       "    .dataframe tbody tr th:only-of-type {\n",
       "        vertical-align: middle;\n",
       "    }\n",
       "\n",
       "    .dataframe tbody tr th {\n",
       "        vertical-align: top;\n",
       "    }\n",
       "\n",
       "    .dataframe thead th {\n",
       "        text-align: right;\n",
       "    }\n",
       "</style>\n",
       "<table border=\"1\" class=\"dataframe\">\n",
       "  <thead>\n",
       "    <tr style=\"text-align: right;\">\n",
       "      <th></th>\n",
       "      <th>suid</th>\n",
       "      <th>sid</th>\n",
       "      <th>html_id</th>\n",
       "      <th>sentence</th>\n",
       "      <th>label</th>\n",
       "      <th>title</th>\n",
       "    </tr>\n",
       "  </thead>\n",
       "  <tbody>\n",
       "    <tr>\n",
       "      <th>0</th>\n",
       "      <td>Form10k_12tr-12-0011</td>\n",
       "      <td>tr-12-0011</td>\n",
       "      <td>Form10k_12</td>\n",
       "      <td>[ASC: FASB Accounting Standards Codification....</td>\n",
       "      <td>0</td>\n",
       "      <td>ASC: FASB Accounting Standards Codification.</td>\n",
       "    </tr>\n",
       "    <tr>\n",
       "      <th>1</th>\n",
       "      <td>Form10k_12tr-12-0065</td>\n",
       "      <td>tr-12-0065</td>\n",
       "      <td>Form10k_12</td>\n",
       "      <td>[MoGas Revolver: a $1.0 million secured revol...</td>\n",
       "      <td>0</td>\n",
       "      <td>MoGas Revolver: a $1.0 million secured revolvi...</td>\n",
       "    </tr>\n",
       "    <tr>\n",
       "      <th>2</th>\n",
       "      <td>Form10k_12tr-12-0067</td>\n",
       "      <td>tr-12-0067</td>\n",
       "      <td>Form10k_12</td>\n",
       "      <td>[Mowood/Omega Revolver: a $1.5 million secure...</td>\n",
       "      <td>0</td>\n",
       "      <td>Mowood/Omega Revolver: a $1.5 million secured ...</td>\n",
       "    </tr>\n",
       "  </tbody>\n",
       "</table>\n",
       "</div>"
      ],
      "text/plain": [
       "                   suid         sid     html_id  \\\n",
       "0  Form10k_12tr-12-0011  tr-12-0011  Form10k_12   \n",
       "1  Form10k_12tr-12-0065  tr-12-0065  Form10k_12   \n",
       "2  Form10k_12tr-12-0067  tr-12-0067  Form10k_12   \n",
       "\n",
       "                                            sentence  label  \\\n",
       "0   [ASC: FASB Accounting Standards Codification....      0   \n",
       "1   [MoGas Revolver: a $1.0 million secured revol...      0   \n",
       "2   [Mowood/Omega Revolver: a $1.5 million secure...      0   \n",
       "\n",
       "                                               title  \n",
       "0       ASC: FASB Accounting Standards Codification.  \n",
       "1  MoGas Revolver: a $1.0 million secured revolvi...  \n",
       "2  Mowood/Omega Revolver: a $1.5 million secured ...  "
      ]
     },
     "metadata": {},
     "output_type": "display_data"
    },
    {
     "name": "stdout",
     "output_type": "stream",
     "text": [
      "Val1\n",
      "0    206\n",
      "3    103\n",
      "2    101\n",
      "1     16\n",
      "Name: label, dtype: int64\n"
     ]
    },
    {
     "name": "stderr",
     "output_type": "stream",
     "text": [
      "/opt/conda/lib/python3.7/site-packages/pandas/util/_decorators.py:311: SettingWithCopyWarning: \n",
      "A value is trying to be set on a copy of a slice from a DataFrame\n",
      "\n",
      "See the caveats in the documentation: https://pandas.pydata.org/pandas-docs/stable/user_guide/indexing.html#returning-a-view-versus-a-copy\n",
      "  return func(*args, **kwargs)\n"
     ]
    },
    {
     "data": {
      "text/html": [
       "<div>\n",
       "<style scoped>\n",
       "    .dataframe tbody tr th:only-of-type {\n",
       "        vertical-align: middle;\n",
       "    }\n",
       "\n",
       "    .dataframe tbody tr th {\n",
       "        vertical-align: top;\n",
       "    }\n",
       "\n",
       "    .dataframe thead th {\n",
       "        text-align: right;\n",
       "    }\n",
       "</style>\n",
       "<table border=\"1\" class=\"dataframe\">\n",
       "  <thead>\n",
       "    <tr style=\"text-align: right;\">\n",
       "      <th></th>\n",
       "      <th>suid</th>\n",
       "      <th>sid</th>\n",
       "      <th>html_id</th>\n",
       "      <th>ori_sentence</th>\n",
       "      <th>label</th>\n",
       "      <th>title</th>\n",
       "      <th>tid</th>\n",
       "      <th>random</th>\n",
       "      <th>asentence</th>\n",
       "      <th>atid</th>\n",
       "      <th>arandom</th>\n",
       "      <th>bsentence</th>\n",
       "      <th>btid</th>\n",
       "      <th>brandom</th>\n",
       "      <th>sentence</th>\n",
       "    </tr>\n",
       "  </thead>\n",
       "  <tbody>\n",
       "    <tr>\n",
       "      <th>0</th>\n",
       "      <td>Form10k_12tr-12-0010</td>\n",
       "      <td>tr-12-0010</td>\n",
       "      <td>Form10k_12</td>\n",
       "      <td>ARO: the Asset Retirement Obligation liabiliti...</td>\n",
       "      <td>0</td>\n",
       "      <td>ARO: the Asset Retirement Obligation liabiliti...</td>\n",
       "      <td>Form10k_12ARO: the Asset Retirement Obligation...</td>\n",
       "      <td>False</td>\n",
       "      <td></td>\n",
       "      <td>Form10k_12ASC: FASB Accounting Standards Codif...</td>\n",
       "      <td>False</td>\n",
       "      <td></td>\n",
       "      <td>Form10k_12as a result of the completion of a m...</td>\n",
       "      <td>False</td>\n",
       "      <td>[ARO: the Asset Retirement Obligation liabili...</td>\n",
       "    </tr>\n",
       "    <tr>\n",
       "      <th>1</th>\n",
       "      <td>Form10k_12tr-12-0035</td>\n",
       "      <td>tr-12-0035</td>\n",
       "      <td>Form10k_12</td>\n",
       "      <td>Crimson: Crimson Midstream Holdings, LLC, a CP...</td>\n",
       "      <td>0</td>\n",
       "      <td>Crimson: Crimson Midstream Holdings, LLC, a CP...</td>\n",
       "      <td>Form10k_12Crimson: Crimson Midstream Holdings,...</td>\n",
       "      <td>False</td>\n",
       "      <td></td>\n",
       "      <td>Form10k_12Crimson Credit Facility: the Amended...</td>\n",
       "      <td>False</td>\n",
       "      <td></td>\n",
       "      <td>Form10k_12CPUC: California Public Utility Comm...</td>\n",
       "      <td>False</td>\n",
       "      <td>[Crimson: Crimson Midstream Holdings, LLC, a ...</td>\n",
       "    </tr>\n",
       "    <tr>\n",
       "      <th>2</th>\n",
       "      <td>Form10k_12tr-12-0049</td>\n",
       "      <td>tr-12-0049</td>\n",
       "      <td>Form10k_12</td>\n",
       "      <td>FERC: Federal Energy Regulatory Commission.</td>\n",
       "      <td>0</td>\n",
       "      <td>FERC: Federal Energy Regulatory Commission.</td>\n",
       "      <td>Form10k_12FERC: Federal Energy Regulatory Comm...</td>\n",
       "      <td>False</td>\n",
       "      <td></td>\n",
       "      <td>Form10k_12Four Wood Corridor: Four Wood Corrid...</td>\n",
       "      <td>False</td>\n",
       "      <td></td>\n",
       "      <td>Form10k_12FASB: Financial Accounting Standards...</td>\n",
       "      <td>False</td>\n",
       "      <td>[FERC: Federal Energy Regulatory Commission. ...</td>\n",
       "    </tr>\n",
       "  </tbody>\n",
       "</table>\n",
       "</div>"
      ],
      "text/plain": [
       "                   suid         sid     html_id  \\\n",
       "0  Form10k_12tr-12-0010  tr-12-0010  Form10k_12   \n",
       "1  Form10k_12tr-12-0035  tr-12-0035  Form10k_12   \n",
       "2  Form10k_12tr-12-0049  tr-12-0049  Form10k_12   \n",
       "\n",
       "                                        ori_sentence  label  \\\n",
       "0  ARO: the Asset Retirement Obligation liabiliti...      0   \n",
       "1  Crimson: Crimson Midstream Holdings, LLC, a CP...      0   \n",
       "2        FERC: Federal Energy Regulatory Commission.      0   \n",
       "\n",
       "                                               title  \\\n",
       "0  ARO: the Asset Retirement Obligation liabiliti...   \n",
       "1  Crimson: Crimson Midstream Holdings, LLC, a CP...   \n",
       "2        FERC: Federal Energy Regulatory Commission.   \n",
       "\n",
       "                                                 tid  random asentence  \\\n",
       "0  Form10k_12ARO: the Asset Retirement Obligation...   False             \n",
       "1  Form10k_12Crimson: Crimson Midstream Holdings,...   False             \n",
       "2  Form10k_12FERC: Federal Energy Regulatory Comm...   False             \n",
       "\n",
       "                                                atid arandom bsentence  \\\n",
       "0  Form10k_12ASC: FASB Accounting Standards Codif...   False             \n",
       "1  Form10k_12Crimson Credit Facility: the Amended...   False             \n",
       "2  Form10k_12Four Wood Corridor: Four Wood Corrid...   False             \n",
       "\n",
       "                                                btid brandom  \\\n",
       "0  Form10k_12as a result of the completion of a m...   False   \n",
       "1  Form10k_12CPUC: California Public Utility Comm...   False   \n",
       "2  Form10k_12FASB: Financial Accounting Standards...   False   \n",
       "\n",
       "                                            sentence  \n",
       "0   [ARO: the Asset Retirement Obligation liabili...  \n",
       "1   [Crimson: Crimson Midstream Holdings, LLC, a ...  \n",
       "2   [FERC: Federal Energy Regulatory Commission. ...  "
      ]
     },
     "metadata": {},
     "output_type": "display_data"
    },
    {
     "data": {
      "text/plain": [
       "'len(traindatagp) :'"
      ]
     },
     "metadata": {},
     "output_type": "display_data"
    },
    {
     "data": {
      "text/plain": [
       "2"
      ]
     },
     "metadata": {},
     "output_type": "display_data"
    },
    {
     "data": {
      "text/plain": [
       "'len(valdatagp) :'"
      ]
     },
     "metadata": {},
     "output_type": "display_data"
    },
    {
     "data": {
      "text/plain": [
       "2"
      ]
     },
     "metadata": {},
     "output_type": "display_data"
    },
    {
     "name": "stdout",
     "output_type": "stream",
     "text": [
      "Max len :400\n",
      "Size of the whole VAL dataset :426\n",
      "VAL Loader : batchsize 16  :27\n",
      "Size of the whole TRAIN dataset :1620\n",
      "TRAIN Loader :batchsize 16  :102\n",
      "Validate after evey : 100 iterations\n",
      "<<<<<<  Epoch: 1/2 OF CV: 5  >>>>>>\n"
     ]
    },
    {
     "name": "stderr",
     "output_type": "stream",
     "text": [
      "  0%|          | 0/102 [00:00<?, ?it/s]/opt/conda/lib/python3.7/site-packages/torch/optim/lr_scheduler.py:134: UserWarning: Detected call of `lr_scheduler.step()` before `optimizer.step()`. In PyTorch 1.1.0 and later, you should call them in the opposite order: `optimizer.step()` before `lr_scheduler.step()`.  Failure to do this will result in PyTorch skipping the first value of the learning rate schedule. See more details at https://pytorch.org/docs/stable/optim.html#how-to-adjust-learning-rate\n",
      "  \"https://pytorch.org/docs/stable/optim.html#how-to-adjust-learning-rate\", UserWarning)\n",
      " 97%|█████████▋| 99/102 [01:17<00:02,  1.18it/s]"
     ]
    },
    {
     "name": "stdout",
     "output_type": "stream",
     "text": [
      "f1 score: 0.3717873781219258\n",
      "best_trainloss: 0.04186717987060547\n",
      "best_valoss: 0.03772819587882136\n"
     ]
    },
    {
     "name": "stderr",
     "output_type": "stream",
     "text": [
      "100%|██████████| 102/102 [01:27<00:00,  1.16it/s]\n"
     ]
    },
    {
     "name": "stdout",
     "output_type": "stream",
     "text": [
      "Size of the whole TRAIN dataset :13767\n",
      "TRAIN Loader :batchsize 16  :861\n",
      "Validate after evey : 100 iterations\n",
      "<<<<<<  Epoch: 2/2 OF CV: 5  >>>>>>\n"
     ]
    },
    {
     "name": "stderr",
     "output_type": "stream",
     "text": [
      " 11%|█▏        | 99/861 [01:20<09:11,  1.38it/s]"
     ]
    },
    {
     "name": "stdout",
     "output_type": "stream",
     "text": [
      "f1 score: 0.5212863849765258\n",
      "best_trainloss: 0.03162965893745422\n",
      "best_valoss: 0.031153017996062696\n"
     ]
    },
    {
     "name": "stderr",
     "output_type": "stream",
     "text": [
      " 23%|██▎       | 200/861 [02:57<35:31,  3.23s/it]"
     ]
    },
    {
     "name": "stdout",
     "output_type": "stream",
     "text": [
      "f1 score: 0.8108320801717029\n",
      "best_trainloss: 0.020978974997997283\n",
      "best_valoss: 0.017461385621641165\n"
     ]
    },
    {
     "name": "stderr",
     "output_type": "stream",
     "text": [
      " 46%|████▋     | 400/861 [05:54<26:04,  3.39s/it]"
     ]
    },
    {
     "name": "stdout",
     "output_type": "stream",
     "text": [
      "f1 score: 0.8662668681043881\n",
      "best_trainloss: 0.0050419259443879125\n",
      "best_valoss: 0.014870572792576022\n"
     ]
    },
    {
     "name": "stderr",
     "output_type": "stream",
     "text": [
      " 81%|████████▏ | 700/861 [10:16<08:25,  3.14s/it]"
     ]
    },
    {
     "name": "stdout",
     "output_type": "stream",
     "text": [
      "f1 score: 0.8350573922864111\n",
      "best_trainloss: 0.0023492964481314025\n",
      "best_valoss: 0.012712811707396568\n"
     ]
    },
    {
     "name": "stderr",
     "output_type": "stream",
     "text": [
      "100%|██████████| 861/861 [12:37<00:00,  1.14it/s]\n"
     ]
    },
    {
     "name": "stdout",
     "output_type": "stream",
     "text": [
      "saving\n"
     ]
    },
    {
     "data": {
      "text/html": [
       "<div>\n",
       "<style scoped>\n",
       "    .dataframe tbody tr th:only-of-type {\n",
       "        vertical-align: middle;\n",
       "    }\n",
       "\n",
       "    .dataframe tbody tr th {\n",
       "        vertical-align: top;\n",
       "    }\n",
       "\n",
       "    .dataframe thead th {\n",
       "        text-align: right;\n",
       "    }\n",
       "</style>\n",
       "<table border=\"1\" class=\"dataframe\">\n",
       "  <thead>\n",
       "    <tr style=\"text-align: right;\">\n",
       "      <th></th>\n",
       "      <th>fold</th>\n",
       "      <th>f1_weighted</th>\n",
       "      <th>vallosses</th>\n",
       "      <th>trainlosses</th>\n",
       "    </tr>\n",
       "  </thead>\n",
       "  <tbody>\n",
       "    <tr>\n",
       "      <th>0</th>\n",
       "      <td>1.0</td>\n",
       "      <td>0.853369</td>\n",
       "      <td>0.010301</td>\n",
       "      <td>0.010681</td>\n",
       "    </tr>\n",
       "    <tr>\n",
       "      <th>1</th>\n",
       "      <td>2.0</td>\n",
       "      <td>0.877957</td>\n",
       "      <td>0.009083</td>\n",
       "      <td>0.008438</td>\n",
       "    </tr>\n",
       "    <tr>\n",
       "      <th>2</th>\n",
       "      <td>3.0</td>\n",
       "      <td>0.860132</td>\n",
       "      <td>0.011957</td>\n",
       "      <td>0.002272</td>\n",
       "    </tr>\n",
       "    <tr>\n",
       "      <th>3</th>\n",
       "      <td>4.0</td>\n",
       "      <td>0.900635</td>\n",
       "      <td>0.010062</td>\n",
       "      <td>0.003986</td>\n",
       "    </tr>\n",
       "    <tr>\n",
       "      <th>4</th>\n",
       "      <td>5.0</td>\n",
       "      <td>0.835057</td>\n",
       "      <td>0.012713</td>\n",
       "      <td>0.002349</td>\n",
       "    </tr>\n",
       "  </tbody>\n",
       "</table>\n",
       "</div>"
      ],
      "text/plain": [
       "   fold  f1_weighted  vallosses  trainlosses\n",
       "0   1.0     0.853369   0.010301     0.010681\n",
       "1   2.0     0.877957   0.009083     0.008438\n",
       "2   3.0     0.860132   0.011957     0.002272\n",
       "3   4.0     0.900635   0.010062     0.003986\n",
       "4   5.0     0.835057   0.012713     0.002349"
      ]
     },
     "metadata": {},
     "output_type": "display_data"
    },
    {
     "data": {
      "image/png": "[encoded data removed]",
      "text/plain": [
       "<Figure size 1080x360 with 2 Axes>"
      ]
     },
     "metadata": {},
     "output_type": "display_data"
    },
    {
     "data": {
      "image/png": "[encoded data removed]",
      "text/plain": [
       "<Figure size 432x288 with 1 Axes>"
      ]
     },
     "metadata": {},
     "output_type": "display_data"
    },
    {
     "data": {
      "image/png": "[encoded data removed]",
      "text/plain": [
       "<Figure size 1080x360 with 4 Axes>"
      ]
     },
     "metadata": {},
     "output_type": "display_data"
    },
    {
     "name": "stdout",
     "output_type": "stream",
     "text": [
      "All CV loop finished.\n",
      "output/roberta-base_2021_11_15-09:37:45_PM\n",
      "Training finished.\n",
      "MODELPATH_R : output/roberta-base_2021_11_15-09:37:45_PM/model/\n"
     ]
    },
    {
     "data": {
      "text/html": [
       "<div>\n",
       "<style scoped>\n",
       "    .dataframe tbody tr th:only-of-type {\n",
       "        vertical-align: middle;\n",
       "    }\n",
       "\n",
       "    .dataframe tbody tr th {\n",
       "        vertical-align: top;\n",
       "    }\n",
       "\n",
       "    .dataframe thead th {\n",
       "        text-align: right;\n",
       "    }\n",
       "</style>\n",
       "<table border=\"1\" class=\"dataframe\">\n",
       "  <thead>\n",
       "    <tr style=\"text-align: right;\">\n",
       "      <th></th>\n",
       "      <th>fold</th>\n",
       "      <th>f1_weighted</th>\n",
       "      <th>vallosses</th>\n",
       "      <th>trainlosses</th>\n",
       "    </tr>\n",
       "  </thead>\n",
       "  <tbody>\n",
       "    <tr>\n",
       "      <th>0</th>\n",
       "      <td>1.0</td>\n",
       "      <td>0.853369</td>\n",
       "      <td>0.010301</td>\n",
       "      <td>0.010681</td>\n",
       "    </tr>\n",
       "    <tr>\n",
       "      <th>1</th>\n",
       "      <td>2.0</td>\n",
       "      <td>0.877957</td>\n",
       "      <td>0.009083</td>\n",
       "      <td>0.008438</td>\n",
       "    </tr>\n",
       "    <tr>\n",
       "      <th>2</th>\n",
       "      <td>3.0</td>\n",
       "      <td>0.860132</td>\n",
       "      <td>0.011957</td>\n",
       "      <td>0.002272</td>\n",
       "    </tr>\n",
       "    <tr>\n",
       "      <th>3</th>\n",
       "      <td>4.0</td>\n",
       "      <td>0.900635</td>\n",
       "      <td>0.010062</td>\n",
       "      <td>0.003986</td>\n",
       "    </tr>\n",
       "    <tr>\n",
       "      <th>4</th>\n",
       "      <td>5.0</td>\n",
       "      <td>0.835057</td>\n",
       "      <td>0.012713</td>\n",
       "      <td>0.002349</td>\n",
       "    </tr>\n",
       "  </tbody>\n",
       "</table>\n",
       "</div>"
      ],
      "text/plain": [
       "   fold  f1_weighted  vallosses  trainlosses\n",
       "0   1.0     0.853369   0.010301     0.010681\n",
       "1   2.0     0.877957   0.009083     0.008438\n",
       "2   3.0     0.860132   0.011957     0.002272\n",
       "3   4.0     0.900635   0.010062     0.003986\n",
       "4   5.0     0.835057   0.012713     0.002349"
      ]
     },
     "metadata": {},
     "output_type": "display_data"
    },
    {
     "name": "stdout",
     "output_type": "stream",
     "text": [
      "Model mean cv valloss score 0.01082318865315959\n",
      "Model mean cv f1 score 0.8654300790645502\n"
     ]
    }
   ],
   "source": [
    "validx=1\n",
    "print(f\"Epoches Count : {EPOCHS}\")\n",
    "print(\"USE_AML \",USE_AML)\n",
    "bestrecords=pd.DataFrame(columns=[\"fold\",\"f1_weighted\",\"vallosses\",\"trainlosses\"])\n",
    "for fold in CV_DICT.keys():\n",
    "    print(MODEL_NAME)\n",
    "    print(f'validation data -> {fold}: {CV_DICT[fold]} ')\n",
    "    tokenizer,model,optimizer= loadmodel(specialtoken=SEPCIAL_TOKEN)\n",
    "    \n",
    "    traindatagps,valdatagp =loadData(fold)\n",
    "#     traindatagps,valdatagp =loadData(3)\n",
    "    valdata=valdatagp[validx]\n",
    "    if DEBUG:\n",
    "        MAX_LEN =400\n",
    "        train_params = {'batch_size': TRAIN_BATCH_SIZE,\n",
    "                       'pin_memory': True,\n",
    "                        'num_workers': 0,\n",
    "                        'shuffle':True\n",
    "                        }\n",
    "    \n",
    "        val_params = {'batch_size': VALID_BATCH_SIZE,\n",
    "                        'pin_memory': True,\n",
    "                        'num_workers': 0\n",
    "                     }\n",
    "        valdata=valdata[:DEBUG_DATA_SIZE]\n",
    "    else:\n",
    "        data_collator = DataCollatorWithPadding(tokenizer=tokenizer)\n",
    "        train_params = {'batch_size': TRAIN_BATCH_SIZE,\n",
    "                        'pin_memory': True,\n",
    "                        'num_workers': 0,\n",
    "                        'collate_fn':data_collator,\n",
    "                        'shuffle':True\n",
    "                        }\n",
    "    \n",
    "        val_params = {'batch_size': VALID_BATCH_SIZE,\n",
    "                        'pin_memory': True,\n",
    "                        'num_workers': 0,\n",
    "                      'collate_fn':data_collator\n",
    "                        }\n",
    "        \n",
    "    valset = CustomDataset(valdata, tokenizer, MAX_LEN)\n",
    "    val_dataloader = DataLoader(valset, **val_params)\n",
    "    if USE_SCHEDULER:\n",
    "        scheduler = transformers.get_linear_schedule_with_warmup(                \n",
    "                 optimizer = optimizer,\n",
    "                 num_warmup_steps = warmup_step,\n",
    "                 num_training_steps = int(num_training_steps_wepoch/TRAIN_BATCH_SIZE))\n",
    "#         scheduler=torch.optim.lr_scheduler.ExponentialLR(optimizer, gamma=0.8)\n",
    "    \n",
    "    bestscore = None\n",
    "    le=[]\n",
    "    vallosses_fold=[]\n",
    "    trainlosses_fold=[]\n",
    "    f1_weighted_fold=[]\n",
    "    \n",
    "    print(f\"Max len :{MAX_LEN}\")\n",
    "    print(f\"Size of the whole VAL dataset :{len(val_dataloader.dataset)}\")\n",
    "    print(f\"VAL Loader : batchsize {VALID_BATCH_SIZE}  :{len(val_dataloader)}\")\n",
    "    bestCM_train={'target':[],'pred':[]}\n",
    "    bestCM_val={'target':[],'pred':[]}\n",
    "    state={}\n",
    "    scaler=torch.cuda.amp.GradScaler()\n",
    "\n",
    "    for epoch in range(EPOCHS):\n",
    "        bestlostfound=False\n",
    "        traindata=traindatagps[epoch]\n",
    "        if DEBUG:\n",
    "            traindata=traindata[:DEBUG_DATA_SIZE+10]\n",
    "        trainset = CustomDataset(traindata, tokenizer, MAX_LEN)\n",
    "        train_dataloader = DataLoader(trainset, **train_params)\n",
    "        print(f\"Size of the whole TRAIN dataset :{len(train_dataloader.dataset)}\")\n",
    "        print(f\"TRAIN Loader :batchsize {TRAIN_BATCH_SIZE}  :{len(train_dataloader)}\")\n",
    "        print(f\"Validate after evey : 100 iterations\")\n",
    "        print(f\"<<<<<<  Epoch: {epoch+1}/{EPOCHS} OF CV: {fold}  >>>>>>\")        \n",
    "        traintargets=[] # record only best \n",
    "        trainpreds=[]  # record only best \n",
    "#         trainlosses=[]  # alltrain loss\n",
    "        total_loss = 0\n",
    "        model.train()\n",
    "        optimizer.zero_grad()\n",
    "        for step,batch in enumerate(tqdm(train_dataloader)):\n",
    "            \n",
    "            batch = {k: v.to(device) for k, v in batch.items()}\n",
    "            \n",
    "            with torch.cuda.amp.autocast():\n",
    "                outputs = model(**batch)\n",
    "                loss,logits=outputs[:2]\n",
    "                \n",
    "            targets=batch['labels'].cpu().detach().numpy()\n",
    "            traintargets.extend(targets)\n",
    "            \n",
    "            del batch,outputs,targets\n",
    "            _ = gc.collect()\n",
    "            torch.cuda.empty_cache()\n",
    "            \n",
    "            if USE_AML:\n",
    "                loss=loss/ACCUMULATION_STEPS\n",
    "\n",
    "            \n",
    "            if L== True:\n",
    "                scaler.scale(loss).backward()\n",
    "            else:\n",
    "                loss.backward()\n",
    "\n",
    "            if USE_AML:\n",
    "                if (step+1)%ACCUMULATION_STEPS == 0:\n",
    "                    if L== True:\n",
    "                        scaler.step(optimizer)\n",
    "                        scaler.update()\n",
    "                    else:\n",
    "                        optimizer.step()\n",
    "                    optimizer.zero_grad()\n",
    "            else:\n",
    "                optimizer.step()\n",
    "                optimizer.zero_grad()\n",
    "                \n",
    "           \n",
    "            total_loss = total_loss + loss.item()\n",
    "            outputs=logits.cpu().detach().numpy()    \n",
    "            outputs=np.argmax(outputs, axis=1)\n",
    "            trainpreds.extend(outputs)\n",
    "            \n",
    "            del logits,loss,outputs\n",
    "            _ = gc.collect()\n",
    "            torch.cuda.empty_cache()\n",
    "            \n",
    "            if USE_SCHEDULER:\n",
    "                scheduler.step()\n",
    "                le.append(scheduler.get_last_lr()[0])\n",
    "#                 if ((step+1) % 100 == 0 ):\n",
    "# #                     print(f\"lr:{scheduler.get_last_lr()[0]:.20f}\")\n",
    "#                     le.append(scheduler.get_last_lr()[0])\n",
    "#                     scheduler.step()\n",
    "                \n",
    "#             if ((step+1) % int(len(train_dataloader)/10) == 0):\n",
    "            \n",
    "            if DEBUG:\n",
    "                validatepoint=int(len(train_dataloader)/2)\n",
    "            else:\n",
    "                validatepoint=100\n",
    "            if (((step+1) % validatepoint == 0)):\n",
    "                valtargets,valpreds,vallogits,valloss=validate(model,val_dataloader)\n",
    "                model.train()\n",
    "               \n",
    "                trainlosses_fold.append(total_loss/len(traintargets))\n",
    "                total_loss=0\n",
    "                vallosses_fold.append(valloss)\n",
    "                f1_weighted_fold.append(f1_score(valtargets, valpreds, average='weighted'))\n",
    "                if bestscore is None or round(bestscore,5) >= round(valloss,5):\n",
    "                    bestlostfound=True\n",
    "                    bestscore=valloss\n",
    "                    state = {\n",
    "                        'state_dict': deepcopy(model.state_dict()),\n",
    "                        'optimizer_dict': deepcopy(optimizer.state_dict()),\n",
    "                        'epoch':epoch,\n",
    "                        'step':step,\n",
    "                        'f1_weighted':f1_weighted_fold[-1],\n",
    "                        'trainlosses':trainlosses_fold[-1],\n",
    "                        'vallosses':vallosses_fold[-1]\n",
    "                                }\n",
    "\n",
    "                    best_vallogits=vallogits\n",
    "                    bestCM_train['target'] =traintargets\n",
    "                    bestCM_train['pred'] =trainpreds\n",
    "                    bestCM_val['target'] =valtargets\n",
    "                    bestCM_val['pred'] =valpreds   \n",
    "                    print('f1 score:',f1_weighted_fold[-1])\n",
    "                    print('best_trainloss:',trainlosses_fold[-1])\n",
    "                    print('best_valoss:',vallosses_fold[-1])\n",
    "                    traintargets=[] # record only best \n",
    "                    trainpreds=[]  # record only best \n",
    "        \n",
    "                del valtargets,valpreds,valloss,vallogits\n",
    "                _ = gc.collect()\n",
    "                torch.cuda.empty_cache()\n",
    "\n",
    "        del trainset,train_dataloader,traintargets,trainpreds\n",
    "        _ = gc.collect()\n",
    "        torch.cuda.empty_cache()\n",
    "        if bestlostfound == False:\n",
    "            break\n",
    "    print(\"saving\")\n",
    "    \n",
    "    fullpathOutput=\"{}/model/{}_e{}_v{:.3f}_fold{}\"\n",
    "    fullpathChkpt=fullpathOutput.format(OUT_BASEPATH,smodelname,epoch,state[\"vallosses\"],int(fold))\n",
    "    \n",
    "    torch.save(state, fullpathChkpt+\".pth\")\n",
    "    bestrecords=bestrecords.append({'fold': int(fold),\n",
    "                                'f1_weighted': state[\"f1_weighted\"],\n",
    "                                'vallosses': state[\"vallosses\"],\n",
    "                                'trainlosses':state[\"trainlosses\"],\n",
    "                               },\n",
    "                               ignore_index=True)   \n",
    "    display(bestrecords)\n",
    "    \n",
    "\n",
    "    fig, (ax1, ax2) = plt.subplots(1,2,figsize=(15,5))\n",
    "    \n",
    "    ax1.plot(trainlosses_fold,'r',label=\"trainlosses_fold\")\n",
    "    ax1.plot(vallosses_fold,'b',label=\"vallosses_fold\")\n",
    "    ax1.title.set_text(\"train vs val loss\")\n",
    "    ax1.legend(loc='center left', bbox_to_anchor=(2.5, 0.1))\n",
    "    ax2.title.set_text(f\"F1 score of {fold}\")\n",
    "    ax2.plot(f1_weighted_fold,'b',label=\"f1_weighted_fold\")\n",
    "    plt.show()\n",
    "    if USE_SCHEDULER:\n",
    "        plt.title(\"Learning rate\")\n",
    "        x = np.arange(len(le))\n",
    "        plt.plot(x,le)\n",
    "        plt.show()\n",
    "    doconfusion_matrix(bestCM_train['target'],bestCM_train['pred'],bestCM_val['target'],bestCM_val['pred']) \n",
    "    \n",
    "    f1_sco= round(state[\"f1_weighted\"],3)        \n",
    "    los=round(state[\"vallosses\"],3)    \n",
    "\n",
    "\n",
    "    valdata[f'logits{fold}_f{f1_sco}_v{los}_{uname}']=best_vallogits\n",
    "    valdata[f\"predictions_{uname}\"]=bestCM_val['pred']\n",
    "    valdata[f'targets{fold}_{uname}']=bestCM_val['target']\n",
    "    valdata[f'confidence_{uname}']=valdata[f'logits{fold}_f{f1_sco}_v{los}_{uname}'].apply(lambda x:np.array([torch.sigmoid(torch.tensor(i)).numpy()*100 for i in x ]))\n",
    "    \n",
    "    torch.save(valdata,f\"{smodelname[0]}Valpred{fold}.pkl\")\n",
    "#     valdata.to_csv(fullpathChkpt+\".tsv\", sep=\"\\t\")\n",
    "    \n",
    "    del model,optimizer,tokenizer,state,vallosses_fold,valdata,trainlosses_fold,f1_weighted_fold\n",
    "    scaler\n",
    "    _ = gc.collect()\n",
    "    torch.cuda.empty_cache()\n",
    "print(\"All CV loop finished.\")\n",
    "\n",
    "\n",
    "\n",
    "date = datetime.now().strftime(\"_%Y_%m_%d-%I:%M:%S_%p\")\n",
    "MODELPATH_R=OUT_BASEPATH+date\n",
    "print(MODELPATH_R)\n",
    "\n",
    "print(\"Training finished.\")\n",
    "os.rename(OUT_BASEPATH,MODELPATH_R)\n",
    "MODELPATH_R=MODELPATH_R+\"/model/\"\n",
    "print(\"MODELPATH_R :\",MODELPATH_R)\n",
    "\n",
    "display(bestrecords)\n",
    "print(f\"Model mean cv valloss score {bestrecords['vallosses'].mean()}\")\n",
    "print(f\"Model mean cv f1 score {bestrecords['f1_weighted'].mean()}\")\n",
    "del bestrecords\n",
    "_ = gc.collect()\n",
    "torch.cuda.empty_cache()"
   ]
  },
  {
   "cell_type": "code",
   "execution_count": 13,
   "id": "9850d289",
   "metadata": {
    "execution": {
     "iopub.execute_input": "2021-11-15T21:37:48.550821Z",
     "iopub.status.busy": "2021-11-15T21:37:48.549893Z",
     "iopub.status.idle": "2021-11-15T21:37:48.553676Z",
     "shell.execute_reply": "2021-11-15T21:37:48.554144Z",
     "shell.execute_reply.started": "2021-11-15T19:41:02.304104Z"
    },
    "papermill": {
     "duration": 1.889462,
     "end_time": "2021-11-15T21:37:48.554342",
     "exception": false,
     "start_time": "2021-11-15T21:37:46.664880",
     "status": "completed"
    },
    "tags": []
   },
   "outputs": [],
   "source": [
    "# validx=1\n",
    "# print(f\"Epoches Count : {EPOCHS}\")\n",
    "# print(\"USE_AML \",USE_AML)\n",
    "# bestrecords=pd.DataFrame(columns=[\"fold\",\"f1_weighted\",\"vallosses\",\"trainlosses\"])\n",
    "# for fold in CV_DICT.keys():\n",
    "#     print(MODEL_NAME)\n",
    "#     print(f'validation data -> {fold}: {CV_DICT[fold]} ')\n",
    "#     tokenizer,model,optimizer= loadmodel(specialtoken=SEPCIAL_TOKEN)\n",
    "    \n",
    "#     traindatagps,valdata =loadData(fold)\n",
    "# #     traindatagps,valdatagp =loadData(3)\n",
    "#     valdata=valdatagp[validx]\n",
    "#     if DEBUG:\n",
    "#         MAX_LEN =400\n",
    "#         train_params = {'batch_size': TRAIN_BATCH_SIZE,\n",
    "#                        'pin_memory': True,\n",
    "#                         'num_workers': 0,\n",
    "#                         'shuffle':True\n",
    "#                         }\n",
    "    \n",
    "#         val_params = {'batch_size': VALID_BATCH_SIZE,\n",
    "#                         'pin_memory': True,\n",
    "#                         'num_workers': 0\n",
    "#                      }\n",
    "#         valdata=valdata[:DEBUG_DATA_SIZE]\n",
    "#     else:\n",
    "#         data_collator = DataCollatorWithPadding(tokenizer=tokenizer)\n",
    "#         train_params = {'batch_size': TRAIN_BATCH_SIZE,\n",
    "#                         'pin_memory': True,\n",
    "#                         'num_workers': 0,\n",
    "#                         'collate_fn':data_collator,\n",
    "#                         'shuffle':True\n",
    "#                         }\n",
    "    \n",
    "#         val_params = {'batch_size': VALID_BATCH_SIZE,\n",
    "#                         'pin_memory': True,\n",
    "#                         'num_workers': 0,\n",
    "#                       'collate_fn':data_collator\n",
    "#                         }\n",
    "        \n",
    "#     valset = CustomDataset(valdata, tokenizer, MAX_LEN)\n",
    "#     val_dataloader = DataLoader(valset, **val_params)\n",
    "#     if USE_SCHEDULER:\n",
    "#         scheduler = transformers.get_linear_schedule_with_warmup(                \n",
    "#                  optimizer = optimizer,\n",
    "#                  num_warmup_steps = 110,\n",
    "#                  num_training_steps = int(num_training_steps_wepoch/TRAIN_BATCH_SIZE))\n",
    "# #         scheduler=torch.optim.lr_scheduler.ExponentialLR(optimizer, gamma=0.8)\n",
    "    \n",
    "#     bestscore = None\n",
    "#     le=[]\n",
    "#     vallosses_fold=[]\n",
    "#     trainlosses_fold=[]\n",
    "#     f1_weighted_fold=[]\n",
    "     \n",
    "#     print(f\"Max len :{MAX_LEN}\")\n",
    "#     print(f\"Size of the whole VAL dataset :{len(val_dataloader.dataset)}\")\n",
    "#     print(f\"VAL Loader : batchsize {VALID_BATCH_SIZE}  :{len(val_dataloader)}\")\n",
    "#     bestCM_train={'target':[],'pred':[]}\n",
    "#     bestCM_val={'target':[],'pred':[]}\n",
    "#     state={}\n",
    "#     scaler=torch.cuda.amp.GradScaler()\n",
    "\n",
    "#     for epoch in range(EPOCHS):\n",
    "#         bestlostfound=False\n",
    "#         traindata=traindatagps[epoch]\n",
    "#         if DEBUG:\n",
    "#             traindata=traindata[:DEBUG_DATA_SIZE+10]\n",
    "#         trainset = CustomDataset(traindata, tokenizer, MAX_LEN)\n",
    "        \n",
    "#         train_dataloader = DataLoader(trainset, **train_params)\n",
    "#         print(f\"Size of the whole TRAIN dataset :{len(train_dataloader.dataset)}\")\n",
    "#         print(f\"TRAIN Loader :batchsize {TRAIN_BATCH_SIZE}  :{len(train_dataloader)}\")\n",
    "#         print(f\"Validate after evey : 100 iterations\")\n",
    "#         print(f\"<<<<<<  Epoch: {epoch+1}/{EPOCHS} OF CV: {fold}  >>>>>>\")        \n",
    "#         traintargets=[] # record only best \n",
    "#         trainpreds=[]  # record only best \n",
    "# #         trainlosses=[]  # alltrain loss\n",
    "#         total_loss = 0\n",
    "#         model.train()\n",
    "#         optimizer.zero_grad()\n",
    "#         for step,batch in enumerate(tqdm(train_dataloader)):\n",
    "            \n",
    "#             batch = {k: v.to(device) for k, v in batch.items()}\n",
    "            \n",
    "#             with torch.cuda.amp.autocast():\n",
    "#                 outputs = model(**batch)\n",
    "#                 loss,logits=outputs[:2]\n",
    "                \n",
    "#             targets=batch['labels'].cpu().detach().numpy()\n",
    "#             traintargets.extend(targets)\n",
    "            \n",
    "#             del batch,outputs,targets\n",
    "#             _ = gc.collect()\n",
    "#             torch.cuda.empty_cache()\n",
    "            \n",
    "#             if USE_AML:\n",
    "#                 loss=loss/ACCUMULATION_STEPS\n",
    "\n",
    "            \n",
    "#             if L== True:\n",
    "#                 scaler.scale(loss).backward()\n",
    "#             else:\n",
    "#                 loss.backward()\n",
    "\n",
    "#             if USE_AML:\n",
    "#                 if (step+1)%ACCUMULATION_STEPS == 0:\n",
    "#                     if L== True:\n",
    "#                         scaler.step(optimizer)\n",
    "#                         scaler.update()\n",
    "#                     else:\n",
    "#                         optimizer.step()\n",
    "#                     optimizer.zero_grad()\n",
    "#             else:\n",
    "#                 optimizer.step()\n",
    "#                 optimizer.zero_grad()\n",
    "                \n",
    "           \n",
    "#             total_loss = total_loss + loss.item()\n",
    "#             outputs=logits.cpu().detach().numpy()    \n",
    "#             outputs=np.argmax(outputs, axis=1)\n",
    "#             trainpreds.extend(outputs)\n",
    "            \n",
    "#             del logits,loss,outputs\n",
    "#             _ = gc.collect()\n",
    "#             torch.cuda.empty_cache()\n",
    "            \n",
    "#             if USE_SCHEDULER:\n",
    "#                 scheduler.step()\n",
    "# #                 if ((step+1) % 100 == 0 ):\n",
    "# # #                     print(f\"lr:{scheduler.get_last_lr()[0]:.20f}\")\n",
    "# #                     le.append(scheduler.get_last_lr()[0])\n",
    "# #                     scheduler.step()\n",
    "                \n",
    "# #             if ((step+1) % int(len(train_dataloader)/10) == 0):\n",
    "\n",
    "#             if (((step+1) % 100 == 0)):\n",
    "#                 valtargets,valpreds,vallogits,valloss=validate(model,val_dataloader)\n",
    "#                 model.train()\n",
    "               \n",
    "#                 trainlosses_fold.append(total_loss/len(traintargets))\n",
    "#                 total_loss=0\n",
    "#                 vallosses_fold.append(valloss)\n",
    "#                 f1_weighted_fold.append(f1_score(valtargets, valpreds, average='weighted'))\n",
    "#                 if bestscore is None or round(bestscore,5) >= round(valloss,5):\n",
    "#                     bestlostfound=True\n",
    "#                     bestscore=valloss\n",
    "#                     state = {\n",
    "#                         'state_dict': deepcopy(model.state_dict()),\n",
    "#                         'optimizer_dict': deepcopy(optimizer.state_dict()),\n",
    "#                         'epoch':epoch,\n",
    "#                         'step':step,\n",
    "#                         'f1_weighted':f1_weighted_fold[-1],\n",
    "#                         'trainlosses':trainlosses_fold[-1],\n",
    "#                         'vallosses':vallosses_fold[-1]\n",
    "#                                 }\n",
    "\n",
    "#                     best_vallogits=vallogits\n",
    "#                     bestCM_train['target'] =traintargets\n",
    "#                     bestCM_train['pred'] =trainpreds\n",
    "#                     bestCM_val['target'] =valtargets\n",
    "#                     bestCM_val['pred'] =valpreds   \n",
    "#                     print('f1 score:',f1_weighted_fold[-1])\n",
    "#                     print('best_trainloss:',trainlosses_fold[-1])\n",
    "#                     print('best_valoss:',vallosses_fold[-1])\n",
    "#                     traintargets=[] # record only best \n",
    "#                     trainpreds=[]  # record only best \n",
    "        \n",
    "#                 del valtargets,valpreds,valloss,vallogits\n",
    "#                 _ = gc.collect()\n",
    "#                 torch.cuda.empty_cache()\n",
    "\n",
    "#         del trainset,train_dataloader,traintargets,trainpreds\n",
    "#         _ = gc.collect()\n",
    "#         torch.cuda.empty_cache()\n",
    "#         if bestlostfound == False:\n",
    "#             break\n",
    "#     print(\"saving\")\n",
    "#     model.load_state_dict(checkpoint['state_dict'])\n",
    "#     model.to(device)\n",
    "#     testdata=PredictTest(model,test_loader,testdata)\n",
    "    \n",
    "#     fullpathOutput=\"{}/model/{}_e{}_v{:.3f}_fold{}\"\n",
    "#     fullpathChkpt=fullpathOutput.format(OUT_BASEPATH,smodelname,epoch,state[\"vallosses\"],int(fold))\n",
    "    \n",
    "#     torch.save(state, fullpathChkpt+\".pth\")\n",
    "#     bestrecords=bestrecords.append({'fold': int(fold),\n",
    "#                                 'f1_weighted': state[\"f1_weighted\"],\n",
    "#                                 'vallosses': state[\"vallosses\"],\n",
    "#                                 'trainlosses':state[\"trainlosses\"],\n",
    "#                                },\n",
    "#                                ignore_index=True)   \n",
    "#     display(bestrecords)\n",
    "    \n",
    "\n",
    "#     fig, (ax1, ax2) = plt.subplots(1,2,figsize=(15,5))\n",
    "    \n",
    "#     ax1.plot(trainlosses_fold,'r',label=\"trainlosses_fold\")\n",
    "#     ax1.plot(vallosses_fold,'b',label=\"vallosses_fold\")\n",
    "#     ax1.title.set_text(\"train vs val loss\")\n",
    "#     ax1.legend(loc='center left', bbox_to_anchor=(2.5, 0.1))\n",
    "#     ax2.title.set_text(f\"F1 score of {fold}\")\n",
    "#     ax2.plot(f1_weighted_fold,'b',label=\"f1_weighted_fold\")\n",
    "#     plt.show()\n",
    "#     if USE_SCHEDULER:\n",
    "#         plt.title(\"Learning rate\")\n",
    "#         x = np.arange(len(le))\n",
    "#         plt.plot(x,le)\n",
    "#         plt.show()\n",
    "#     doconfusion_matrix(bestCM_train['target'],bestCM_train['pred'],bestCM_val['target'],bestCM_val['pred']) \n",
    "    \n",
    "#     f1_sco= round(state[\"f1_weighted\"],3)        \n",
    "#     los=round(state[\"vallosses\"],3)    \n",
    "\n",
    "\n",
    "#     valdata[f'logits{fold}_f{f1_sco}_v{los}_{uname}']=best_vallogits\n",
    "#     valdata[f\"predictions_{uname}\"]=bestCM_val['pred']\n",
    "#     valdata[f'targets{fold}_{uname}']=bestCM_val['target']\n",
    "#     valdata[f'confidence_{uname}']=valdata[f'logits{fold}_f{f1_sco}_v{los}_{uname}'].apply(lambda x:np.array([torch.sigmoid(torch.tensor(i)).numpy()*100 for i in x ]))\n",
    "    \n",
    "#     torch.save(valdata,f\"{smodelname[0]}Valpred{fold}.pkl\")\n",
    "# #     valdata.to_csv(fullpathChkpt+\".tsv\", sep=\"\\t\")\n",
    "    \n",
    "#     del model,optimizer,tokenizer,state,vallosses_fold,valdata,trainlosses_fold,f1_weighted_fold\n",
    "#     scaler\n",
    "#     _ = gc.collect()\n",
    "#     torch.cuda.empty_cache()\n",
    "# print(\"All CV loop finished.\")\n",
    "\n",
    "# Testoutputfilename=f\"{smodelname[0]}FNTestpreds\"\n",
    "# print(\"saving test\")\n",
    "# torch.save(FNcctest_df,outputfilename+\".pkl\")\n",
    "# FNcctest_df.to_csv(outputfilename+\".tsv\", sep=\"\\t\",index=False)\n",
    "    \n",
    "\n",
    "# date = datetime.now().strftime(\"_%Y_%m_%d-%I:%M:%S_%p\")\n",
    "# MODELPATH_R=OUT_BASEPATH+date\n",
    "# print(MODELPATH_R)\n",
    "\n",
    "# print(\"Training finished.\")\n",
    "# os.rename(OUT_BASEPATH,MODELPATH_R)\n",
    "# MODELPATH_R=MODELPATH_R+\"/model/\"\n",
    "# print(\"MODELPATH_R :\",MODELPATH_R)\n",
    "\n",
    "# display(bestrecords)\n",
    "# print(f\"Model mean cv valloss score {bestrecords['vallosses'].mean()}\")\n",
    "# print(f\"Model mean cv f1 score {bestrecords['f1_weighted'].mean()}\")\n",
    "# del bestrecords\n",
    "# _ = gc.collect()\n",
    "# torch.cuda.empty_cache()"
   ]
  },
  {
   "cell_type": "code",
   "execution_count": 14,
   "id": "67a8d7e5",
   "metadata": {
    "execution": {
     "iopub.execute_input": "2021-11-15T21:37:51.938224Z",
     "iopub.status.busy": "2021-11-15T21:37:51.937631Z",
     "iopub.status.idle": "2021-11-15T21:37:51.941509Z",
     "shell.execute_reply": "2021-11-15T21:37:51.941017Z",
     "shell.execute_reply.started": "2021-11-15T19:41:02.331446Z"
    },
    "papermill": {
     "duration": 1.611934,
     "end_time": "2021-11-15T21:37:51.941628",
     "exception": false,
     "start_time": "2021-11-15T21:37:50.329694",
     "status": "completed"
    },
    "tags": []
   },
   "outputs": [],
   "source": [
    "# # VAL\n",
    "# val=1\n",
    "# bestrecords=pd.DataFrame(columns=[\"fold\",\"f1_weighted\",\"vallosses\"\"f1_weighted2\"])\n",
    "# for fold in CV_DICT.keys():\n",
    "#     print(fold)\n",
    "#     print(MODEL_NAME)\n",
    "#     print(f'validation data -> {fold}: {CV_DICT[fold]} ')\n",
    "#     _,valdatagp =loadData(fold)\n",
    "#     valdata=valdatagp[val]\n",
    "#     tokenizer,model,optimizer= loadmodel(MODEL_NAME,specialtoken=SEPCIAL_TOKEN)\n",
    "    \n",
    "#     optimizer, _ = roberta_base_AdamW_grouped_LLRD(model)\n",
    "#     modelpath =list(glob.glob(MODELPATH_R+\"/\"+\"*fold{}.pth\".format(fold)))[0]\n",
    "# #     modelpath=[m for m in modellist if \"_fold{}\".format(fold) in m][0]\n",
    "#     print(modelpath)\n",
    "#     checkpoint = torch.load(modelpath)\n",
    "    \n",
    "#     model.load_state_dict(checkpoint['state_dict'])\n",
    "#     optimizer.load_state_dict(checkpoint['optimizer_dict'])\n",
    "#     model.eval()\n",
    "    \n",
    "    \n",
    "#     if DEBUG:\n",
    "#         MAX_LEN =400\n",
    "#         val_params = {'batch_size': VALID_BATCH_SIZE,\n",
    "#                         'num_workers': 0\n",
    "#                      }\n",
    "#         valdata=valdata[:DEBUG_DATA_SIZE]\n",
    "#     else:\n",
    "#         data_collator = DataCollatorWithPadding(tokenizer=tokenizer)\n",
    "#         val_params = {'batch_size': VALID_BATCH_SIZE,\n",
    "#                         'num_workers': 0,\n",
    "#                       'collate_fn':data_collator\n",
    "#                         }\n",
    "        \n",
    "        \n",
    "#     trainset = CustomDataset(valdata, tokenizer, MAX_LEN)\n",
    "    \n",
    "#     test_dataloader=DataLoader(trainset,**val_params)\n",
    "#     del modelpath,checkpoint\n",
    "#     torch.cuda.empty_cache()\n",
    "    \n",
    "#     logitsoutput=[]\n",
    "#     batchtargets=[]\n",
    "#     batchoutputs=[]\n",
    "#     batchloss=[]\n",
    "    \n",
    "#     with torch.no_grad():\n",
    "#         for i,batch in enumerate(tqdm(test_dataloader)):\n",
    "#             batch = {k: v.to(device) for k, v in batch.items()}\n",
    "#             outputs = model(**batch)\n",
    "#             loss,logits=outputs[:2]\n",
    "#             logitsoutput.extend(logits.cpu().detach().numpy())\n",
    "            \n",
    "#             targets=batch['labels'].cpu().detach().numpy()\n",
    "#             batchtargets.extend(targets)\n",
    "            \n",
    "#             if USE_AML:\n",
    "#                 batchloss.append(loss.item()/ACCUMULATION_STEPS)\n",
    "#             else:\n",
    "#                 batchloss.append(loss.item())\n",
    "\n",
    "#             outputs=logits.cpu().detach().numpy()    \n",
    "#             outputs=np.argmax(outputs, axis=1)\n",
    "#             batchoutputs.extend(outputs)\n",
    "            \n",
    "#     f1_socre= round(f1_score(batchtargets, batchoutputs, average='weighted'),3)        \n",
    "#     loss=round(np.mean(batchloss),3)       \n",
    "#     valdata[f'logits{fold}_f{f1_socre}_v{loss}_dbca']=logitsoutput\n",
    "#     valdata[f'targets{fold}_dbca']=batchtargets\n",
    "#     valdata[f'predictions{fold}_dbca']=valdata[f'logits{fold}_f{f1_socre}_v{loss}_dbca'].apply(lambda x:x.argmax())\n",
    "#     valdata[f'confidence{fold}_dbca']=valdata[f'logits{fold}_f{f1_socre}_v{loss}_dbca'].apply(lambda x:np.array([torch.sigmoid(torch.tensor(i)).numpy()*100 for i in x ]))\n",
    "#     torch.save(valdata,f\"{smodelname[0]}chkValpred{fold}.pkl\")\n",
    "\n",
    "#     valdata.to_csv(f\"{MODEL_NAME.split('/')[-1]}_{val}Testpreds{fold}.tsv\", sep=\"\\t\",index=False)\n",
    "#     bestrecords=bestrecords.append({'fold': int(fold),\n",
    "#                                 'f1_weighted': f1_socre,\n",
    "#                                 'vallosses':loss,\n",
    "#                                },\n",
    "#                                ignore_index=True)   \n",
    "#     display(bestrecords)\n",
    "#     doconfusion_matrix_one(batchtargets,batchoutputs)         \n",
    "    \n",
    "\n",
    "#     del model,optimizer\n",
    "#     _= gc.collect()\n",
    "#     torch.cuda.empty_cache()\n",
    "\n"
   ]
  },
  {
   "cell_type": "markdown",
   "id": "9e1aa84f",
   "metadata": {
    "papermill": {
     "duration": 1.270511,
     "end_time": "2021-11-15T21:37:54.445699",
     "exception": false,
     "start_time": "2021-11-15T21:37:53.175188",
     "status": "completed"
    },
    "tags": []
   },
   "source": [
    "#### CHECK CREATED MODEL"
   ]
  },
  {
   "cell_type": "code",
   "execution_count": 15,
   "id": "a7ac6d48",
   "metadata": {
    "execution": {
     "iopub.execute_input": "2021-11-15T21:37:56.941481Z",
     "iopub.status.busy": "2021-11-15T21:37:56.938728Z",
     "iopub.status.idle": "2021-11-15T21:37:56.942374Z",
     "shell.execute_reply": "2021-11-15T21:37:56.942787Z",
     "shell.execute_reply.started": "2021-11-15T19:41:03.280384Z"
    },
    "papermill": {
     "duration": 1.271628,
     "end_time": "2021-11-15T21:37:56.942919",
     "exception": false,
     "start_time": "2021-11-15T21:37:55.671291",
     "status": "completed"
    },
    "tags": []
   },
   "outputs": [],
   "source": [
    "# modellist={\"../input/psdebertanotokenv1/output/deberta-base_2021_11_11-08:08:00_PM/model/deberta-base_e0_v0.059_fold2.pth\",\n",
    "# \"../input/psdebertanotokenv1/output/deberta-base_2021_11_11-08:08:00_PM/model/deberta-base_e0_v0.061_fold1.pth\",\n",
    "# \"../input/psdebertanotokenv1/output/deberta-base_2021_11_11-08:08:00_PM/model/deberta-base_e4_v0.078_fold3.pth\"}"
   ]
  },
  {
   "cell_type": "code",
   "execution_count": 16,
   "id": "de6243bc",
   "metadata": {
    "execution": {
     "iopub.execute_input": "2021-11-15T21:37:59.406335Z",
     "iopub.status.busy": "2021-11-15T21:37:59.405298Z",
     "iopub.status.idle": "2021-11-15T21:37:59.407473Z",
     "shell.execute_reply": "2021-11-15T21:37:59.407858Z",
     "shell.execute_reply.started": "2021-11-15T19:41:03.301113Z"
    },
    "papermill": {
     "duration": 1.237202,
     "end_time": "2021-11-15T21:37:59.408019",
     "exception": false,
     "start_time": "2021-11-15T21:37:58.170817",
     "status": "completed"
    },
    "tags": []
   },
   "outputs": [],
   "source": [
    "# #TEST\n",
    "# # test=testdata.copy()\n",
    "# testidx=1\n",
    "# testlist=[testdata,abtestdata]\n",
    "# testno=0\n",
    "# test=testlist[testidx]\n",
    "# for fold in CV_DICT.keys():\n",
    "#     print(fold)\n",
    "#     print(MODEL_NAME)\n",
    "    \n",
    "#     tokenizer,model,optimizer= loadmodel(MODEL_NAME,specialtoken=SEPCIAL_TOKEN)\n",
    "    \n",
    "#     modelpath =list(glob.glob(MODELPATH_R+\"*fold{}.pth\".format(fold)))[0]\n",
    "    \n",
    "# #     modelpath=[m for m in modellist if \"_fold{}\".format(fold) in m][0]\n",
    "\n",
    "#     print(modelpath)\n",
    "#     checkpoint = torch.load(modelpath)\n",
    "\n",
    "#     model.load_state_dict(checkpoint['state_dict'])\n",
    "\n",
    "#     model.eval()\n",
    "\n",
    "#     del modelpath,checkpoint\n",
    "#     torch.cuda.empty_cache()\n",
    "    \n",
    "    \n",
    "#     if DEBUG:\n",
    "#         MAX_LEN =400\n",
    "#         test_params = {'batch_size': VALID_BATCH_SIZE,\n",
    "#                         'pin_memory': True,\n",
    "#                         'num_workers': 0\n",
    "#                      }\n",
    "#         test=test[:DEBUG_DATA_SIZE]\n",
    "#     else:\n",
    "#         data_collator = DataCollatorWithPadding(tokenizer=tokenizer)\n",
    "#         test_params = {'batch_size': VALID_BATCH_SIZE,\n",
    "#                         'pin_memory': True,\n",
    "#                         'num_workers': 0,\n",
    "#                       'collate_fn':data_collator\n",
    "#                         }\n",
    "    \n",
    "    \n",
    "    \n",
    "#     testset = CustomDataset(test, tokenizer, MAX_LEN,labelexist=False)\n",
    "#     test_dataloader=DataLoader(testset,**test_params)\n",
    "    \n",
    "\n",
    "#     logitsoutput=[]\n",
    "#     with torch.no_grad():\n",
    "#         for i,batch in enumerate(tqdm(test_dataloader)):\n",
    "#             batch = {k: v.to(device) for k, v in batch.items()}\n",
    "#             outputs = model(**batch)\n",
    "#             logitsoutput.extend(outputs.logits.cpu().detach().numpy())\n",
    "            \n",
    "#     test[f'logits{fold}']=logitsoutput\n",
    "#     test[f'predictions{fold}']=test[f'logits{fold}'].apply(lambda x:x.argmax())\n",
    "#     test[f'confidence{fold}']=test[f'logits{fold}'].apply(lambda x:np.array([torch.sigmoid(torch.tensor(i)).numpy()*100 for i in x ]))\n",
    "        \n",
    "        \n",
    "\n",
    "\n",
    "#     del model\n",
    "#     torch.cuda.empty_cache()\n",
    "# # fullpathOutput=\"{}/{}_e{}_v{:.3f}_fold{}\"\n",
    "# # fullpathChkpt=fullpathOutput.format(OUT_BASEPATH,MODEL_NAME.split('/')[-1],epoch,state[\"vallosses\"],int(fold))\n",
    "\n",
    "# # fullpathPreds=f\"{outputpath}/{modelname.split('/')[-1]}_testpreds.pkl\"\n",
    "# # test.to_pickle(fullpathPreds)\n",
    "# fullpathOutput=\"{}/{}_fold{}\".format(OUT_BASEPATH,smodelname,int(fold))\n",
    "# # test.to_csv(fullpathOutput+f\"{testidx}Testpreds.tsv\", sep=\"\\t\",index=False)\n",
    "# torch.save(test,f\"{smodelname[0]}Testpreds.pkl\")\n",
    "\n",
    "\n",
    "# print(\"Training finished.\")\n",
    "# # os.rename(OUT_BASEPATH,MODELPATH_R)\n",
    "# # print(\"MODELPATH_R :\",MODELPATH_R)\n",
    "\n",
    "\n",
    "# # # preds=pd.read_pickle(fullpathPreds)\n",
    "# # logits_col = [col for col in test if col.startswith('logit')]\n",
    "# # test['FNlogit']=sum(test[column].to_numpy() for column in test[logits_col])/len(logits_col)\n",
    "# # test['FNprediction']=test['FNlogit'].apply(lambda x:x.argmax())\n",
    "# # test['FNtop2class']=test['FNlogit'].apply(lambda x:x.argsort()[-2:][::-1])\n",
    "# # test['FNftop2class']=test['FNlogit'].apply(lambda x:x.argsort()[-2:][::-1])\n",
    "# # test['FNconfidences']=test['FNlogit'].apply(lambda x:np.array([torch.sigmoid(torch.tensor(i)).numpy()*100 for i in x ]))\n",
    "# # test['FNtopconf2']=test['FNconfidences'].apply(lambda x:x[x.argsort()[-2:][::-1]])\n",
    "# # test['FNpredconf']=test['FNtopconf2'].apply(lambda x:x[x.argmax()])\n",
    "\n",
    "# # # preds.to_csv(\"final.tsv\", sep=\"\\t\",index=False)\n",
    "# # test['FNcondiff']=test['FNtopconf2'].apply(lambda x:x[0]-x[1])\n",
    "# # test.to_csv(f\"{MODEL_NAME.split('/')[-1]}_testpredictions.tsv\", sep=\"\\t\",index=False)\n",
    "\n",
    "# # pred123=test[(test.FNprediction!=0) & (test.FNcondiff>15)& (test.FNpredconf>95)]\n",
    "# # print(pred123.FNprediction.value_counts())\n",
    "# # pred123.to_csv(f\"{MODEL_NAME.split('/')[-1]}_pseudolabels.tsv\", sep=\"\\t\",index=False)"
   ]
  },
  {
   "cell_type": "markdown",
   "id": "1bfb2deb",
   "metadata": {
    "papermill": {
     "duration": 1.228623,
     "end_time": "2021-11-15T21:38:01.861340",
     "exception": false,
     "start_time": "2021-11-15T21:38:00.632717",
     "status": "completed"
    },
    "tags": []
   },
   "source": [
    "### Testdata"
   ]
  },
  {
   "cell_type": "code",
   "execution_count": 17,
   "id": "2fbdf1a7",
   "metadata": {
    "execution": {
     "iopub.execute_input": "2021-11-15T21:38:07.168844Z",
     "iopub.status.busy": "2021-11-15T21:38:07.165027Z",
     "iopub.status.idle": "2021-11-15T21:39:21.586400Z",
     "shell.execute_reply": "2021-11-15T21:39:21.586840Z",
     "shell.execute_reply.started": "2021-11-15T19:41:03.314067Z"
    },
    "papermill": {
     "duration": 75.665401,
     "end_time": "2021-11-15T21:39:21.586996",
     "exception": false,
     "start_time": "2021-11-15T21:38:05.921595",
     "status": "completed"
    },
    "tags": []
   },
   "outputs": [
    {
     "name": "stdout",
     "output_type": "stream",
     "text": [
      "1\n",
      "roberta-base\n",
      "['[NSEP]'] 4 2e-05\n",
      "output/roberta-base_2021_11_15-09:37:45_PM/model/roberta-base_e1_v0.010_fold1.pth\n",
      "validation data -> 1: ['Form10k_65', 'Form10k_44', 'Form10k_74', 'Form10k_01'] \n"
     ]
    },
    {
     "name": "stderr",
     "output_type": "stream",
     "text": [
      "100%|██████████| 619/619 [01:00<00:00, 10.27it/s]\n",
      "/opt/conda/lib/python3.7/site-packages/ipykernel_launcher.py:74: SettingWithCopyWarning: \n",
      "A value is trying to be set on a copy of a slice from a DataFrame.\n",
      "Try using .loc[row_indexer,col_indexer] = value instead\n",
      "\n",
      "See the caveats in the documentation: https://pandas.pydata.org/pandas-docs/stable/user_guide/indexing.html#returning-a-view-versus-a-copy\n",
      "/opt/conda/lib/python3.7/site-packages/ipykernel_launcher.py:75: SettingWithCopyWarning: \n",
      "A value is trying to be set on a copy of a slice from a DataFrame.\n",
      "Try using .loc[row_indexer,col_indexer] = value instead\n",
      "\n",
      "See the caveats in the documentation: https://pandas.pydata.org/pandas-docs/stable/user_guide/indexing.html#returning-a-view-versus-a-copy\n",
      "/opt/conda/lib/python3.7/site-packages/ipykernel_launcher.py:76: SettingWithCopyWarning: \n",
      "A value is trying to be set on a copy of a slice from a DataFrame.\n",
      "Try using .loc[row_indexer,col_indexer] = value instead\n",
      "\n",
      "See the caveats in the documentation: https://pandas.pydata.org/pandas-docs/stable/user_guide/indexing.html#returning-a-view-versus-a-copy\n",
      "/opt/conda/lib/python3.7/site-packages/ipykernel_launcher.py:77: SettingWithCopyWarning: \n",
      "A value is trying to be set on a copy of a slice from a DataFrame.\n",
      "Try using .loc[row_indexer,col_indexer] = value instead\n",
      "\n",
      "See the caveats in the documentation: https://pandas.pydata.org/pandas-docs/stable/user_guide/indexing.html#returning-a-view-versus-a-copy\n"
     ]
    },
    {
     "name": "stdout",
     "output_type": "stream",
     "text": [
      "saving\n"
     ]
    },
    {
     "data": {
      "text/html": [
       "<div>\n",
       "<style scoped>\n",
       "    .dataframe tbody tr th:only-of-type {\n",
       "        vertical-align: middle;\n",
       "    }\n",
       "\n",
       "    .dataframe tbody tr th {\n",
       "        vertical-align: top;\n",
       "    }\n",
       "\n",
       "    .dataframe thead th {\n",
       "        text-align: right;\n",
       "    }\n",
       "</style>\n",
       "<table border=\"1\" class=\"dataframe\">\n",
       "  <thead>\n",
       "    <tr style=\"text-align: right;\">\n",
       "      <th></th>\n",
       "      <th>fold</th>\n",
       "      <th>f1_weighted</th>\n",
       "      <th>vallossesf1_weighted2</th>\n",
       "      <th>vallosses</th>\n",
       "    </tr>\n",
       "  </thead>\n",
       "  <tbody>\n",
       "    <tr>\n",
       "      <th>0</th>\n",
       "      <td>1.0</td>\n",
       "      <td>0.936</td>\n",
       "      <td>NaN</td>\n",
       "      <td>0.091</td>\n",
       "    </tr>\n",
       "  </tbody>\n",
       "</table>\n",
       "</div>"
      ],
      "text/plain": [
       "   fold  f1_weighted  vallossesf1_weighted2  vallosses\n",
       "0   1.0        0.936                    NaN      0.091"
      ]
     },
     "metadata": {},
     "output_type": "display_data"
    },
    {
     "data": {
      "image/png": "[encoded data removed]",
      "text/plain": [
       "<Figure size 640x480 with 2 Axes>"
      ]
     },
     "metadata": {},
     "output_type": "display_data"
    }
   ],
   "source": [
    "def GetPredictions(outputfilename,testdata=None,labelexist=False):\n",
    "    if labelexist :\n",
    "        bestrecords=pd.DataFrame(columns=[\"fold\",\"f1_weighted\",\"vallosses\"\"f1_weighted2\"])\n",
    "    for fold in CV_DICT.keys():\n",
    "        print(fold)\n",
    "        print(MODEL_NAME)\n",
    "        \n",
    "        tokenizer,model,optimizer= loadmodel(specialtoken=SEPCIAL_TOKEN)\n",
    "        modelpath =list(glob.glob(MODELPATH_R+\"/\"+\"*fold{}.pth\".format(fold)))[0]\n",
    "    #     modelpath=[m for m in modellist if \"_fold{}\".format(fold) in m][0]\n",
    "        print(modelpath)\n",
    "        checkpoint = torch.load(modelpath)\n",
    "        \n",
    "        model.load_state_dict(checkpoint['state_dict'])\n",
    "        optimizer.load_state_dict(checkpoint['optimizer_dict'])\n",
    "        model.eval()\n",
    "        \n",
    "        if testdata is None :        \n",
    "            print(f'validation data -> {fold}: {CV_DICT[fold]} ')\n",
    "#             _,testdata =loadData(fold) \n",
    "#             testdata=testdata[1]\n",
    "            testdata=valab_df[valab_df['html_id'].isin(CV_DICT[fold])]\n",
    "            testdata.reset_index(drop=True,inplace=True)\n",
    "\n",
    "        if DEBUG:\n",
    "            val_params = {'batch_size': VALID_BATCH_SIZE,\n",
    "                            'num_workers': 0\n",
    "                         }\n",
    "            testdata=testdata[:DEBUG_DATA_SIZE]\n",
    "\n",
    "        else:\n",
    "            data_collator = DataCollatorWithPadding(tokenizer=tokenizer)\n",
    "            val_params = {'batch_size': VALID_BATCH_SIZE,\n",
    "                            'num_workers': 0,\n",
    "                          'collate_fn':data_collator\n",
    "                            }\n",
    "            \n",
    "           \n",
    "        trainset = CustomDataset(testdata, tokenizer, MAX_LEN,labelexist)\n",
    "        \n",
    "        test_dataloader=DataLoader(trainset,**val_params)\n",
    "        del modelpath,checkpoint\n",
    "        torch.cuda.empty_cache()\n",
    "        \n",
    "        logitsoutput=[]\n",
    "        batchtargets=[]\n",
    "        batchoutputs=[]\n",
    "        batchloss=[]\n",
    "        \n",
    "        \n",
    "        with torch.no_grad():\n",
    "            for i,batch in enumerate(tqdm(test_dataloader)):\n",
    "                batch = {k: v.to(device) for k, v in batch.items()}\n",
    "                outputs = model(**batch)\n",
    "                if labelexist:\n",
    "                    loss,logits=outputs[:2]\n",
    "                    targets=batch['labels'].cpu().detach().numpy()\n",
    "                    batchtargets.extend(targets)\n",
    "                    \n",
    "                    if USE_AML:\n",
    "                        batchloss.append(loss.item()/ACCUMULATION_STEPS)\n",
    "                    else:\n",
    "                        batchloss.append(loss.item())\n",
    "            \n",
    "                    outputs=logits.cpu().detach().numpy()    \n",
    "                    outputs=np.argmax(outputs, axis=1)\n",
    "                    batchoutputs.extend(outputs)\n",
    "                else:\n",
    "                    loss,logits=outputs[:2]\n",
    "                logitsoutput.extend(logits.cpu().detach().numpy())\n",
    "        if labelexist :        \n",
    "            f1_socre= round(f1_score(batchtargets, batchoutputs, average='weighted'),3)        \n",
    "            loss=round(np.mean(batchloss),3)       \n",
    "            testdata[f'logits{fold}_f{f1_socre}_v{loss}_{uname}']=logitsoutput\n",
    "            testdata[f'targets{fold}_{uname}']=batchtargets\n",
    "            testdata[f'predictions{fold}_{uname}']=testdata[f'logits{fold}_f{f1_socre}_v{loss}_{uname}'].apply(lambda x:x.argmax())\n",
    "            testdata[f'confidence{fold}_{uname}']=testdata[f'logits{fold}_f{f1_socre}_v{loss}_{uname}'].apply(lambda x:np.array([torch.sigmoid(torch.tensor(i)).numpy()*100 for i in x ]))\n",
    "#             outputPath=f\"{smodelname[0]}chkValpred{fold}\"\n",
    "            print(\"saving\")\n",
    "            torch.save(testdata,outputfilename+\".pkl\")\n",
    "            testdata.to_csv(outputfilename+\".tsv\", sep=\"\\t\",index=False)\n",
    "            bestrecords=bestrecords.append({'fold': int(fold),\n",
    "                                    'f1_weighted': f1_socre,\n",
    "                                    'vallosses':loss,\n",
    "                                   },\n",
    "                                   ignore_index=True)   \n",
    "            display(bestrecords)\n",
    "            doconfusion_matrix_one(batchtargets,batchoutputs)        \n",
    "            \n",
    "        \n",
    "        else:\n",
    "            testdata[f'logits{fold}']=logitsoutput\n",
    "            testdata[f'predictions{fold}']=testdata[f'logits{fold}'].apply(lambda x:x.argmax())\n",
    "            testdata[f'confidence{fold}']=testdata[f'logits{fold}'].apply(lambda x:np.array([torch.sigmoid(torch.tensor(i)).numpy()*100 for i in x ]))\n",
    "\n",
    "        del model,optimizer\n",
    "        _= gc.collect()\n",
    "        torch.cuda.empty_cache()\n",
    "        if labelexist:\n",
    "            break\n",
    "    if not labelexist :   \n",
    "        print(\"saving test\")\n",
    "        torch.save(testdata,outputfilename+\".pkl\")\n",
    "        testdata.to_csv(outputfilename+\".tsv\", sep=\"\\t\",index=False)\n",
    "    \n",
    "GetPredictions(f\"{smodelname[0]}VValpreds\",labelexist=True)"
   ]
  },
  {
   "cell_type": "code",
   "execution_count": 18,
   "id": "464d2165",
   "metadata": {
    "execution": {
     "iopub.execute_input": "2021-11-15T21:39:24.340311Z",
     "iopub.status.busy": "2021-11-15T21:39:24.338187Z",
     "iopub.status.idle": "2021-11-15T22:13:53.074753Z",
     "shell.execute_reply": "2021-11-15T22:13:53.075351Z",
     "shell.execute_reply.started": "2021-11-15T19:41:17.747407Z"
    },
    "papermill": {
     "duration": 2070.074867,
     "end_time": "2021-11-15T22:13:53.075548",
     "exception": false,
     "start_time": "2021-11-15T21:39:23.000681",
     "status": "completed"
    },
    "tags": []
   },
   "outputs": [
    {
     "name": "stdout",
     "output_type": "stream",
     "text": [
      "1\n",
      "roberta-base\n",
      "['[NSEP]'] 4 2e-05\n",
      "output/roberta-base_2021_11_15-09:37:45_PM/model/roberta-base_e1_v0.010_fold1.pth\n"
     ]
    },
    {
     "name": "stderr",
     "output_type": "stream",
     "text": [
      "100%|██████████| 3782/3782 [06:22<00:00,  9.89it/s]\n"
     ]
    },
    {
     "name": "stdout",
     "output_type": "stream",
     "text": [
      "2\n",
      "roberta-base\n",
      "['[NSEP]'] 4 2e-05\n",
      "output/roberta-base_2021_11_15-09:37:45_PM/model/roberta-base_e1_v0.009_fold2.pth\n"
     ]
    },
    {
     "name": "stderr",
     "output_type": "stream",
     "text": [
      "100%|██████████| 3782/3782 [06:25<00:00,  9.81it/s]\n"
     ]
    },
    {
     "name": "stdout",
     "output_type": "stream",
     "text": [
      "3\n",
      "roberta-base\n",
      "['[NSEP]'] 4 2e-05\n",
      "output/roberta-base_2021_11_15-09:37:45_PM/model/roberta-base_e1_v0.012_fold3.pth\n"
     ]
    },
    {
     "name": "stderr",
     "output_type": "stream",
     "text": [
      "100%|██████████| 3782/3782 [06:26<00:00,  9.78it/s]\n"
     ]
    },
    {
     "name": "stdout",
     "output_type": "stream",
     "text": [
      "4\n",
      "roberta-base\n",
      "['[NSEP]'] 4 2e-05\n",
      "output/roberta-base_2021_11_15-09:37:45_PM/model/roberta-base_e1_v0.010_fold4.pth\n"
     ]
    },
    {
     "name": "stderr",
     "output_type": "stream",
     "text": [
      "100%|██████████| 3782/3782 [06:27<00:00,  9.75it/s]\n"
     ]
    },
    {
     "name": "stdout",
     "output_type": "stream",
     "text": [
      "5\n",
      "roberta-base\n",
      "['[NSEP]'] 4 2e-05\n",
      "output/roberta-base_2021_11_15-09:37:45_PM/model/roberta-base_e1_v0.013_fold5.pth\n"
     ]
    },
    {
     "name": "stderr",
     "output_type": "stream",
     "text": [
      "100%|██████████| 3782/3782 [06:27<00:00,  9.76it/s]\n"
     ]
    },
    {
     "name": "stdout",
     "output_type": "stream",
     "text": [
      "saving test\n"
     ]
    }
   ],
   "source": [
    "if DEBUG:\n",
    "    FNcctest_df=FNcctest_df[:10]\n",
    "GetPredictions(f\"{smodelname[0]}FNTestpreds\",FNcctest_df,labelexist=False)\n"
   ]
  },
  {
   "cell_type": "code",
   "execution_count": 19,
   "id": "f9587751",
   "metadata": {
    "execution": {
     "iopub.execute_input": "2021-11-15T22:14:02.203740Z",
     "iopub.status.busy": "2021-11-15T22:14:02.203137Z",
     "iopub.status.idle": "2021-11-15T22:14:02.208908Z",
     "shell.execute_reply": "2021-11-15T22:14:02.208430Z",
     "shell.execute_reply.started": "2021-11-15T19:42:48.177884Z"
    },
    "papermill": {
     "duration": 4.722147,
     "end_time": "2021-11-15T22:14:02.209031",
     "exception": false,
     "start_time": "2021-11-15T22:13:57.486884",
     "status": "completed"
    },
    "tags": []
   },
   "outputs": [
    {
     "data": {
      "text/plain": [
       "Index(['sid', 'html_id', 'sentence', 'title', 'isTitle', 'paragraph_id', 'pid',\n",
       "       'tid', 'sentence_ori', 'random', 'aisTitle', 'atitle', 'apid', 'atid',\n",
       "       'arandom', 'bisTitle', 'btitle', 'brandom', 'asentence', 'bsentence',\n",
       "       'logits1', 'predictions1', 'confidence1', 'logits2', 'predictions2',\n",
       "       'confidence2', 'logits3', 'predictions3', 'confidence3', 'logits4',\n",
       "       'predictions4', 'confidence4', 'logits5', 'predictions5',\n",
       "       'confidence5'],\n",
       "      dtype='object')"
      ]
     },
     "execution_count": 19,
     "metadata": {},
     "output_type": "execute_result"
    }
   ],
   "source": [
    "FNcctest_df.columns"
   ]
  },
  {
   "cell_type": "code",
   "execution_count": null,
   "id": "52e95ef4",
   "metadata": {
    "papermill": {
     "duration": 4.611695,
     "end_time": "2021-11-15T22:14:11.820258",
     "exception": false,
     "start_time": "2021-11-15T22:14:07.208563",
     "status": "completed"
    },
    "tags": []
   },
   "outputs": [],
   "source": []
  }
 ],
 "metadata": {
  "kernelspec": {
   "display_name": "Python 3",
   "language": "python",
   "name": "python3"
  },
  "language_info": {
   "codemirror_mode": {
    "name": "ipython",
    "version": 3
   },
   "file_extension": ".py",
   "mimetype": "text/x-python",
   "name": "python",
   "nbconvert_exporter": "python",
   "pygments_lexer": "ipython3",
   "version": "3.7.10"
  },
  "papermill": {
   "default_parameters": {},
   "duration": 6566.122825,
   "end_time": "2021-11-15T22:14:19.814476",
   "environment_variables": {},
   "exception": null,
   "input_path": "__notebook__.ipynb",
   "output_path": "__notebook__.ipynb",
   "parameters": {},
   "start_time": "2021-11-15T20:24:53.691651",
   "version": "2.3.3"
  },
  "widgets": {
   "application/vnd.jupyter.widget-state+json": {
    "state": {
     "00b2987a3e234c63b31e1a4368f77435": {
      "model_module": "@jupyter-widgets/controls",
      "model_module_version": "1.5.0",
      "model_name": "DescriptionStyleModel",
      "state": {
       "_model_module": "@jupyter-widgets/controls",
       "_model_module_version": "1.5.0",
       "_model_name": "DescriptionStyleModel",
       "_view_count": null,
       "_view_module": "@jupyter-widgets/base",
       "_view_module_version": "1.2.0",
       "_view_name": "StyleView",
       "description_width": ""
      }
     },
     "01bc2d178fe34af89e41ea7b690d339d": {
      "model_module": "@jupyter-widgets/controls",
      "model_module_version": "1.5.0",
      "model_name": "DescriptionStyleModel",
      "state": {
       "_model_module": "@jupyter-widgets/controls",
       "_model_module_version": "1.5.0",
       "_model_name": "DescriptionStyleModel",
       "_view_count": null,
       "_view_module": "@jupyter-widgets/base",
       "_view_module_version": "1.2.0",
       "_view_name": "StyleView",
       "description_width": ""
      }
     },
     "04f368e86fbd44aa9d8d03ffec9237da": {
      "model_module": "@jupyter-widgets/controls",
      "model_module_version": "1.5.0",
      "model_name": "HBoxModel",
      "state": {
       "_dom_classes": [],
       "_model_module": "@jupyter-widgets/controls",
       "_model_module_version": "1.5.0",
       "_model_name": "HBoxModel",
       "_view_count": null,
       "_view_module": "@jupyter-widgets/controls",
       "_view_module_version": "1.5.0",
       "_view_name": "HBoxView",
       "box_style": "",
       "children": [
        "IPY_MODEL_1e351364f6e04277a4aba88c7fc055a9",
        "IPY_MODEL_85e529616e5a49acb4db04f6d93afd43",
        "IPY_MODEL_d821696d60484ee3b220698dc6b6f9a1"
       ],
       "layout": "IPY_MODEL_bb49b32aec614432bd8724a31b97734d"
      }
     },
     "127fce44f0a140878a6f9e9f71f0a75f": {
      "model_module": "@jupyter-widgets/controls",
      "model_module_version": "1.5.0",
      "model_name": "DescriptionStyleModel",
      "state": {
       "_model_module": "@jupyter-widgets/controls",
       "_model_module_version": "1.5.0",
       "_model_name": "DescriptionStyleModel",
       "_view_count": null,
       "_view_module": "@jupyter-widgets/base",
       "_view_module_version": "1.2.0",
       "_view_name": "StyleView",
       "description_width": ""
      }
     },
     "13630c33c13348df9d6e75e221e0d1e4": {
      "model_module": "@jupyter-widgets/base",
      "model_module_version": "1.2.0",
      "model_name": "LayoutModel",
      "state": {
       "_model_module": "@jupyter-widgets/base",
       "_model_module_version": "1.2.0",
       "_model_name": "LayoutModel",
       "_view_count": null,
       "_view_module": "@jupyter-widgets/base",
       "_view_module_version": "1.2.0",
       "_view_name": "LayoutView",
       "align_content": null,
       "align_items": null,
       "align_self": null,
       "border": null,
       "bottom": null,
       "display": null,
       "flex": null,
       "flex_flow": null,
       "grid_area": null,
       "grid_auto_columns": null,
       "grid_auto_flow": null,
       "grid_auto_rows": null,
       "grid_column": null,
       "grid_gap": null,
       "grid_row": null,
       "grid_template_areas": null,
       "grid_template_columns": null,
       "grid_template_rows": null,
       "height": null,
       "justify_content": null,
       "justify_items": null,
       "left": null,
       "margin": null,
       "max_height": null,
       "max_width": null,
       "min_height": null,
       "min_width": null,
       "object_fit": null,
       "object_position": null,
       "order": null,
       "overflow": null,
       "overflow_x": null,
       "overflow_y": null,
       "padding": null,
       "right": null,
       "top": null,
       "visibility": null,
       "width": null
      }
     },
     "13e5ce6a4d984a52a55a57939e3920c8": {
      "model_module": "@jupyter-widgets/controls",
      "model_module_version": "1.5.0",
      "model_name": "HTMLModel",
      "state": {
       "_dom_classes": [],
       "_model_module": "@jupyter-widgets/controls",
       "_model_module_version": "1.5.0",
       "_model_name": "HTMLModel",
       "_view_count": null,
       "_view_module": "@jupyter-widgets/controls",
       "_view_module_version": "1.5.0",
       "_view_name": "HTMLView",
       "description": "",
       "description_tooltip": null,
       "layout": "IPY_MODEL_fcfca34725e64e7eb9703428ab47a9e4",
       "placeholder": "​",
       "style": "IPY_MODEL_f9a7bd01761d46e791f550a89a3fd636",
       "value": " 1.36M/1.36M [00:00&lt;00:00, 5.20MB/s]"
      }
     },
     "17df783f9a544b7a8d30332d91d73c1a": {
      "model_module": "@jupyter-widgets/controls",
      "model_module_version": "1.5.0",
      "model_name": "HTMLModel",
      "state": {
       "_dom_classes": [],
       "_model_module": "@jupyter-widgets/controls",
       "_model_module_version": "1.5.0",
       "_model_name": "HTMLModel",
       "_view_count": null,
       "_view_module": "@jupyter-widgets/controls",
       "_view_module_version": "1.5.0",
       "_view_name": "HTMLView",
       "description": "",
       "description_tooltip": null,
       "layout": "IPY_MODEL_c8df3d9e85c44a079bf7f5b484476bf8",
       "placeholder": "​",
       "style": "IPY_MODEL_127fce44f0a140878a6f9e9f71f0a75f",
       "value": " 501M/501M [00:15&lt;00:00, 18.9MB/s]"
      }
     },
     "1e351364f6e04277a4aba88c7fc055a9": {
      "model_module": "@jupyter-widgets/controls",
      "model_module_version": "1.5.0",
      "model_name": "HTMLModel",
      "state": {
       "_dom_classes": [],
       "_model_module": "@jupyter-widgets/controls",
       "_model_module_version": "1.5.0",
       "_model_name": "HTMLModel",
       "_view_count": null,
       "_view_module": "@jupyter-widgets/controls",
       "_view_module_version": "1.5.0",
       "_view_name": "HTMLView",
       "description": "",
       "description_tooltip": null,
       "layout": "IPY_MODEL_f395ffb6651846c594af6064e80e5b29",
       "placeholder": "​",
       "style": "IPY_MODEL_01bc2d178fe34af89e41ea7b690d339d",
       "value": "Downloading: 100%"
      }
     },
     "2156fc28193e4026a19c516f7521c3b2": {
      "model_module": "@jupyter-widgets/base",
      "model_module_version": "1.2.0",
      "model_name": "LayoutModel",
      "state": {
       "_model_module": "@jupyter-widgets/base",
       "_model_module_version": "1.2.0",
       "_model_name": "LayoutModel",
       "_view_count": null,
       "_view_module": "@jupyter-widgets/base",
       "_view_module_version": "1.2.0",
       "_view_name": "LayoutView",
       "align_content": null,
       "align_items": null,
       "align_self": null,
       "border": null,
       "bottom": null,
       "display": null,
       "flex": null,
       "flex_flow": null,
       "grid_area": null,
       "grid_auto_columns": null,
       "grid_auto_flow": null,
       "grid_auto_rows": null,
       "grid_column": null,
       "grid_gap": null,
       "grid_row": null,
       "grid_template_areas": null,
       "grid_template_columns": null,
       "grid_template_rows": null,
       "height": null,
       "justify_content": null,
       "justify_items": null,
       "left": null,
       "margin": null,
       "max_height": null,
       "max_width": null,
       "min_height": null,
       "min_width": null,
       "object_fit": null,
       "object_position": null,
       "order": null,
       "overflow": null,
       "overflow_x": null,
       "overflow_y": null,
       "padding": null,
       "right": null,
       "top": null,
       "visibility": null,
       "width": null
      }
     },
     "2a71d32806b5448abfc824f43b004115": {
      "model_module": "@jupyter-widgets/base",
      "model_module_version": "1.2.0",
      "model_name": "LayoutModel",
      "state": {
       "_model_module": "@jupyter-widgets/base",
       "_model_module_version": "1.2.0",
       "_model_name": "LayoutModel",
       "_view_count": null,
       "_view_module": "@jupyter-widgets/base",
       "_view_module_version": "1.2.0",
       "_view_name": "LayoutView",
       "align_content": null,
       "align_items": null,
       "align_self": null,
       "border": null,
       "bottom": null,
       "display": null,
       "flex": null,
       "flex_flow": null,
       "grid_area": null,
       "grid_auto_columns": null,
       "grid_auto_flow": null,
       "grid_auto_rows": null,
       "grid_column": null,
       "grid_gap": null,
       "grid_row": null,
       "grid_template_areas": null,
       "grid_template_columns": null,
       "grid_template_rows": null,
       "height": null,
       "justify_content": null,
       "justify_items": null,
       "left": null,
       "margin": null,
       "max_height": null,
       "max_width": null,
       "min_height": null,
       "min_width": null,
       "object_fit": null,
       "object_position": null,
       "order": null,
       "overflow": null,
       "overflow_x": null,
       "overflow_y": null,
       "padding": null,
       "right": null,
       "top": null,
       "visibility": null,
       "width": null
      }
     },
     "2ae8639c3d534eadbba71da462bd43fb": {
      "model_module": "@jupyter-widgets/base",
      "model_module_version": "1.2.0",
      "model_name": "LayoutModel",
      "state": {
       "_model_module": "@jupyter-widgets/base",
       "_model_module_version": "1.2.0",
       "_model_name": "LayoutModel",
       "_view_count": null,
       "_view_module": "@jupyter-widgets/base",
       "_view_module_version": "1.2.0",
       "_view_name": "LayoutView",
       "align_content": null,
       "align_items": null,
       "align_self": null,
       "border": null,
       "bottom": null,
       "display": null,
       "flex": null,
       "flex_flow": null,
       "grid_area": null,
       "grid_auto_columns": null,
       "grid_auto_flow": null,
       "grid_auto_rows": null,
       "grid_column": null,
       "grid_gap": null,
       "grid_row": null,
       "grid_template_areas": null,
       "grid_template_columns": null,
       "grid_template_rows": null,
       "height": null,
       "justify_content": null,
       "justify_items": null,
       "left": null,
       "margin": null,
       "max_height": null,
       "max_width": null,
       "min_height": null,
       "min_width": null,
       "object_fit": null,
       "object_position": null,
       "order": null,
       "overflow": null,
       "overflow_x": null,
       "overflow_y": null,
       "padding": null,
       "right": null,
       "top": null,
       "visibility": null,
       "width": null
      }
     },
     "356023ea4fbf4f5eb85c872043dee405": {
      "model_module": "@jupyter-widgets/controls",
      "model_module_version": "1.5.0",
      "model_name": "DescriptionStyleModel",
      "state": {
       "_model_module": "@jupyter-widgets/controls",
       "_model_module_version": "1.5.0",
       "_model_name": "DescriptionStyleModel",
       "_view_count": null,
       "_view_module": "@jupyter-widgets/base",
       "_view_module_version": "1.2.0",
       "_view_name": "StyleView",
       "description_width": ""
      }
     },
     "3e2f8b3a5dd44eeb867df58b1810f79a": {
      "model_module": "@jupyter-widgets/controls",
      "model_module_version": "1.5.0",
      "model_name": "FloatProgressModel",
      "state": {
       "_dom_classes": [],
       "_model_module": "@jupyter-widgets/controls",
       "_model_module_version": "1.5.0",
       "_model_name": "FloatProgressModel",
       "_view_count": null,
       "_view_module": "@jupyter-widgets/controls",
       "_view_module_version": "1.5.0",
       "_view_name": "ProgressView",
       "bar_style": "success",
       "description": "",
       "description_tooltip": null,
       "layout": "IPY_MODEL_f87fdede483e4bc4aa149481a646c0cb",
       "max": 501200538,
       "min": 0,
       "orientation": "horizontal",
       "style": "IPY_MODEL_af0e3ddc0a494960a19e05d8c499d79d",
       "value": 501200538
      }
     },
     "46bf3df30a9243748107a7e7585d5814": {
      "model_module": "@jupyter-widgets/controls",
      "model_module_version": "1.5.0",
      "model_name": "DescriptionStyleModel",
      "state": {
       "_model_module": "@jupyter-widgets/controls",
       "_model_module_version": "1.5.0",
       "_model_name": "DescriptionStyleModel",
       "_view_count": null,
       "_view_module": "@jupyter-widgets/base",
       "_view_module_version": "1.2.0",
       "_view_name": "StyleView",
       "description_width": ""
      }
     },
     "4b0aad67c3454dd1867c6b0a61c5062d": {
      "model_module": "@jupyter-widgets/controls",
      "model_module_version": "1.5.0",
      "model_name": "HTMLModel",
      "state": {
       "_dom_classes": [],
       "_model_module": "@jupyter-widgets/controls",
       "_model_module_version": "1.5.0",
       "_model_name": "HTMLModel",
       "_view_count": null,
       "_view_module": "@jupyter-widgets/controls",
       "_view_module_version": "1.5.0",
       "_view_name": "HTMLView",
       "description": "",
       "description_tooltip": null,
       "layout": "IPY_MODEL_7d4f6a9f1d3544f8b21d0b7d6b4cf491",
       "placeholder": "​",
       "style": "IPY_MODEL_46bf3df30a9243748107a7e7585d5814",
       "value": " 481/481 [00:00&lt;00:00, 17.7kB/s]"
      }
     },
     "4ddf8e6df769477c891f727302f728d1": {
      "model_module": "@jupyter-widgets/base",
      "model_module_version": "1.2.0",
      "model_name": "LayoutModel",
      "state": {
       "_model_module": "@jupyter-widgets/base",
       "_model_module_version": "1.2.0",
       "_model_name": "LayoutModel",
       "_view_count": null,
       "_view_module": "@jupyter-widgets/base",
       "_view_module_version": "1.2.0",
       "_view_name": "LayoutView",
       "align_content": null,
       "align_items": null,
       "align_self": null,
       "border": null,
       "bottom": null,
       "display": null,
       "flex": null,
       "flex_flow": null,
       "grid_area": null,
       "grid_auto_columns": null,
       "grid_auto_flow": null,
       "grid_auto_rows": null,
       "grid_column": null,
       "grid_gap": null,
       "grid_row": null,
       "grid_template_areas": null,
       "grid_template_columns": null,
       "grid_template_rows": null,
       "height": null,
       "justify_content": null,
       "justify_items": null,
       "left": null,
       "margin": null,
       "max_height": null,
       "max_width": null,
       "min_height": null,
       "min_width": null,
       "object_fit": null,
       "object_position": null,
       "order": null,
       "overflow": null,
       "overflow_x": null,
       "overflow_y": null,
       "padding": null,
       "right": null,
       "top": null,
       "visibility": null,
       "width": null
      }
     },
     "5b1b18e9878f48d49adb6395b4aff423": {
      "model_module": "@jupyter-widgets/base",
      "model_module_version": "1.2.0",
      "model_name": "LayoutModel",
      "state": {
       "_model_module": "@jupyter-widgets/base",
       "_model_module_version": "1.2.0",
       "_model_name": "LayoutModel",
       "_view_count": null,
       "_view_module": "@jupyter-widgets/base",
       "_view_module_version": "1.2.0",
       "_view_name": "LayoutView",
       "align_content": null,
       "align_items": null,
       "align_self": null,
       "border": null,
       "bottom": null,
       "display": null,
       "flex": null,
       "flex_flow": null,
       "grid_area": null,
       "grid_auto_columns": null,
       "grid_auto_flow": null,
       "grid_auto_rows": null,
       "grid_column": null,
       "grid_gap": null,
       "grid_row": null,
       "grid_template_areas": null,
       "grid_template_columns": null,
       "grid_template_rows": null,
       "height": null,
       "justify_content": null,
       "justify_items": null,
       "left": null,
       "margin": null,
       "max_height": null,
       "max_width": null,
       "min_height": null,
       "min_width": null,
       "object_fit": null,
       "object_position": null,
       "order": null,
       "overflow": null,
       "overflow_x": null,
       "overflow_y": null,
       "padding": null,
       "right": null,
       "top": null,
       "visibility": null,
       "width": null
      }
     },
     "5efb61d3a67d4548aa8c02df4cf80c39": {
      "model_module": "@jupyter-widgets/controls",
      "model_module_version": "1.5.0",
      "model_name": "ProgressStyleModel",
      "state": {
       "_model_module": "@jupyter-widgets/controls",
       "_model_module_version": "1.5.0",
       "_model_name": "ProgressStyleModel",
       "_view_count": null,
       "_view_module": "@jupyter-widgets/base",
       "_view_module_version": "1.2.0",
       "_view_name": "StyleView",
       "bar_color": null,
       "description_width": ""
      }
     },
     "659af50b3b6140fdadef73277143fcd1": {
      "model_module": "@jupyter-widgets/controls",
      "model_module_version": "1.5.0",
      "model_name": "HBoxModel",
      "state": {
       "_dom_classes": [],
       "_model_module": "@jupyter-widgets/controls",
       "_model_module_version": "1.5.0",
       "_model_name": "HBoxModel",
       "_view_count": null,
       "_view_module": "@jupyter-widgets/controls",
       "_view_module_version": "1.5.0",
       "_view_name": "HBoxView",
       "box_style": "",
       "children": [
        "IPY_MODEL_cded6da407f0401a9f696cf6aa32fec8",
        "IPY_MODEL_f2da918a918643f9ba9bda45b017d74d",
        "IPY_MODEL_4b0aad67c3454dd1867c6b0a61c5062d"
       ],
       "layout": "IPY_MODEL_851b52629aac4c0180d1f32a7a31843c"
      }
     },
     "6923f1e5e1f34f8eb19a83a3fa1d1fe6": {
      "model_module": "@jupyter-widgets/base",
      "model_module_version": "1.2.0",
      "model_name": "LayoutModel",
      "state": {
       "_model_module": "@jupyter-widgets/base",
       "_model_module_version": "1.2.0",
       "_model_name": "LayoutModel",
       "_view_count": null,
       "_view_module": "@jupyter-widgets/base",
       "_view_module_version": "1.2.0",
       "_view_name": "LayoutView",
       "align_content": null,
       "align_items": null,
       "align_self": null,
       "border": null,
       "bottom": null,
       "display": null,
       "flex": null,
       "flex_flow": null,
       "grid_area": null,
       "grid_auto_columns": null,
       "grid_auto_flow": null,
       "grid_auto_rows": null,
       "grid_column": null,
       "grid_gap": null,
       "grid_row": null,
       "grid_template_areas": null,
       "grid_template_columns": null,
       "grid_template_rows": null,
       "height": null,
       "justify_content": null,
       "justify_items": null,
       "left": null,
       "margin": null,
       "max_height": null,
       "max_width": null,
       "min_height": null,
       "min_width": null,
       "object_fit": null,
       "object_position": null,
       "order": null,
       "overflow": null,
       "overflow_x": null,
       "overflow_y": null,
       "padding": null,
       "right": null,
       "top": null,
       "visibility": null,
       "width": null
      }
     },
     "74f77aac7884425690464a61cf229fa4": {
      "model_module": "@jupyter-widgets/controls",
      "model_module_version": "1.5.0",
      "model_name": "HBoxModel",
      "state": {
       "_dom_classes": [],
       "_model_module": "@jupyter-widgets/controls",
       "_model_module_version": "1.5.0",
       "_model_name": "HBoxModel",
       "_view_count": null,
       "_view_module": "@jupyter-widgets/controls",
       "_view_module_version": "1.5.0",
       "_view_name": "HBoxView",
       "box_style": "",
       "children": [
        "IPY_MODEL_dae1d2e7d0c14cdc883444d4f6639dbb",
        "IPY_MODEL_3e2f8b3a5dd44eeb867df58b1810f79a",
        "IPY_MODEL_17df783f9a544b7a8d30332d91d73c1a"
       ],
       "layout": "IPY_MODEL_b5edc265297c4509b96ce360f11fb78c"
      }
     },
     "77891926c2054547a164912e4b355450": {
      "model_module": "@jupyter-widgets/controls",
      "model_module_version": "1.5.0",
      "model_name": "HBoxModel",
      "state": {
       "_dom_classes": [],
       "_model_module": "@jupyter-widgets/controls",
       "_model_module_version": "1.5.0",
       "_model_name": "HBoxModel",
       "_view_count": null,
       "_view_module": "@jupyter-widgets/controls",
       "_view_module_version": "1.5.0",
       "_view_name": "HBoxView",
       "box_style": "",
       "children": [
        "IPY_MODEL_e5288dc60fc641f8aba2a08485f39058",
        "IPY_MODEL_82d430b02b4c4f82a620714dfe242041",
        "IPY_MODEL_bae59a748eee472287f404baedbea29b"
       ],
       "layout": "IPY_MODEL_2ae8639c3d534eadbba71da462bd43fb"
      }
     },
     "7c359759547b4ee18d9b679cb1ff2ab0": {
      "model_module": "@jupyter-widgets/base",
      "model_module_version": "1.2.0",
      "model_name": "LayoutModel",
      "state": {
       "_model_module": "@jupyter-widgets/base",
       "_model_module_version": "1.2.0",
       "_model_name": "LayoutModel",
       "_view_count": null,
       "_view_module": "@jupyter-widgets/base",
       "_view_module_version": "1.2.0",
       "_view_name": "LayoutView",
       "align_content": null,
       "align_items": null,
       "align_self": null,
       "border": null,
       "bottom": null,
       "display": null,
       "flex": null,
       "flex_flow": null,
       "grid_area": null,
       "grid_auto_columns": null,
       "grid_auto_flow": null,
       "grid_auto_rows": null,
       "grid_column": null,
       "grid_gap": null,
       "grid_row": null,
       "grid_template_areas": null,
       "grid_template_columns": null,
       "grid_template_rows": null,
       "height": null,
       "justify_content": null,
       "justify_items": null,
       "left": null,
       "margin": null,
       "max_height": null,
       "max_width": null,
       "min_height": null,
       "min_width": null,
       "object_fit": null,
       "object_position": null,
       "order": null,
       "overflow": null,
       "overflow_x": null,
       "overflow_y": null,
       "padding": null,
       "right": null,
       "top": null,
       "visibility": null,
       "width": null
      }
     },
     "7d4f6a9f1d3544f8b21d0b7d6b4cf491": {
      "model_module": "@jupyter-widgets/base",
      "model_module_version": "1.2.0",
      "model_name": "LayoutModel",
      "state": {
       "_model_module": "@jupyter-widgets/base",
       "_model_module_version": "1.2.0",
       "_model_name": "LayoutModel",
       "_view_count": null,
       "_view_module": "@jupyter-widgets/base",
       "_view_module_version": "1.2.0",
       "_view_name": "LayoutView",
       "align_content": null,
       "align_items": null,
       "align_self": null,
       "border": null,
       "bottom": null,
       "display": null,
       "flex": null,
       "flex_flow": null,
       "grid_area": null,
       "grid_auto_columns": null,
       "grid_auto_flow": null,
       "grid_auto_rows": null,
       "grid_column": null,
       "grid_gap": null,
       "grid_row": null,
       "grid_template_areas": null,
       "grid_template_columns": null,
       "grid_template_rows": null,
       "height": null,
       "justify_content": null,
       "justify_items": null,
       "left": null,
       "margin": null,
       "max_height": null,
       "max_width": null,
       "min_height": null,
       "min_width": null,
       "object_fit": null,
       "object_position": null,
       "order": null,
       "overflow": null,
       "overflow_x": null,
       "overflow_y": null,
       "padding": null,
       "right": null,
       "top": null,
       "visibility": null,
       "width": null
      }
     },
     "82d430b02b4c4f82a620714dfe242041": {
      "model_module": "@jupyter-widgets/controls",
      "model_module_version": "1.5.0",
      "model_name": "FloatProgressModel",
      "state": {
       "_dom_classes": [],
       "_model_module": "@jupyter-widgets/controls",
       "_model_module_version": "1.5.0",
       "_model_name": "FloatProgressModel",
       "_view_count": null,
       "_view_module": "@jupyter-widgets/controls",
       "_view_module_version": "1.5.0",
       "_view_name": "ProgressView",
       "bar_style": "success",
       "description": "",
       "description_tooltip": null,
       "layout": "IPY_MODEL_9223c20fb04d42dfbdb52bb797017a7c",
       "max": 898823,
       "min": 0,
       "orientation": "horizontal",
       "style": "IPY_MODEL_955d1227a52e483eaaeb59783e90d999",
       "value": 898823
      }
     },
     "851b52629aac4c0180d1f32a7a31843c": {
      "model_module": "@jupyter-widgets/base",
      "model_module_version": "1.2.0",
      "model_name": "LayoutModel",
      "state": {
       "_model_module": "@jupyter-widgets/base",
       "_model_module_version": "1.2.0",
       "_model_name": "LayoutModel",
       "_view_count": null,
       "_view_module": "@jupyter-widgets/base",
       "_view_module_version": "1.2.0",
       "_view_name": "LayoutView",
       "align_content": null,
       "align_items": null,
       "align_self": null,
       "border": null,
       "bottom": null,
       "display": null,
       "flex": null,
       "flex_flow": null,
       "grid_area": null,
       "grid_auto_columns": null,
       "grid_auto_flow": null,
       "grid_auto_rows": null,
       "grid_column": null,
       "grid_gap": null,
       "grid_row": null,
       "grid_template_areas": null,
       "grid_template_columns": null,
       "grid_template_rows": null,
       "height": null,
       "justify_content": null,
       "justify_items": null,
       "left": null,
       "margin": null,
       "max_height": null,
       "max_width": null,
       "min_height": null,
       "min_width": null,
       "object_fit": null,
       "object_position": null,
       "order": null,
       "overflow": null,
       "overflow_x": null,
       "overflow_y": null,
       "padding": null,
       "right": null,
       "top": null,
       "visibility": null,
       "width": null
      }
     },
     "85e529616e5a49acb4db04f6d93afd43": {
      "model_module": "@jupyter-widgets/controls",
      "model_module_version": "1.5.0",
      "model_name": "FloatProgressModel",
      "state": {
       "_dom_classes": [],
       "_model_module": "@jupyter-widgets/controls",
       "_model_module_version": "1.5.0",
       "_model_name": "FloatProgressModel",
       "_view_count": null,
       "_view_module": "@jupyter-widgets/controls",
       "_view_module_version": "1.5.0",
       "_view_name": "ProgressView",
       "bar_style": "success",
       "description": "",
       "description_tooltip": null,
       "layout": "IPY_MODEL_cd6e773277db489c8c61b3e7b6611a95",
       "max": 456318,
       "min": 0,
       "orientation": "horizontal",
       "style": "IPY_MODEL_a452c82358a04c779b73956d07db77e7",
       "value": 456318
      }
     },
     "8e46b0d0113740318811c056ae386b21": {
      "model_module": "@jupyter-widgets/controls",
      "model_module_version": "1.5.0",
      "model_name": "HBoxModel",
      "state": {
       "_dom_classes": [],
       "_model_module": "@jupyter-widgets/controls",
       "_model_module_version": "1.5.0",
       "_model_name": "HBoxModel",
       "_view_count": null,
       "_view_module": "@jupyter-widgets/controls",
       "_view_module_version": "1.5.0",
       "_view_name": "HBoxView",
       "box_style": "",
       "children": [
        "IPY_MODEL_d8da3d8b43174fe580c538c9a664799c",
        "IPY_MODEL_b23090faf93e43e79478f85062b3e6e1",
        "IPY_MODEL_13e5ce6a4d984a52a55a57939e3920c8"
       ],
       "layout": "IPY_MODEL_7c359759547b4ee18d9b679cb1ff2ab0"
      }
     },
     "8fc9a418f0a44997be20adbb1aa980e0": {
      "model_module": "@jupyter-widgets/controls",
      "model_module_version": "1.5.0",
      "model_name": "DescriptionStyleModel",
      "state": {
       "_model_module": "@jupyter-widgets/controls",
       "_model_module_version": "1.5.0",
       "_model_name": "DescriptionStyleModel",
       "_view_count": null,
       "_view_module": "@jupyter-widgets/base",
       "_view_module_version": "1.2.0",
       "_view_name": "StyleView",
       "description_width": ""
      }
     },
     "9223c20fb04d42dfbdb52bb797017a7c": {
      "model_module": "@jupyter-widgets/base",
      "model_module_version": "1.2.0",
      "model_name": "LayoutModel",
      "state": {
       "_model_module": "@jupyter-widgets/base",
       "_model_module_version": "1.2.0",
       "_model_name": "LayoutModel",
       "_view_count": null,
       "_view_module": "@jupyter-widgets/base",
       "_view_module_version": "1.2.0",
       "_view_name": "LayoutView",
       "align_content": null,
       "align_items": null,
       "align_self": null,
       "border": null,
       "bottom": null,
       "display": null,
       "flex": null,
       "flex_flow": null,
       "grid_area": null,
       "grid_auto_columns": null,
       "grid_auto_flow": null,
       "grid_auto_rows": null,
       "grid_column": null,
       "grid_gap": null,
       "grid_row": null,
       "grid_template_areas": null,
       "grid_template_columns": null,
       "grid_template_rows": null,
       "height": null,
       "justify_content": null,
       "justify_items": null,
       "left": null,
       "margin": null,
       "max_height": null,
       "max_width": null,
       "min_height": null,
       "min_width": null,
       "object_fit": null,
       "object_position": null,
       "order": null,
       "overflow": null,
       "overflow_x": null,
       "overflow_y": null,
       "padding": null,
       "right": null,
       "top": null,
       "visibility": null,
       "width": null
      }
     },
     "955d1227a52e483eaaeb59783e90d999": {
      "model_module": "@jupyter-widgets/controls",
      "model_module_version": "1.5.0",
      "model_name": "ProgressStyleModel",
      "state": {
       "_model_module": "@jupyter-widgets/controls",
       "_model_module_version": "1.5.0",
       "_model_name": "ProgressStyleModel",
       "_view_count": null,
       "_view_module": "@jupyter-widgets/base",
       "_view_module_version": "1.2.0",
       "_view_name": "StyleView",
       "bar_color": null,
       "description_width": ""
      }
     },
     "9cc4b2e7e38f4f209470314cb8f246a5": {
      "model_module": "@jupyter-widgets/controls",
      "model_module_version": "1.5.0",
      "model_name": "DescriptionStyleModel",
      "state": {
       "_model_module": "@jupyter-widgets/controls",
       "_model_module_version": "1.5.0",
       "_model_name": "DescriptionStyleModel",
       "_view_count": null,
       "_view_module": "@jupyter-widgets/base",
       "_view_module_version": "1.2.0",
       "_view_name": "StyleView",
       "description_width": ""
      }
     },
     "a452c82358a04c779b73956d07db77e7": {
      "model_module": "@jupyter-widgets/controls",
      "model_module_version": "1.5.0",
      "model_name": "ProgressStyleModel",
      "state": {
       "_model_module": "@jupyter-widgets/controls",
       "_model_module_version": "1.5.0",
       "_model_name": "ProgressStyleModel",
       "_view_count": null,
       "_view_module": "@jupyter-widgets/base",
       "_view_module_version": "1.2.0",
       "_view_name": "StyleView",
       "bar_color": null,
       "description_width": ""
      }
     },
     "af0e3ddc0a494960a19e05d8c499d79d": {
      "model_module": "@jupyter-widgets/controls",
      "model_module_version": "1.5.0",
      "model_name": "ProgressStyleModel",
      "state": {
       "_model_module": "@jupyter-widgets/controls",
       "_model_module_version": "1.5.0",
       "_model_name": "ProgressStyleModel",
       "_view_count": null,
       "_view_module": "@jupyter-widgets/base",
       "_view_module_version": "1.2.0",
       "_view_name": "StyleView",
       "bar_color": null,
       "description_width": ""
      }
     },
     "b23090faf93e43e79478f85062b3e6e1": {
      "model_module": "@jupyter-widgets/controls",
      "model_module_version": "1.5.0",
      "model_name": "FloatProgressModel",
      "state": {
       "_dom_classes": [],
       "_model_module": "@jupyter-widgets/controls",
       "_model_module_version": "1.5.0",
       "_model_name": "FloatProgressModel",
       "_view_count": null,
       "_view_module": "@jupyter-widgets/controls",
       "_view_module_version": "1.5.0",
       "_view_name": "ProgressView",
       "bar_style": "success",
       "description": "",
       "description_tooltip": null,
       "layout": "IPY_MODEL_2156fc28193e4026a19c516f7521c3b2",
       "max": 1355863,
       "min": 0,
       "orientation": "horizontal",
       "style": "IPY_MODEL_d99ba3e78ae44768bbc01308dcf8fb00",
       "value": 1355863
      }
     },
     "b5edc265297c4509b96ce360f11fb78c": {
      "model_module": "@jupyter-widgets/base",
      "model_module_version": "1.2.0",
      "model_name": "LayoutModel",
      "state": {
       "_model_module": "@jupyter-widgets/base",
       "_model_module_version": "1.2.0",
       "_model_name": "LayoutModel",
       "_view_count": null,
       "_view_module": "@jupyter-widgets/base",
       "_view_module_version": "1.2.0",
       "_view_name": "LayoutView",
       "align_content": null,
       "align_items": null,
       "align_self": null,
       "border": null,
       "bottom": null,
       "display": null,
       "flex": null,
       "flex_flow": null,
       "grid_area": null,
       "grid_auto_columns": null,
       "grid_auto_flow": null,
       "grid_auto_rows": null,
       "grid_column": null,
       "grid_gap": null,
       "grid_row": null,
       "grid_template_areas": null,
       "grid_template_columns": null,
       "grid_template_rows": null,
       "height": null,
       "justify_content": null,
       "justify_items": null,
       "left": null,
       "margin": null,
       "max_height": null,
       "max_width": null,
       "min_height": null,
       "min_width": null,
       "object_fit": null,
       "object_position": null,
       "order": null,
       "overflow": null,
       "overflow_x": null,
       "overflow_y": null,
       "padding": null,
       "right": null,
       "top": null,
       "visibility": null,
       "width": null
      }
     },
     "bae59a748eee472287f404baedbea29b": {
      "model_module": "@jupyter-widgets/controls",
      "model_module_version": "1.5.0",
      "model_name": "HTMLModel",
      "state": {
       "_dom_classes": [],
       "_model_module": "@jupyter-widgets/controls",
       "_model_module_version": "1.5.0",
       "_model_name": "HTMLModel",
       "_view_count": null,
       "_view_module": "@jupyter-widgets/controls",
       "_view_module_version": "1.5.0",
       "_view_name": "HTMLView",
       "description": "",
       "description_tooltip": null,
       "layout": "IPY_MODEL_2a71d32806b5448abfc824f43b004115",
       "placeholder": "​",
       "style": "IPY_MODEL_c8238067ce6d4ff389d7ee2c69ddf48e",
       "value": " 899k/899k [00:00&lt;00:00, 5.25MB/s]"
      }
     },
     "bb49b32aec614432bd8724a31b97734d": {
      "model_module": "@jupyter-widgets/base",
      "model_module_version": "1.2.0",
      "model_name": "LayoutModel",
      "state": {
       "_model_module": "@jupyter-widgets/base",
       "_model_module_version": "1.2.0",
       "_model_name": "LayoutModel",
       "_view_count": null,
       "_view_module": "@jupyter-widgets/base",
       "_view_module_version": "1.2.0",
       "_view_name": "LayoutView",
       "align_content": null,
       "align_items": null,
       "align_self": null,
       "border": null,
       "bottom": null,
       "display": null,
       "flex": null,
       "flex_flow": null,
       "grid_area": null,
       "grid_auto_columns": null,
       "grid_auto_flow": null,
       "grid_auto_rows": null,
       "grid_column": null,
       "grid_gap": null,
       "grid_row": null,
       "grid_template_areas": null,
       "grid_template_columns": null,
       "grid_template_rows": null,
       "height": null,
       "justify_content": null,
       "justify_items": null,
       "left": null,
       "margin": null,
       "max_height": null,
       "max_width": null,
       "min_height": null,
       "min_width": null,
       "object_fit": null,
       "object_position": null,
       "order": null,
       "overflow": null,
       "overflow_x": null,
       "overflow_y": null,
       "padding": null,
       "right": null,
       "top": null,
       "visibility": null,
       "width": null
      }
     },
     "c8238067ce6d4ff389d7ee2c69ddf48e": {
      "model_module": "@jupyter-widgets/controls",
      "model_module_version": "1.5.0",
      "model_name": "DescriptionStyleModel",
      "state": {
       "_model_module": "@jupyter-widgets/controls",
       "_model_module_version": "1.5.0",
       "_model_name": "DescriptionStyleModel",
       "_view_count": null,
       "_view_module": "@jupyter-widgets/base",
       "_view_module_version": "1.2.0",
       "_view_name": "StyleView",
       "description_width": ""
      }
     },
     "c8df3d9e85c44a079bf7f5b484476bf8": {
      "model_module": "@jupyter-widgets/base",
      "model_module_version": "1.2.0",
      "model_name": "LayoutModel",
      "state": {
       "_model_module": "@jupyter-widgets/base",
       "_model_module_version": "1.2.0",
       "_model_name": "LayoutModel",
       "_view_count": null,
       "_view_module": "@jupyter-widgets/base",
       "_view_module_version": "1.2.0",
       "_view_name": "LayoutView",
       "align_content": null,
       "align_items": null,
       "align_self": null,
       "border": null,
       "bottom": null,
       "display": null,
       "flex": null,
       "flex_flow": null,
       "grid_area": null,
       "grid_auto_columns": null,
       "grid_auto_flow": null,
       "grid_auto_rows": null,
       "grid_column": null,
       "grid_gap": null,
       "grid_row": null,
       "grid_template_areas": null,
       "grid_template_columns": null,
       "grid_template_rows": null,
       "height": null,
       "justify_content": null,
       "justify_items": null,
       "left": null,
       "margin": null,
       "max_height": null,
       "max_width": null,
       "min_height": null,
       "min_width": null,
       "object_fit": null,
       "object_position": null,
       "order": null,
       "overflow": null,
       "overflow_x": null,
       "overflow_y": null,
       "padding": null,
       "right": null,
       "top": null,
       "visibility": null,
       "width": null
      }
     },
     "cd6e773277db489c8c61b3e7b6611a95": {
      "model_module": "@jupyter-widgets/base",
      "model_module_version": "1.2.0",
      "model_name": "LayoutModel",
      "state": {
       "_model_module": "@jupyter-widgets/base",
       "_model_module_version": "1.2.0",
       "_model_name": "LayoutModel",
       "_view_count": null,
       "_view_module": "@jupyter-widgets/base",
       "_view_module_version": "1.2.0",
       "_view_name": "LayoutView",
       "align_content": null,
       "align_items": null,
       "align_self": null,
       "border": null,
       "bottom": null,
       "display": null,
       "flex": null,
       "flex_flow": null,
       "grid_area": null,
       "grid_auto_columns": null,
       "grid_auto_flow": null,
       "grid_auto_rows": null,
       "grid_column": null,
       "grid_gap": null,
       "grid_row": null,
       "grid_template_areas": null,
       "grid_template_columns": null,
       "grid_template_rows": null,
       "height": null,
       "justify_content": null,
       "justify_items": null,
       "left": null,
       "margin": null,
       "max_height": null,
       "max_width": null,
       "min_height": null,
       "min_width": null,
       "object_fit": null,
       "object_position": null,
       "order": null,
       "overflow": null,
       "overflow_x": null,
       "overflow_y": null,
       "padding": null,
       "right": null,
       "top": null,
       "visibility": null,
       "width": null
      }
     },
     "cda5f54dae0340138123ee8f04988b02": {
      "model_module": "@jupyter-widgets/base",
      "model_module_version": "1.2.0",
      "model_name": "LayoutModel",
      "state": {
       "_model_module": "@jupyter-widgets/base",
       "_model_module_version": "1.2.0",
       "_model_name": "LayoutModel",
       "_view_count": null,
       "_view_module": "@jupyter-widgets/base",
       "_view_module_version": "1.2.0",
       "_view_name": "LayoutView",
       "align_content": null,
       "align_items": null,
       "align_self": null,
       "border": null,
       "bottom": null,
       "display": null,
       "flex": null,
       "flex_flow": null,
       "grid_area": null,
       "grid_auto_columns": null,
       "grid_auto_flow": null,
       "grid_auto_rows": null,
       "grid_column": null,
       "grid_gap": null,
       "grid_row": null,
       "grid_template_areas": null,
       "grid_template_columns": null,
       "grid_template_rows": null,
       "height": null,
       "justify_content": null,
       "justify_items": null,
       "left": null,
       "margin": null,
       "max_height": null,
       "max_width": null,
       "min_height": null,
       "min_width": null,
       "object_fit": null,
       "object_position": null,
       "order": null,
       "overflow": null,
       "overflow_x": null,
       "overflow_y": null,
       "padding": null,
       "right": null,
       "top": null,
       "visibility": null,
       "width": null
      }
     },
     "cded6da407f0401a9f696cf6aa32fec8": {
      "model_module": "@jupyter-widgets/controls",
      "model_module_version": "1.5.0",
      "model_name": "HTMLModel",
      "state": {
       "_dom_classes": [],
       "_model_module": "@jupyter-widgets/controls",
       "_model_module_version": "1.5.0",
       "_model_name": "HTMLModel",
       "_view_count": null,
       "_view_module": "@jupyter-widgets/controls",
       "_view_module_version": "1.5.0",
       "_view_name": "HTMLView",
       "description": "",
       "description_tooltip": null,
       "layout": "IPY_MODEL_13630c33c13348df9d6e75e221e0d1e4",
       "placeholder": "​",
       "style": "IPY_MODEL_356023ea4fbf4f5eb85c872043dee405",
       "value": "Downloading: 100%"
      }
     },
     "d821696d60484ee3b220698dc6b6f9a1": {
      "model_module": "@jupyter-widgets/controls",
      "model_module_version": "1.5.0",
      "model_name": "HTMLModel",
      "state": {
       "_dom_classes": [],
       "_model_module": "@jupyter-widgets/controls",
       "_model_module_version": "1.5.0",
       "_model_name": "HTMLModel",
       "_view_count": null,
       "_view_module": "@jupyter-widgets/controls",
       "_view_module_version": "1.5.0",
       "_view_name": "HTMLView",
       "description": "",
       "description_tooltip": null,
       "layout": "IPY_MODEL_ebc33a7feb9d40fc934b4fe81a82862d",
       "placeholder": "​",
       "style": "IPY_MODEL_8fc9a418f0a44997be20adbb1aa980e0",
       "value": " 456k/456k [00:00&lt;00:00, 4.71MB/s]"
      }
     },
     "d8da3d8b43174fe580c538c9a664799c": {
      "model_module": "@jupyter-widgets/controls",
      "model_module_version": "1.5.0",
      "model_name": "HTMLModel",
      "state": {
       "_dom_classes": [],
       "_model_module": "@jupyter-widgets/controls",
       "_model_module_version": "1.5.0",
       "_model_name": "HTMLModel",
       "_view_count": null,
       "_view_module": "@jupyter-widgets/controls",
       "_view_module_version": "1.5.0",
       "_view_name": "HTMLView",
       "description": "",
       "description_tooltip": null,
       "layout": "IPY_MODEL_cda5f54dae0340138123ee8f04988b02",
       "placeholder": "​",
       "style": "IPY_MODEL_9cc4b2e7e38f4f209470314cb8f246a5",
       "value": "Downloading: 100%"
      }
     },
     "d99ba3e78ae44768bbc01308dcf8fb00": {
      "model_module": "@jupyter-widgets/controls",
      "model_module_version": "1.5.0",
      "model_name": "ProgressStyleModel",
      "state": {
       "_model_module": "@jupyter-widgets/controls",
       "_model_module_version": "1.5.0",
       "_model_name": "ProgressStyleModel",
       "_view_count": null,
       "_view_module": "@jupyter-widgets/base",
       "_view_module_version": "1.2.0",
       "_view_name": "StyleView",
       "bar_color": null,
       "description_width": ""
      }
     },
     "dae1d2e7d0c14cdc883444d4f6639dbb": {
      "model_module": "@jupyter-widgets/controls",
      "model_module_version": "1.5.0",
      "model_name": "HTMLModel",
      "state": {
       "_dom_classes": [],
       "_model_module": "@jupyter-widgets/controls",
       "_model_module_version": "1.5.0",
       "_model_name": "HTMLModel",
       "_view_count": null,
       "_view_module": "@jupyter-widgets/controls",
       "_view_module_version": "1.5.0",
       "_view_name": "HTMLView",
       "description": "",
       "description_tooltip": null,
       "layout": "IPY_MODEL_5b1b18e9878f48d49adb6395b4aff423",
       "placeholder": "​",
       "style": "IPY_MODEL_ff0f67ffa1524bf8993bba246200d032",
       "value": "Downloading: 100%"
      }
     },
     "e5288dc60fc641f8aba2a08485f39058": {
      "model_module": "@jupyter-widgets/controls",
      "model_module_version": "1.5.0",
      "model_name": "HTMLModel",
      "state": {
       "_dom_classes": [],
       "_model_module": "@jupyter-widgets/controls",
       "_model_module_version": "1.5.0",
       "_model_name": "HTMLModel",
       "_view_count": null,
       "_view_module": "@jupyter-widgets/controls",
       "_view_module_version": "1.5.0",
       "_view_name": "HTMLView",
       "description": "",
       "description_tooltip": null,
       "layout": "IPY_MODEL_6923f1e5e1f34f8eb19a83a3fa1d1fe6",
       "placeholder": "​",
       "style": "IPY_MODEL_00b2987a3e234c63b31e1a4368f77435",
       "value": "Downloading: 100%"
      }
     },
     "ebc33a7feb9d40fc934b4fe81a82862d": {
      "model_module": "@jupyter-widgets/base",
      "model_module_version": "1.2.0",
      "model_name": "LayoutModel",
      "state": {
       "_model_module": "@jupyter-widgets/base",
       "_model_module_version": "1.2.0",
       "_model_name": "LayoutModel",
       "_view_count": null,
       "_view_module": "@jupyter-widgets/base",
       "_view_module_version": "1.2.0",
       "_view_name": "LayoutView",
       "align_content": null,
       "align_items": null,
       "align_self": null,
       "border": null,
       "bottom": null,
       "display": null,
       "flex": null,
       "flex_flow": null,
       "grid_area": null,
       "grid_auto_columns": null,
       "grid_auto_flow": null,
       "grid_auto_rows": null,
       "grid_column": null,
       "grid_gap": null,
       "grid_row": null,
       "grid_template_areas": null,
       "grid_template_columns": null,
       "grid_template_rows": null,
       "height": null,
       "justify_content": null,
       "justify_items": null,
       "left": null,
       "margin": null,
       "max_height": null,
       "max_width": null,
       "min_height": null,
       "min_width": null,
       "object_fit": null,
       "object_position": null,
       "order": null,
       "overflow": null,
       "overflow_x": null,
       "overflow_y": null,
       "padding": null,
       "right": null,
       "top": null,
       "visibility": null,
       "width": null
      }
     },
     "f2da918a918643f9ba9bda45b017d74d": {
      "model_module": "@jupyter-widgets/controls",
      "model_module_version": "1.5.0",
      "model_name": "FloatProgressModel",
      "state": {
       "_dom_classes": [],
       "_model_module": "@jupyter-widgets/controls",
       "_model_module_version": "1.5.0",
       "_model_name": "FloatProgressModel",
       "_view_count": null,
       "_view_module": "@jupyter-widgets/controls",
       "_view_module_version": "1.5.0",
       "_view_name": "ProgressView",
       "bar_style": "success",
       "description": "",
       "description_tooltip": null,
       "layout": "IPY_MODEL_4ddf8e6df769477c891f727302f728d1",
       "max": 481,
       "min": 0,
       "orientation": "horizontal",
       "style": "IPY_MODEL_5efb61d3a67d4548aa8c02df4cf80c39",
       "value": 481
      }
     },
     "f395ffb6651846c594af6064e80e5b29": {
      "model_module": "@jupyter-widgets/base",
      "model_module_version": "1.2.0",
      "model_name": "LayoutModel",
      "state": {
       "_model_module": "@jupyter-widgets/base",
       "_model_module_version": "1.2.0",
       "_model_name": "LayoutModel",
       "_view_count": null,
       "_view_module": "@jupyter-widgets/base",
       "_view_module_version": "1.2.0",
       "_view_name": "LayoutView",
       "align_content": null,
       "align_items": null,
       "align_self": null,
       "border": null,
       "bottom": null,
       "display": null,
       "flex": null,
       "flex_flow": null,
       "grid_area": null,
       "grid_auto_columns": null,
       "grid_auto_flow": null,
       "grid_auto_rows": null,
       "grid_column": null,
       "grid_gap": null,
       "grid_row": null,
       "grid_template_areas": null,
       "grid_template_columns": null,
       "grid_template_rows": null,
       "height": null,
       "justify_content": null,
       "justify_items": null,
       "left": null,
       "margin": null,
       "max_height": null,
       "max_width": null,
       "min_height": null,
       "min_width": null,
       "object_fit": null,
       "object_position": null,
       "order": null,
       "overflow": null,
       "overflow_x": null,
       "overflow_y": null,
       "padding": null,
       "right": null,
       "top": null,
       "visibility": null,
       "width": null
      }
     },
     "f87fdede483e4bc4aa149481a646c0cb": {
      "model_module": "@jupyter-widgets/base",
      "model_module_version": "1.2.0",
      "model_name": "LayoutModel",
      "state": {
       "_model_module": "@jupyter-widgets/base",
       "_model_module_version": "1.2.0",
       "_model_name": "LayoutModel",
       "_view_count": null,
       "_view_module": "@jupyter-widgets/base",
       "_view_module_version": "1.2.0",
       "_view_name": "LayoutView",
       "align_content": null,
       "align_items": null,
       "align_self": null,
       "border": null,
       "bottom": null,
       "display": null,
       "flex": null,
       "flex_flow": null,
       "grid_area": null,
       "grid_auto_columns": null,
       "grid_auto_flow": null,
       "grid_auto_rows": null,
       "grid_column": null,
       "grid_gap": null,
       "grid_row": null,
       "grid_template_areas": null,
       "grid_template_columns": null,
       "grid_template_rows": null,
       "height": null,
       "justify_content": null,
       "justify_items": null,
       "left": null,
       "margin": null,
       "max_height": null,
       "max_width": null,
       "min_height": null,
       "min_width": null,
       "object_fit": null,
       "object_position": null,
       "order": null,
       "overflow": null,
       "overflow_x": null,
       "overflow_y": null,
       "padding": null,
       "right": null,
       "top": null,
       "visibility": null,
       "width": null
      }
     },
     "f9a7bd01761d46e791f550a89a3fd636": {
      "model_module": "@jupyter-widgets/controls",
      "model_module_version": "1.5.0",
      "model_name": "DescriptionStyleModel",
      "state": {
       "_model_module": "@jupyter-widgets/controls",
       "_model_module_version": "1.5.0",
       "_model_name": "DescriptionStyleModel",
       "_view_count": null,
       "_view_module": "@jupyter-widgets/base",
       "_view_module_version": "1.2.0",
       "_view_name": "StyleView",
       "description_width": ""
      }
     },
     "fcfca34725e64e7eb9703428ab47a9e4": {
      "model_module": "@jupyter-widgets/base",
      "model_module_version": "1.2.0",
      "model_name": "LayoutModel",
      "state": {
       "_model_module": "@jupyter-widgets/base",
       "_model_module_version": "1.2.0",
       "_model_name": "LayoutModel",
       "_view_count": null,
       "_view_module": "@jupyter-widgets/base",
       "_view_module_version": "1.2.0",
       "_view_name": "LayoutView",
       "align_content": null,
       "align_items": null,
       "align_self": null,
       "border": null,
       "bottom": null,
       "display": null,
       "flex": null,
       "flex_flow": null,
       "grid_area": null,
       "grid_auto_columns": null,
       "grid_auto_flow": null,
       "grid_auto_rows": null,
       "grid_column": null,
       "grid_gap": null,
       "grid_row": null,
       "grid_template_areas": null,
       "grid_template_columns": null,
       "grid_template_rows": null,
       "height": null,
       "justify_content": null,
       "justify_items": null,
       "left": null,
       "margin": null,
       "max_height": null,
       "max_width": null,
       "min_height": null,
       "min_width": null,
       "object_fit": null,
       "object_position": null,
       "order": null,
       "overflow": null,
       "overflow_x": null,
       "overflow_y": null,
       "padding": null,
       "right": null,
       "top": null,
       "visibility": null,
       "width": null
      }
     },
     "ff0f67ffa1524bf8993bba246200d032": {
      "model_module": "@jupyter-widgets/controls",
      "model_module_version": "1.5.0",
      "model_name": "DescriptionStyleModel",
      "state": {
       "_model_module": "@jupyter-widgets/controls",
       "_model_module_version": "1.5.0",
       "_model_name": "DescriptionStyleModel",
       "_view_count": null,
       "_view_module": "@jupyter-widgets/base",
       "_view_module_version": "1.2.0",
       "_view_name": "StyleView",
       "description_width": ""
      }
     }
    },
    "version_major": 2,
    "version_minor": 0
   }
  }
 },
 "nbformat": 4,
 "nbformat_minor": 5
}
